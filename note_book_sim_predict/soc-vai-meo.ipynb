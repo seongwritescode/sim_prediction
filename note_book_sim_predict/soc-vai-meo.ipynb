{
 "metadata": {
  "kernelspec": {
   "language": "python",
   "display_name": "Python 3",
   "name": "python3"
  },
  "language_info": {
   "name": "python",
   "version": "3.7.12",
   "mimetype": "text/x-python",
   "codemirror_mode": {
    "name": "ipython",
    "version": 3
   },
   "pygments_lexer": "ipython3",
   "nbconvert_exporter": "python",
   "file_extension": ".py"
  }
 },
 "nbformat_minor": 4,
 "nbformat": 4,
 "cells": [
  {
   "cell_type": "code",
   "source": [
    "import pandas as pd\n",
    "import numpy as np\n",
    "import matplotlib.pyplot as plt\n",
    "from nltk.classify.maxent import MaxentClassifier\n",
    "from sklearn.model_selection import train_test_split\n",
    "import nltk\n",
    "from sklearn.metrics import classification_report\n",
    "from sklearn.metrics import accuracy_score\n",
    "from sklearn import preprocessing\n",
    "from sklearn.ensemble import RandomForestClassifier\n",
    "from sklearn.linear_model import LogisticRegression\n",
    "from sklearn.neural_network import MLPClassifier\n",
    "import math\n",
    "from sklearn.metrics import confusion_matrix\n",
    "from sklearn.metrics import plot_confusion_matrix\n",
    "import seaborn as sns\n",
    "import gc\n",
    "\n",
    "from catboost import CatBoostClassifier"
   ],
   "metadata": {
    "_cell_guid": "b1076dfc-b9ad-4769-8c92-a6c4dae69d19",
    "_uuid": "8f2839f25d086af736a60e9eeb907d3b93b6e0e5",
    "papermill": {
     "duration": 2.638727,
     "end_time": "2022-09-30T11:21:39.980217",
     "exception": false,
     "start_time": "2022-09-30T11:21:37.341490",
     "status": "completed"
    },
    "tags": [],
    "execution": {
     "iopub.status.busy": "2022-10-09T08:15:15.337163Z",
     "iopub.execute_input": "2022-10-09T08:15:15.337684Z",
     "iopub.status.idle": "2022-10-09T08:15:16.862302Z",
     "shell.execute_reply.started": "2022-10-09T08:15:15.337579Z",
     "shell.execute_reply": "2022-10-09T08:15:16.861265Z"
    },
    "trusted": true,
    "pycharm": {
     "name": "#%%\n"
    }
   },
   "execution_count": 1,
   "outputs": []
  },
  {
   "cell_type": "code",
   "source": [
    "import warnings\n",
    "warnings.filterwarnings(\"ignore\")"
   ],
   "metadata": {
    "execution": {
     "iopub.status.busy": "2022-10-09T08:15:16.864464Z",
     "iopub.execute_input": "2022-10-09T08:15:16.864888Z",
     "iopub.status.idle": "2022-10-09T08:15:16.870451Z",
     "shell.execute_reply.started": "2022-10-09T08:15:16.864834Z",
     "shell.execute_reply": "2022-10-09T08:15:16.869446Z"
    },
    "trusted": true,
    "pycharm": {
     "name": "#%%\n"
    }
   },
   "execution_count": 2,
   "outputs": []
  },
  {
   "cell_type": "code",
   "source": [
    "df = pd.read_csv('../input/simpredict/train.csv')\n",
    "df['type'] = df['id'].str[:10]\n",
    "df = df[df['type'] == 'sodepami_v'].sample(629000)\n",
    "# df1 = df[df['price_vnd']>=6.6e6]\n",
    "# df = df[df['price_vnd'] < 6.6e6].sample(600000)\n",
    "# df = pd.concat([df,df1])"
   ],
   "metadata": {
    "papermill": {
     "duration": 1.622086,
     "end_time": "2022-09-30T11:21:41.611671",
     "exception": false,
     "start_time": "2022-09-30T11:21:39.989585",
     "status": "completed"
    },
    "tags": [],
    "execution": {
     "iopub.status.busy": "2022-10-09T08:15:16.872137Z",
     "iopub.execute_input": "2022-10-09T08:15:16.872953Z",
     "iopub.status.idle": "2022-10-09T08:15:18.667811Z",
     "shell.execute_reply.started": "2022-10-09T08:15:16.872915Z",
     "shell.execute_reply": "2022-10-09T08:15:18.666759Z"
    },
    "trusted": true,
    "pycharm": {
     "name": "#%%\n"
    }
   },
   "execution_count": 3,
   "outputs": []
  },
  {
   "cell_type": "code",
   "source": [
    "df.shape"
   ],
   "metadata": {
    "execution": {
     "iopub.status.busy": "2022-10-09T08:15:18.670776Z",
     "iopub.execute_input": "2022-10-09T08:15:18.671197Z",
     "iopub.status.idle": "2022-10-09T08:15:18.680969Z",
     "shell.execute_reply.started": "2022-10-09T08:15:18.671159Z",
     "shell.execute_reply": "2022-10-09T08:15:18.679641Z"
    },
    "trusted": true,
    "pycharm": {
     "name": "#%%\n"
    }
   },
   "execution_count": 4,
   "outputs": [
    {
     "execution_count": 4,
     "output_type": "execute_result",
     "data": {
      "text/plain": "(629000, 5)"
     },
     "metadata": {}
    }
   ]
  },
  {
   "cell_type": "code",
   "source": [
    "# df1 = pd.read_csv('../input/simpredict/train.csv')\n",
    "# df1 = df1[df1['price_vnd']>=6.6e6]"
   ],
   "metadata": {
    "execution": {
     "iopub.status.busy": "2022-10-09T08:15:18.682705Z",
     "iopub.execute_input": "2022-10-09T08:15:18.683311Z",
     "iopub.status.idle": "2022-10-09T08:15:18.688745Z",
     "shell.execute_reply.started": "2022-10-09T08:15:18.683265Z",
     "shell.execute_reply": "2022-10-09T08:15:18.687650Z"
    },
    "trusted": true,
    "pycharm": {
     "name": "#%%\n"
    }
   },
   "execution_count": 5,
   "outputs": []
  },
  {
   "cell_type": "code",
   "source": [
    "# df = pd.concat([df,df1])"
   ],
   "metadata": {
    "execution": {
     "iopub.status.busy": "2022-10-09T08:15:18.690522Z",
     "iopub.execute_input": "2022-10-09T08:15:18.691023Z",
     "iopub.status.idle": "2022-10-09T08:15:18.708512Z",
     "shell.execute_reply.started": "2022-10-09T08:15:18.690987Z",
     "shell.execute_reply": "2022-10-09T08:15:18.695476Z"
    },
    "trusted": true,
    "pycharm": {
     "name": "#%%\n"
    }
   },
   "execution_count": 6,
   "outputs": []
  },
  {
   "cell_type": "code",
   "source": [
    "df.shape"
   ],
   "metadata": {
    "execution": {
     "iopub.status.busy": "2022-10-09T08:15:18.710598Z",
     "iopub.execute_input": "2022-10-09T08:15:18.711068Z",
     "iopub.status.idle": "2022-10-09T08:15:18.718277Z",
     "shell.execute_reply.started": "2022-10-09T08:15:18.711031Z",
     "shell.execute_reply": "2022-10-09T08:15:18.717151Z"
    },
    "trusted": true,
    "pycharm": {
     "name": "#%%\n"
    }
   },
   "execution_count": 7,
   "outputs": [
    {
     "execution_count": 7,
     "output_type": "execute_result",
     "data": {
      "text/plain": "(629000, 5)"
     },
     "metadata": {}
    }
   ]
  },
  {
   "cell_type": "code",
   "source": [
    "def removing_wrong_phone_number(df):\n",
    "    df['phone_number'] = df['phone_number'].astype(str)\n",
    "    list_number = df['phone_number'].to_list()\n",
    "    list_len = []\n",
    "\n",
    "    for i in range(len(list_number)):\n",
    "        list_len.append(len(list_number[i]))\n",
    "\n",
    "    df['length'] = list_len\n",
    "\n",
    "    df = df[df['length'] != 11]\n",
    "\n",
    "    return df"
   ],
   "metadata": {
    "papermill": {
     "duration": 0.019241,
     "end_time": "2022-09-30T11:21:41.639894",
     "exception": false,
     "start_time": "2022-09-30T11:21:41.620653",
     "status": "completed"
    },
    "tags": [],
    "execution": {
     "iopub.status.busy": "2022-10-09T08:15:18.719692Z",
     "iopub.execute_input": "2022-10-09T08:15:18.720389Z",
     "iopub.status.idle": "2022-10-09T08:15:18.729248Z",
     "shell.execute_reply.started": "2022-10-09T08:15:18.720354Z",
     "shell.execute_reply": "2022-10-09T08:15:18.728172Z"
    },
    "trusted": true,
    "pycharm": {
     "name": "#%%\n"
    }
   },
   "execution_count": 8,
   "outputs": []
  },
  {
   "cell_type": "code",
   "source": [
    "df = removing_wrong_phone_number(df)"
   ],
   "metadata": {
    "papermill": {
     "duration": 0.286827,
     "end_time": "2022-09-30T11:21:41.935536",
     "exception": false,
     "start_time": "2022-09-30T11:21:41.648709",
     "status": "completed"
    },
    "tags": [],
    "execution": {
     "iopub.status.busy": "2022-10-09T08:15:18.730634Z",
     "iopub.execute_input": "2022-10-09T08:15:18.730972Z",
     "iopub.status.idle": "2022-10-09T08:15:19.549047Z",
     "shell.execute_reply.started": "2022-10-09T08:15:18.730946Z",
     "shell.execute_reply": "2022-10-09T08:15:19.547996Z"
    },
    "trusted": true,
    "pycharm": {
     "name": "#%%\n"
    }
   },
   "execution_count": 9,
   "outputs": []
  },
  {
   "cell_type": "code",
   "source": [
    "def creating_10_feats_from_single_pos(df):\n",
    "    list_number = df['phone_number'].to_list()\n",
    "    list_char = np.full((df.shape[0], 9), \"-1\")\n",
    "\n",
    "    for i in range(len(list_number)):\n",
    "        k = 8\n",
    "        for j in range(len(list_number[i])-1, 0, -1):\n",
    "            list_char[i][k] = list_number[i][j]\n",
    "            k-=1\n",
    "    \n",
    "            if(k==0):\n",
    "                list_char[i][k] = list_number[i][0:j]\n",
    "                break\n",
    "    for i in range(9):\n",
    "        df['pos_' + str(i+1)] = list_char[:,i]\n",
    "    return df"
   ],
   "metadata": {
    "papermill": {
     "duration": 0.021912,
     "end_time": "2022-09-30T11:21:41.967285",
     "exception": false,
     "start_time": "2022-09-30T11:21:41.945373",
     "status": "completed"
    },
    "tags": [],
    "execution": {
     "iopub.status.busy": "2022-10-09T08:15:19.554274Z",
     "iopub.execute_input": "2022-10-09T08:15:19.554608Z",
     "iopub.status.idle": "2022-10-09T08:15:19.564204Z",
     "shell.execute_reply.started": "2022-10-09T08:15:19.554577Z",
     "shell.execute_reply": "2022-10-09T08:15:19.562916Z"
    },
    "trusted": true,
    "pycharm": {
     "name": "#%%\n"
    }
   },
   "execution_count": 10,
   "outputs": []
  },
  {
   "cell_type": "code",
   "source": [
    "df = creating_10_feats_from_single_pos(df)\n",
    "df.head(10)"
   ],
   "metadata": {
    "papermill": {
     "duration": 0.903196,
     "end_time": "2022-09-30T11:21:42.880855",
     "exception": false,
     "start_time": "2022-09-30T11:21:41.977659",
     "status": "completed"
    },
    "tags": [],
    "execution": {
     "iopub.status.busy": "2022-10-09T08:15:19.566244Z",
     "iopub.execute_input": "2022-10-09T08:15:19.566823Z",
     "iopub.status.idle": "2022-10-09T08:15:22.172949Z",
     "shell.execute_reply.started": "2022-10-09T08:15:19.566785Z",
     "shell.execute_reply": "2022-10-09T08:15:22.171844Z"
    },
    "trusted": true,
    "pycharm": {
     "name": "#%%\n"
    }
   },
   "execution_count": 11,
   "outputs": [
    {
     "execution_count": 11,
     "output_type": "execute_result",
     "data": {
      "text/plain": "        Unnamed: 0                      id phone_number  price_vnd  \\\n818427      559367  sodepami_vn_0335984554    335984554     699000   \n196956      750893  sodepami_vn_0325036668    325036668    5000000   \n631141      998968  sodepami_vn_0987672989    987672989    1850000   \n304912      511809  sodepami_vn_0785863355    785863355     850000   \n751212      439052  sodepami_vn_0984313012    984313012    1550000   \n561075      470974  sodepami_vn_0772861666    772861666    4000000   \n342615     1027522  sodepami_vn_0522015968    522015968     550000   \n394965      847436  sodepami_vn_0342868909    342868909     800000   \n818323      730000  sodepami_vn_0369781981    369781981    3000000   \n179974      903858  sodepami_vn_0346240066    346240066     499000   \n\n              type  length pos_1 pos_2 pos_3 pos_4 pos_5 pos_6 pos_7 pos_8  \\\n818427  sodepami_v       9     3     3     5     9     8     4     5     5   \n196956  sodepami_v       9     3     2     5     0     3     6     6     6   \n631141  sodepami_v       9     9     8     7     6     7     2     9     8   \n304912  sodepami_v       9     7     8     5     8     6     3     3     5   \n751212  sodepami_v       9     9     8     4     3     1     3     0     1   \n561075  sodepami_v       9     7     7     2     8     6     1     6     6   \n342615  sodepami_v       9     5     2     2     0     1     5     9     6   \n394965  sodepami_v       9     3     4     2     8     6     8     9     0   \n818323  sodepami_v       9     3     6     9     7     8     1     9     8   \n179974  sodepami_v       9     3     4     6     2     4     0     0     6   \n\n       pos_9  \n818427     4  \n196956     8  \n631141     9  \n304912     5  \n751212     2  \n561075     6  \n342615     8  \n394965     9  \n818323     1  \n179974     6  ",
      "text/html": "<div>\n<style scoped>\n    .dataframe tbody tr th:only-of-type {\n        vertical-align: middle;\n    }\n\n    .dataframe tbody tr th {\n        vertical-align: top;\n    }\n\n    .dataframe thead th {\n        text-align: right;\n    }\n</style>\n<table border=\"1\" class=\"dataframe\">\n  <thead>\n    <tr style=\"text-align: right;\">\n      <th></th>\n      <th>Unnamed: 0</th>\n      <th>id</th>\n      <th>phone_number</th>\n      <th>price_vnd</th>\n      <th>type</th>\n      <th>length</th>\n      <th>pos_1</th>\n      <th>pos_2</th>\n      <th>pos_3</th>\n      <th>pos_4</th>\n      <th>pos_5</th>\n      <th>pos_6</th>\n      <th>pos_7</th>\n      <th>pos_8</th>\n      <th>pos_9</th>\n    </tr>\n  </thead>\n  <tbody>\n    <tr>\n      <th>818427</th>\n      <td>559367</td>\n      <td>sodepami_vn_0335984554</td>\n      <td>335984554</td>\n      <td>699000</td>\n      <td>sodepami_v</td>\n      <td>9</td>\n      <td>3</td>\n      <td>3</td>\n      <td>5</td>\n      <td>9</td>\n      <td>8</td>\n      <td>4</td>\n      <td>5</td>\n      <td>5</td>\n      <td>4</td>\n    </tr>\n    <tr>\n      <th>196956</th>\n      <td>750893</td>\n      <td>sodepami_vn_0325036668</td>\n      <td>325036668</td>\n      <td>5000000</td>\n      <td>sodepami_v</td>\n      <td>9</td>\n      <td>3</td>\n      <td>2</td>\n      <td>5</td>\n      <td>0</td>\n      <td>3</td>\n      <td>6</td>\n      <td>6</td>\n      <td>6</td>\n      <td>8</td>\n    </tr>\n    <tr>\n      <th>631141</th>\n      <td>998968</td>\n      <td>sodepami_vn_0987672989</td>\n      <td>987672989</td>\n      <td>1850000</td>\n      <td>sodepami_v</td>\n      <td>9</td>\n      <td>9</td>\n      <td>8</td>\n      <td>7</td>\n      <td>6</td>\n      <td>7</td>\n      <td>2</td>\n      <td>9</td>\n      <td>8</td>\n      <td>9</td>\n    </tr>\n    <tr>\n      <th>304912</th>\n      <td>511809</td>\n      <td>sodepami_vn_0785863355</td>\n      <td>785863355</td>\n      <td>850000</td>\n      <td>sodepami_v</td>\n      <td>9</td>\n      <td>7</td>\n      <td>8</td>\n      <td>5</td>\n      <td>8</td>\n      <td>6</td>\n      <td>3</td>\n      <td>3</td>\n      <td>5</td>\n      <td>5</td>\n    </tr>\n    <tr>\n      <th>751212</th>\n      <td>439052</td>\n      <td>sodepami_vn_0984313012</td>\n      <td>984313012</td>\n      <td>1550000</td>\n      <td>sodepami_v</td>\n      <td>9</td>\n      <td>9</td>\n      <td>8</td>\n      <td>4</td>\n      <td>3</td>\n      <td>1</td>\n      <td>3</td>\n      <td>0</td>\n      <td>1</td>\n      <td>2</td>\n    </tr>\n    <tr>\n      <th>561075</th>\n      <td>470974</td>\n      <td>sodepami_vn_0772861666</td>\n      <td>772861666</td>\n      <td>4000000</td>\n      <td>sodepami_v</td>\n      <td>9</td>\n      <td>7</td>\n      <td>7</td>\n      <td>2</td>\n      <td>8</td>\n      <td>6</td>\n      <td>1</td>\n      <td>6</td>\n      <td>6</td>\n      <td>6</td>\n    </tr>\n    <tr>\n      <th>342615</th>\n      <td>1027522</td>\n      <td>sodepami_vn_0522015968</td>\n      <td>522015968</td>\n      <td>550000</td>\n      <td>sodepami_v</td>\n      <td>9</td>\n      <td>5</td>\n      <td>2</td>\n      <td>2</td>\n      <td>0</td>\n      <td>1</td>\n      <td>5</td>\n      <td>9</td>\n      <td>6</td>\n      <td>8</td>\n    </tr>\n    <tr>\n      <th>394965</th>\n      <td>847436</td>\n      <td>sodepami_vn_0342868909</td>\n      <td>342868909</td>\n      <td>800000</td>\n      <td>sodepami_v</td>\n      <td>9</td>\n      <td>3</td>\n      <td>4</td>\n      <td>2</td>\n      <td>8</td>\n      <td>6</td>\n      <td>8</td>\n      <td>9</td>\n      <td>0</td>\n      <td>9</td>\n    </tr>\n    <tr>\n      <th>818323</th>\n      <td>730000</td>\n      <td>sodepami_vn_0369781981</td>\n      <td>369781981</td>\n      <td>3000000</td>\n      <td>sodepami_v</td>\n      <td>9</td>\n      <td>3</td>\n      <td>6</td>\n      <td>9</td>\n      <td>7</td>\n      <td>8</td>\n      <td>1</td>\n      <td>9</td>\n      <td>8</td>\n      <td>1</td>\n    </tr>\n    <tr>\n      <th>179974</th>\n      <td>903858</td>\n      <td>sodepami_vn_0346240066</td>\n      <td>346240066</td>\n      <td>499000</td>\n      <td>sodepami_v</td>\n      <td>9</td>\n      <td>3</td>\n      <td>4</td>\n      <td>6</td>\n      <td>2</td>\n      <td>4</td>\n      <td>0</td>\n      <td>0</td>\n      <td>6</td>\n      <td>6</td>\n    </tr>\n  </tbody>\n</table>\n</div>"
     },
     "metadata": {}
    }
   ]
  },
  {
   "cell_type": "code",
   "source": [
    "def features_from_counting_numbers(df):\n",
    "    list_number = df['phone_number'].to_list()\n",
    "    \n",
    "    list_count = np.full((df.shape[0], 10), 0)\n",
    "    \n",
    "    for i in range(len(list_number)):\n",
    "        for j in range(len(list_number[i])):\n",
    "            tmp = int(list_number[i][j])\n",
    "            list_count[i][tmp] += 1  \n",
    "    for i in range(10):\n",
    "        df['count_' + str(i)] = list_count[:,i]\n",
    "    \n",
    "    max_count = [0 for i in range(len(list_number))]\n",
    "    for i in range(len(list_number)):\n",
    "        max_c = 0\n",
    "        pos = 0\n",
    "        for j in range(len(list_count[i])):\n",
    "            if list_count[i][j] >= max_c:\n",
    "                max_c = list_count[i][j]\n",
    "                pos = j\n",
    "        #print(max_c)\n",
    "        max_count[i] = pos  \n",
    "        \n",
    "    df['max_count'] = max_count\n",
    "    return df"
   ],
   "metadata": {
    "papermill": {
     "duration": 0.023555,
     "end_time": "2022-09-30T11:21:42.913872",
     "exception": false,
     "start_time": "2022-09-30T11:21:42.890317",
     "status": "completed"
    },
    "tags": [],
    "execution": {
     "iopub.status.busy": "2022-10-09T08:15:22.176001Z",
     "iopub.execute_input": "2022-10-09T08:15:22.176312Z",
     "iopub.status.idle": "2022-10-09T08:15:22.184912Z",
     "shell.execute_reply.started": "2022-10-09T08:15:22.176283Z",
     "shell.execute_reply": "2022-10-09T08:15:22.183624Z"
    },
    "trusted": true,
    "pycharm": {
     "name": "#%%\n"
    }
   },
   "execution_count": 12,
   "outputs": []
  },
  {
   "cell_type": "code",
   "source": [
    "df = features_from_counting_numbers(df)"
   ],
   "metadata": {
    "papermill": {
     "duration": 2.366083,
     "end_time": "2022-09-30T11:21:45.289086",
     "exception": false,
     "start_time": "2022-09-30T11:21:42.923003",
     "status": "completed"
    },
    "scrolled": true,
    "tags": [],
    "execution": {
     "iopub.status.busy": "2022-10-09T08:15:22.186795Z",
     "iopub.execute_input": "2022-10-09T08:15:22.187934Z",
     "iopub.status.idle": "2022-10-09T08:15:28.645652Z",
     "shell.execute_reply.started": "2022-10-09T08:15:22.187893Z",
     "shell.execute_reply": "2022-10-09T08:15:28.644555Z"
    },
    "trusted": true,
    "pycharm": {
     "name": "#%%\n"
    }
   },
   "execution_count": 13,
   "outputs": []
  },
  {
   "cell_type": "code",
   "source": [],
   "metadata": {
    "pycharm": {
     "name": "#%%\n"
    }
   },
   "execution_count": null,
   "outputs": []
  },
  {
   "cell_type": "code",
   "source": [
    "def combo_feat(df):\n",
    "    list_number = df['phone_number'].tolist()\n",
    "\n",
    "    list_2_last = list() #extract 2 last digit\n",
    "\n",
    "    list_3_last = list() #extract 3 last digit\n",
    "\n",
    "    list_4_last = list() #extract 4 last digit\n",
    "\n",
    "    list_5_last = list() #extract 5 last digit\n",
    "\n",
    "    list_first = list() #extract first digit after 0\n",
    "\n",
    "    list_combo_3_identical_bool = list() # the phone number contain 111, 222, ....999 or not\n",
    "\n",
    "    list_combo_3_identical_cat = list() # the phone number contain which one of 111, 222, ....999\n",
    "\n",
    "    list_combo_4_identical_bool = list() # the phone number contain 1111, 2222, ... or not\n",
    "\n",
    "    list_combo_4_identical_cat = list()\n",
    "\n",
    "    list_combo_5_identical_bool = list() # the phone number contain 11111, 22222, ... or not\n",
    "\n",
    "    list_combo_5_identical_cat = list()\n",
    "\n",
    "    list_combo_6_identical_bool = list() \n",
    "\n",
    "    list_combo_6_identical_cat = list() \n",
    "\n",
    "    list_3_combo_s = list() # tam hoa <5\n",
    "\n",
    "    list_3_combo_57 = list() # tam hoa 5,7\n",
    "\n",
    "    list_3_combo_689 = list() # tam hoa 6,8,9\n",
    "\n",
    "    list_4_combo_s = list() # tu quy <5\n",
    "\n",
    "    list_4_combo_57 = list() # tu quy 5,7\n",
    "\n",
    "    list_4_combo_689 = list() # tu quy 6,8,9\n",
    "\n",
    "\n",
    "    for i in range(len(list_number)):\n",
    "            str_tmp_2_last = list_number[i][-2:]\n",
    "            list_2_last.append(str_tmp_2_last)\n",
    "\n",
    "            str_tmp_3_last = list_number[i][-3:]\n",
    "            list_3_last.append(str_tmp_3_last)\n",
    "\n",
    "            str_tmp_4_last = list_number[i][-4:]\n",
    "            list_4_last.append(str_tmp_4_last)\n",
    "\n",
    "            str_tmp_5_last = list_number[i][-5:]\n",
    "            list_5_last.append(str_tmp_5_last)\n",
    "\n",
    "            str_tmp_first = list_number[i][0]\n",
    "            list_first.append(str_tmp_first)\n",
    "\n",
    "            list_combo_3 = {'000','111','222','333','444','555','666','777','888','999'}\n",
    "            combo_3_score = 0\n",
    "            combo_3_cat = \"\"\n",
    "\n",
    "            combo_3_s = 0\n",
    "            combo_3_57 = 0\n",
    "            combo_3_689 = 0\n",
    "\n",
    "            for str_tmp in list_combo_3:\n",
    "                if str_tmp in list_number[i]:\n",
    "                    combo_3_score = combo_3_score + 1\n",
    "                    combo_3_cat += str_tmp\n",
    "\n",
    "                    x = (int)(str_tmp[0])\n",
    "\n",
    "                    if(x in {0,1,2,3,4} ): \n",
    "                        combo_3_s = combo_3_s + 1\n",
    "                    elif (x == 5 or x == 7 ):\n",
    "                        combo_3_57 = combo_3_57 + 1    \n",
    "                    else:\n",
    "                        combo_3_689 = combo_3_689 + 1\n",
    "\n",
    "            list_combo_3_identical_bool.append(combo_3_score)\n",
    "            list_combo_3_identical_cat.append(combo_3_cat)\n",
    "\n",
    "            list_3_combo_s.append(combo_3_s)\n",
    "            list_3_combo_57.append(combo_3_57)\n",
    "            list_3_combo_689.append(combo_3_689)\n",
    "\n",
    "            list_combo_4 = {'0000','1111','2222','3333','4444','5555','6666','7777','8888','9999'}\n",
    "            combo_4_score = 0\n",
    "            combo_4_cat = \"\"\n",
    "\n",
    "            combo_4_s = 0\n",
    "            combo_4_57 = 0\n",
    "            combo_4_689 = 0\n",
    "            for str_tmp in list_combo_4:\n",
    "                if str_tmp in list_number[i]:\n",
    "                    combo_4_score = combo_4_score + 1\n",
    "                    combo_4_cat += str_tmp\n",
    "\n",
    "                    x = (int)(str_tmp[0])\n",
    "\n",
    "                    if(x in {0,1,2,3,4} ): \n",
    "                        combo_4_s = combo_4_s + 1\n",
    "                    elif (x == 5 or x == 7 ):\n",
    "                        combo_4_57 = combo_4_57 + 1    \n",
    "                    else:\n",
    "                        combo_4_689 = combo_4_689 + 1            \n",
    "\n",
    "\n",
    "            list_combo_4_identical_bool.append(combo_4_score)\n",
    "            list_combo_4_identical_cat.append(combo_4_cat)\n",
    "\n",
    "            list_4_combo_s.append(combo_4_s)\n",
    "            list_4_combo_57.append(combo_4_57)\n",
    "            list_4_combo_689.append(combo_4_689)\n",
    "\n",
    "            list_combo_5 = {'00000','11111','22222','33333','44444','55555','66666','77777','88888','99999'}\n",
    "            combo_5_score = 0\n",
    "            combo_5_cat = \"\"\n",
    "            for str_tmp in list_combo_5:\n",
    "                if str_tmp in list_number[i]:\n",
    "                    combo_5_score = combo_5_score + 1\n",
    "                    combo_5_cat += str_tmp\n",
    "\n",
    "            list_combo_5_identical_bool.append(combo_5_score)\n",
    "            list_combo_5_identical_cat.append(combo_5_cat)\n",
    "\n",
    "\n",
    "            list_combo_6 = {'000000','111111','222222','333333','444444','555555','666666','777777','888888','999999'}\n",
    "            combo_6_score = 0\n",
    "            combo_6_cat = \"\"\n",
    "\n",
    "            for str_tmp in list_combo_6:\n",
    "                if str_tmp in list_number[i]:\n",
    "                    combo_6_score = combo_6_score + 1\n",
    "                    combo_6_cat += str_tmp\n",
    "\n",
    "            list_combo_6_identical_bool.append(combo_6_score)\n",
    "            list_combo_6_identical_cat.append(combo_6_cat)\n",
    "\n",
    "    df['2_last'] = list_2_last\n",
    "    df['3_last'] = list_3_last\n",
    "    df['4_last'] = list_4_last\n",
    "    df['5_last'] = list_5_last\n",
    "    df['first'] = list_first\n",
    "\n",
    "    df['3_combo_bool'] = list_combo_3_identical_bool\n",
    "    df['3_combo_cat'] = list_combo_3_identical_cat\n",
    "\n",
    "    df['4_combo_bool'] = list_combo_4_identical_bool\n",
    "    df['4_combo_cat'] = list_combo_4_identical_cat\n",
    "\n",
    "    df['5_combo_bool'] = list_combo_5_identical_bool\n",
    "    df['5_combo_cat'] = list_combo_5_identical_cat\n",
    "\n",
    "    df['6_combo_bool'] = list_combo_6_identical_bool\n",
    "    df['6_combo_cat'] = list_combo_6_identical_cat\n",
    "\n",
    "    df['3_combo_s'] = list_3_combo_s\n",
    "    df['3_combo_57'] = list_3_combo_57\n",
    "    df['3_combo_689'] = list_3_combo_689\n",
    "\n",
    "    df['4_combo_s'] = list_4_combo_s\n",
    "    df['4_combo_57'] = list_4_combo_57\n",
    "    df['4_combo_689'] = list_4_combo_689\n",
    "        \n",
    "    return df"
   ],
   "metadata": {
    "execution": {
     "iopub.status.busy": "2022-10-09T08:15:28.647476Z",
     "iopub.execute_input": "2022-10-09T08:15:28.647909Z",
     "iopub.status.idle": "2022-10-09T08:15:28.671285Z",
     "shell.execute_reply.started": "2022-10-09T08:15:28.647856Z",
     "shell.execute_reply": "2022-10-09T08:15:28.670036Z"
    },
    "trusted": true,
    "pycharm": {
     "name": "#%%\n"
    }
   },
   "execution_count": 14,
   "outputs": []
  },
  {
   "cell_type": "code",
   "source": [
    "df = combo_feat(df)"
   ],
   "metadata": {
    "execution": {
     "iopub.status.busy": "2022-10-09T08:15:28.672883Z",
     "iopub.execute_input": "2022-10-09T08:15:28.674099Z",
     "iopub.status.idle": "2022-10-09T08:15:34.872139Z",
     "shell.execute_reply.started": "2022-10-09T08:15:28.674024Z",
     "shell.execute_reply": "2022-10-09T08:15:34.871016Z"
    },
    "trusted": true,
    "pycharm": {
     "name": "#%%\n"
    }
   },
   "execution_count": 15,
   "outputs": []
  },
  {
   "cell_type": "code",
   "source": [
    "df[df['3_combo_bool']!=0]"
   ],
   "metadata": {
    "execution": {
     "iopub.status.busy": "2022-10-09T08:15:34.873758Z",
     "iopub.execute_input": "2022-10-09T08:15:34.874655Z",
     "iopub.status.idle": "2022-10-09T08:15:35.621749Z",
     "shell.execute_reply.started": "2022-10-09T08:15:34.874603Z",
     "shell.execute_reply": "2022-10-09T08:15:35.620716Z"
    },
    "trusted": true,
    "pycharm": {
     "name": "#%%\n"
    }
   },
   "execution_count": 16,
   "outputs": [
    {
     "execution_count": 16,
     "output_type": "execute_result",
     "data": {
      "text/plain": "        Unnamed: 0                       id phone_number  price_vnd  \\\n196956      750893   sodepami_vn_0325036668    325036668    5000000   \n561075      470974   sodepami_vn_0772861666    772861666    4000000   \n735610      627687   sodepami_vn_0786111595    786111595     900000   \n201696      867120   sodepami_vn_0777511991    777511991    1550000   \n368659      503394   sodepami_vn_0704896999    704896999    5500000   \n...            ...                      ...          ...        ...   \n32598        43724   sodepami_vn_0768444445    768444445    5800000   \n554811      172837  sodepami_vn_02422482222   2422482222    2740000   \n776833      847036   sodepami_vn_0784166688    784166688    4800000   \n669835      655723   sodepami_vn_0888320585    888320585     800000   \n430799      382141   sodepami_vn_0794462555    794462555    1100000   \n\n              type  length pos_1 pos_2 pos_3 pos_4  ... 5_combo_bool  \\\n196956  sodepami_v       9     3     2     5     0  ...            0   \n561075  sodepami_v       9     7     7     2     8  ...            0   \n735610  sodepami_v       9     7     8     6     1  ...            0   \n201696  sodepami_v       9     7     7     7     5  ...            0   \n368659  sodepami_v       9     7     0     4     8  ...            0   \n...            ...     ...   ...   ...   ...   ...  ...          ...   \n32598   sodepami_v       9     7     6     8     4  ...            1   \n554811  sodepami_v      10    24     2     2     4  ...            0   \n776833  sodepami_v       9     7     8     4     1  ...            0   \n669835  sodepami_v       9     8     8     8     3  ...            0   \n430799  sodepami_v       9     7     9     4     4  ...            0   \n\n       5_combo_cat 6_combo_bool 6_combo_cat 3_combo_s  3_combo_57  \\\n196956                        0                     0           0   \n561075                        0                     0           0   \n735610                        0                     1           0   \n201696                        0                     0           1   \n368659                        0                     0           0   \n...            ...          ...         ...       ...         ...   \n32598        44444            0                     1           0   \n554811                        0                     1           0   \n776833                        0                     0           0   \n669835                        0                     0           0   \n430799                        0                     0           1   \n\n        3_combo_689  4_combo_s  4_combo_57  4_combo_689  \n196956            1          0           0            0  \n561075            1          0           0            0  \n735610            0          0           0            0  \n201696            0          0           0            0  \n368659            1          0           0            0  \n...             ...        ...         ...          ...  \n32598             0          1           0            0  \n554811            0          1           0            0  \n776833            1          0           0            0  \n669835            1          0           0            0  \n430799            0          0           0            0  \n\n[108246 rows x 45 columns]",
      "text/html": "<div>\n<style scoped>\n    .dataframe tbody tr th:only-of-type {\n        vertical-align: middle;\n    }\n\n    .dataframe tbody tr th {\n        vertical-align: top;\n    }\n\n    .dataframe thead th {\n        text-align: right;\n    }\n</style>\n<table border=\"1\" class=\"dataframe\">\n  <thead>\n    <tr style=\"text-align: right;\">\n      <th></th>\n      <th>Unnamed: 0</th>\n      <th>id</th>\n      <th>phone_number</th>\n      <th>price_vnd</th>\n      <th>type</th>\n      <th>length</th>\n      <th>pos_1</th>\n      <th>pos_2</th>\n      <th>pos_3</th>\n      <th>pos_4</th>\n      <th>...</th>\n      <th>5_combo_bool</th>\n      <th>5_combo_cat</th>\n      <th>6_combo_bool</th>\n      <th>6_combo_cat</th>\n      <th>3_combo_s</th>\n      <th>3_combo_57</th>\n      <th>3_combo_689</th>\n      <th>4_combo_s</th>\n      <th>4_combo_57</th>\n      <th>4_combo_689</th>\n    </tr>\n  </thead>\n  <tbody>\n    <tr>\n      <th>196956</th>\n      <td>750893</td>\n      <td>sodepami_vn_0325036668</td>\n      <td>325036668</td>\n      <td>5000000</td>\n      <td>sodepami_v</td>\n      <td>9</td>\n      <td>3</td>\n      <td>2</td>\n      <td>5</td>\n      <td>0</td>\n      <td>...</td>\n      <td>0</td>\n      <td></td>\n      <td>0</td>\n      <td></td>\n      <td>0</td>\n      <td>0</td>\n      <td>1</td>\n      <td>0</td>\n      <td>0</td>\n      <td>0</td>\n    </tr>\n    <tr>\n      <th>561075</th>\n      <td>470974</td>\n      <td>sodepami_vn_0772861666</td>\n      <td>772861666</td>\n      <td>4000000</td>\n      <td>sodepami_v</td>\n      <td>9</td>\n      <td>7</td>\n      <td>7</td>\n      <td>2</td>\n      <td>8</td>\n      <td>...</td>\n      <td>0</td>\n      <td></td>\n      <td>0</td>\n      <td></td>\n      <td>0</td>\n      <td>0</td>\n      <td>1</td>\n      <td>0</td>\n      <td>0</td>\n      <td>0</td>\n    </tr>\n    <tr>\n      <th>735610</th>\n      <td>627687</td>\n      <td>sodepami_vn_0786111595</td>\n      <td>786111595</td>\n      <td>900000</td>\n      <td>sodepami_v</td>\n      <td>9</td>\n      <td>7</td>\n      <td>8</td>\n      <td>6</td>\n      <td>1</td>\n      <td>...</td>\n      <td>0</td>\n      <td></td>\n      <td>0</td>\n      <td></td>\n      <td>1</td>\n      <td>0</td>\n      <td>0</td>\n      <td>0</td>\n      <td>0</td>\n      <td>0</td>\n    </tr>\n    <tr>\n      <th>201696</th>\n      <td>867120</td>\n      <td>sodepami_vn_0777511991</td>\n      <td>777511991</td>\n      <td>1550000</td>\n      <td>sodepami_v</td>\n      <td>9</td>\n      <td>7</td>\n      <td>7</td>\n      <td>7</td>\n      <td>5</td>\n      <td>...</td>\n      <td>0</td>\n      <td></td>\n      <td>0</td>\n      <td></td>\n      <td>0</td>\n      <td>1</td>\n      <td>0</td>\n      <td>0</td>\n      <td>0</td>\n      <td>0</td>\n    </tr>\n    <tr>\n      <th>368659</th>\n      <td>503394</td>\n      <td>sodepami_vn_0704896999</td>\n      <td>704896999</td>\n      <td>5500000</td>\n      <td>sodepami_v</td>\n      <td>9</td>\n      <td>7</td>\n      <td>0</td>\n      <td>4</td>\n      <td>8</td>\n      <td>...</td>\n      <td>0</td>\n      <td></td>\n      <td>0</td>\n      <td></td>\n      <td>0</td>\n      <td>0</td>\n      <td>1</td>\n      <td>0</td>\n      <td>0</td>\n      <td>0</td>\n    </tr>\n    <tr>\n      <th>...</th>\n      <td>...</td>\n      <td>...</td>\n      <td>...</td>\n      <td>...</td>\n      <td>...</td>\n      <td>...</td>\n      <td>...</td>\n      <td>...</td>\n      <td>...</td>\n      <td>...</td>\n      <td>...</td>\n      <td>...</td>\n      <td>...</td>\n      <td>...</td>\n      <td>...</td>\n      <td>...</td>\n      <td>...</td>\n      <td>...</td>\n      <td>...</td>\n      <td>...</td>\n      <td>...</td>\n    </tr>\n    <tr>\n      <th>32598</th>\n      <td>43724</td>\n      <td>sodepami_vn_0768444445</td>\n      <td>768444445</td>\n      <td>5800000</td>\n      <td>sodepami_v</td>\n      <td>9</td>\n      <td>7</td>\n      <td>6</td>\n      <td>8</td>\n      <td>4</td>\n      <td>...</td>\n      <td>1</td>\n      <td>44444</td>\n      <td>0</td>\n      <td></td>\n      <td>1</td>\n      <td>0</td>\n      <td>0</td>\n      <td>1</td>\n      <td>0</td>\n      <td>0</td>\n    </tr>\n    <tr>\n      <th>554811</th>\n      <td>172837</td>\n      <td>sodepami_vn_02422482222</td>\n      <td>2422482222</td>\n      <td>2740000</td>\n      <td>sodepami_v</td>\n      <td>10</td>\n      <td>24</td>\n      <td>2</td>\n      <td>2</td>\n      <td>4</td>\n      <td>...</td>\n      <td>0</td>\n      <td></td>\n      <td>0</td>\n      <td></td>\n      <td>1</td>\n      <td>0</td>\n      <td>0</td>\n      <td>1</td>\n      <td>0</td>\n      <td>0</td>\n    </tr>\n    <tr>\n      <th>776833</th>\n      <td>847036</td>\n      <td>sodepami_vn_0784166688</td>\n      <td>784166688</td>\n      <td>4800000</td>\n      <td>sodepami_v</td>\n      <td>9</td>\n      <td>7</td>\n      <td>8</td>\n      <td>4</td>\n      <td>1</td>\n      <td>...</td>\n      <td>0</td>\n      <td></td>\n      <td>0</td>\n      <td></td>\n      <td>0</td>\n      <td>0</td>\n      <td>1</td>\n      <td>0</td>\n      <td>0</td>\n      <td>0</td>\n    </tr>\n    <tr>\n      <th>669835</th>\n      <td>655723</td>\n      <td>sodepami_vn_0888320585</td>\n      <td>888320585</td>\n      <td>800000</td>\n      <td>sodepami_v</td>\n      <td>9</td>\n      <td>8</td>\n      <td>8</td>\n      <td>8</td>\n      <td>3</td>\n      <td>...</td>\n      <td>0</td>\n      <td></td>\n      <td>0</td>\n      <td></td>\n      <td>0</td>\n      <td>0</td>\n      <td>1</td>\n      <td>0</td>\n      <td>0</td>\n      <td>0</td>\n    </tr>\n    <tr>\n      <th>430799</th>\n      <td>382141</td>\n      <td>sodepami_vn_0794462555</td>\n      <td>794462555</td>\n      <td>1100000</td>\n      <td>sodepami_v</td>\n      <td>9</td>\n      <td>7</td>\n      <td>9</td>\n      <td>4</td>\n      <td>4</td>\n      <td>...</td>\n      <td>0</td>\n      <td></td>\n      <td>0</td>\n      <td></td>\n      <td>0</td>\n      <td>1</td>\n      <td>0</td>\n      <td>0</td>\n      <td>0</td>\n      <td>0</td>\n    </tr>\n  </tbody>\n</table>\n<p>108246 rows × 45 columns</p>\n</div>"
     },
     "metadata": {}
    }
   ]
  },
  {
   "cell_type": "code",
   "source": [
    "# def lucky_2_last(df):\n",
    "#     list_2_lucky_last_bool = list()\n",
    "#     list_2_lucky_last_cat = list()\n",
    "\n",
    "#     for i in list_2_last:\n",
    "#         if (i == '68' or i == '86' or i == '78' or i == '79' or i == '39' or i == '38' or i =='83'):\n",
    "#             list_2_lucky_last_bool.append(1)\n",
    "#             list_2_lucky_last_cat.append(i)\n",
    "#         else:\n",
    "#             list_2_lucky_last_bool.append(0)\n",
    "#             list_2_lucky_last_cat.append('')\n",
    "\n",
    "\n",
    "#     df['2_lucky_last_bool'] = list_2_lucky_last_bool # check if the phone number has 2 last \"lucky number\" or not\n",
    "#     df['2_lucky_last_cat'] = list_2_lucky_last_cat\n",
    "    \n",
    "#     return df\n"
   ],
   "metadata": {
    "execution": {
     "iopub.status.busy": "2022-10-09T08:15:35.623381Z",
     "iopub.execute_input": "2022-10-09T08:15:35.624028Z",
     "iopub.status.idle": "2022-10-09T08:15:35.629095Z",
     "shell.execute_reply.started": "2022-10-09T08:15:35.623987Z",
     "shell.execute_reply": "2022-10-09T08:15:35.628011Z"
    },
    "trusted": true,
    "pycharm": {
     "name": "#%%\n"
    }
   },
   "execution_count": 17,
   "outputs": []
  },
  {
   "cell_type": "code",
   "source": [],
   "metadata": {
    "pycharm": {
     "name": "#%%\n"
    }
   },
   "execution_count": null,
   "outputs": []
  },
  {
   "cell_type": "code",
   "source": [
    "def sim_nam_sinh(df):\n",
    "    list_nam_sinh_bool = []\n",
    "    list_number = df['phone_number'].to_list()\n",
    "    list_nam_sinh = []\n",
    "    for i in list_number:\n",
    "        if 1900 <= int(i[-4:]) <= 2022:\n",
    "            list_nam_sinh.append(int(i[-4:]))\n",
    "            list_nam_sinh_bool.append(1)\n",
    "        else:\n",
    "            list_nam_sinh.append(0)\n",
    "            list_nam_sinh_bool.append(0)\n",
    "            \n",
    "    \n",
    "    df['nam_sinh'] = list_nam_sinh\n",
    "    df['nam_sinh_bool'] = list_nam_sinh_bool\n",
    "    df['nam_sinh'] = df['nam_sinh'].astype(str)\n",
    "    return df"
   ],
   "metadata": {
    "papermill": {
     "duration": 0.019435,
     "end_time": "2022-09-30T11:21:45.317293",
     "exception": false,
     "start_time": "2022-09-30T11:21:45.297858",
     "status": "completed"
    },
    "tags": [],
    "execution": {
     "iopub.status.busy": "2022-10-09T08:15:35.630900Z",
     "iopub.execute_input": "2022-10-09T08:15:35.631335Z",
     "iopub.status.idle": "2022-10-09T08:15:35.641466Z",
     "shell.execute_reply.started": "2022-10-09T08:15:35.631298Z",
     "shell.execute_reply": "2022-10-09T08:15:35.640458Z"
    },
    "trusted": true,
    "pycharm": {
     "name": "#%%\n"
    }
   },
   "execution_count": 18,
   "outputs": []
  },
  {
   "cell_type": "code",
   "source": [
    "\n"
   ],
   "metadata": {
    "pycharm": {
     "name": "#%%\n"
    }
   },
   "execution_count": null,
   "outputs": []
  },
  {
   "cell_type": "code",
   "source": [
    "df = sim_nam_sinh(df)"
   ],
   "metadata": {
    "papermill": {
     "duration": 0.274974,
     "end_time": "2022-09-30T11:21:45.601437",
     "exception": false,
     "start_time": "2022-09-30T11:21:45.326463",
     "status": "completed"
    },
    "tags": [],
    "execution": {
     "iopub.status.busy": "2022-10-09T08:15:35.642994Z",
     "iopub.execute_input": "2022-10-09T08:15:35.643560Z",
     "iopub.status.idle": "2022-10-09T08:15:36.536466Z",
     "shell.execute_reply.started": "2022-10-09T08:15:35.643524Z",
     "shell.execute_reply": "2022-10-09T08:15:36.535414Z"
    },
    "trusted": true,
    "pycharm": {
     "name": "#%%\n"
    }
   },
   "execution_count": 19,
   "outputs": []
  },
  {
   "cell_type": "code",
   "source": [
    "# df['nam_sinh'][df['nam_sinh_bool']!=0]"
   ],
   "metadata": {
    "execution": {
     "iopub.status.busy": "2022-10-09T08:15:36.538243Z",
     "iopub.execute_input": "2022-10-09T08:15:36.538651Z",
     "iopub.status.idle": "2022-10-09T08:15:36.543434Z",
     "shell.execute_reply.started": "2022-10-09T08:15:36.538610Z",
     "shell.execute_reply": "2022-10-09T08:15:36.542361Z"
    },
    "trusted": true,
    "pycharm": {
     "name": "#%%\n"
    }
   },
   "execution_count": 20,
   "outputs": []
  },
  {
   "cell_type": "code",
   "source": [
    "def symetric_4length_and_samesubtring_features(df):\n",
    "    list_number = df['phone_number'].to_list()\n",
    "    list_length_palindrome = []\n",
    "    list_bool_palindrome = []\n",
    "    list_palindrome = []\n",
    "    list_same_substr = []\n",
    "    list_same_substr_length = []\n",
    "    list_bool_same_substr = []\n",
    "    for i in range(len(list_number)):\n",
    "        \n",
    "        res = [list_number[i][x: y]+str(x) for x in range(len(list_number[i])-1)\n",
    "              for y in range(x + 2, len(list_number[i])+1)]\n",
    "                \n",
    "        tmp = \"\"\n",
    "        for j in res:\n",
    "            if len(j[:-1])>=4  and len(j[:-1]) > len(tmp) and j[:-1] == j[:-1][::-1]:\n",
    "                tmp = j[:-1]\n",
    "        \n",
    "         \n",
    "        list_palindrome.append(tmp)\n",
    "        list_length_palindrome.append(len(tmp))\n",
    "        \n",
    "        \n",
    "        tmp2 = \"\"\n",
    "                \n",
    "                \n",
    "        for j in range(len(res)-1):\n",
    "            \n",
    "            u1_n = (len(list_number[i]) - 1 - int(res[j][-1])) * len(res[j][:-1])\n",
    "            ps = int(len(res[j][:-1]) * ( len(res[j][:-1])-1) / 2)\n",
    "            \n",
    "            \n",
    "            for z in range(j + (u1_n - ps),len(res)):\n",
    "                if res[j][:-1] == res[z][:-1] and len(res[j][:-1]) > len(tmp2):\n",
    "                    tmp2 = res[z][:-1]\n",
    "  \n",
    "        list_same_substr.append(tmp2)\n",
    "        list_same_substr_length.append(len(tmp2))\n",
    "    \n",
    "    for i in range(len(list_length_palindrome)):\n",
    "        if list_length_palindrome[i] != 0:\n",
    "            list_bool_palindrome.append(1)\n",
    "        else:\n",
    "            list_bool_palindrome.append(0)\n",
    "        \n",
    "        if list_same_substr_length[i] != 0:\n",
    "            list_bool_same_substr.append(1)\n",
    "        else:\n",
    "            list_bool_same_substr.append(0)\n",
    "        \n",
    "    df['palindrome_length'] = list_length_palindrome\n",
    "    df['palindrome'] = list_palindrome\n",
    "    df['bool_palindrome'] = list_bool_palindrome\n",
    "    df['list_same'] = list_same_substr\n",
    "    df['list_same_substr_length'] = list_same_substr_length\n",
    "    df['bool_substr'] = list_bool_same_substr\n",
    "    return df"
   ],
   "metadata": {
    "papermill": {
     "duration": 0.027187,
     "end_time": "2022-09-30T11:21:45.637590",
     "exception": false,
     "start_time": "2022-09-30T11:21:45.610403",
     "status": "completed"
    },
    "tags": [],
    "execution": {
     "iopub.status.busy": "2022-10-09T08:15:36.545672Z",
     "iopub.execute_input": "2022-10-09T08:15:36.546260Z",
     "iopub.status.idle": "2022-10-09T08:15:36.561454Z",
     "shell.execute_reply.started": "2022-10-09T08:15:36.546222Z",
     "shell.execute_reply": "2022-10-09T08:15:36.560168Z"
    },
    "trusted": true,
    "pycharm": {
     "name": "#%%\n"
    }
   },
   "execution_count": 21,
   "outputs": []
  },
  {
   "cell_type": "code",
   "source": [
    "df = symetric_4length_and_samesubtring_features(df)\n",
    "df.head(10)"
   ],
   "metadata": {
    "papermill": {
     "duration": 23.794276,
     "end_time": "2022-09-30T11:22:09.440959",
     "exception": false,
     "start_time": "2022-09-30T11:21:45.646683",
     "status": "completed"
    },
    "tags": [],
    "execution": {
     "iopub.status.busy": "2022-10-09T08:15:36.562780Z",
     "iopub.execute_input": "2022-10-09T08:15:36.563489Z",
     "iopub.status.idle": "2022-10-09T08:16:42.575486Z",
     "shell.execute_reply.started": "2022-10-09T08:15:36.563454Z",
     "shell.execute_reply": "2022-10-09T08:16:42.574140Z"
    },
    "trusted": true,
    "pycharm": {
     "name": "#%%\n"
    }
   },
   "execution_count": 22,
   "outputs": [
    {
     "execution_count": 22,
     "output_type": "execute_result",
     "data": {
      "text/plain": "        Unnamed: 0                      id phone_number  price_vnd  \\\n818427      559367  sodepami_vn_0335984554    335984554     699000   \n196956      750893  sodepami_vn_0325036668    325036668    5000000   \n631141      998968  sodepami_vn_0987672989    987672989    1850000   \n304912      511809  sodepami_vn_0785863355    785863355     850000   \n751212      439052  sodepami_vn_0984313012    984313012    1550000   \n561075      470974  sodepami_vn_0772861666    772861666    4000000   \n342615     1027522  sodepami_vn_0522015968    522015968     550000   \n394965      847436  sodepami_vn_0342868909    342868909     800000   \n818323      730000  sodepami_vn_0369781981    369781981    3000000   \n179974      903858  sodepami_vn_0346240066    346240066     499000   \n\n              type  length pos_1 pos_2 pos_3 pos_4  ... 4_combo_57  \\\n818427  sodepami_v       9     3     3     5     9  ...          0   \n196956  sodepami_v       9     3     2     5     0  ...          0   \n631141  sodepami_v       9     9     8     7     6  ...          0   \n304912  sodepami_v       9     7     8     5     8  ...          0   \n751212  sodepami_v       9     9     8     4     3  ...          0   \n561075  sodepami_v       9     7     7     2     8  ...          0   \n342615  sodepami_v       9     5     2     2     0  ...          0   \n394965  sodepami_v       9     3     4     2     8  ...          0   \n818323  sodepami_v       9     3     6     9     7  ...          0   \n179974  sodepami_v       9     3     4     6     2  ...          0   \n\n       4_combo_689 nam_sinh nam_sinh_bool palindrome_length  palindrome  \\\n818427           0        0             0                 4        4554   \n196956           0        0             0                 0               \n631141           0        0             0                 0               \n304912           0        0             0                 0               \n751212           0        0             0                 0               \n561075           0        0             0                 0               \n342615           0        0             0                 0               \n394965           0        0             0                 0               \n818323           0     1981             1                 0               \n179974           0        0             0                 0               \n\n        bool_palindrome  list_same  list_same_substr_length  bool_substr  \n818427                1                                   0            0  \n196956                0                                   0            0  \n631141                0         98                        2            1  \n304912                0                                   0            0  \n751212                0                                   0            0  \n561075                0                                   0            0  \n342615                0                                   0            0  \n394965                0                                   0            0  \n818323                0         81                        2            1  \n179974                0                                   0            0  \n\n[10 rows x 53 columns]",
      "text/html": "<div>\n<style scoped>\n    .dataframe tbody tr th:only-of-type {\n        vertical-align: middle;\n    }\n\n    .dataframe tbody tr th {\n        vertical-align: top;\n    }\n\n    .dataframe thead th {\n        text-align: right;\n    }\n</style>\n<table border=\"1\" class=\"dataframe\">\n  <thead>\n    <tr style=\"text-align: right;\">\n      <th></th>\n      <th>Unnamed: 0</th>\n      <th>id</th>\n      <th>phone_number</th>\n      <th>price_vnd</th>\n      <th>type</th>\n      <th>length</th>\n      <th>pos_1</th>\n      <th>pos_2</th>\n      <th>pos_3</th>\n      <th>pos_4</th>\n      <th>...</th>\n      <th>4_combo_57</th>\n      <th>4_combo_689</th>\n      <th>nam_sinh</th>\n      <th>nam_sinh_bool</th>\n      <th>palindrome_length</th>\n      <th>palindrome</th>\n      <th>bool_palindrome</th>\n      <th>list_same</th>\n      <th>list_same_substr_length</th>\n      <th>bool_substr</th>\n    </tr>\n  </thead>\n  <tbody>\n    <tr>\n      <th>818427</th>\n      <td>559367</td>\n      <td>sodepami_vn_0335984554</td>\n      <td>335984554</td>\n      <td>699000</td>\n      <td>sodepami_v</td>\n      <td>9</td>\n      <td>3</td>\n      <td>3</td>\n      <td>5</td>\n      <td>9</td>\n      <td>...</td>\n      <td>0</td>\n      <td>0</td>\n      <td>0</td>\n      <td>0</td>\n      <td>4</td>\n      <td>4554</td>\n      <td>1</td>\n      <td></td>\n      <td>0</td>\n      <td>0</td>\n    </tr>\n    <tr>\n      <th>196956</th>\n      <td>750893</td>\n      <td>sodepami_vn_0325036668</td>\n      <td>325036668</td>\n      <td>5000000</td>\n      <td>sodepami_v</td>\n      <td>9</td>\n      <td>3</td>\n      <td>2</td>\n      <td>5</td>\n      <td>0</td>\n      <td>...</td>\n      <td>0</td>\n      <td>0</td>\n      <td>0</td>\n      <td>0</td>\n      <td>0</td>\n      <td></td>\n      <td>0</td>\n      <td></td>\n      <td>0</td>\n      <td>0</td>\n    </tr>\n    <tr>\n      <th>631141</th>\n      <td>998968</td>\n      <td>sodepami_vn_0987672989</td>\n      <td>987672989</td>\n      <td>1850000</td>\n      <td>sodepami_v</td>\n      <td>9</td>\n      <td>9</td>\n      <td>8</td>\n      <td>7</td>\n      <td>6</td>\n      <td>...</td>\n      <td>0</td>\n      <td>0</td>\n      <td>0</td>\n      <td>0</td>\n      <td>0</td>\n      <td></td>\n      <td>0</td>\n      <td>98</td>\n      <td>2</td>\n      <td>1</td>\n    </tr>\n    <tr>\n      <th>304912</th>\n      <td>511809</td>\n      <td>sodepami_vn_0785863355</td>\n      <td>785863355</td>\n      <td>850000</td>\n      <td>sodepami_v</td>\n      <td>9</td>\n      <td>7</td>\n      <td>8</td>\n      <td>5</td>\n      <td>8</td>\n      <td>...</td>\n      <td>0</td>\n      <td>0</td>\n      <td>0</td>\n      <td>0</td>\n      <td>0</td>\n      <td></td>\n      <td>0</td>\n      <td></td>\n      <td>0</td>\n      <td>0</td>\n    </tr>\n    <tr>\n      <th>751212</th>\n      <td>439052</td>\n      <td>sodepami_vn_0984313012</td>\n      <td>984313012</td>\n      <td>1550000</td>\n      <td>sodepami_v</td>\n      <td>9</td>\n      <td>9</td>\n      <td>8</td>\n      <td>4</td>\n      <td>3</td>\n      <td>...</td>\n      <td>0</td>\n      <td>0</td>\n      <td>0</td>\n      <td>0</td>\n      <td>0</td>\n      <td></td>\n      <td>0</td>\n      <td></td>\n      <td>0</td>\n      <td>0</td>\n    </tr>\n    <tr>\n      <th>561075</th>\n      <td>470974</td>\n      <td>sodepami_vn_0772861666</td>\n      <td>772861666</td>\n      <td>4000000</td>\n      <td>sodepami_v</td>\n      <td>9</td>\n      <td>7</td>\n      <td>7</td>\n      <td>2</td>\n      <td>8</td>\n      <td>...</td>\n      <td>0</td>\n      <td>0</td>\n      <td>0</td>\n      <td>0</td>\n      <td>0</td>\n      <td></td>\n      <td>0</td>\n      <td></td>\n      <td>0</td>\n      <td>0</td>\n    </tr>\n    <tr>\n      <th>342615</th>\n      <td>1027522</td>\n      <td>sodepami_vn_0522015968</td>\n      <td>522015968</td>\n      <td>550000</td>\n      <td>sodepami_v</td>\n      <td>9</td>\n      <td>5</td>\n      <td>2</td>\n      <td>2</td>\n      <td>0</td>\n      <td>...</td>\n      <td>0</td>\n      <td>0</td>\n      <td>0</td>\n      <td>0</td>\n      <td>0</td>\n      <td></td>\n      <td>0</td>\n      <td></td>\n      <td>0</td>\n      <td>0</td>\n    </tr>\n    <tr>\n      <th>394965</th>\n      <td>847436</td>\n      <td>sodepami_vn_0342868909</td>\n      <td>342868909</td>\n      <td>800000</td>\n      <td>sodepami_v</td>\n      <td>9</td>\n      <td>3</td>\n      <td>4</td>\n      <td>2</td>\n      <td>8</td>\n      <td>...</td>\n      <td>0</td>\n      <td>0</td>\n      <td>0</td>\n      <td>0</td>\n      <td>0</td>\n      <td></td>\n      <td>0</td>\n      <td></td>\n      <td>0</td>\n      <td>0</td>\n    </tr>\n    <tr>\n      <th>818323</th>\n      <td>730000</td>\n      <td>sodepami_vn_0369781981</td>\n      <td>369781981</td>\n      <td>3000000</td>\n      <td>sodepami_v</td>\n      <td>9</td>\n      <td>3</td>\n      <td>6</td>\n      <td>9</td>\n      <td>7</td>\n      <td>...</td>\n      <td>0</td>\n      <td>0</td>\n      <td>1981</td>\n      <td>1</td>\n      <td>0</td>\n      <td></td>\n      <td>0</td>\n      <td>81</td>\n      <td>2</td>\n      <td>1</td>\n    </tr>\n    <tr>\n      <th>179974</th>\n      <td>903858</td>\n      <td>sodepami_vn_0346240066</td>\n      <td>346240066</td>\n      <td>499000</td>\n      <td>sodepami_v</td>\n      <td>9</td>\n      <td>3</td>\n      <td>4</td>\n      <td>6</td>\n      <td>2</td>\n      <td>...</td>\n      <td>0</td>\n      <td>0</td>\n      <td>0</td>\n      <td>0</td>\n      <td>0</td>\n      <td></td>\n      <td>0</td>\n      <td></td>\n      <td>0</td>\n      <td>0</td>\n    </tr>\n  </tbody>\n</table>\n<p>10 rows × 53 columns</p>\n</div>"
     },
     "metadata": {}
    }
   ]
  },
  {
   "cell_type": "code",
   "source": [
    "df[df['bool_substr']==1]"
   ],
   "metadata": {
    "execution": {
     "iopub.status.busy": "2022-10-09T08:16:42.577401Z",
     "iopub.execute_input": "2022-10-09T08:16:42.577801Z",
     "iopub.status.idle": "2022-10-09T08:16:43.634670Z",
     "shell.execute_reply.started": "2022-10-09T08:16:42.577748Z",
     "shell.execute_reply": "2022-10-09T08:16:43.633646Z"
    },
    "trusted": true,
    "pycharm": {
     "name": "#%%\n"
    }
   },
   "execution_count": 23,
   "outputs": [
    {
     "execution_count": 23,
     "output_type": "execute_result",
     "data": {
      "text/plain": "        Unnamed: 0                      id phone_number  price_vnd  \\\n631141      998968  sodepami_vn_0987672989    987672989    1850000   \n818323      730000  sodepami_vn_0369781981    369781981    3000000   \n559387      396083  sodepami_vn_0765056056    765056056    3000000   \n125770      482048  sodepami_vn_0878222290    878222290    3200000   \n884604      565231  sodepami_vn_0763013139    763013139    2220000   \n...            ...                     ...          ...        ...   \n363519     1042776  sodepami_vn_0784156515    784156515     700000   \n646591      461809  sodepami_vn_0384138373    384138373     650000   \n632732      428438  sodepami_vn_0816526526    816526526    8000000   \n230539      403416  sodepami_vn_0785031031    785031031    3500000   \n490343       73745  sodepami_vn_0776169961    776169961    1350000   \n\n              type  length pos_1 pos_2 pos_3 pos_4  ... 4_combo_57  \\\n631141  sodepami_v       9     9     8     7     6  ...          0   \n818323  sodepami_v       9     3     6     9     7  ...          0   \n559387  sodepami_v       9     7     6     5     0  ...          0   \n125770  sodepami_v       9     8     7     8     2  ...          0   \n884604  sodepami_v       9     7     6     3     0  ...          0   \n...            ...     ...   ...   ...   ...   ...  ...        ...   \n363519  sodepami_v       9     7     8     4     1  ...          0   \n646591  sodepami_v       9     3     8     4     1  ...          0   \n632732  sodepami_v       9     8     1     6     5  ...          0   \n230539  sodepami_v       9     7     8     5     0  ...          0   \n490343  sodepami_v       9     7     7     6     1  ...          0   \n\n       4_combo_689 nam_sinh nam_sinh_bool palindrome_length  palindrome  \\\n631141           0        0             0                 0               \n818323           0     1981             1                 0               \n559387           0        0             0                 5       65056   \n125770           0        0             0                 4        2222   \n884604           0        0             0                 0               \n...            ...      ...           ...               ...         ...   \n363519           0        0             0                 5       15651   \n646591           0        0             0                 0               \n632732           0        0             0                 0               \n230539           0        0             0                 0               \n490343           0        0             0                 6      169961   \n\n        bool_palindrome  list_same  list_same_substr_length  bool_substr  \n631141                0         98                        2            1  \n818323                0         81                        2            1  \n559387                1        056                        3            1  \n125770                1         22                        2            1  \n884604                0         13                        2            1  \n...                 ...        ...                      ...          ...  \n363519                1         15                        2            1  \n646591                0         38                        2            1  \n632732                0        652                        3            1  \n230539                0        031                        3            1  \n490343                1         61                        2            1  \n\n[165834 rows x 53 columns]",
      "text/html": "<div>\n<style scoped>\n    .dataframe tbody tr th:only-of-type {\n        vertical-align: middle;\n    }\n\n    .dataframe tbody tr th {\n        vertical-align: top;\n    }\n\n    .dataframe thead th {\n        text-align: right;\n    }\n</style>\n<table border=\"1\" class=\"dataframe\">\n  <thead>\n    <tr style=\"text-align: right;\">\n      <th></th>\n      <th>Unnamed: 0</th>\n      <th>id</th>\n      <th>phone_number</th>\n      <th>price_vnd</th>\n      <th>type</th>\n      <th>length</th>\n      <th>pos_1</th>\n      <th>pos_2</th>\n      <th>pos_3</th>\n      <th>pos_4</th>\n      <th>...</th>\n      <th>4_combo_57</th>\n      <th>4_combo_689</th>\n      <th>nam_sinh</th>\n      <th>nam_sinh_bool</th>\n      <th>palindrome_length</th>\n      <th>palindrome</th>\n      <th>bool_palindrome</th>\n      <th>list_same</th>\n      <th>list_same_substr_length</th>\n      <th>bool_substr</th>\n    </tr>\n  </thead>\n  <tbody>\n    <tr>\n      <th>631141</th>\n      <td>998968</td>\n      <td>sodepami_vn_0987672989</td>\n      <td>987672989</td>\n      <td>1850000</td>\n      <td>sodepami_v</td>\n      <td>9</td>\n      <td>9</td>\n      <td>8</td>\n      <td>7</td>\n      <td>6</td>\n      <td>...</td>\n      <td>0</td>\n      <td>0</td>\n      <td>0</td>\n      <td>0</td>\n      <td>0</td>\n      <td></td>\n      <td>0</td>\n      <td>98</td>\n      <td>2</td>\n      <td>1</td>\n    </tr>\n    <tr>\n      <th>818323</th>\n      <td>730000</td>\n      <td>sodepami_vn_0369781981</td>\n      <td>369781981</td>\n      <td>3000000</td>\n      <td>sodepami_v</td>\n      <td>9</td>\n      <td>3</td>\n      <td>6</td>\n      <td>9</td>\n      <td>7</td>\n      <td>...</td>\n      <td>0</td>\n      <td>0</td>\n      <td>1981</td>\n      <td>1</td>\n      <td>0</td>\n      <td></td>\n      <td>0</td>\n      <td>81</td>\n      <td>2</td>\n      <td>1</td>\n    </tr>\n    <tr>\n      <th>559387</th>\n      <td>396083</td>\n      <td>sodepami_vn_0765056056</td>\n      <td>765056056</td>\n      <td>3000000</td>\n      <td>sodepami_v</td>\n      <td>9</td>\n      <td>7</td>\n      <td>6</td>\n      <td>5</td>\n      <td>0</td>\n      <td>...</td>\n      <td>0</td>\n      <td>0</td>\n      <td>0</td>\n      <td>0</td>\n      <td>5</td>\n      <td>65056</td>\n      <td>1</td>\n      <td>056</td>\n      <td>3</td>\n      <td>1</td>\n    </tr>\n    <tr>\n      <th>125770</th>\n      <td>482048</td>\n      <td>sodepami_vn_0878222290</td>\n      <td>878222290</td>\n      <td>3200000</td>\n      <td>sodepami_v</td>\n      <td>9</td>\n      <td>8</td>\n      <td>7</td>\n      <td>8</td>\n      <td>2</td>\n      <td>...</td>\n      <td>0</td>\n      <td>0</td>\n      <td>0</td>\n      <td>0</td>\n      <td>4</td>\n      <td>2222</td>\n      <td>1</td>\n      <td>22</td>\n      <td>2</td>\n      <td>1</td>\n    </tr>\n    <tr>\n      <th>884604</th>\n      <td>565231</td>\n      <td>sodepami_vn_0763013139</td>\n      <td>763013139</td>\n      <td>2220000</td>\n      <td>sodepami_v</td>\n      <td>9</td>\n      <td>7</td>\n      <td>6</td>\n      <td>3</td>\n      <td>0</td>\n      <td>...</td>\n      <td>0</td>\n      <td>0</td>\n      <td>0</td>\n      <td>0</td>\n      <td>0</td>\n      <td></td>\n      <td>0</td>\n      <td>13</td>\n      <td>2</td>\n      <td>1</td>\n    </tr>\n    <tr>\n      <th>...</th>\n      <td>...</td>\n      <td>...</td>\n      <td>...</td>\n      <td>...</td>\n      <td>...</td>\n      <td>...</td>\n      <td>...</td>\n      <td>...</td>\n      <td>...</td>\n      <td>...</td>\n      <td>...</td>\n      <td>...</td>\n      <td>...</td>\n      <td>...</td>\n      <td>...</td>\n      <td>...</td>\n      <td>...</td>\n      <td>...</td>\n      <td>...</td>\n      <td>...</td>\n      <td>...</td>\n    </tr>\n    <tr>\n      <th>363519</th>\n      <td>1042776</td>\n      <td>sodepami_vn_0784156515</td>\n      <td>784156515</td>\n      <td>700000</td>\n      <td>sodepami_v</td>\n      <td>9</td>\n      <td>7</td>\n      <td>8</td>\n      <td>4</td>\n      <td>1</td>\n      <td>...</td>\n      <td>0</td>\n      <td>0</td>\n      <td>0</td>\n      <td>0</td>\n      <td>5</td>\n      <td>15651</td>\n      <td>1</td>\n      <td>15</td>\n      <td>2</td>\n      <td>1</td>\n    </tr>\n    <tr>\n      <th>646591</th>\n      <td>461809</td>\n      <td>sodepami_vn_0384138373</td>\n      <td>384138373</td>\n      <td>650000</td>\n      <td>sodepami_v</td>\n      <td>9</td>\n      <td>3</td>\n      <td>8</td>\n      <td>4</td>\n      <td>1</td>\n      <td>...</td>\n      <td>0</td>\n      <td>0</td>\n      <td>0</td>\n      <td>0</td>\n      <td>0</td>\n      <td></td>\n      <td>0</td>\n      <td>38</td>\n      <td>2</td>\n      <td>1</td>\n    </tr>\n    <tr>\n      <th>632732</th>\n      <td>428438</td>\n      <td>sodepami_vn_0816526526</td>\n      <td>816526526</td>\n      <td>8000000</td>\n      <td>sodepami_v</td>\n      <td>9</td>\n      <td>8</td>\n      <td>1</td>\n      <td>6</td>\n      <td>5</td>\n      <td>...</td>\n      <td>0</td>\n      <td>0</td>\n      <td>0</td>\n      <td>0</td>\n      <td>0</td>\n      <td></td>\n      <td>0</td>\n      <td>652</td>\n      <td>3</td>\n      <td>1</td>\n    </tr>\n    <tr>\n      <th>230539</th>\n      <td>403416</td>\n      <td>sodepami_vn_0785031031</td>\n      <td>785031031</td>\n      <td>3500000</td>\n      <td>sodepami_v</td>\n      <td>9</td>\n      <td>7</td>\n      <td>8</td>\n      <td>5</td>\n      <td>0</td>\n      <td>...</td>\n      <td>0</td>\n      <td>0</td>\n      <td>0</td>\n      <td>0</td>\n      <td>0</td>\n      <td></td>\n      <td>0</td>\n      <td>031</td>\n      <td>3</td>\n      <td>1</td>\n    </tr>\n    <tr>\n      <th>490343</th>\n      <td>73745</td>\n      <td>sodepami_vn_0776169961</td>\n      <td>776169961</td>\n      <td>1350000</td>\n      <td>sodepami_v</td>\n      <td>9</td>\n      <td>7</td>\n      <td>7</td>\n      <td>6</td>\n      <td>1</td>\n      <td>...</td>\n      <td>0</td>\n      <td>0</td>\n      <td>0</td>\n      <td>0</td>\n      <td>6</td>\n      <td>169961</td>\n      <td>1</td>\n      <td>61</td>\n      <td>2</td>\n      <td>1</td>\n    </tr>\n  </tbody>\n</table>\n<p>165834 rows × 53 columns</p>\n</div>"
     },
     "metadata": {}
    }
   ]
  },
  {
   "cell_type": "code",
   "source": [
    "# def combo_features(df):\n",
    "#     list_number = df['phone_number'].tolist()\n",
    "    \n",
    "#     list_2_last = list() #extract 2 last digit\n",
    "    \n",
    "#     list_3_last = list() #extract 3 last digit\n",
    "    \n",
    "#     list_4_last = list() #extract 4 last digit\n",
    "    \n",
    "#     list_5_last = list() #extract 5 last digit\n",
    "    \n",
    "#     list_combo_3_identical = list() # the phone number contain 111, 222, ....999 or not\n",
    "    \n",
    "#     list_combo_4_identical = list() # the phone number contain 1111, 2222, ... or not\n",
    "    \n",
    "#     list_combo_5_identical = list() # the phone number contain 11111, 22222, ... or not\n",
    "    \n",
    "#     list_combo_6_identical = list() # the phone number contain 11111, 22222, ... or not\n",
    "    \n",
    "    \n",
    "    \n",
    "#     for i in range(len(list_number)):\n",
    "#         str_2_last = list_number[i][-2:]\n",
    "#         list_2_last.append(str_2_last)\n",
    "    \n",
    "#         str_3_last = list_number[i][-3:]\n",
    "#         list_3_last.append(str_3_last)\n",
    "    \n",
    "#         str_4_last = list_number[i][-4:]\n",
    "#         list_4_last.append(str_4_last)\n",
    "    \n",
    "#         str_5_last = list_number[i][-5:]\n",
    "#         list_5_last.append(str_5_last)\n",
    "    \n",
    "    \n",
    "#         list_combo_3 = ['000','111','222','333','444','555','666','777','888','999']\n",
    "    \n",
    "#         tmp = \"\"\n",
    "#         for j in range(len(list_combo_3)):\n",
    "#             if list_combo_3[j] in list_number[i]:\n",
    "#                 tmp += list_combo_3[j]\n",
    "    \n",
    "#         list_combo_3_identical.append(tmp)\n",
    "    \n",
    "#         list_combo_4 = ['0000','1111','2222','3333','4444','5555','6666','7777','8888','9999']\n",
    "#         tmp_4 = \"\"\n",
    "    \n",
    "#         for j in range(len(list_combo_4)):\n",
    "#           if list_combo_4[j] in list_number[i]:\n",
    "#                 tmp_4 += list_combo_4[j]\n",
    "        \n",
    "#         list_combo_4_identical.append(tmp_4)\n",
    "    \n",
    "#         list_combo_5 = ['00000','11111','22222','33333','44444','55555','66666','77777','88888','99999']\n",
    "#         tmp_5 = \"\"\n",
    "    \n",
    "#         for j in range(len(list_combo_5)):\n",
    "#             if list_combo_5[j] in list_number[i]:\n",
    "#                 tmp_5 += list_combo_5[j]\n",
    "        \n",
    "#         list_combo_5_identical.append(tmp_5)\n",
    "    \n",
    "    \n",
    "#         list_combo_6 = ['000000','111111','222222','333333','444444','555555','666666','777777','888888','999999']\n",
    "#         tmp_6 = \"\"\n",
    "    \n",
    "#         for j in range(len(list_combo_6)):\n",
    "#             if list_combo_6[j] in list_number[i]:\n",
    "#                 tmp_6 += list_combo_6[j]\n",
    "        \n",
    "#         list_combo_6_identical.append(tmp_6)\n",
    "    \n",
    "#     df['2_last'] = list_2_last\n",
    "#     df['3_last'] = list_3_last\n",
    "#     df['4_last'] = list_4_last\n",
    "#     df['5_last'] = list_5_last\n",
    "#     df['3_combo'] = list_combo_3_identical\n",
    "#     df['4_combo'] = list_combo_4_identical\n",
    "#     df['5_combo'] = list_combo_5_identical\n",
    "#     df['6_combo'] = list_combo_6_identical\n",
    "    \n",
    "#     return df"
   ],
   "metadata": {
    "papermill": {
     "duration": 0.031612,
     "end_time": "2022-09-30T11:22:09.482579",
     "exception": false,
     "start_time": "2022-09-30T11:22:09.450967",
     "status": "completed"
    },
    "tags": [],
    "execution": {
     "iopub.status.busy": "2022-10-09T08:16:43.636493Z",
     "iopub.execute_input": "2022-10-09T08:16:43.636903Z",
     "iopub.status.idle": "2022-10-09T08:16:43.643828Z",
     "shell.execute_reply.started": "2022-10-09T08:16:43.636853Z",
     "shell.execute_reply": "2022-10-09T08:16:43.642742Z"
    },
    "trusted": true,
    "pycharm": {
     "name": "#%%\n"
    }
   },
   "execution_count": 24,
   "outputs": []
  },
  {
   "cell_type": "code",
   "source": [
    "# df = combo_features(df)\n",
    "# df.head()"
   ],
   "metadata": {
    "papermill": {
     "duration": 1.800762,
     "end_time": "2022-09-30T11:22:11.293117",
     "exception": false,
     "start_time": "2022-09-30T11:22:09.492355",
     "status": "completed"
    },
    "tags": [],
    "execution": {
     "iopub.status.busy": "2022-10-09T08:16:43.645345Z",
     "iopub.execute_input": "2022-10-09T08:16:43.645753Z",
     "iopub.status.idle": "2022-10-09T08:16:43.655085Z",
     "shell.execute_reply.started": "2022-10-09T08:16:43.645718Z",
     "shell.execute_reply": "2022-10-09T08:16:43.654135Z"
    },
    "trusted": true,
    "pycharm": {
     "name": "#%%\n"
    }
   },
   "execution_count": 25,
   "outputs": []
  },
  {
   "cell_type": "code",
   "source": [
    "def count_combo_features(df):\n",
    "    list_number = df['phone_number'].to_list()\n",
    "    list_combo_3_count = list() # the phone number contain 111, 222, ....999 or not\n",
    "    \n",
    "    list_combo_4_count = list() # the phone number contain 1111, 2222, ... or not\n",
    "    \n",
    "    list_combo_5_count = list() # the phone number contain 11111, 22222, ... or not\n",
    "    \n",
    "    list_combo_6_count = list() # the phone number contain 11111, 22222, ... or not\n",
    "    \n",
    "    \n",
    "    \n",
    "    for i in range(len(list_number)):\n",
    "    \n",
    "        list_combo_3 = {'000','111','222','333','444','555','666','777','888','999'}\n",
    "        combo_3_score = 0\n",
    "    \n",
    "        for j in list_combo_3:\n",
    "            if j in list_number[i]:\n",
    "                combo_3_score = combo_3_score + 1\n",
    "    \n",
    "        list_combo_3_count.append(combo_3_score)\n",
    "    \n",
    "        list_combo_4 = {'0000','1111','2222','3333','4444','5555','6666','7777','8888','9999'}\n",
    "        combo_4_score = 0\n",
    "    \n",
    "        for j in list_combo_4:\n",
    "            if j in list_number[i]:\n",
    "                combo_4_score = combo_4_score + 1\n",
    "        \n",
    "        list_combo_4_count.append(combo_4_score)\n",
    "    \n",
    "        list_combo_5 = {'00000','11111','22222','33333','44444','55555','66666','77777','88888','99999'}\n",
    "        combo_5_score = 0\n",
    "    \n",
    "        for j in list_combo_5:\n",
    "            if j in list_number[i]:\n",
    "                combo_5_score = combo_5_score + 1\n",
    "        \n",
    "        list_combo_5_count.append(combo_5_score)\n",
    "    \n",
    "    \n",
    "        list_combo_6 = {'000000','111111','222222','333333','444444','555555','666666','777777','888888','999999'}\n",
    "        combo_6_score = 0\n",
    "    \n",
    "        for j in list_combo_6:\n",
    "            if j in list_number[i]:\n",
    "                combo_6_score = combo_6_score + 1\n",
    "        \n",
    "        list_combo_6_count.append(combo_6_score)\n",
    "        \n",
    "    df['3_combo_count'] = list_combo_3_count\n",
    "    df['4_combo_count'] = list_combo_4_count\n",
    "    df['5_combo_count'] = list_combo_5_count\n",
    "    df['6_combo_count'] = list_combo_6_count\n",
    "    \n",
    "    return df"
   ],
   "metadata": {
    "papermill": {
     "duration": 0.028376,
     "end_time": "2022-09-30T11:22:11.331588",
     "exception": false,
     "start_time": "2022-09-30T11:22:11.303212",
     "status": "completed"
    },
    "tags": [],
    "execution": {
     "iopub.status.busy": "2022-10-09T08:16:43.656711Z",
     "iopub.execute_input": "2022-10-09T08:16:43.657333Z",
     "iopub.status.idle": "2022-10-09T08:16:43.670216Z",
     "shell.execute_reply.started": "2022-10-09T08:16:43.657278Z",
     "shell.execute_reply": "2022-10-09T08:16:43.669130Z"
    },
    "trusted": true,
    "pycharm": {
     "name": "#%%\n"
    }
   },
   "execution_count": 26,
   "outputs": []
  },
  {
   "cell_type": "code",
   "source": [
    "df = count_combo_features(df)\n",
    "df.head()"
   ],
   "metadata": {
    "papermill": {
     "duration": 1.320611,
     "end_time": "2022-09-30T11:22:12.662604",
     "exception": false,
     "start_time": "2022-09-30T11:22:11.341993",
     "status": "completed"
    },
    "tags": [],
    "execution": {
     "iopub.status.busy": "2022-10-09T08:16:43.671793Z",
     "iopub.execute_input": "2022-10-09T08:16:43.672329Z",
     "iopub.status.idle": "2022-10-09T08:16:46.913266Z",
     "shell.execute_reply.started": "2022-10-09T08:16:43.672289Z",
     "shell.execute_reply": "2022-10-09T08:16:46.912147Z"
    },
    "trusted": true,
    "pycharm": {
     "name": "#%%\n"
    }
   },
   "execution_count": 27,
   "outputs": [
    {
     "execution_count": 27,
     "output_type": "execute_result",
     "data": {
      "text/plain": "        Unnamed: 0                      id phone_number  price_vnd  \\\n818427      559367  sodepami_vn_0335984554    335984554     699000   \n196956      750893  sodepami_vn_0325036668    325036668    5000000   \n631141      998968  sodepami_vn_0987672989    987672989    1850000   \n304912      511809  sodepami_vn_0785863355    785863355     850000   \n751212      439052  sodepami_vn_0984313012    984313012    1550000   \n\n              type  length pos_1 pos_2 pos_3 pos_4  ... palindrome_length  \\\n818427  sodepami_v       9     3     3     5     9  ...                 4   \n196956  sodepami_v       9     3     2     5     0  ...                 0   \n631141  sodepami_v       9     9     8     7     6  ...                 0   \n304912  sodepami_v       9     7     8     5     8  ...                 0   \n751212  sodepami_v       9     9     8     4     3  ...                 0   \n\n       palindrome bool_palindrome list_same list_same_substr_length  \\\n818427       4554               1                                 0   \n196956                          0                                 0   \n631141                          0        98                       2   \n304912                          0                                 0   \n751212                          0                                 0   \n\n        bool_substr  3_combo_count  4_combo_count  5_combo_count  \\\n818427            0              0              0              0   \n196956            0              1              0              0   \n631141            1              0              0              0   \n304912            0              0              0              0   \n751212            0              0              0              0   \n\n        6_combo_count  \n818427              0  \n196956              0  \n631141              0  \n304912              0  \n751212              0  \n\n[5 rows x 57 columns]",
      "text/html": "<div>\n<style scoped>\n    .dataframe tbody tr th:only-of-type {\n        vertical-align: middle;\n    }\n\n    .dataframe tbody tr th {\n        vertical-align: top;\n    }\n\n    .dataframe thead th {\n        text-align: right;\n    }\n</style>\n<table border=\"1\" class=\"dataframe\">\n  <thead>\n    <tr style=\"text-align: right;\">\n      <th></th>\n      <th>Unnamed: 0</th>\n      <th>id</th>\n      <th>phone_number</th>\n      <th>price_vnd</th>\n      <th>type</th>\n      <th>length</th>\n      <th>pos_1</th>\n      <th>pos_2</th>\n      <th>pos_3</th>\n      <th>pos_4</th>\n      <th>...</th>\n      <th>palindrome_length</th>\n      <th>palindrome</th>\n      <th>bool_palindrome</th>\n      <th>list_same</th>\n      <th>list_same_substr_length</th>\n      <th>bool_substr</th>\n      <th>3_combo_count</th>\n      <th>4_combo_count</th>\n      <th>5_combo_count</th>\n      <th>6_combo_count</th>\n    </tr>\n  </thead>\n  <tbody>\n    <tr>\n      <th>818427</th>\n      <td>559367</td>\n      <td>sodepami_vn_0335984554</td>\n      <td>335984554</td>\n      <td>699000</td>\n      <td>sodepami_v</td>\n      <td>9</td>\n      <td>3</td>\n      <td>3</td>\n      <td>5</td>\n      <td>9</td>\n      <td>...</td>\n      <td>4</td>\n      <td>4554</td>\n      <td>1</td>\n      <td></td>\n      <td>0</td>\n      <td>0</td>\n      <td>0</td>\n      <td>0</td>\n      <td>0</td>\n      <td>0</td>\n    </tr>\n    <tr>\n      <th>196956</th>\n      <td>750893</td>\n      <td>sodepami_vn_0325036668</td>\n      <td>325036668</td>\n      <td>5000000</td>\n      <td>sodepami_v</td>\n      <td>9</td>\n      <td>3</td>\n      <td>2</td>\n      <td>5</td>\n      <td>0</td>\n      <td>...</td>\n      <td>0</td>\n      <td></td>\n      <td>0</td>\n      <td></td>\n      <td>0</td>\n      <td>0</td>\n      <td>1</td>\n      <td>0</td>\n      <td>0</td>\n      <td>0</td>\n    </tr>\n    <tr>\n      <th>631141</th>\n      <td>998968</td>\n      <td>sodepami_vn_0987672989</td>\n      <td>987672989</td>\n      <td>1850000</td>\n      <td>sodepami_v</td>\n      <td>9</td>\n      <td>9</td>\n      <td>8</td>\n      <td>7</td>\n      <td>6</td>\n      <td>...</td>\n      <td>0</td>\n      <td></td>\n      <td>0</td>\n      <td>98</td>\n      <td>2</td>\n      <td>1</td>\n      <td>0</td>\n      <td>0</td>\n      <td>0</td>\n      <td>0</td>\n    </tr>\n    <tr>\n      <th>304912</th>\n      <td>511809</td>\n      <td>sodepami_vn_0785863355</td>\n      <td>785863355</td>\n      <td>850000</td>\n      <td>sodepami_v</td>\n      <td>9</td>\n      <td>7</td>\n      <td>8</td>\n      <td>5</td>\n      <td>8</td>\n      <td>...</td>\n      <td>0</td>\n      <td></td>\n      <td>0</td>\n      <td></td>\n      <td>0</td>\n      <td>0</td>\n      <td>0</td>\n      <td>0</td>\n      <td>0</td>\n      <td>0</td>\n    </tr>\n    <tr>\n      <th>751212</th>\n      <td>439052</td>\n      <td>sodepami_vn_0984313012</td>\n      <td>984313012</td>\n      <td>1550000</td>\n      <td>sodepami_v</td>\n      <td>9</td>\n      <td>9</td>\n      <td>8</td>\n      <td>4</td>\n      <td>3</td>\n      <td>...</td>\n      <td>0</td>\n      <td></td>\n      <td>0</td>\n      <td></td>\n      <td>0</td>\n      <td>0</td>\n      <td>0</td>\n      <td>0</td>\n      <td>0</td>\n      <td>0</td>\n    </tr>\n  </tbody>\n</table>\n<p>5 rows × 57 columns</p>\n</div>"
     },
     "metadata": {}
    }
   ]
  },
  {
   "cell_type": "code",
   "source": [
    "def features_2_inden_and_2_lucky_last(df):\n",
    "    list_number = df['phone_number'].to_list()\n",
    "    \n",
    "    list_2_iden = list()\n",
    "    \n",
    "    list_2_combo = ['00','11','22','33','44','55','66','77','88','99']\n",
    "    for i in list_number:\n",
    "        tmp = \"\"\n",
    "        for j in list_2_combo:\n",
    "            if (j in i):\n",
    "                tmp += j\n",
    "            else:\n",
    "                tmp += \"\"\n",
    "                \n",
    "        list_2_iden.append(tmp)\n",
    "    \n",
    "    list_2_lucky_last = list()\n",
    "    \n",
    "    list_lucky = ['68','86','78','79','39','38','83']\n",
    "    for i in list_number:\n",
    "      tmp = \"\"\n",
    "      for j in list_lucky:\n",
    "        if (j in i):\n",
    "            tmp += j\n",
    "        else:\n",
    "            tmp += \"\"\n",
    "    \n",
    "      list_2_lucky_last.append(tmp)\n",
    "    \n",
    "    list_bool_2_lucky = []\n",
    "    for i in list_2_lucky_last:\n",
    "        if i != \"\":\n",
    "            list_bool_2_lucky.append(1)\n",
    "        else:\n",
    "            list_bool_2_lucky.append(0)\n",
    "    \n",
    "    list_bool_2_iden = []\n",
    "    for i in list_2_iden:\n",
    "        if i != \"\":\n",
    "            list_bool_2_iden.append(1)\n",
    "        else:\n",
    "            list_bool_2_iden.append(0)\n",
    "    \n",
    "    df['2_lucky_bool'] = list_bool_2_lucky\n",
    "    df['2_iden_bool'] = list_bool_2_iden\n",
    "    df['2_iden'] = list_2_iden\n",
    "    df['2_lucky'] = list_2_lucky_last\n",
    "    return df"
   ],
   "metadata": {
    "papermill": {
     "duration": 0.024251,
     "end_time": "2022-09-30T11:22:12.697777",
     "exception": false,
     "start_time": "2022-09-30T11:22:12.673526",
     "status": "completed"
    },
    "tags": [],
    "execution": {
     "iopub.status.busy": "2022-10-09T08:16:46.921132Z",
     "iopub.execute_input": "2022-10-09T08:16:46.921436Z",
     "iopub.status.idle": "2022-10-09T08:16:46.932007Z",
     "shell.execute_reply.started": "2022-10-09T08:16:46.921409Z",
     "shell.execute_reply": "2022-10-09T08:16:46.930914Z"
    },
    "trusted": true,
    "pycharm": {
     "name": "#%%\n"
    }
   },
   "execution_count": 28,
   "outputs": []
  },
  {
   "cell_type": "code",
   "source": [],
   "metadata": {
    "pycharm": {
     "name": "#%%\n"
    }
   },
   "execution_count": null,
   "outputs": []
  },
  {
   "cell_type": "code",
   "source": [
    "df = features_2_inden_and_2_lucky_last(df)\n",
    "df.head(8)"
   ],
   "metadata": {
    "papermill": {
     "duration": 0.470753,
     "end_time": "2022-09-30T11:22:13.178587",
     "exception": false,
     "start_time": "2022-09-30T11:22:12.707834",
     "status": "completed"
    },
    "tags": [],
    "execution": {
     "iopub.status.busy": "2022-10-09T08:16:46.933804Z",
     "iopub.execute_input": "2022-10-09T08:16:46.934221Z",
     "iopub.status.idle": "2022-10-09T08:16:48.444620Z",
     "shell.execute_reply.started": "2022-10-09T08:16:46.934184Z",
     "shell.execute_reply": "2022-10-09T08:16:48.443616Z"
    },
    "trusted": true,
    "pycharm": {
     "name": "#%%\n"
    }
   },
   "execution_count": 29,
   "outputs": [
    {
     "execution_count": 29,
     "output_type": "execute_result",
     "data": {
      "text/plain": "        Unnamed: 0                      id phone_number  price_vnd  \\\n818427      559367  sodepami_vn_0335984554    335984554     699000   \n196956      750893  sodepami_vn_0325036668    325036668    5000000   \n631141      998968  sodepami_vn_0987672989    987672989    1850000   \n304912      511809  sodepami_vn_0785863355    785863355     850000   \n751212      439052  sodepami_vn_0984313012    984313012    1550000   \n561075      470974  sodepami_vn_0772861666    772861666    4000000   \n342615     1027522  sodepami_vn_0522015968    522015968     550000   \n394965      847436  sodepami_vn_0342868909    342868909     800000   \n\n              type  length pos_1 pos_2 pos_3 pos_4  ...  \\\n818427  sodepami_v       9     3     3     5     9  ...   \n196956  sodepami_v       9     3     2     5     0  ...   \n631141  sodepami_v       9     9     8     7     6  ...   \n304912  sodepami_v       9     7     8     5     8  ...   \n751212  sodepami_v       9     9     8     4     3  ...   \n561075  sodepami_v       9     7     7     2     8  ...   \n342615  sodepami_v       9     5     2     2     0  ...   \n394965  sodepami_v       9     3     4     2     8  ...   \n\n       list_same_substr_length bool_substr 3_combo_count 4_combo_count  \\\n818427                       0           0             0             0   \n196956                       0           0             1             0   \n631141                       2           1             0             0   \n304912                       0           0             0             0   \n751212                       0           0             0             0   \n561075                       0           0             1             0   \n342615                       0           0             0             0   \n394965                       0           0             0             0   \n\n       5_combo_count  6_combo_count  2_lucky_bool  2_iden_bool  2_iden  \\\n818427             0              0             0            1    3355   \n196956             0              0             1            1      66   \n631141             0              0             0            0           \n304912             0              0             1            1    3355   \n751212             0              0             0            0           \n561075             0              0             1            1    6677   \n342615             0              0             1            1      22   \n394965             0              0             1            0           \n\n        2_lucky  \n818427           \n196956       68  \n631141           \n304912     8678  \n751212           \n561075       86  \n342615       68  \n394965     6886  \n\n[8 rows x 61 columns]",
      "text/html": "<div>\n<style scoped>\n    .dataframe tbody tr th:only-of-type {\n        vertical-align: middle;\n    }\n\n    .dataframe tbody tr th {\n        vertical-align: top;\n    }\n\n    .dataframe thead th {\n        text-align: right;\n    }\n</style>\n<table border=\"1\" class=\"dataframe\">\n  <thead>\n    <tr style=\"text-align: right;\">\n      <th></th>\n      <th>Unnamed: 0</th>\n      <th>id</th>\n      <th>phone_number</th>\n      <th>price_vnd</th>\n      <th>type</th>\n      <th>length</th>\n      <th>pos_1</th>\n      <th>pos_2</th>\n      <th>pos_3</th>\n      <th>pos_4</th>\n      <th>...</th>\n      <th>list_same_substr_length</th>\n      <th>bool_substr</th>\n      <th>3_combo_count</th>\n      <th>4_combo_count</th>\n      <th>5_combo_count</th>\n      <th>6_combo_count</th>\n      <th>2_lucky_bool</th>\n      <th>2_iden_bool</th>\n      <th>2_iden</th>\n      <th>2_lucky</th>\n    </tr>\n  </thead>\n  <tbody>\n    <tr>\n      <th>818427</th>\n      <td>559367</td>\n      <td>sodepami_vn_0335984554</td>\n      <td>335984554</td>\n      <td>699000</td>\n      <td>sodepami_v</td>\n      <td>9</td>\n      <td>3</td>\n      <td>3</td>\n      <td>5</td>\n      <td>9</td>\n      <td>...</td>\n      <td>0</td>\n      <td>0</td>\n      <td>0</td>\n      <td>0</td>\n      <td>0</td>\n      <td>0</td>\n      <td>0</td>\n      <td>1</td>\n      <td>3355</td>\n      <td></td>\n    </tr>\n    <tr>\n      <th>196956</th>\n      <td>750893</td>\n      <td>sodepami_vn_0325036668</td>\n      <td>325036668</td>\n      <td>5000000</td>\n      <td>sodepami_v</td>\n      <td>9</td>\n      <td>3</td>\n      <td>2</td>\n      <td>5</td>\n      <td>0</td>\n      <td>...</td>\n      <td>0</td>\n      <td>0</td>\n      <td>1</td>\n      <td>0</td>\n      <td>0</td>\n      <td>0</td>\n      <td>1</td>\n      <td>1</td>\n      <td>66</td>\n      <td>68</td>\n    </tr>\n    <tr>\n      <th>631141</th>\n      <td>998968</td>\n      <td>sodepami_vn_0987672989</td>\n      <td>987672989</td>\n      <td>1850000</td>\n      <td>sodepami_v</td>\n      <td>9</td>\n      <td>9</td>\n      <td>8</td>\n      <td>7</td>\n      <td>6</td>\n      <td>...</td>\n      <td>2</td>\n      <td>1</td>\n      <td>0</td>\n      <td>0</td>\n      <td>0</td>\n      <td>0</td>\n      <td>0</td>\n      <td>0</td>\n      <td></td>\n      <td></td>\n    </tr>\n    <tr>\n      <th>304912</th>\n      <td>511809</td>\n      <td>sodepami_vn_0785863355</td>\n      <td>785863355</td>\n      <td>850000</td>\n      <td>sodepami_v</td>\n      <td>9</td>\n      <td>7</td>\n      <td>8</td>\n      <td>5</td>\n      <td>8</td>\n      <td>...</td>\n      <td>0</td>\n      <td>0</td>\n      <td>0</td>\n      <td>0</td>\n      <td>0</td>\n      <td>0</td>\n      <td>1</td>\n      <td>1</td>\n      <td>3355</td>\n      <td>8678</td>\n    </tr>\n    <tr>\n      <th>751212</th>\n      <td>439052</td>\n      <td>sodepami_vn_0984313012</td>\n      <td>984313012</td>\n      <td>1550000</td>\n      <td>sodepami_v</td>\n      <td>9</td>\n      <td>9</td>\n      <td>8</td>\n      <td>4</td>\n      <td>3</td>\n      <td>...</td>\n      <td>0</td>\n      <td>0</td>\n      <td>0</td>\n      <td>0</td>\n      <td>0</td>\n      <td>0</td>\n      <td>0</td>\n      <td>0</td>\n      <td></td>\n      <td></td>\n    </tr>\n    <tr>\n      <th>561075</th>\n      <td>470974</td>\n      <td>sodepami_vn_0772861666</td>\n      <td>772861666</td>\n      <td>4000000</td>\n      <td>sodepami_v</td>\n      <td>9</td>\n      <td>7</td>\n      <td>7</td>\n      <td>2</td>\n      <td>8</td>\n      <td>...</td>\n      <td>0</td>\n      <td>0</td>\n      <td>1</td>\n      <td>0</td>\n      <td>0</td>\n      <td>0</td>\n      <td>1</td>\n      <td>1</td>\n      <td>6677</td>\n      <td>86</td>\n    </tr>\n    <tr>\n      <th>342615</th>\n      <td>1027522</td>\n      <td>sodepami_vn_0522015968</td>\n      <td>522015968</td>\n      <td>550000</td>\n      <td>sodepami_v</td>\n      <td>9</td>\n      <td>5</td>\n      <td>2</td>\n      <td>2</td>\n      <td>0</td>\n      <td>...</td>\n      <td>0</td>\n      <td>0</td>\n      <td>0</td>\n      <td>0</td>\n      <td>0</td>\n      <td>0</td>\n      <td>1</td>\n      <td>1</td>\n      <td>22</td>\n      <td>68</td>\n    </tr>\n    <tr>\n      <th>394965</th>\n      <td>847436</td>\n      <td>sodepami_vn_0342868909</td>\n      <td>342868909</td>\n      <td>800000</td>\n      <td>sodepami_v</td>\n      <td>9</td>\n      <td>3</td>\n      <td>4</td>\n      <td>2</td>\n      <td>8</td>\n      <td>...</td>\n      <td>0</td>\n      <td>0</td>\n      <td>0</td>\n      <td>0</td>\n      <td>0</td>\n      <td>0</td>\n      <td>1</td>\n      <td>0</td>\n      <td></td>\n      <td>6886</td>\n    </tr>\n  </tbody>\n</table>\n<p>8 rows × 61 columns</p>\n</div>"
     },
     "metadata": {}
    }
   ]
  },
  {
   "cell_type": "code",
   "source": [
    "df[df['2_iden_bool']==1]"
   ],
   "metadata": {
    "execution": {
     "iopub.status.busy": "2022-10-09T08:16:48.446037Z",
     "iopub.execute_input": "2022-10-09T08:16:48.446972Z",
     "iopub.status.idle": "2022-10-09T08:16:50.395005Z",
     "shell.execute_reply.started": "2022-10-09T08:16:48.446924Z",
     "shell.execute_reply": "2022-10-09T08:16:50.393871Z"
    },
    "trusted": true,
    "pycharm": {
     "name": "#%%\n"
    }
   },
   "execution_count": 30,
   "outputs": [
    {
     "execution_count": 30,
     "output_type": "execute_result",
     "data": {
      "text/plain": "        Unnamed: 0                      id phone_number  price_vnd  \\\n818427      559367  sodepami_vn_0335984554    335984554     699000   \n196956      750893  sodepami_vn_0325036668    325036668    5000000   \n304912      511809  sodepami_vn_0785863355    785863355     850000   \n561075      470974  sodepami_vn_0772861666    772861666    4000000   \n342615     1027522  sodepami_vn_0522015968    522015968     550000   \n...            ...                     ...          ...        ...   \n471157     1061915  sodepami_vn_0567233768    567233768     700000   \n301924      143946  sodepami_vn_0355939779    355939779    3630000   \n430799      382141  sodepami_vn_0794462555    794462555    1100000   \n815988      185727  sodepami_vn_0938592252    938592252    1850000   \n773967      300029  sodepami_vn_0838731881    838731881    1100000   \n\n              type  length pos_1 pos_2 pos_3 pos_4  ...  \\\n818427  sodepami_v       9     3     3     5     9  ...   \n196956  sodepami_v       9     3     2     5     0  ...   \n304912  sodepami_v       9     7     8     5     8  ...   \n561075  sodepami_v       9     7     7     2     8  ...   \n342615  sodepami_v       9     5     2     2     0  ...   \n...            ...     ...   ...   ...   ...   ...  ...   \n471157  sodepami_v       9     5     6     7     2  ...   \n301924  sodepami_v       9     3     5     5     9  ...   \n430799  sodepami_v       9     7     9     4     4  ...   \n815988  sodepami_v       9     9     3     8     5  ...   \n773967  sodepami_v       9     8     3     8     7  ...   \n\n       list_same_substr_length bool_substr 3_combo_count 4_combo_count  \\\n818427                       0           0             0             0   \n196956                       0           0             1             0   \n304912                       0           0             0             0   \n561075                       0           0             1             0   \n342615                       0           0             0             0   \n...                        ...         ...           ...           ...   \n471157                       0           0             0             0   \n301924                       0           0             0             0   \n430799                       0           0             1             0   \n815988                       0           0             0             0   \n773967                       0           0             0             0   \n\n       5_combo_count  6_combo_count  2_lucky_bool  2_iden_bool  2_iden  \\\n818427             0              0             0            1    3355   \n196956             0              0             1            1      66   \n304912             0              0             1            1    3355   \n561075             0              0             1            1    6677   \n342615             0              0             1            1      22   \n...              ...            ...           ...          ...     ...   \n471157             0              0             1            1      33   \n301924             0              0             1            1    5577   \n430799             0              0             1            1    4455   \n815988             0              0             1            1      22   \n773967             0              0             1            1      88   \n\n        2_lucky  \n818427           \n196956       68  \n304912     8678  \n561075       86  \n342615       68  \n...         ...  \n471157       68  \n301924     7939  \n430799       79  \n815988       38  \n773967     3883  \n\n[427998 rows x 61 columns]",
      "text/html": "<div>\n<style scoped>\n    .dataframe tbody tr th:only-of-type {\n        vertical-align: middle;\n    }\n\n    .dataframe tbody tr th {\n        vertical-align: top;\n    }\n\n    .dataframe thead th {\n        text-align: right;\n    }\n</style>\n<table border=\"1\" class=\"dataframe\">\n  <thead>\n    <tr style=\"text-align: right;\">\n      <th></th>\n      <th>Unnamed: 0</th>\n      <th>id</th>\n      <th>phone_number</th>\n      <th>price_vnd</th>\n      <th>type</th>\n      <th>length</th>\n      <th>pos_1</th>\n      <th>pos_2</th>\n      <th>pos_3</th>\n      <th>pos_4</th>\n      <th>...</th>\n      <th>list_same_substr_length</th>\n      <th>bool_substr</th>\n      <th>3_combo_count</th>\n      <th>4_combo_count</th>\n      <th>5_combo_count</th>\n      <th>6_combo_count</th>\n      <th>2_lucky_bool</th>\n      <th>2_iden_bool</th>\n      <th>2_iden</th>\n      <th>2_lucky</th>\n    </tr>\n  </thead>\n  <tbody>\n    <tr>\n      <th>818427</th>\n      <td>559367</td>\n      <td>sodepami_vn_0335984554</td>\n      <td>335984554</td>\n      <td>699000</td>\n      <td>sodepami_v</td>\n      <td>9</td>\n      <td>3</td>\n      <td>3</td>\n      <td>5</td>\n      <td>9</td>\n      <td>...</td>\n      <td>0</td>\n      <td>0</td>\n      <td>0</td>\n      <td>0</td>\n      <td>0</td>\n      <td>0</td>\n      <td>0</td>\n      <td>1</td>\n      <td>3355</td>\n      <td></td>\n    </tr>\n    <tr>\n      <th>196956</th>\n      <td>750893</td>\n      <td>sodepami_vn_0325036668</td>\n      <td>325036668</td>\n      <td>5000000</td>\n      <td>sodepami_v</td>\n      <td>9</td>\n      <td>3</td>\n      <td>2</td>\n      <td>5</td>\n      <td>0</td>\n      <td>...</td>\n      <td>0</td>\n      <td>0</td>\n      <td>1</td>\n      <td>0</td>\n      <td>0</td>\n      <td>0</td>\n      <td>1</td>\n      <td>1</td>\n      <td>66</td>\n      <td>68</td>\n    </tr>\n    <tr>\n      <th>304912</th>\n      <td>511809</td>\n      <td>sodepami_vn_0785863355</td>\n      <td>785863355</td>\n      <td>850000</td>\n      <td>sodepami_v</td>\n      <td>9</td>\n      <td>7</td>\n      <td>8</td>\n      <td>5</td>\n      <td>8</td>\n      <td>...</td>\n      <td>0</td>\n      <td>0</td>\n      <td>0</td>\n      <td>0</td>\n      <td>0</td>\n      <td>0</td>\n      <td>1</td>\n      <td>1</td>\n      <td>3355</td>\n      <td>8678</td>\n    </tr>\n    <tr>\n      <th>561075</th>\n      <td>470974</td>\n      <td>sodepami_vn_0772861666</td>\n      <td>772861666</td>\n      <td>4000000</td>\n      <td>sodepami_v</td>\n      <td>9</td>\n      <td>7</td>\n      <td>7</td>\n      <td>2</td>\n      <td>8</td>\n      <td>...</td>\n      <td>0</td>\n      <td>0</td>\n      <td>1</td>\n      <td>0</td>\n      <td>0</td>\n      <td>0</td>\n      <td>1</td>\n      <td>1</td>\n      <td>6677</td>\n      <td>86</td>\n    </tr>\n    <tr>\n      <th>342615</th>\n      <td>1027522</td>\n      <td>sodepami_vn_0522015968</td>\n      <td>522015968</td>\n      <td>550000</td>\n      <td>sodepami_v</td>\n      <td>9</td>\n      <td>5</td>\n      <td>2</td>\n      <td>2</td>\n      <td>0</td>\n      <td>...</td>\n      <td>0</td>\n      <td>0</td>\n      <td>0</td>\n      <td>0</td>\n      <td>0</td>\n      <td>0</td>\n      <td>1</td>\n      <td>1</td>\n      <td>22</td>\n      <td>68</td>\n    </tr>\n    <tr>\n      <th>...</th>\n      <td>...</td>\n      <td>...</td>\n      <td>...</td>\n      <td>...</td>\n      <td>...</td>\n      <td>...</td>\n      <td>...</td>\n      <td>...</td>\n      <td>...</td>\n      <td>...</td>\n      <td>...</td>\n      <td>...</td>\n      <td>...</td>\n      <td>...</td>\n      <td>...</td>\n      <td>...</td>\n      <td>...</td>\n      <td>...</td>\n      <td>...</td>\n      <td>...</td>\n      <td>...</td>\n    </tr>\n    <tr>\n      <th>471157</th>\n      <td>1061915</td>\n      <td>sodepami_vn_0567233768</td>\n      <td>567233768</td>\n      <td>700000</td>\n      <td>sodepami_v</td>\n      <td>9</td>\n      <td>5</td>\n      <td>6</td>\n      <td>7</td>\n      <td>2</td>\n      <td>...</td>\n      <td>0</td>\n      <td>0</td>\n      <td>0</td>\n      <td>0</td>\n      <td>0</td>\n      <td>0</td>\n      <td>1</td>\n      <td>1</td>\n      <td>33</td>\n      <td>68</td>\n    </tr>\n    <tr>\n      <th>301924</th>\n      <td>143946</td>\n      <td>sodepami_vn_0355939779</td>\n      <td>355939779</td>\n      <td>3630000</td>\n      <td>sodepami_v</td>\n      <td>9</td>\n      <td>3</td>\n      <td>5</td>\n      <td>5</td>\n      <td>9</td>\n      <td>...</td>\n      <td>0</td>\n      <td>0</td>\n      <td>0</td>\n      <td>0</td>\n      <td>0</td>\n      <td>0</td>\n      <td>1</td>\n      <td>1</td>\n      <td>5577</td>\n      <td>7939</td>\n    </tr>\n    <tr>\n      <th>430799</th>\n      <td>382141</td>\n      <td>sodepami_vn_0794462555</td>\n      <td>794462555</td>\n      <td>1100000</td>\n      <td>sodepami_v</td>\n      <td>9</td>\n      <td>7</td>\n      <td>9</td>\n      <td>4</td>\n      <td>4</td>\n      <td>...</td>\n      <td>0</td>\n      <td>0</td>\n      <td>1</td>\n      <td>0</td>\n      <td>0</td>\n      <td>0</td>\n      <td>1</td>\n      <td>1</td>\n      <td>4455</td>\n      <td>79</td>\n    </tr>\n    <tr>\n      <th>815988</th>\n      <td>185727</td>\n      <td>sodepami_vn_0938592252</td>\n      <td>938592252</td>\n      <td>1850000</td>\n      <td>sodepami_v</td>\n      <td>9</td>\n      <td>9</td>\n      <td>3</td>\n      <td>8</td>\n      <td>5</td>\n      <td>...</td>\n      <td>0</td>\n      <td>0</td>\n      <td>0</td>\n      <td>0</td>\n      <td>0</td>\n      <td>0</td>\n      <td>1</td>\n      <td>1</td>\n      <td>22</td>\n      <td>38</td>\n    </tr>\n    <tr>\n      <th>773967</th>\n      <td>300029</td>\n      <td>sodepami_vn_0838731881</td>\n      <td>838731881</td>\n      <td>1100000</td>\n      <td>sodepami_v</td>\n      <td>9</td>\n      <td>8</td>\n      <td>3</td>\n      <td>8</td>\n      <td>7</td>\n      <td>...</td>\n      <td>0</td>\n      <td>0</td>\n      <td>0</td>\n      <td>0</td>\n      <td>0</td>\n      <td>0</td>\n      <td>1</td>\n      <td>1</td>\n      <td>88</td>\n      <td>3883</td>\n    </tr>\n  </tbody>\n</table>\n<p>427998 rows × 61 columns</p>\n</div>"
     },
     "metadata": {}
    }
   ]
  },
  {
   "cell_type": "code",
   "source": [
    "def last_special_case(df):\n",
    "    \n",
    "    list_3_last = df['3_last'].to_list()\n",
    "    list_4_last = df['4_last'].to_list()\n",
    "    list_5_last = df['5_last'].to_list()\n",
    "    \n",
    "    list_3_last_iden = list()\n",
    "    \n",
    "    list_3_last_bool = []\n",
    "    list_4_last_bool = []\n",
    "    list_5_last_bool = []\n",
    "    for x in list_3_last:\n",
    "        if (x == '000' or x == '111' or x == '222' or x == '333' or x == '444' or x == '555' or x == '666' or x == '777' or x == '888' or x == '999'):\n",
    "            list_3_last_iden.append(x)\n",
    "            list_3_last_bool.append(1)\n",
    "        else:\n",
    "            list_3_last_iden.append(\"n\")\n",
    "            list_3_last_bool.append(0)\n",
    "    \n",
    "    \n",
    "    df['3_last_iden'] = list_3_last_iden # if the phone number have 3 last number indentical or not\n",
    "    df['3_last_iden_bool'] = list_3_last_bool\n",
    "    \n",
    "    list_4_last_iden = list()\n",
    "    \n",
    "    for x in list_4_last:\n",
    "        if (x == '0000' or x == '1111' or x == '2222' or x == '3333' or x == '4444' or x == '5555' or x == '6666' or x == '7777' or x == '8888' or x == '9999'):\n",
    "            list_4_last_iden.append(x)\n",
    "            list_4_last_bool.append(1)\n",
    "        else:\n",
    "            list_4_last_iden.append(\"n\")\n",
    "            list_4_last_bool.append(0)\n",
    "    \n",
    "    \n",
    "    df['4_last_iden'] = list_4_last_iden # if the phone number have 4 last number indentical or not\n",
    "    df['4_last_iden_bool'] = list_4_last_bool\n",
    "    \n",
    "    list_5_last_iden = list()\n",
    "    \n",
    "    for x in list_5_last:\n",
    "        if (x == '00000' or x == '11111' or x == '22222' or x == '33333' or x == '44444' or x == '55555' or x == '66666' or x == '77777' or x == '88888' or x == '99999'):\n",
    "            list_5_last_iden.append(x)\n",
    "            list_5_last_bool.append(1)\n",
    "        else:\n",
    "            list_5_last_iden.append(\"n\")\n",
    "            list_5_last_bool.append(0)\n",
    "    \n",
    "    \n",
    "    df['5_last_iden'] = list_5_last_iden # if the phone number have 4 last number indentical or not\n",
    "    df['5_last_iden_bool'] = list_5_last_bool\n",
    "    \n",
    "    list_3_last_increasing_bool = []\n",
    "    list_4_last_increasing_bool = []\n",
    "    list_5_last_increasing_bool = []\n",
    "    \n",
    "    list_3_last_increasing_sample = ('012','123','234','345','456','567','678','789','024','135','246','357','468','579','036','147','258','369','048','159')\n",
    "    list_3_last_increasing = list()\n",
    "    \n",
    "    for x in list_3_last:\n",
    "      check = 0\n",
    "      for j in list_3_last_increasing_sample:\n",
    "        if j in x:\n",
    "            list_3_last_increasing.append(x)\n",
    "            check = 1\n",
    "            list_3_last_increasing_bool.append(1)\n",
    "            break\n",
    "      if check == 0:\n",
    "        list_3_last_increasing.append(\"n\") # 3-last increasing number\n",
    "        list_3_last_increasing_bool.append(0)\n",
    "    \n",
    "    df['3_last_increasing'] = list_3_last_increasing\n",
    "    df['3_last_increasing_bool'] = list_3_last_increasing_bool\n",
    "    \n",
    "    list_4_last_increasing_sample = ('0123','1234','2345','3456','4567','5678','6789','0246','1357','2468','3579','0369')\n",
    "    list_4_last_increasing = list()\n",
    "    \n",
    "    for x in list_4_last:\n",
    "      check = 0\n",
    "      for j in list_4_last_increasing_sample:\n",
    "        if j in x:\n",
    "            list_4_last_increasing.append(x)\n",
    "            check = 1\n",
    "            list_4_last_increasing_bool.append(1)\n",
    "            break\n",
    "        \n",
    "      if check == 0:\n",
    "        list_4_last_increasing.append(\"n\") # 4-last increasing number \n",
    "        list_4_last_increasing_bool.append(0)\n",
    "    \n",
    "    df['4_last_increasing'] = list_4_last_increasing\n",
    "    df['4_last_increasing_bool'] = list_4_last_increasing_bool\n",
    "    \n",
    "    list_5_last_increasing_sample = ('01234','12345','23456','34567','45678','56789','02468','13579')\n",
    "    list_5_last_increasing = list()\n",
    "    \n",
    "    for x in list_5_last:\n",
    "      check = 0\n",
    "      for j in list_5_last_increasing_sample:\n",
    "        if j in x:\n",
    "            list_5_last_increasing.append(x)\n",
    "            check =1\n",
    "            list_5_last_increasing_bool.append(1)\n",
    "            break\n",
    "      if check == 0:      \n",
    "        list_5_last_increasing.append(\"n\") # 3-last increasing number \n",
    "        list_5_last_increasing_bool.append(0)\n",
    "    \n",
    "    df['5_last_increasing'] = list_5_last_increasing\n",
    "    df['5_last_increasing_bool'] = list_5_last_increasing_bool\n",
    "    \n",
    "    return df"
   ],
   "metadata": {
    "papermill": {
     "duration": 0.03243,
     "end_time": "2022-09-30T11:22:13.222602",
     "exception": false,
     "start_time": "2022-09-30T11:22:13.190172",
     "status": "completed"
    },
    "tags": [],
    "execution": {
     "iopub.status.busy": "2022-10-09T08:16:50.396538Z",
     "iopub.execute_input": "2022-10-09T08:16:50.399472Z",
     "iopub.status.idle": "2022-10-09T08:16:50.418103Z",
     "shell.execute_reply.started": "2022-10-09T08:16:50.399439Z",
     "shell.execute_reply": "2022-10-09T08:16:50.417034Z"
    },
    "trusted": true,
    "pycharm": {
     "name": "#%%\n"
    }
   },
   "execution_count": 31,
   "outputs": []
  },
  {
   "cell_type": "code",
   "source": [],
   "metadata": {
    "pycharm": {
     "name": "#%%\n"
    }
   },
   "execution_count": null,
   "outputs": []
  },
  {
   "cell_type": "code",
   "source": [
    "df = last_special_case(df)\n",
    "df.sample(10)"
   ],
   "metadata": {
    "papermill": {
     "duration": 1.211368,
     "end_time": "2022-09-30T11:22:14.445012",
     "exception": false,
     "start_time": "2022-09-30T11:22:13.233644",
     "status": "completed"
    },
    "tags": [],
    "execution": {
     "iopub.status.busy": "2022-10-09T08:16:50.419349Z",
     "iopub.execute_input": "2022-10-09T08:16:50.419949Z",
     "iopub.status.idle": "2022-10-09T08:16:54.815708Z",
     "shell.execute_reply.started": "2022-10-09T08:16:50.419904Z",
     "shell.execute_reply": "2022-10-09T08:16:54.813233Z"
    },
    "trusted": true,
    "pycharm": {
     "name": "#%%\n"
    }
   },
   "execution_count": 32,
   "outputs": [
    {
     "execution_count": 32,
     "output_type": "execute_result",
     "data": {
      "text/plain": "        Unnamed: 0                      id phone_number  price_vnd  \\\n28152       894845  sodepami_vn_0866017919    866017919     900000   \n664378      869559  sodepami_vn_0816691456    816691456    1000000   \n331225      626009  sodepami_vn_0925983789    925983789    1400000   \n436222      821772  sodepami_vn_0589744579    589744579     700000   \n550464      799230  sodepami_vn_0769351989    769351989    2550000   \n588866      318173  sodepami_vn_0815475544    815475544     900000   \n366050      876135  sodepami_vn_0789920368    789920368     700000   \n723669       47780  sodepami_vn_0782484444    782484444    8000000   \n228742      726650  sodepami_vn_0888105579    888105579    1100000   \n861499      294893  sodepami_vn_0981911176    981911176     650000   \n\n              type  length pos_1 pos_2 pos_3 pos_4  ... 4_last_iden  \\\n28152   sodepami_v       9     8     6     6     0  ...           n   \n664378  sodepami_v       9     8     1     6     6  ...           n   \n331225  sodepami_v       9     9     2     5     9  ...           n   \n436222  sodepami_v       9     5     8     9     7  ...           n   \n550464  sodepami_v       9     7     6     9     3  ...           n   \n588866  sodepami_v       9     8     1     5     4  ...           n   \n366050  sodepami_v       9     7     8     9     9  ...           n   \n723669  sodepami_v       9     7     8     2     4  ...        4444   \n228742  sodepami_v       9     8     8     8     1  ...           n   \n861499  sodepami_v       9     9     8     1     9  ...           n   \n\n       4_last_iden_bool 5_last_iden 5_last_iden_bool 3_last_increasing  \\\n28152                 0           n                0                 n   \n664378                0           n                0               456   \n331225                0           n                0               789   \n436222                0           n                0               579   \n550464                0           n                0                 n   \n588866                0           n                0                 n   \n366050                0           n                0                 n   \n723669                1           n                0                 n   \n228742                0           n                0               579   \n861499                0           n                0                 n   \n\n        3_last_increasing_bool  4_last_increasing  4_last_increasing_bool  \\\n28152                        0                  n                       0   \n664378                       1                  n                       0   \n331225                       1                  n                       0   \n436222                       1                  n                       0   \n550464                       0                  n                       0   \n588866                       0                  n                       0   \n366050                       0                  n                       0   \n723669                       0                  n                       0   \n228742                       1                  n                       0   \n861499                       0                  n                       0   \n\n        5_last_increasing  5_last_increasing_bool  \n28152                   n                       0  \n664378                  n                       0  \n331225                  n                       0  \n436222                  n                       0  \n550464                  n                       0  \n588866                  n                       0  \n366050                  n                       0  \n723669                  n                       0  \n228742                  n                       0  \n861499                  n                       0  \n\n[10 rows x 73 columns]",
      "text/html": "<div>\n<style scoped>\n    .dataframe tbody tr th:only-of-type {\n        vertical-align: middle;\n    }\n\n    .dataframe tbody tr th {\n        vertical-align: top;\n    }\n\n    .dataframe thead th {\n        text-align: right;\n    }\n</style>\n<table border=\"1\" class=\"dataframe\">\n  <thead>\n    <tr style=\"text-align: right;\">\n      <th></th>\n      <th>Unnamed: 0</th>\n      <th>id</th>\n      <th>phone_number</th>\n      <th>price_vnd</th>\n      <th>type</th>\n      <th>length</th>\n      <th>pos_1</th>\n      <th>pos_2</th>\n      <th>pos_3</th>\n      <th>pos_4</th>\n      <th>...</th>\n      <th>4_last_iden</th>\n      <th>4_last_iden_bool</th>\n      <th>5_last_iden</th>\n      <th>5_last_iden_bool</th>\n      <th>3_last_increasing</th>\n      <th>3_last_increasing_bool</th>\n      <th>4_last_increasing</th>\n      <th>4_last_increasing_bool</th>\n      <th>5_last_increasing</th>\n      <th>5_last_increasing_bool</th>\n    </tr>\n  </thead>\n  <tbody>\n    <tr>\n      <th>28152</th>\n      <td>894845</td>\n      <td>sodepami_vn_0866017919</td>\n      <td>866017919</td>\n      <td>900000</td>\n      <td>sodepami_v</td>\n      <td>9</td>\n      <td>8</td>\n      <td>6</td>\n      <td>6</td>\n      <td>0</td>\n      <td>...</td>\n      <td>n</td>\n      <td>0</td>\n      <td>n</td>\n      <td>0</td>\n      <td>n</td>\n      <td>0</td>\n      <td>n</td>\n      <td>0</td>\n      <td>n</td>\n      <td>0</td>\n    </tr>\n    <tr>\n      <th>664378</th>\n      <td>869559</td>\n      <td>sodepami_vn_0816691456</td>\n      <td>816691456</td>\n      <td>1000000</td>\n      <td>sodepami_v</td>\n      <td>9</td>\n      <td>8</td>\n      <td>1</td>\n      <td>6</td>\n      <td>6</td>\n      <td>...</td>\n      <td>n</td>\n      <td>0</td>\n      <td>n</td>\n      <td>0</td>\n      <td>456</td>\n      <td>1</td>\n      <td>n</td>\n      <td>0</td>\n      <td>n</td>\n      <td>0</td>\n    </tr>\n    <tr>\n      <th>331225</th>\n      <td>626009</td>\n      <td>sodepami_vn_0925983789</td>\n      <td>925983789</td>\n      <td>1400000</td>\n      <td>sodepami_v</td>\n      <td>9</td>\n      <td>9</td>\n      <td>2</td>\n      <td>5</td>\n      <td>9</td>\n      <td>...</td>\n      <td>n</td>\n      <td>0</td>\n      <td>n</td>\n      <td>0</td>\n      <td>789</td>\n      <td>1</td>\n      <td>n</td>\n      <td>0</td>\n      <td>n</td>\n      <td>0</td>\n    </tr>\n    <tr>\n      <th>436222</th>\n      <td>821772</td>\n      <td>sodepami_vn_0589744579</td>\n      <td>589744579</td>\n      <td>700000</td>\n      <td>sodepami_v</td>\n      <td>9</td>\n      <td>5</td>\n      <td>8</td>\n      <td>9</td>\n      <td>7</td>\n      <td>...</td>\n      <td>n</td>\n      <td>0</td>\n      <td>n</td>\n      <td>0</td>\n      <td>579</td>\n      <td>1</td>\n      <td>n</td>\n      <td>0</td>\n      <td>n</td>\n      <td>0</td>\n    </tr>\n    <tr>\n      <th>550464</th>\n      <td>799230</td>\n      <td>sodepami_vn_0769351989</td>\n      <td>769351989</td>\n      <td>2550000</td>\n      <td>sodepami_v</td>\n      <td>9</td>\n      <td>7</td>\n      <td>6</td>\n      <td>9</td>\n      <td>3</td>\n      <td>...</td>\n      <td>n</td>\n      <td>0</td>\n      <td>n</td>\n      <td>0</td>\n      <td>n</td>\n      <td>0</td>\n      <td>n</td>\n      <td>0</td>\n      <td>n</td>\n      <td>0</td>\n    </tr>\n    <tr>\n      <th>588866</th>\n      <td>318173</td>\n      <td>sodepami_vn_0815475544</td>\n      <td>815475544</td>\n      <td>900000</td>\n      <td>sodepami_v</td>\n      <td>9</td>\n      <td>8</td>\n      <td>1</td>\n      <td>5</td>\n      <td>4</td>\n      <td>...</td>\n      <td>n</td>\n      <td>0</td>\n      <td>n</td>\n      <td>0</td>\n      <td>n</td>\n      <td>0</td>\n      <td>n</td>\n      <td>0</td>\n      <td>n</td>\n      <td>0</td>\n    </tr>\n    <tr>\n      <th>366050</th>\n      <td>876135</td>\n      <td>sodepami_vn_0789920368</td>\n      <td>789920368</td>\n      <td>700000</td>\n      <td>sodepami_v</td>\n      <td>9</td>\n      <td>7</td>\n      <td>8</td>\n      <td>9</td>\n      <td>9</td>\n      <td>...</td>\n      <td>n</td>\n      <td>0</td>\n      <td>n</td>\n      <td>0</td>\n      <td>n</td>\n      <td>0</td>\n      <td>n</td>\n      <td>0</td>\n      <td>n</td>\n      <td>0</td>\n    </tr>\n    <tr>\n      <th>723669</th>\n      <td>47780</td>\n      <td>sodepami_vn_0782484444</td>\n      <td>782484444</td>\n      <td>8000000</td>\n      <td>sodepami_v</td>\n      <td>9</td>\n      <td>7</td>\n      <td>8</td>\n      <td>2</td>\n      <td>4</td>\n      <td>...</td>\n      <td>4444</td>\n      <td>1</td>\n      <td>n</td>\n      <td>0</td>\n      <td>n</td>\n      <td>0</td>\n      <td>n</td>\n      <td>0</td>\n      <td>n</td>\n      <td>0</td>\n    </tr>\n    <tr>\n      <th>228742</th>\n      <td>726650</td>\n      <td>sodepami_vn_0888105579</td>\n      <td>888105579</td>\n      <td>1100000</td>\n      <td>sodepami_v</td>\n      <td>9</td>\n      <td>8</td>\n      <td>8</td>\n      <td>8</td>\n      <td>1</td>\n      <td>...</td>\n      <td>n</td>\n      <td>0</td>\n      <td>n</td>\n      <td>0</td>\n      <td>579</td>\n      <td>1</td>\n      <td>n</td>\n      <td>0</td>\n      <td>n</td>\n      <td>0</td>\n    </tr>\n    <tr>\n      <th>861499</th>\n      <td>294893</td>\n      <td>sodepami_vn_0981911176</td>\n      <td>981911176</td>\n      <td>650000</td>\n      <td>sodepami_v</td>\n      <td>9</td>\n      <td>9</td>\n      <td>8</td>\n      <td>1</td>\n      <td>9</td>\n      <td>...</td>\n      <td>n</td>\n      <td>0</td>\n      <td>n</td>\n      <td>0</td>\n      <td>n</td>\n      <td>0</td>\n      <td>n</td>\n      <td>0</td>\n      <td>n</td>\n      <td>0</td>\n    </tr>\n  </tbody>\n</table>\n<p>10 rows × 73 columns</p>\n</div>"
     },
     "metadata": {}
    }
   ]
  },
  {
   "cell_type": "code",
   "source": [],
   "metadata": {
    "trusted": true,
    "pycharm": {
     "name": "#%%\n"
    }
   },
   "execution_count": null,
   "outputs": []
  },
  {
   "cell_type": "code",
   "source": [
    "def features_from_sum(df):\n",
    "    list_number = df['phone_number'].to_list()\n",
    "    list_sum = []\n",
    "    for i in range(len(list_number)):\n",
    "      tmp = 0\n",
    "      for j in range(len(list_number[i])):\n",
    "        tmp += int(list_number[i][j])\n",
    "      list_sum.append(tmp)\n",
    "    \n",
    "    list_phong_thuy = []\n",
    "    \n",
    "    for i in range(len(list_sum)):\n",
    "      list_phong_thuy.append(list_sum[i]%10)\n",
    "    \n",
    "    df['phong_thuy_1'] = list_phong_thuy\n",
    "    \n",
    "    list_phong_thuy_2 = []\n",
    "    \n",
    "    for i in range(len(list_sum)):\n",
    "      k = list_sum[i]\n",
    "      ans = 0\n",
    "      while(k>=0):\n",
    "        ans+=k%10\n",
    "        k = math.floor(k/10)\n",
    "        if (k==0 and ans >= 10):\n",
    "          k = ans\n",
    "          ans = 0\n",
    "        if (k==0 and ans < 10):\n",
    "          list_phong_thuy_2.append(ans)\n",
    "          break\n",
    "      \n",
    "    df['phong_thuy_2'] = list_phong_thuy_2\n",
    "    \n",
    "    return df"
   ],
   "metadata": {
    "papermill": {
     "duration": 0.026635,
     "end_time": "2022-09-30T11:22:14.483605",
     "exception": false,
     "start_time": "2022-09-30T11:22:14.456970",
     "status": "completed"
    },
    "tags": [],
    "execution": {
     "iopub.status.busy": "2022-10-09T08:16:54.817215Z",
     "iopub.execute_input": "2022-10-09T08:16:54.817934Z",
     "iopub.status.idle": "2022-10-09T08:16:54.827166Z",
     "shell.execute_reply.started": "2022-10-09T08:16:54.817892Z",
     "shell.execute_reply": "2022-10-09T08:16:54.826025Z"
    },
    "trusted": true,
    "pycharm": {
     "name": "#%%\n"
    }
   },
   "execution_count": 33,
   "outputs": []
  },
  {
   "cell_type": "code",
   "source": [
    "df = features_from_sum(df)\n",
    "df.shape"
   ],
   "metadata": {
    "papermill": {
     "duration": 0.980055,
     "end_time": "2022-09-30T11:22:15.475252",
     "exception": false,
     "start_time": "2022-09-30T11:22:14.495197",
     "status": "completed"
    },
    "tags": [],
    "execution": {
     "iopub.status.busy": "2022-10-09T08:16:54.829083Z",
     "iopub.execute_input": "2022-10-09T08:16:54.829885Z",
     "iopub.status.idle": "2022-10-09T08:16:57.236198Z",
     "shell.execute_reply.started": "2022-10-09T08:16:54.829826Z",
     "shell.execute_reply": "2022-10-09T08:16:57.235067Z"
    },
    "trusted": true,
    "pycharm": {
     "name": "#%%\n"
    }
   },
   "execution_count": 34,
   "outputs": [
    {
     "execution_count": 34,
     "output_type": "execute_result",
     "data": {
      "text/plain": "(628984, 75)"
     },
     "metadata": {}
    }
   ]
  },
  {
   "cell_type": "code",
   "source": [
    "def creating_label(df):\n",
    "    price = np.array(df['price_vnd'])\n",
    "    label = []\n",
    "\n",
    "    for i in range(df.shape[0]):\n",
    "      if price[i] <= 1.6e6:\n",
    "        label.append(0)\n",
    "        continue\n",
    "      if price[i] <= 3.6e6:\n",
    "        label.append(1)\n",
    "        continue\n",
    "      if price[i] <= 6.5e6:\n",
    "        label.append(2)\n",
    "        continue\n",
    "      if price[i] <= 10.8e6:\n",
    "        label.append(3)\n",
    "        continue\n",
    "      if price[i] <= 1.5e7:\n",
    "        label.append(4)\n",
    "        continue\n",
    "      if price[i] <= 6.1e7:\n",
    "        label.append(5)\n",
    "        continue\n",
    "      if price[i] <= 1.5e8:\n",
    "        label.append(6)\n",
    "        continue\n",
    "      if price[i] <= 3.1e8:\n",
    "        label.append(7)\n",
    "        continue\n",
    "      if price[i] <= 5.3e8:\n",
    "        label.append(8)\n",
    "        continue\n",
    "  \n",
    "      label.append(9)\n",
    "\n",
    "    df['label'] = label\n",
    "    \n",
    "    return df\n"
   ],
   "metadata": {
    "papermill": {
     "duration": 0.025942,
     "end_time": "2022-09-30T11:22:15.512766",
     "exception": false,
     "start_time": "2022-09-30T11:22:15.486824",
     "status": "completed"
    },
    "tags": [],
    "execution": {
     "iopub.status.busy": "2022-10-09T08:16:57.237835Z",
     "iopub.execute_input": "2022-10-09T08:16:57.238209Z",
     "iopub.status.idle": "2022-10-09T08:16:57.247320Z",
     "shell.execute_reply.started": "2022-10-09T08:16:57.238178Z",
     "shell.execute_reply": "2022-10-09T08:16:57.245763Z"
    },
    "trusted": true,
    "pycharm": {
     "name": "#%%\n"
    }
   },
   "execution_count": 35,
   "outputs": []
  },
  {
   "cell_type": "code",
   "source": [
    "df = creating_label(df)\n",
    "df.head(10)"
   ],
   "metadata": {
    "papermill": {
     "duration": 0.698043,
     "end_time": "2022-09-30T11:22:16.222925",
     "exception": false,
     "start_time": "2022-09-30T11:22:15.524882",
     "status": "completed"
    },
    "tags": [],
    "execution": {
     "iopub.status.busy": "2022-10-09T08:16:57.249324Z",
     "iopub.execute_input": "2022-10-09T08:16:57.250204Z",
     "iopub.status.idle": "2022-10-09T08:16:58.787010Z",
     "shell.execute_reply.started": "2022-10-09T08:16:57.250165Z",
     "shell.execute_reply": "2022-10-09T08:16:58.785840Z"
    },
    "trusted": true,
    "pycharm": {
     "name": "#%%\n"
    }
   },
   "execution_count": 36,
   "outputs": [
    {
     "execution_count": 36,
     "output_type": "execute_result",
     "data": {
      "text/plain": "        Unnamed: 0                      id phone_number  price_vnd  \\\n818427      559367  sodepami_vn_0335984554    335984554     699000   \n196956      750893  sodepami_vn_0325036668    325036668    5000000   \n631141      998968  sodepami_vn_0987672989    987672989    1850000   \n304912      511809  sodepami_vn_0785863355    785863355     850000   \n751212      439052  sodepami_vn_0984313012    984313012    1550000   \n561075      470974  sodepami_vn_0772861666    772861666    4000000   \n342615     1027522  sodepami_vn_0522015968    522015968     550000   \n394965      847436  sodepami_vn_0342868909    342868909     800000   \n818323      730000  sodepami_vn_0369781981    369781981    3000000   \n179974      903858  sodepami_vn_0346240066    346240066     499000   \n\n              type  length pos_1 pos_2 pos_3 pos_4  ... 5_last_iden_bool  \\\n818427  sodepami_v       9     3     3     5     9  ...                0   \n196956  sodepami_v       9     3     2     5     0  ...                0   \n631141  sodepami_v       9     9     8     7     6  ...                0   \n304912  sodepami_v       9     7     8     5     8  ...                0   \n751212  sodepami_v       9     9     8     4     3  ...                0   \n561075  sodepami_v       9     7     7     2     8  ...                0   \n342615  sodepami_v       9     5     2     2     0  ...                0   \n394965  sodepami_v       9     3     4     2     8  ...                0   \n818323  sodepami_v       9     3     6     9     7  ...                0   \n179974  sodepami_v       9     3     4     6     2  ...                0   \n\n       3_last_increasing 3_last_increasing_bool 4_last_increasing  \\\n818427                 n                      0                 n   \n196956                 n                      0                 n   \n631141                 n                      0                 n   \n304912                 n                      0                 n   \n751212               012                      1                 n   \n561075                 n                      0                 n   \n342615                 n                      0                 n   \n394965                 n                      0                 n   \n818323                 n                      0                 n   \n179974                 n                      0                 n   \n\n       4_last_increasing_bool  5_last_increasing  5_last_increasing_bool  \\\n818427                      0                  n                       0   \n196956                      0                  n                       0   \n631141                      0                  n                       0   \n304912                      0                  n                       0   \n751212                      0                  n                       0   \n561075                      0                  n                       0   \n342615                      0                  n                       0   \n394965                      0                  n                       0   \n818323                      0                  n                       0   \n179974                      0                  n                       0   \n\n        phong_thuy_1  phong_thuy_2  label  \n818427             6             1      0  \n196956             9             3      2  \n631141             5             2      1  \n304912             0             5      0  \n751212             1             4      0  \n561075             9             4      2  \n342615             8             2      0  \n394965             9             4      0  \n818323             2             7      1  \n179974             1             4      0  \n\n[10 rows x 76 columns]",
      "text/html": "<div>\n<style scoped>\n    .dataframe tbody tr th:only-of-type {\n        vertical-align: middle;\n    }\n\n    .dataframe tbody tr th {\n        vertical-align: top;\n    }\n\n    .dataframe thead th {\n        text-align: right;\n    }\n</style>\n<table border=\"1\" class=\"dataframe\">\n  <thead>\n    <tr style=\"text-align: right;\">\n      <th></th>\n      <th>Unnamed: 0</th>\n      <th>id</th>\n      <th>phone_number</th>\n      <th>price_vnd</th>\n      <th>type</th>\n      <th>length</th>\n      <th>pos_1</th>\n      <th>pos_2</th>\n      <th>pos_3</th>\n      <th>pos_4</th>\n      <th>...</th>\n      <th>5_last_iden_bool</th>\n      <th>3_last_increasing</th>\n      <th>3_last_increasing_bool</th>\n      <th>4_last_increasing</th>\n      <th>4_last_increasing_bool</th>\n      <th>5_last_increasing</th>\n      <th>5_last_increasing_bool</th>\n      <th>phong_thuy_1</th>\n      <th>phong_thuy_2</th>\n      <th>label</th>\n    </tr>\n  </thead>\n  <tbody>\n    <tr>\n      <th>818427</th>\n      <td>559367</td>\n      <td>sodepami_vn_0335984554</td>\n      <td>335984554</td>\n      <td>699000</td>\n      <td>sodepami_v</td>\n      <td>9</td>\n      <td>3</td>\n      <td>3</td>\n      <td>5</td>\n      <td>9</td>\n      <td>...</td>\n      <td>0</td>\n      <td>n</td>\n      <td>0</td>\n      <td>n</td>\n      <td>0</td>\n      <td>n</td>\n      <td>0</td>\n      <td>6</td>\n      <td>1</td>\n      <td>0</td>\n    </tr>\n    <tr>\n      <th>196956</th>\n      <td>750893</td>\n      <td>sodepami_vn_0325036668</td>\n      <td>325036668</td>\n      <td>5000000</td>\n      <td>sodepami_v</td>\n      <td>9</td>\n      <td>3</td>\n      <td>2</td>\n      <td>5</td>\n      <td>0</td>\n      <td>...</td>\n      <td>0</td>\n      <td>n</td>\n      <td>0</td>\n      <td>n</td>\n      <td>0</td>\n      <td>n</td>\n      <td>0</td>\n      <td>9</td>\n      <td>3</td>\n      <td>2</td>\n    </tr>\n    <tr>\n      <th>631141</th>\n      <td>998968</td>\n      <td>sodepami_vn_0987672989</td>\n      <td>987672989</td>\n      <td>1850000</td>\n      <td>sodepami_v</td>\n      <td>9</td>\n      <td>9</td>\n      <td>8</td>\n      <td>7</td>\n      <td>6</td>\n      <td>...</td>\n      <td>0</td>\n      <td>n</td>\n      <td>0</td>\n      <td>n</td>\n      <td>0</td>\n      <td>n</td>\n      <td>0</td>\n      <td>5</td>\n      <td>2</td>\n      <td>1</td>\n    </tr>\n    <tr>\n      <th>304912</th>\n      <td>511809</td>\n      <td>sodepami_vn_0785863355</td>\n      <td>785863355</td>\n      <td>850000</td>\n      <td>sodepami_v</td>\n      <td>9</td>\n      <td>7</td>\n      <td>8</td>\n      <td>5</td>\n      <td>8</td>\n      <td>...</td>\n      <td>0</td>\n      <td>n</td>\n      <td>0</td>\n      <td>n</td>\n      <td>0</td>\n      <td>n</td>\n      <td>0</td>\n      <td>0</td>\n      <td>5</td>\n      <td>0</td>\n    </tr>\n    <tr>\n      <th>751212</th>\n      <td>439052</td>\n      <td>sodepami_vn_0984313012</td>\n      <td>984313012</td>\n      <td>1550000</td>\n      <td>sodepami_v</td>\n      <td>9</td>\n      <td>9</td>\n      <td>8</td>\n      <td>4</td>\n      <td>3</td>\n      <td>...</td>\n      <td>0</td>\n      <td>012</td>\n      <td>1</td>\n      <td>n</td>\n      <td>0</td>\n      <td>n</td>\n      <td>0</td>\n      <td>1</td>\n      <td>4</td>\n      <td>0</td>\n    </tr>\n    <tr>\n      <th>561075</th>\n      <td>470974</td>\n      <td>sodepami_vn_0772861666</td>\n      <td>772861666</td>\n      <td>4000000</td>\n      <td>sodepami_v</td>\n      <td>9</td>\n      <td>7</td>\n      <td>7</td>\n      <td>2</td>\n      <td>8</td>\n      <td>...</td>\n      <td>0</td>\n      <td>n</td>\n      <td>0</td>\n      <td>n</td>\n      <td>0</td>\n      <td>n</td>\n      <td>0</td>\n      <td>9</td>\n      <td>4</td>\n      <td>2</td>\n    </tr>\n    <tr>\n      <th>342615</th>\n      <td>1027522</td>\n      <td>sodepami_vn_0522015968</td>\n      <td>522015968</td>\n      <td>550000</td>\n      <td>sodepami_v</td>\n      <td>9</td>\n      <td>5</td>\n      <td>2</td>\n      <td>2</td>\n      <td>0</td>\n      <td>...</td>\n      <td>0</td>\n      <td>n</td>\n      <td>0</td>\n      <td>n</td>\n      <td>0</td>\n      <td>n</td>\n      <td>0</td>\n      <td>8</td>\n      <td>2</td>\n      <td>0</td>\n    </tr>\n    <tr>\n      <th>394965</th>\n      <td>847436</td>\n      <td>sodepami_vn_0342868909</td>\n      <td>342868909</td>\n      <td>800000</td>\n      <td>sodepami_v</td>\n      <td>9</td>\n      <td>3</td>\n      <td>4</td>\n      <td>2</td>\n      <td>8</td>\n      <td>...</td>\n      <td>0</td>\n      <td>n</td>\n      <td>0</td>\n      <td>n</td>\n      <td>0</td>\n      <td>n</td>\n      <td>0</td>\n      <td>9</td>\n      <td>4</td>\n      <td>0</td>\n    </tr>\n    <tr>\n      <th>818323</th>\n      <td>730000</td>\n      <td>sodepami_vn_0369781981</td>\n      <td>369781981</td>\n      <td>3000000</td>\n      <td>sodepami_v</td>\n      <td>9</td>\n      <td>3</td>\n      <td>6</td>\n      <td>9</td>\n      <td>7</td>\n      <td>...</td>\n      <td>0</td>\n      <td>n</td>\n      <td>0</td>\n      <td>n</td>\n      <td>0</td>\n      <td>n</td>\n      <td>0</td>\n      <td>2</td>\n      <td>7</td>\n      <td>1</td>\n    </tr>\n    <tr>\n      <th>179974</th>\n      <td>903858</td>\n      <td>sodepami_vn_0346240066</td>\n      <td>346240066</td>\n      <td>499000</td>\n      <td>sodepami_v</td>\n      <td>9</td>\n      <td>3</td>\n      <td>4</td>\n      <td>6</td>\n      <td>2</td>\n      <td>...</td>\n      <td>0</td>\n      <td>n</td>\n      <td>0</td>\n      <td>n</td>\n      <td>0</td>\n      <td>n</td>\n      <td>0</td>\n      <td>1</td>\n      <td>4</td>\n      <td>0</td>\n    </tr>\n  </tbody>\n</table>\n<p>10 rows × 76 columns</p>\n</div>"
     },
     "metadata": {}
    }
   ]
  },
  {
   "cell_type": "code",
   "source": [
    "def creating_features_by_combine_pos(df):\n",
    "    for i in range(1,9):\n",
    "        for j in range(i+1,10):\n",
    "            df['pos_'+str(i)+\"_\"+str(j)] = df['pos_' + str(i)] + df['pos_' + str(j)]\n",
    "    \n",
    "    for i in range(1,8):\n",
    "        for j in range(i+1,9):\n",
    "            for k in range(j+1,10):\n",
    "                df['pos_'+str(i)+\"_\"+str(j)+\"_\"+str(k)] = df['pos_' + str(i)] + df['pos_' + str(j)] + df['pos_'+str(k)]\n",
    "      \n",
    "#     for i in range(1,7):\n",
    "#         for j in range(i+1,8):\n",
    "#             for k in range(j+1,9):\n",
    "#                 for l in range(k+1,10):\n",
    "#                     #df_tmp = pd.DataFrame()\n",
    "#                     df['pos_'+str(i)+\"_\"+str(j)+\"_\"+str(k)+\"_\"+str(l)] = df['pos_' + str(i)] \\\n",
    "#                     + df['pos_' + str(j)] + df['pos_'+str(k)] + df['pos_'+str(l)]\n",
    "#                     df_ans = pd.concat([df_ans, df_tmp],axis = 1)\n",
    "                \n",
    "#     df['pos_1_2_8_9'] = df['pos_1'] + df['pos_2'] + df['pos_8'] + df['pos_9']\n",
    "    \n",
    "#     for i in range(1,7):\n",
    "#         df['pos_'+str(i)+\"_\"+str(i+1)+\"_\"+str(i+2)+\"_\"+str(i+3)] = df['pos_' + str(i)] + df['pos_' + str(i+1)] + df['pos_'+str(i+2)] + df['pos_' + str(i+3)]\n",
    "    \n",
    "    return df\n",
    "    \n",
    "# def creating_features_by_combine_pos(df):\n",
    "#     df_ans = df\n",
    "    \n",
    "# #     for i in range(1,10):\n",
    "# #         df['pos_' + str(i)] = df['pos_'+str(i)].astype(str)\n",
    "        \n",
    "#     for i in range(1,7):\n",
    "#         for j in range(i+1,8):\n",
    "#             for k in range(j+1,9):\n",
    "#                 for l in range(k+1,10):\n",
    "#                     df_tmp = pd.DataFrame()\n",
    "#                     df_tmp['pos_'+str(i)+\"_\"+str(j)+\"_\"+str(k)+\"_\"+str(l)] = df['pos_' + str(i)] \\\n",
    "#                     + df['pos_' + str(j)] + df['pos_'+str(k)] + df['pos_'+str(l)]\n",
    "#                     df_ans = pd.concat([df_ans, df_tmp],axis = 1)\n",
    "    \n",
    "    \n",
    "#     return df_ans"
   ],
   "metadata": {
    "papermill": {
     "duration": 0.032032,
     "end_time": "2022-09-30T11:22:16.268077",
     "exception": false,
     "start_time": "2022-09-30T11:22:16.236045",
     "status": "completed"
    },
    "tags": [],
    "execution": {
     "iopub.status.busy": "2022-10-09T08:16:58.788394Z",
     "iopub.execute_input": "2022-10-09T08:16:58.789154Z",
     "iopub.status.idle": "2022-10-09T08:16:58.798990Z",
     "shell.execute_reply.started": "2022-10-09T08:16:58.789112Z",
     "shell.execute_reply": "2022-10-09T08:16:58.797985Z"
    },
    "trusted": true,
    "pycharm": {
     "name": "#%%\n"
    }
   },
   "execution_count": 37,
   "outputs": []
  },
  {
   "cell_type": "code",
   "source": [
    "df = creating_features_by_combine_pos(df)\n",
    "df.shape"
   ],
   "metadata": {
    "papermill": {
     "duration": 21.138648,
     "end_time": "2022-09-30T11:22:37.418441",
     "exception": false,
     "start_time": "2022-09-30T11:22:16.279793",
     "status": "completed"
    },
    "tags": [],
    "execution": {
     "iopub.status.busy": "2022-10-09T08:16:58.800686Z",
     "iopub.execute_input": "2022-10-09T08:16:58.801120Z",
     "iopub.status.idle": "2022-10-09T08:17:10.166460Z",
     "shell.execute_reply.started": "2022-10-09T08:16:58.801060Z",
     "shell.execute_reply": "2022-10-09T08:17:10.165265Z"
    },
    "trusted": true,
    "pycharm": {
     "name": "#%%\n"
    }
   },
   "execution_count": 38,
   "outputs": [
    {
     "execution_count": 38,
     "output_type": "execute_result",
     "data": {
      "text/plain": "(628984, 196)"
     },
     "metadata": {}
    }
   ]
  },
  {
   "cell_type": "code",
   "source": [
    "# df['pos_1_2_3_4'].value_counts()"
   ],
   "metadata": {
    "execution": {
     "iopub.status.busy": "2022-10-09T08:17:10.168172Z",
     "iopub.execute_input": "2022-10-09T08:17:10.168570Z",
     "iopub.status.idle": "2022-10-09T08:17:10.173501Z",
     "shell.execute_reply.started": "2022-10-09T08:17:10.168532Z",
     "shell.execute_reply": "2022-10-09T08:17:10.172323Z"
    },
    "trusted": true,
    "pycharm": {
     "name": "#%%\n"
    }
   },
   "execution_count": 39,
   "outputs": []
  },
  {
   "cell_type": "markdown",
   "source": [
    "### Tuan feats"
   ],
   "metadata": {
    "pycharm": {
     "name": "#%% md\n"
    }
   }
  },
  {
   "cell_type": "code",
   "source": [
    "def sim_loc_phat(df):\n",
    "    list_number = df['phone_number'].to_list()\n",
    "    list_2_last = list() #extract 2 last digit\n",
    "\n",
    "    list_4_last = list() #extract 3 last digit\n",
    "    \n",
    "    for i in range(len(list_number)):\n",
    "        str_tmp_2_last = list_number[i][-2:]\n",
    "        list_2_last.append(str_tmp_2_last)\n",
    "    \n",
    "        str_tmp_4_last = list_number[i][-4:]\n",
    "        list_4_last.append(str_tmp_4_last)\n",
    "        \n",
    "        \n",
    "    list_phat_loc_2_bool = []\n",
    "    list_phat_loc_2_cat = []\n",
    "\n",
    "    list_phat_loc_4_bool = []\n",
    "    list_phat_loc_4_cat = []\n",
    "\n",
    "    list_phat_loc_2_sample = ['68','86']\n",
    "    list_phat_loc_4_sample = ['6688','6868','6886', '8668']\n",
    "\n",
    "    for x in list_2_last:\n",
    "        if list_phat_loc_2_sample.count(x)>0:\n",
    "            list_phat_loc_2_bool.append(1)\n",
    "            list_phat_loc_2_cat.append(x)\n",
    "        else:\n",
    "            list_phat_loc_2_bool.append(0)\n",
    "            list_phat_loc_2_cat.append('')\n",
    "        \n",
    "\n",
    "    for x in list_4_last:\n",
    "        if list_phat_loc_4_sample.count(x)>0:\n",
    "            list_phat_loc_4_bool.append(1)\n",
    "            list_phat_loc_4_cat.append(x)\n",
    "        else:\n",
    "            list_phat_loc_4_bool.append(0)\n",
    "            list_phat_loc_4_cat.append('')      \n",
    "        \n",
    "    df['phat_loc_2_bool'] = list_phat_loc_2_bool\n",
    "    df['phat_loc_2_cat'] = list_phat_loc_2_cat\n",
    "\n",
    "    df['phat_loc_4_bool'] = list_phat_loc_4_bool\n",
    "    df['phat_loc_4_cat'] = list_phat_loc_4_cat\n",
    "    \n",
    "    return df\n"
   ],
   "metadata": {
    "papermill": {
     "duration": 0.057327,
     "end_time": "2022-09-30T11:22:37.487832",
     "exception": false,
     "start_time": "2022-09-30T11:22:37.430505",
     "status": "completed"
    },
    "tags": [],
    "execution": {
     "iopub.status.busy": "2022-10-09T08:17:10.175403Z",
     "iopub.execute_input": "2022-10-09T08:17:10.175845Z",
     "iopub.status.idle": "2022-10-09T08:17:10.187899Z",
     "shell.execute_reply.started": "2022-10-09T08:17:10.175807Z",
     "shell.execute_reply": "2022-10-09T08:17:10.186924Z"
    },
    "trusted": true,
    "pycharm": {
     "name": "#%%\n"
    }
   },
   "execution_count": 40,
   "outputs": []
  },
  {
   "cell_type": "code",
   "source": [
    "df = sim_loc_phat(df)"
   ],
   "metadata": {
    "execution": {
     "iopub.status.busy": "2022-10-09T08:17:10.190994Z",
     "iopub.execute_input": "2022-10-09T08:17:10.191259Z",
     "iopub.status.idle": "2022-10-09T08:17:11.187052Z",
     "shell.execute_reply.started": "2022-10-09T08:17:10.191235Z",
     "shell.execute_reply": "2022-10-09T08:17:11.186043Z"
    },
    "trusted": true,
    "pycharm": {
     "name": "#%%\n"
    }
   },
   "execution_count": 41,
   "outputs": []
  },
  {
   "cell_type": "code",
   "source": [
    "df[df['phat_loc_2_bool'] == 1].shape"
   ],
   "metadata": {
    "execution": {
     "iopub.status.busy": "2022-10-09T08:17:11.188514Z",
     "iopub.execute_input": "2022-10-09T08:17:11.189098Z",
     "iopub.status.idle": "2022-10-09T08:17:16.453725Z",
     "shell.execute_reply.started": "2022-10-09T08:17:11.189061Z",
     "shell.execute_reply": "2022-10-09T08:17:16.452709Z"
    },
    "trusted": true,
    "pycharm": {
     "name": "#%%\n"
    }
   },
   "execution_count": 42,
   "outputs": [
    {
     "execution_count": 42,
     "output_type": "execute_result",
     "data": {
      "text/plain": "(93188, 200)"
     },
     "metadata": {}
    }
   ]
  },
  {
   "cell_type": "code",
   "source": [
    "def increasing_3_4(df):\n",
    "    list_number = df['phone_number'].to_list()\n",
    "    list_double_3_increasing = []\n",
    "    \n",
    "    list_3_last_increasing_bool = df['3_last_increasing_bool'].to_list()\n",
    "    list_4_last_increasing_bool = df['4_last_increasing_bool'].to_list()\n",
    "    for i in range(len(list_number)):\n",
    "        if (list_3_last_increasing_bool[i] == 1):\n",
    "            if (list_number[i][3:6] == list_number[i][6:9]):\n",
    "                list_double_3_increasing.append(1)\n",
    "            else: list_double_3_increasing.append(0)\n",
    "        else: list_double_3_increasing.append(0)\n",
    "\n",
    "    df['list_double_3_increasing']= list_double_3_increasing\n",
    "    \n",
    "    list_double_4_increasing = []\n",
    "\n",
    "    for i in range(len(list_number)):\n",
    "        if (list_4_last_increasing_bool[i] == 1):\n",
    "            if (list_number[i][1:5] == list_number[i][5:9]):\n",
    "                list_double_4_increasing.append(1)\n",
    "            else: list_double_4_increasing.append(0)\n",
    "        else: list_double_4_increasing.append(0)\n",
    "    \n",
    "    df['list_double_4_increasing']= list_double_4_increasing\n",
    "    \n",
    "    return df\n",
    "        "
   ],
   "metadata": {
    "execution": {
     "iopub.status.busy": "2022-10-09T08:17:16.455366Z",
     "iopub.execute_input": "2022-10-09T08:17:16.456014Z",
     "iopub.status.idle": "2022-10-09T08:17:16.465243Z",
     "shell.execute_reply.started": "2022-10-09T08:17:16.455976Z",
     "shell.execute_reply": "2022-10-09T08:17:16.463954Z"
    },
    "trusted": true,
    "pycharm": {
     "name": "#%%\n"
    }
   },
   "execution_count": 43,
   "outputs": []
  },
  {
   "cell_type": "code",
   "source": [
    "df = increasing_3_4(df)"
   ],
   "metadata": {
    "execution": {
     "iopub.status.busy": "2022-10-09T08:17:16.468705Z",
     "iopub.execute_input": "2022-10-09T08:17:16.469311Z",
     "iopub.status.idle": "2022-10-09T08:17:16.952313Z",
     "shell.execute_reply.started": "2022-10-09T08:17:16.469283Z",
     "shell.execute_reply": "2022-10-09T08:17:16.951278Z"
    },
    "trusted": true,
    "pycharm": {
     "name": "#%%\n"
    }
   },
   "execution_count": 44,
   "outputs": []
  },
  {
   "cell_type": "code",
   "source": [],
   "metadata": {
    "pycharm": {
     "name": "#%%\n"
    }
   },
   "execution_count": null,
   "outputs": []
  },
  {
   "cell_type": "code",
   "source": [
    "def double_3_last(df):\n",
    "    list_number = df['phone_number'].to_list()\n",
    "    list_double_3_last = []\n",
    "\n",
    "    for i in range(len(list_number)):\n",
    "        if (list_number[i][3:6] == list_number[i][6:9]):\n",
    "            list_double_3_last.append(1)\n",
    "        else: list_double_3_last.append(0)\n",
    "    \n",
    "    df['list_double_3_last']= list_double_3_last\n",
    "    return df"
   ],
   "metadata": {
    "execution": {
     "iopub.status.busy": "2022-10-09T08:17:16.953750Z",
     "iopub.execute_input": "2022-10-09T08:17:16.954371Z",
     "iopub.status.idle": "2022-10-09T08:17:16.960813Z",
     "shell.execute_reply.started": "2022-10-09T08:17:16.954331Z",
     "shell.execute_reply": "2022-10-09T08:17:16.959807Z"
    },
    "trusted": true,
    "pycharm": {
     "name": "#%%\n"
    }
   },
   "execution_count": 45,
   "outputs": []
  },
  {
   "cell_type": "code",
   "source": [
    "df = double_3_last(df)"
   ],
   "metadata": {
    "execution": {
     "iopub.status.busy": "2022-10-09T08:17:16.962337Z",
     "iopub.execute_input": "2022-10-09T08:17:16.962967Z",
     "iopub.status.idle": "2022-10-09T08:17:17.299548Z",
     "shell.execute_reply.started": "2022-10-09T08:17:16.962930Z",
     "shell.execute_reply": "2022-10-09T08:17:17.298476Z"
    },
    "trusted": true,
    "pycharm": {
     "name": "#%%\n"
    }
   },
   "execution_count": 46,
   "outputs": []
  },
  {
   "cell_type": "code",
   "source": [],
   "metadata": {
    "pycharm": {
     "name": "#%%\n"
    }
   },
   "execution_count": null,
   "outputs": []
  },
  {
   "cell_type": "code",
   "source": [
    "df[df['list_double_3_last']==1]"
   ],
   "metadata": {
    "execution": {
     "iopub.status.busy": "2022-10-09T08:17:17.301048Z",
     "iopub.execute_input": "2022-10-09T08:17:17.301438Z",
     "iopub.status.idle": "2022-10-09T08:17:17.782931Z",
     "shell.execute_reply.started": "2022-10-09T08:17:17.301399Z",
     "shell.execute_reply": "2022-10-09T08:17:17.780929Z"
    },
    "trusted": true,
    "pycharm": {
     "name": "#%%\n"
    }
   },
   "execution_count": 47,
   "outputs": [
    {
     "execution_count": 47,
     "output_type": "execute_result",
     "data": {
      "text/plain": "        Unnamed: 0                      id phone_number  price_vnd  \\\n559387      396083  sodepami_vn_0765056056    765056056    3000000   \n17849        52200  sodepami_vn_0562493493    562493493     640000   \n358590      125588  sodepami_vn_0563302302    563302302     650000   \n65932       220753  sodepami_vn_0842988988    842988988   29000000   \n192346      258801  sodepami_vn_0769209209    769209209    4500000   \n...            ...                     ...          ...        ...   \n751148       46654  sodepami_vn_0566490490    566490490     640000   \n700894      357764  sodepami_vn_0797631631    797631631    8800000   \n113254      193139  sodepami_vn_0776512512    776512512    5500000   \n632732      428438  sodepami_vn_0816526526    816526526    8000000   \n230539      403416  sodepami_vn_0785031031    785031031    3500000   \n\n              type  length pos_1 pos_2 pos_3 pos_4  ... pos_6_7_9 pos_6_8_9  \\\n559387  sodepami_v       9     7     6     5     0  ...       606       656   \n17849   sodepami_v       9     5     6     2     4  ...       343       393   \n358590  sodepami_v       9     5     6     3     3  ...       232       202   \n65932   sodepami_v       9     8     4     2     9  ...       898       888   \n192346  sodepami_v       9     7     6     9     2  ...       929       909   \n...            ...     ...   ...   ...   ...   ...  ...       ...       ...   \n751148  sodepami_v       9     5     6     6     4  ...       040       090   \n700894  sodepami_v       9     7     9     7     6  ...       161       131   \n113254  sodepami_v       9     7     7     6     5  ...       252       212   \n632732  sodepami_v       9     8     1     6     5  ...       656       626   \n230539  sodepami_v       9     7     8     5     0  ...       101       131   \n\n       pos_7_8_9 phat_loc_2_bool phat_loc_2_cat  phat_loc_4_bool  \\\n559387       056               0                               0   \n17849        493               0                               0   \n358590       302               0                               0   \n65932        988               0                               0   \n192346       209               0                               0   \n...          ...             ...            ...              ...   \n751148       490               0                               0   \n700894       631               0                               0   \n113254       512               0                               0   \n632732       526               0                               0   \n230539       031               0                               0   \n\n        phat_loc_4_cat  list_double_3_increasing  list_double_4_increasing  \\\n559387                                         0                         0   \n17849                                          0                         0   \n358590                                         0                         0   \n65932                                          0                         0   \n192346                                         0                         0   \n...                ...                       ...                       ...   \n751148                                         0                         0   \n700894                                         0                         0   \n113254                                         0                         0   \n632732                                         0                         0   \n230539                                         0                         0   \n\n        list_double_3_last  \n559387                   1  \n17849                    1  \n358590                   1  \n65932                    1  \n192346                   1  \n...                    ...  \n751148                   1  \n700894                   1  \n113254                   1  \n632732                   1  \n230539                   1  \n\n[19707 rows x 203 columns]",
      "text/html": "<div>\n<style scoped>\n    .dataframe tbody tr th:only-of-type {\n        vertical-align: middle;\n    }\n\n    .dataframe tbody tr th {\n        vertical-align: top;\n    }\n\n    .dataframe thead th {\n        text-align: right;\n    }\n</style>\n<table border=\"1\" class=\"dataframe\">\n  <thead>\n    <tr style=\"text-align: right;\">\n      <th></th>\n      <th>Unnamed: 0</th>\n      <th>id</th>\n      <th>phone_number</th>\n      <th>price_vnd</th>\n      <th>type</th>\n      <th>length</th>\n      <th>pos_1</th>\n      <th>pos_2</th>\n      <th>pos_3</th>\n      <th>pos_4</th>\n      <th>...</th>\n      <th>pos_6_7_9</th>\n      <th>pos_6_8_9</th>\n      <th>pos_7_8_9</th>\n      <th>phat_loc_2_bool</th>\n      <th>phat_loc_2_cat</th>\n      <th>phat_loc_4_bool</th>\n      <th>phat_loc_4_cat</th>\n      <th>list_double_3_increasing</th>\n      <th>list_double_4_increasing</th>\n      <th>list_double_3_last</th>\n    </tr>\n  </thead>\n  <tbody>\n    <tr>\n      <th>559387</th>\n      <td>396083</td>\n      <td>sodepami_vn_0765056056</td>\n      <td>765056056</td>\n      <td>3000000</td>\n      <td>sodepami_v</td>\n      <td>9</td>\n      <td>7</td>\n      <td>6</td>\n      <td>5</td>\n      <td>0</td>\n      <td>...</td>\n      <td>606</td>\n      <td>656</td>\n      <td>056</td>\n      <td>0</td>\n      <td></td>\n      <td>0</td>\n      <td></td>\n      <td>0</td>\n      <td>0</td>\n      <td>1</td>\n    </tr>\n    <tr>\n      <th>17849</th>\n      <td>52200</td>\n      <td>sodepami_vn_0562493493</td>\n      <td>562493493</td>\n      <td>640000</td>\n      <td>sodepami_v</td>\n      <td>9</td>\n      <td>5</td>\n      <td>6</td>\n      <td>2</td>\n      <td>4</td>\n      <td>...</td>\n      <td>343</td>\n      <td>393</td>\n      <td>493</td>\n      <td>0</td>\n      <td></td>\n      <td>0</td>\n      <td></td>\n      <td>0</td>\n      <td>0</td>\n      <td>1</td>\n    </tr>\n    <tr>\n      <th>358590</th>\n      <td>125588</td>\n      <td>sodepami_vn_0563302302</td>\n      <td>563302302</td>\n      <td>650000</td>\n      <td>sodepami_v</td>\n      <td>9</td>\n      <td>5</td>\n      <td>6</td>\n      <td>3</td>\n      <td>3</td>\n      <td>...</td>\n      <td>232</td>\n      <td>202</td>\n      <td>302</td>\n      <td>0</td>\n      <td></td>\n      <td>0</td>\n      <td></td>\n      <td>0</td>\n      <td>0</td>\n      <td>1</td>\n    </tr>\n    <tr>\n      <th>65932</th>\n      <td>220753</td>\n      <td>sodepami_vn_0842988988</td>\n      <td>842988988</td>\n      <td>29000000</td>\n      <td>sodepami_v</td>\n      <td>9</td>\n      <td>8</td>\n      <td>4</td>\n      <td>2</td>\n      <td>9</td>\n      <td>...</td>\n      <td>898</td>\n      <td>888</td>\n      <td>988</td>\n      <td>0</td>\n      <td></td>\n      <td>0</td>\n      <td></td>\n      <td>0</td>\n      <td>0</td>\n      <td>1</td>\n    </tr>\n    <tr>\n      <th>192346</th>\n      <td>258801</td>\n      <td>sodepami_vn_0769209209</td>\n      <td>769209209</td>\n      <td>4500000</td>\n      <td>sodepami_v</td>\n      <td>9</td>\n      <td>7</td>\n      <td>6</td>\n      <td>9</td>\n      <td>2</td>\n      <td>...</td>\n      <td>929</td>\n      <td>909</td>\n      <td>209</td>\n      <td>0</td>\n      <td></td>\n      <td>0</td>\n      <td></td>\n      <td>0</td>\n      <td>0</td>\n      <td>1</td>\n    </tr>\n    <tr>\n      <th>...</th>\n      <td>...</td>\n      <td>...</td>\n      <td>...</td>\n      <td>...</td>\n      <td>...</td>\n      <td>...</td>\n      <td>...</td>\n      <td>...</td>\n      <td>...</td>\n      <td>...</td>\n      <td>...</td>\n      <td>...</td>\n      <td>...</td>\n      <td>...</td>\n      <td>...</td>\n      <td>...</td>\n      <td>...</td>\n      <td>...</td>\n      <td>...</td>\n      <td>...</td>\n      <td>...</td>\n    </tr>\n    <tr>\n      <th>751148</th>\n      <td>46654</td>\n      <td>sodepami_vn_0566490490</td>\n      <td>566490490</td>\n      <td>640000</td>\n      <td>sodepami_v</td>\n      <td>9</td>\n      <td>5</td>\n      <td>6</td>\n      <td>6</td>\n      <td>4</td>\n      <td>...</td>\n      <td>040</td>\n      <td>090</td>\n      <td>490</td>\n      <td>0</td>\n      <td></td>\n      <td>0</td>\n      <td></td>\n      <td>0</td>\n      <td>0</td>\n      <td>1</td>\n    </tr>\n    <tr>\n      <th>700894</th>\n      <td>357764</td>\n      <td>sodepami_vn_0797631631</td>\n      <td>797631631</td>\n      <td>8800000</td>\n      <td>sodepami_v</td>\n      <td>9</td>\n      <td>7</td>\n      <td>9</td>\n      <td>7</td>\n      <td>6</td>\n      <td>...</td>\n      <td>161</td>\n      <td>131</td>\n      <td>631</td>\n      <td>0</td>\n      <td></td>\n      <td>0</td>\n      <td></td>\n      <td>0</td>\n      <td>0</td>\n      <td>1</td>\n    </tr>\n    <tr>\n      <th>113254</th>\n      <td>193139</td>\n      <td>sodepami_vn_0776512512</td>\n      <td>776512512</td>\n      <td>5500000</td>\n      <td>sodepami_v</td>\n      <td>9</td>\n      <td>7</td>\n      <td>7</td>\n      <td>6</td>\n      <td>5</td>\n      <td>...</td>\n      <td>252</td>\n      <td>212</td>\n      <td>512</td>\n      <td>0</td>\n      <td></td>\n      <td>0</td>\n      <td></td>\n      <td>0</td>\n      <td>0</td>\n      <td>1</td>\n    </tr>\n    <tr>\n      <th>632732</th>\n      <td>428438</td>\n      <td>sodepami_vn_0816526526</td>\n      <td>816526526</td>\n      <td>8000000</td>\n      <td>sodepami_v</td>\n      <td>9</td>\n      <td>8</td>\n      <td>1</td>\n      <td>6</td>\n      <td>5</td>\n      <td>...</td>\n      <td>656</td>\n      <td>626</td>\n      <td>526</td>\n      <td>0</td>\n      <td></td>\n      <td>0</td>\n      <td></td>\n      <td>0</td>\n      <td>0</td>\n      <td>1</td>\n    </tr>\n    <tr>\n      <th>230539</th>\n      <td>403416</td>\n      <td>sodepami_vn_0785031031</td>\n      <td>785031031</td>\n      <td>3500000</td>\n      <td>sodepami_v</td>\n      <td>9</td>\n      <td>7</td>\n      <td>8</td>\n      <td>5</td>\n      <td>0</td>\n      <td>...</td>\n      <td>101</td>\n      <td>131</td>\n      <td>031</td>\n      <td>0</td>\n      <td></td>\n      <td>0</td>\n      <td></td>\n      <td>0</td>\n      <td>0</td>\n      <td>1</td>\n    </tr>\n  </tbody>\n</table>\n<p>19707 rows × 203 columns</p>\n</div>"
     },
     "metadata": {}
    }
   ]
  },
  {
   "cell_type": "code",
   "source": [
    "def triple_2_last(df):\n",
    "    list_number = df['phone_number'].to_list()\n",
    "    list_triple_2_last_r1 = [] # list for triple 2 last but too not 'beautiful'\n",
    "    tmp_list = [5,6,8,9]\n",
    "\n",
    "    for i in range(len(list_number)):\n",
    "        if(int(list_number[i][8]) in tmp_list and int(list_number[i][7]) in tmp_list ):\n",
    "            list_triple_2_last_r1.append(0)\n",
    "        else:\n",
    "            if (list_number[i][3:5] == list_number[i][5:7] == list_number[i][7:9]):\n",
    "                list_triple_2_last_r1.append(1)\n",
    "            else:\n",
    "                list_triple_2_last_r1.append(0)\n",
    "                \n",
    "    df['triple_2_last_r1'] = list_triple_2_last_r1\n",
    "    return df"
   ],
   "metadata": {
    "execution": {
     "iopub.status.busy": "2022-10-09T08:17:17.785990Z",
     "iopub.execute_input": "2022-10-09T08:17:17.786293Z",
     "iopub.status.idle": "2022-10-09T08:17:17.794958Z",
     "shell.execute_reply.started": "2022-10-09T08:17:17.786265Z",
     "shell.execute_reply": "2022-10-09T08:17:17.793927Z"
    },
    "trusted": true,
    "pycharm": {
     "name": "#%%\n"
    }
   },
   "execution_count": 48,
   "outputs": []
  },
  {
   "cell_type": "code",
   "source": [
    "\n",
    "df = triple_2_last(df)"
   ],
   "metadata": {
    "execution": {
     "iopub.status.busy": "2022-10-09T08:17:17.796504Z",
     "iopub.execute_input": "2022-10-09T08:17:17.797596Z",
     "iopub.status.idle": "2022-10-09T08:17:18.347638Z",
     "shell.execute_reply.started": "2022-10-09T08:17:17.797559Z",
     "shell.execute_reply": "2022-10-09T08:17:18.346544Z"
    },
    "trusted": true,
    "pycharm": {
     "name": "#%%\n"
    }
   },
   "execution_count": 49,
   "outputs": []
  },
  {
   "cell_type": "code",
   "source": [
    "df[df['triple_2_last_r1'] == 1]"
   ],
   "metadata": {
    "execution": {
     "iopub.status.busy": "2022-10-09T08:17:18.349337Z",
     "iopub.execute_input": "2022-10-09T08:17:18.349733Z",
     "iopub.status.idle": "2022-10-09T08:17:18.572063Z",
     "shell.execute_reply.started": "2022-10-09T08:17:18.349687Z",
     "shell.execute_reply": "2022-10-09T08:17:18.570939Z"
    },
    "trusted": true,
    "pycharm": {
     "name": "#%%\n"
    }
   },
   "execution_count": 50,
   "outputs": [
    {
     "execution_count": 50,
     "output_type": "execute_result",
     "data": {
      "text/plain": "        Unnamed: 0                      id phone_number  price_vnd  \\\n725117       49590  sodepami_vn_0559636363    559636363   35800000   \n263232       32277  sodepami_vn_0564323232    564323232   16000000   \n273506       45049  sodepami_vn_0352878787    352878787   45000000   \n333677       15135  sodepami_vn_0926838383    926838383  230000000   \n412911       66527  sodepami_vn_0352747474    352747474   23000000   \n...            ...                     ...          ...        ...   \n67567        15932  sodepami_vn_0935626262    935626262  328000000   \n384943       59961  sodepami_vn_0769424242    769424242   28000000   \n590685       22453  sodepami_vn_0776878787    776878787   45000000   \n84984        51882  sodepami_vn_0587232323    587232323   18000000   \n880961       70262  sodepami_vn_0816808080    816808080   27000000   \n\n              type  length pos_1 pos_2 pos_3 pos_4  ... pos_6_8_9 pos_7_8_9  \\\n725117  sodepami_v       9     5     5     9     6  ...       663       363   \n263232  sodepami_v       9     5     6     4     3  ...       332       232   \n273506  sodepami_v       9     3     5     2     8  ...       887       787   \n333677  sodepami_v       9     9     2     6     8  ...       883       383   \n412911  sodepami_v       9     3     5     2     7  ...       774       474   \n...            ...     ...   ...   ...   ...   ...  ...       ...       ...   \n67567   sodepami_v       9     9     3     5     6  ...       662       262   \n384943  sodepami_v       9     7     6     9     4  ...       442       242   \n590685  sodepami_v       9     7     7     6     8  ...       887       787   \n84984   sodepami_v       9     5     8     7     2  ...       223       323   \n880961  sodepami_v       9     8     1     6     8  ...       880       080   \n\n       phat_loc_2_bool phat_loc_2_cat phat_loc_4_bool  phat_loc_4_cat  \\\n725117               0                              0                   \n263232               0                              0                   \n273506               0                              0                   \n333677               0                              0                   \n412911               0                              0                   \n...                ...            ...             ...             ...   \n67567                0                              0                   \n384943               0                              0                   \n590685               0                              0                   \n84984                0                              0                   \n880961               0                              0                   \n\n        list_double_3_increasing  list_double_4_increasing  \\\n725117                         0                         0   \n263232                         0                         0   \n273506                         0                         0   \n333677                         0                         0   \n412911                         0                         0   \n...                          ...                       ...   \n67567                          0                         0   \n384943                         0                         0   \n590685                         0                         0   \n84984                          0                         0   \n880961                         0                         0   \n\n        list_double_3_last  triple_2_last_r1  \n725117                   0                 1  \n263232                   0                 1  \n273506                   0                 1  \n333677                   0                 1  \n412911                   0                 1  \n...                    ...               ...  \n67567                    0                 1  \n384943                   0                 1  \n590685                   0                 1  \n84984                    0                 1  \n880961                   0                 1  \n\n[1131 rows x 204 columns]",
      "text/html": "<div>\n<style scoped>\n    .dataframe tbody tr th:only-of-type {\n        vertical-align: middle;\n    }\n\n    .dataframe tbody tr th {\n        vertical-align: top;\n    }\n\n    .dataframe thead th {\n        text-align: right;\n    }\n</style>\n<table border=\"1\" class=\"dataframe\">\n  <thead>\n    <tr style=\"text-align: right;\">\n      <th></th>\n      <th>Unnamed: 0</th>\n      <th>id</th>\n      <th>phone_number</th>\n      <th>price_vnd</th>\n      <th>type</th>\n      <th>length</th>\n      <th>pos_1</th>\n      <th>pos_2</th>\n      <th>pos_3</th>\n      <th>pos_4</th>\n      <th>...</th>\n      <th>pos_6_8_9</th>\n      <th>pos_7_8_9</th>\n      <th>phat_loc_2_bool</th>\n      <th>phat_loc_2_cat</th>\n      <th>phat_loc_4_bool</th>\n      <th>phat_loc_4_cat</th>\n      <th>list_double_3_increasing</th>\n      <th>list_double_4_increasing</th>\n      <th>list_double_3_last</th>\n      <th>triple_2_last_r1</th>\n    </tr>\n  </thead>\n  <tbody>\n    <tr>\n      <th>725117</th>\n      <td>49590</td>\n      <td>sodepami_vn_0559636363</td>\n      <td>559636363</td>\n      <td>35800000</td>\n      <td>sodepami_v</td>\n      <td>9</td>\n      <td>5</td>\n      <td>5</td>\n      <td>9</td>\n      <td>6</td>\n      <td>...</td>\n      <td>663</td>\n      <td>363</td>\n      <td>0</td>\n      <td></td>\n      <td>0</td>\n      <td></td>\n      <td>0</td>\n      <td>0</td>\n      <td>0</td>\n      <td>1</td>\n    </tr>\n    <tr>\n      <th>263232</th>\n      <td>32277</td>\n      <td>sodepami_vn_0564323232</td>\n      <td>564323232</td>\n      <td>16000000</td>\n      <td>sodepami_v</td>\n      <td>9</td>\n      <td>5</td>\n      <td>6</td>\n      <td>4</td>\n      <td>3</td>\n      <td>...</td>\n      <td>332</td>\n      <td>232</td>\n      <td>0</td>\n      <td></td>\n      <td>0</td>\n      <td></td>\n      <td>0</td>\n      <td>0</td>\n      <td>0</td>\n      <td>1</td>\n    </tr>\n    <tr>\n      <th>273506</th>\n      <td>45049</td>\n      <td>sodepami_vn_0352878787</td>\n      <td>352878787</td>\n      <td>45000000</td>\n      <td>sodepami_v</td>\n      <td>9</td>\n      <td>3</td>\n      <td>5</td>\n      <td>2</td>\n      <td>8</td>\n      <td>...</td>\n      <td>887</td>\n      <td>787</td>\n      <td>0</td>\n      <td></td>\n      <td>0</td>\n      <td></td>\n      <td>0</td>\n      <td>0</td>\n      <td>0</td>\n      <td>1</td>\n    </tr>\n    <tr>\n      <th>333677</th>\n      <td>15135</td>\n      <td>sodepami_vn_0926838383</td>\n      <td>926838383</td>\n      <td>230000000</td>\n      <td>sodepami_v</td>\n      <td>9</td>\n      <td>9</td>\n      <td>2</td>\n      <td>6</td>\n      <td>8</td>\n      <td>...</td>\n      <td>883</td>\n      <td>383</td>\n      <td>0</td>\n      <td></td>\n      <td>0</td>\n      <td></td>\n      <td>0</td>\n      <td>0</td>\n      <td>0</td>\n      <td>1</td>\n    </tr>\n    <tr>\n      <th>412911</th>\n      <td>66527</td>\n      <td>sodepami_vn_0352747474</td>\n      <td>352747474</td>\n      <td>23000000</td>\n      <td>sodepami_v</td>\n      <td>9</td>\n      <td>3</td>\n      <td>5</td>\n      <td>2</td>\n      <td>7</td>\n      <td>...</td>\n      <td>774</td>\n      <td>474</td>\n      <td>0</td>\n      <td></td>\n      <td>0</td>\n      <td></td>\n      <td>0</td>\n      <td>0</td>\n      <td>0</td>\n      <td>1</td>\n    </tr>\n    <tr>\n      <th>...</th>\n      <td>...</td>\n      <td>...</td>\n      <td>...</td>\n      <td>...</td>\n      <td>...</td>\n      <td>...</td>\n      <td>...</td>\n      <td>...</td>\n      <td>...</td>\n      <td>...</td>\n      <td>...</td>\n      <td>...</td>\n      <td>...</td>\n      <td>...</td>\n      <td>...</td>\n      <td>...</td>\n      <td>...</td>\n      <td>...</td>\n      <td>...</td>\n      <td>...</td>\n      <td>...</td>\n    </tr>\n    <tr>\n      <th>67567</th>\n      <td>15932</td>\n      <td>sodepami_vn_0935626262</td>\n      <td>935626262</td>\n      <td>328000000</td>\n      <td>sodepami_v</td>\n      <td>9</td>\n      <td>9</td>\n      <td>3</td>\n      <td>5</td>\n      <td>6</td>\n      <td>...</td>\n      <td>662</td>\n      <td>262</td>\n      <td>0</td>\n      <td></td>\n      <td>0</td>\n      <td></td>\n      <td>0</td>\n      <td>0</td>\n      <td>0</td>\n      <td>1</td>\n    </tr>\n    <tr>\n      <th>384943</th>\n      <td>59961</td>\n      <td>sodepami_vn_0769424242</td>\n      <td>769424242</td>\n      <td>28000000</td>\n      <td>sodepami_v</td>\n      <td>9</td>\n      <td>7</td>\n      <td>6</td>\n      <td>9</td>\n      <td>4</td>\n      <td>...</td>\n      <td>442</td>\n      <td>242</td>\n      <td>0</td>\n      <td></td>\n      <td>0</td>\n      <td></td>\n      <td>0</td>\n      <td>0</td>\n      <td>0</td>\n      <td>1</td>\n    </tr>\n    <tr>\n      <th>590685</th>\n      <td>22453</td>\n      <td>sodepami_vn_0776878787</td>\n      <td>776878787</td>\n      <td>45000000</td>\n      <td>sodepami_v</td>\n      <td>9</td>\n      <td>7</td>\n      <td>7</td>\n      <td>6</td>\n      <td>8</td>\n      <td>...</td>\n      <td>887</td>\n      <td>787</td>\n      <td>0</td>\n      <td></td>\n      <td>0</td>\n      <td></td>\n      <td>0</td>\n      <td>0</td>\n      <td>0</td>\n      <td>1</td>\n    </tr>\n    <tr>\n      <th>84984</th>\n      <td>51882</td>\n      <td>sodepami_vn_0587232323</td>\n      <td>587232323</td>\n      <td>18000000</td>\n      <td>sodepami_v</td>\n      <td>9</td>\n      <td>5</td>\n      <td>8</td>\n      <td>7</td>\n      <td>2</td>\n      <td>...</td>\n      <td>223</td>\n      <td>323</td>\n      <td>0</td>\n      <td></td>\n      <td>0</td>\n      <td></td>\n      <td>0</td>\n      <td>0</td>\n      <td>0</td>\n      <td>1</td>\n    </tr>\n    <tr>\n      <th>880961</th>\n      <td>70262</td>\n      <td>sodepami_vn_0816808080</td>\n      <td>816808080</td>\n      <td>27000000</td>\n      <td>sodepami_v</td>\n      <td>9</td>\n      <td>8</td>\n      <td>1</td>\n      <td>6</td>\n      <td>8</td>\n      <td>...</td>\n      <td>880</td>\n      <td>080</td>\n      <td>0</td>\n      <td></td>\n      <td>0</td>\n      <td></td>\n      <td>0</td>\n      <td>0</td>\n      <td>0</td>\n      <td>1</td>\n    </tr>\n  </tbody>\n</table>\n<p>1131 rows × 204 columns</p>\n</div>"
     },
     "metadata": {}
    }
   ]
  },
  {
   "cell_type": "code",
   "source": [
    "# Sim kep duoi (ABB.CDD) va sim lap dau(ABC.ABD), lap cuoi (ABC.DBC)\n",
    "def sim_6_last(df):\n",
    "    list_number = df['phone_number'].to_list()\n",
    "    list_kep_duoi_bool = []\n",
    "    list_kep_duoi_cat = []\n",
    "\n",
    "    list_lap_dau_bool = []\n",
    "    list_lap_dau_cat = []\n",
    "\n",
    "    list_lap_cuoi_bool = []\n",
    "    list_lap_cuoi_cat = []\n",
    "\n",
    "    for x in list_number:\n",
    "        if (x[4:6] == x[7:]):\n",
    "            list_lap_cuoi_bool.append(1)\n",
    "            list_lap_cuoi_cat.append(x[4:6])\n",
    "        \n",
    "            if (x[7] == x[8]):\n",
    "                list_kep_duoi_bool.append(1)\n",
    "                list_kep_duoi_cat.append(x[8])\n",
    "            else:\n",
    "                list_kep_duoi_bool.append(0)\n",
    "                list_kep_duoi_cat.append('')\n",
    "        else:\n",
    "            list_lap_cuoi_bool.append(0)\n",
    "            list_lap_cuoi_cat.append('')\n",
    "        \n",
    "            list_kep_duoi_bool.append(0)\n",
    "            list_kep_duoi_cat.append('')\n",
    "        \n",
    "        if (x[3:5] == x[6:8]):\n",
    "            list_lap_dau_bool.append(1)\n",
    "            list_lap_dau_cat.append(x[3:5])\n",
    "        else:\n",
    "            list_lap_dau_bool.append(0)\n",
    "            list_lap_dau_cat.append('')\n",
    "    df['kep_duoi_bool'] = list_kep_duoi_bool\n",
    "    df['kep_duoi_cat'] = list_kep_duoi_cat\n",
    "\n",
    "    df['lap_dau_bool'] = list_lap_dau_bool\n",
    "    df['lap_dau_cat'] = list_lap_dau_cat\n",
    "\n",
    "    df['lap_cuoi_bool'] = list_lap_cuoi_bool\n",
    "    df['lap_cuoi_cat'] = list_lap_cuoi_cat\n",
    "    \n",
    "    return df"
   ],
   "metadata": {
    "execution": {
     "iopub.status.busy": "2022-10-09T08:17:18.573762Z",
     "iopub.execute_input": "2022-10-09T08:17:18.574161Z",
     "iopub.status.idle": "2022-10-09T08:17:18.585980Z",
     "shell.execute_reply.started": "2022-10-09T08:17:18.574124Z",
     "shell.execute_reply": "2022-10-09T08:17:18.584923Z"
    },
    "trusted": true,
    "pycharm": {
     "name": "#%%\n"
    }
   },
   "execution_count": 51,
   "outputs": []
  },
  {
   "cell_type": "code",
   "source": [
    "\n",
    "df = sim_6_last(df)"
   ],
   "metadata": {
    "execution": {
     "iopub.status.busy": "2022-10-09T08:17:18.587730Z",
     "iopub.execute_input": "2022-10-09T08:17:18.588152Z",
     "iopub.status.idle": "2022-10-09T08:17:19.575242Z",
     "shell.execute_reply.started": "2022-10-09T08:17:18.588113Z",
     "shell.execute_reply": "2022-10-09T08:17:19.574183Z"
    },
    "trusted": true,
    "pycharm": {
     "name": "#%%\n"
    }
   },
   "execution_count": 52,
   "outputs": []
  },
  {
   "cell_type": "code",
   "source": [
    "df[df['lap_dau_bool']==1]"
   ],
   "metadata": {
    "execution": {
     "iopub.status.busy": "2022-10-09T08:17:19.576626Z",
     "iopub.execute_input": "2022-10-09T08:17:19.577690Z",
     "iopub.status.idle": "2022-10-09T08:17:25.048103Z",
     "shell.execute_reply.started": "2022-10-09T08:17:19.577649Z",
     "shell.execute_reply": "2022-10-09T08:17:25.046942Z"
    },
    "trusted": true,
    "pycharm": {
     "name": "#%%\n"
    }
   },
   "execution_count": 53,
   "outputs": [
    {
     "execution_count": 53,
     "output_type": "execute_result",
     "data": {
      "text/plain": "        Unnamed: 0                      id phone_number  price_vnd  \\\n559387      396083  sodepami_vn_0765056056    765056056    3000000   \n17849        52200  sodepami_vn_0562493493    562493493     640000   \n536833      144998  sodepami_vn_0854723724    854723724     700000   \n358590      125588  sodepami_vn_0563302302    563302302     650000   \n542772      710823  sodepami_vn_0765463468    765463468    1000000   \n...            ...                     ...          ...        ...   \n113254      193139  sodepami_vn_0776512512    776512512    5500000   \n32598        43724  sodepami_vn_0768444445    768444445    5800000   \n697494      124671  sodepami_vn_0843765766    843765766    1100000   \n632732      428438  sodepami_vn_0816526526    816526526    8000000   \n230539      403416  sodepami_vn_0785031031    785031031    3500000   \n\n              type  length pos_1 pos_2 pos_3 pos_4  ...  \\\n559387  sodepami_v       9     7     6     5     0  ...   \n17849   sodepami_v       9     5     6     2     4  ...   \n536833  sodepami_v       9     8     5     4     7  ...   \n358590  sodepami_v       9     5     6     3     3  ...   \n542772  sodepami_v       9     7     6     5     4  ...   \n...            ...     ...   ...   ...   ...   ...  ...   \n113254  sodepami_v       9     7     7     6     5  ...   \n32598   sodepami_v       9     7     6     8     4  ...   \n697494  sodepami_v       9     8     4     3     7  ...   \n632732  sodepami_v       9     8     1     6     5  ...   \n230539  sodepami_v       9     7     8     5     0  ...   \n\n       list_double_3_increasing list_double_4_increasing list_double_3_last  \\\n559387                        0                        0                  1   \n17849                         0                        0                  1   \n536833                        0                        0                  0   \n358590                        0                        0                  1   \n542772                        0                        0                  0   \n...                         ...                      ...                ...   \n113254                        0                        0                  1   \n32598                         0                        0                  0   \n697494                        0                        0                  0   \n632732                        0                        0                  1   \n230539                        0                        0                  1   \n\n       triple_2_last_r1 kep_duoi_bool  kep_duoi_cat  lap_dau_bool  \\\n559387                0             0                           1   \n17849                 0             0                           1   \n536833                0             0                           1   \n358590                0             0                           1   \n542772                0             0                           1   \n...                 ...           ...           ...           ...   \n113254                0             0                           1   \n32598                 0             0                           1   \n697494                0             0                           1   \n632732                0             0                           1   \n230539                0             0                           1   \n\n        lap_dau_cat  lap_cuoi_bool  lap_cuoi_cat  \n559387           05              1            56  \n17849            49              1            93  \n536833           72              0                \n358590           30              1            02  \n542772           46              0                \n...             ...            ...           ...  \n113254           51              1            12  \n32598            44              0                \n697494           76              0                \n632732           52              1            26  \n230539           03              1            31  \n\n[33231 rows x 210 columns]",
      "text/html": "<div>\n<style scoped>\n    .dataframe tbody tr th:only-of-type {\n        vertical-align: middle;\n    }\n\n    .dataframe tbody tr th {\n        vertical-align: top;\n    }\n\n    .dataframe thead th {\n        text-align: right;\n    }\n</style>\n<table border=\"1\" class=\"dataframe\">\n  <thead>\n    <tr style=\"text-align: right;\">\n      <th></th>\n      <th>Unnamed: 0</th>\n      <th>id</th>\n      <th>phone_number</th>\n      <th>price_vnd</th>\n      <th>type</th>\n      <th>length</th>\n      <th>pos_1</th>\n      <th>pos_2</th>\n      <th>pos_3</th>\n      <th>pos_4</th>\n      <th>...</th>\n      <th>list_double_3_increasing</th>\n      <th>list_double_4_increasing</th>\n      <th>list_double_3_last</th>\n      <th>triple_2_last_r1</th>\n      <th>kep_duoi_bool</th>\n      <th>kep_duoi_cat</th>\n      <th>lap_dau_bool</th>\n      <th>lap_dau_cat</th>\n      <th>lap_cuoi_bool</th>\n      <th>lap_cuoi_cat</th>\n    </tr>\n  </thead>\n  <tbody>\n    <tr>\n      <th>559387</th>\n      <td>396083</td>\n      <td>sodepami_vn_0765056056</td>\n      <td>765056056</td>\n      <td>3000000</td>\n      <td>sodepami_v</td>\n      <td>9</td>\n      <td>7</td>\n      <td>6</td>\n      <td>5</td>\n      <td>0</td>\n      <td>...</td>\n      <td>0</td>\n      <td>0</td>\n      <td>1</td>\n      <td>0</td>\n      <td>0</td>\n      <td></td>\n      <td>1</td>\n      <td>05</td>\n      <td>1</td>\n      <td>56</td>\n    </tr>\n    <tr>\n      <th>17849</th>\n      <td>52200</td>\n      <td>sodepami_vn_0562493493</td>\n      <td>562493493</td>\n      <td>640000</td>\n      <td>sodepami_v</td>\n      <td>9</td>\n      <td>5</td>\n      <td>6</td>\n      <td>2</td>\n      <td>4</td>\n      <td>...</td>\n      <td>0</td>\n      <td>0</td>\n      <td>1</td>\n      <td>0</td>\n      <td>0</td>\n      <td></td>\n      <td>1</td>\n      <td>49</td>\n      <td>1</td>\n      <td>93</td>\n    </tr>\n    <tr>\n      <th>536833</th>\n      <td>144998</td>\n      <td>sodepami_vn_0854723724</td>\n      <td>854723724</td>\n      <td>700000</td>\n      <td>sodepami_v</td>\n      <td>9</td>\n      <td>8</td>\n      <td>5</td>\n      <td>4</td>\n      <td>7</td>\n      <td>...</td>\n      <td>0</td>\n      <td>0</td>\n      <td>0</td>\n      <td>0</td>\n      <td>0</td>\n      <td></td>\n      <td>1</td>\n      <td>72</td>\n      <td>0</td>\n      <td></td>\n    </tr>\n    <tr>\n      <th>358590</th>\n      <td>125588</td>\n      <td>sodepami_vn_0563302302</td>\n      <td>563302302</td>\n      <td>650000</td>\n      <td>sodepami_v</td>\n      <td>9</td>\n      <td>5</td>\n      <td>6</td>\n      <td>3</td>\n      <td>3</td>\n      <td>...</td>\n      <td>0</td>\n      <td>0</td>\n      <td>1</td>\n      <td>0</td>\n      <td>0</td>\n      <td></td>\n      <td>1</td>\n      <td>30</td>\n      <td>1</td>\n      <td>02</td>\n    </tr>\n    <tr>\n      <th>542772</th>\n      <td>710823</td>\n      <td>sodepami_vn_0765463468</td>\n      <td>765463468</td>\n      <td>1000000</td>\n      <td>sodepami_v</td>\n      <td>9</td>\n      <td>7</td>\n      <td>6</td>\n      <td>5</td>\n      <td>4</td>\n      <td>...</td>\n      <td>0</td>\n      <td>0</td>\n      <td>0</td>\n      <td>0</td>\n      <td>0</td>\n      <td></td>\n      <td>1</td>\n      <td>46</td>\n      <td>0</td>\n      <td></td>\n    </tr>\n    <tr>\n      <th>...</th>\n      <td>...</td>\n      <td>...</td>\n      <td>...</td>\n      <td>...</td>\n      <td>...</td>\n      <td>...</td>\n      <td>...</td>\n      <td>...</td>\n      <td>...</td>\n      <td>...</td>\n      <td>...</td>\n      <td>...</td>\n      <td>...</td>\n      <td>...</td>\n      <td>...</td>\n      <td>...</td>\n      <td>...</td>\n      <td>...</td>\n      <td>...</td>\n      <td>...</td>\n      <td>...</td>\n    </tr>\n    <tr>\n      <th>113254</th>\n      <td>193139</td>\n      <td>sodepami_vn_0776512512</td>\n      <td>776512512</td>\n      <td>5500000</td>\n      <td>sodepami_v</td>\n      <td>9</td>\n      <td>7</td>\n      <td>7</td>\n      <td>6</td>\n      <td>5</td>\n      <td>...</td>\n      <td>0</td>\n      <td>0</td>\n      <td>1</td>\n      <td>0</td>\n      <td>0</td>\n      <td></td>\n      <td>1</td>\n      <td>51</td>\n      <td>1</td>\n      <td>12</td>\n    </tr>\n    <tr>\n      <th>32598</th>\n      <td>43724</td>\n      <td>sodepami_vn_0768444445</td>\n      <td>768444445</td>\n      <td>5800000</td>\n      <td>sodepami_v</td>\n      <td>9</td>\n      <td>7</td>\n      <td>6</td>\n      <td>8</td>\n      <td>4</td>\n      <td>...</td>\n      <td>0</td>\n      <td>0</td>\n      <td>0</td>\n      <td>0</td>\n      <td>0</td>\n      <td></td>\n      <td>1</td>\n      <td>44</td>\n      <td>0</td>\n      <td></td>\n    </tr>\n    <tr>\n      <th>697494</th>\n      <td>124671</td>\n      <td>sodepami_vn_0843765766</td>\n      <td>843765766</td>\n      <td>1100000</td>\n      <td>sodepami_v</td>\n      <td>9</td>\n      <td>8</td>\n      <td>4</td>\n      <td>3</td>\n      <td>7</td>\n      <td>...</td>\n      <td>0</td>\n      <td>0</td>\n      <td>0</td>\n      <td>0</td>\n      <td>0</td>\n      <td></td>\n      <td>1</td>\n      <td>76</td>\n      <td>0</td>\n      <td></td>\n    </tr>\n    <tr>\n      <th>632732</th>\n      <td>428438</td>\n      <td>sodepami_vn_0816526526</td>\n      <td>816526526</td>\n      <td>8000000</td>\n      <td>sodepami_v</td>\n      <td>9</td>\n      <td>8</td>\n      <td>1</td>\n      <td>6</td>\n      <td>5</td>\n      <td>...</td>\n      <td>0</td>\n      <td>0</td>\n      <td>1</td>\n      <td>0</td>\n      <td>0</td>\n      <td></td>\n      <td>1</td>\n      <td>52</td>\n      <td>1</td>\n      <td>26</td>\n    </tr>\n    <tr>\n      <th>230539</th>\n      <td>403416</td>\n      <td>sodepami_vn_0785031031</td>\n      <td>785031031</td>\n      <td>3500000</td>\n      <td>sodepami_v</td>\n      <td>9</td>\n      <td>7</td>\n      <td>8</td>\n      <td>5</td>\n      <td>0</td>\n      <td>...</td>\n      <td>0</td>\n      <td>0</td>\n      <td>1</td>\n      <td>0</td>\n      <td>0</td>\n      <td></td>\n      <td>1</td>\n      <td>03</td>\n      <td>1</td>\n      <td>31</td>\n    </tr>\n  </tbody>\n</table>\n<p>33231 rows × 210 columns</p>\n</div>"
     },
     "metadata": {}
    }
   ]
  },
  {
   "cell_type": "code",
   "source": [],
   "metadata": {
    "trusted": true,
    "pycharm": {
     "name": "#%%\n"
    }
   },
   "execution_count": null,
   "outputs": []
  },
  {
   "cell_type": "code",
   "source": [
    "def special_4_sim(df):\n",
    "    list_number = df['phone_number'].to_list()\n",
    "    list_2_lap_t1 = [] #ABAB, A>B\n",
    "    list_2_lap_t2 = [] # ABAB, A<B\n",
    "\n",
    "    list_2_lap_t3 = [] # AABB, A>B\n",
    "    list_2_lap_t4 = [] # AABB, A<B\n",
    "\n",
    "    for i in range(len(list_number)):\n",
    "        if (list_number[i][5:7] == list_number[i][7:]):\n",
    "            if (int(list_number[i][7]) < int(list_number[i][8])):\n",
    "                list_2_lap_t2.append(1)\n",
    "                list_2_lap_t1.append(0)\n",
    "            elif(int(list_number[i][7]) > int(list_number[i][8])):\n",
    "                list_2_lap_t1.append(1)\n",
    "                list_2_lap_t2.append(0)\n",
    "            else:\n",
    "                list_2_lap_t1.append(0)\n",
    "                list_2_lap_t2.append(0)\n",
    "\n",
    "        else:\n",
    "            list_2_lap_t1.append(0)\n",
    "            list_2_lap_t2.append(0)\n",
    "\n",
    "\n",
    "        if (list_number[i][5]==list_number[i][6] and list_number[i][7]==list_number[i][8]):\n",
    "            if(list_number[i][5] < list_number[i][7]):\n",
    "                list_2_lap_t4.append(1)\n",
    "                list_2_lap_t3.append(0)\n",
    "            elif(list_number[i][5] > list_number[i][7]):\n",
    "                list_2_lap_t4.append(0)\n",
    "                list_2_lap_t3.append(1)\n",
    "            else:\n",
    "                list_2_lap_t4.append(0)\n",
    "                list_2_lap_t3.append(0)\n",
    "\n",
    "        else:\n",
    "            list_2_lap_t4.append(0)\n",
    "            list_2_lap_t3.append(0)\n",
    "    df['2_lap_t1'] = list_2_lap_t1\n",
    "    df['2_lap_t2'] = list_2_lap_t2\n",
    "    df['2_lap_t3'] = list_2_lap_t3\n",
    "    df['2_lap_t4'] = list_2_lap_t4\n",
    "    \n",
    "    return df"
   ],
   "metadata": {
    "execution": {
     "iopub.status.busy": "2022-10-09T08:17:25.049824Z",
     "iopub.execute_input": "2022-10-09T08:17:25.050238Z",
     "iopub.status.idle": "2022-10-09T08:17:25.061714Z",
     "shell.execute_reply.started": "2022-10-09T08:17:25.050197Z",
     "shell.execute_reply": "2022-10-09T08:17:25.060664Z"
    },
    "trusted": true,
    "pycharm": {
     "name": "#%%\n"
    }
   },
   "execution_count": 54,
   "outputs": []
  },
  {
   "cell_type": "code",
   "source": [
    "\n",
    "df = special_4_sim(df)\n"
   ],
   "metadata": {
    "execution": {
     "iopub.status.busy": "2022-10-09T08:17:25.063412Z",
     "iopub.execute_input": "2022-10-09T08:17:25.064120Z",
     "iopub.status.idle": "2022-10-09T08:17:26.053484Z",
     "shell.execute_reply.started": "2022-10-09T08:17:25.064056Z",
     "shell.execute_reply": "2022-10-09T08:17:26.052383Z"
    },
    "trusted": true,
    "pycharm": {
     "name": "#%%\n"
    }
   },
   "execution_count": 55,
   "outputs": []
  },
  {
   "cell_type": "code",
   "source": [
    "df[df['2_lap_t4']==1]"
   ],
   "metadata": {
    "execution": {
     "iopub.status.busy": "2022-10-09T08:17:26.055010Z",
     "iopub.execute_input": "2022-10-09T08:17:26.055955Z",
     "iopub.status.idle": "2022-10-09T08:17:26.699985Z",
     "shell.execute_reply.started": "2022-10-09T08:17:26.055915Z",
     "shell.execute_reply": "2022-10-09T08:17:26.698921Z"
    },
    "trusted": true,
    "pycharm": {
     "name": "#%%\n"
    }
   },
   "execution_count": 56,
   "outputs": [
    {
     "execution_count": 56,
     "output_type": "execute_result",
     "data": {
      "text/plain": "        Unnamed: 0                      id phone_number  price_vnd  \\\n304912      511809  sodepami_vn_0785863355    785863355     850000   \n179974      903858  sodepami_vn_0346240066    346240066     499000   \n237509      233245  sodepami_vn_0818005599    818005599   15000000   \n848866      489934  sodepami_vn_0363444466    363444466    4500000   \n504658      755347  sodepami_vn_0839388899    839388899   15000000   \n...            ...                     ...          ...        ...   \n625912      506527  sodepami_vn_0799935577    799935577    1550000   \n176970      468762  sodepami_vn_0829673399    829673399     800000   \n776833      847036  sodepami_vn_0784166688    784166688    4800000   \n269446      244251  sodepami_vn_0812441199    812441199    2050000   \n804044      857942  sodepami_vn_0976431155    976431155    2220000   \n\n              type  length pos_1 pos_2 pos_3 pos_4  ... kep_duoi_bool  \\\n304912  sodepami_v       9     7     8     5     8  ...             0   \n179974  sodepami_v       9     3     4     6     2  ...             0   \n237509  sodepami_v       9     8     1     8     0  ...             0   \n848866  sodepami_v       9     3     6     3     4  ...             0   \n504658  sodepami_v       9     8     3     9     3  ...             0   \n...            ...     ...   ...   ...   ...   ...  ...           ...   \n625912  sodepami_v       9     7     9     9     9  ...             0   \n176970  sodepami_v       9     8     2     9     6  ...             0   \n776833  sodepami_v       9     7     8     4     1  ...             0   \n269446  sodepami_v       9     8     1     2     4  ...             0   \n804044  sodepami_v       9     9     7     6     4  ...             0   \n\n       kep_duoi_cat lap_dau_bool lap_dau_cat lap_cuoi_bool  lap_cuoi_cat  \\\n304912                         0                         0                 \n179974                         0                         0                 \n237509                         0                         0                 \n848866                         0                         0                 \n504658                         0                         0                 \n...             ...          ...         ...           ...           ...   \n625912                         0                         0                 \n176970                         0                         0                 \n776833                         0                         0                 \n269446                         0                         0                 \n804044                         0                         0                 \n\n        2_lap_t1  2_lap_t2  2_lap_t3  2_lap_t4  \n304912         0         0         0         1  \n179974         0         0         0         1  \n237509         0         0         0         1  \n848866         0         0         0         1  \n504658         0         0         0         1  \n...          ...       ...       ...       ...  \n625912         0         0         0         1  \n176970         0         0         0         1  \n776833         0         0         0         1  \n269446         0         0         0         1  \n804044         0         0         0         1  \n\n[35753 rows x 214 columns]",
      "text/html": "<div>\n<style scoped>\n    .dataframe tbody tr th:only-of-type {\n        vertical-align: middle;\n    }\n\n    .dataframe tbody tr th {\n        vertical-align: top;\n    }\n\n    .dataframe thead th {\n        text-align: right;\n    }\n</style>\n<table border=\"1\" class=\"dataframe\">\n  <thead>\n    <tr style=\"text-align: right;\">\n      <th></th>\n      <th>Unnamed: 0</th>\n      <th>id</th>\n      <th>phone_number</th>\n      <th>price_vnd</th>\n      <th>type</th>\n      <th>length</th>\n      <th>pos_1</th>\n      <th>pos_2</th>\n      <th>pos_3</th>\n      <th>pos_4</th>\n      <th>...</th>\n      <th>kep_duoi_bool</th>\n      <th>kep_duoi_cat</th>\n      <th>lap_dau_bool</th>\n      <th>lap_dau_cat</th>\n      <th>lap_cuoi_bool</th>\n      <th>lap_cuoi_cat</th>\n      <th>2_lap_t1</th>\n      <th>2_lap_t2</th>\n      <th>2_lap_t3</th>\n      <th>2_lap_t4</th>\n    </tr>\n  </thead>\n  <tbody>\n    <tr>\n      <th>304912</th>\n      <td>511809</td>\n      <td>sodepami_vn_0785863355</td>\n      <td>785863355</td>\n      <td>850000</td>\n      <td>sodepami_v</td>\n      <td>9</td>\n      <td>7</td>\n      <td>8</td>\n      <td>5</td>\n      <td>8</td>\n      <td>...</td>\n      <td>0</td>\n      <td></td>\n      <td>0</td>\n      <td></td>\n      <td>0</td>\n      <td></td>\n      <td>0</td>\n      <td>0</td>\n      <td>0</td>\n      <td>1</td>\n    </tr>\n    <tr>\n      <th>179974</th>\n      <td>903858</td>\n      <td>sodepami_vn_0346240066</td>\n      <td>346240066</td>\n      <td>499000</td>\n      <td>sodepami_v</td>\n      <td>9</td>\n      <td>3</td>\n      <td>4</td>\n      <td>6</td>\n      <td>2</td>\n      <td>...</td>\n      <td>0</td>\n      <td></td>\n      <td>0</td>\n      <td></td>\n      <td>0</td>\n      <td></td>\n      <td>0</td>\n      <td>0</td>\n      <td>0</td>\n      <td>1</td>\n    </tr>\n    <tr>\n      <th>237509</th>\n      <td>233245</td>\n      <td>sodepami_vn_0818005599</td>\n      <td>818005599</td>\n      <td>15000000</td>\n      <td>sodepami_v</td>\n      <td>9</td>\n      <td>8</td>\n      <td>1</td>\n      <td>8</td>\n      <td>0</td>\n      <td>...</td>\n      <td>0</td>\n      <td></td>\n      <td>0</td>\n      <td></td>\n      <td>0</td>\n      <td></td>\n      <td>0</td>\n      <td>0</td>\n      <td>0</td>\n      <td>1</td>\n    </tr>\n    <tr>\n      <th>848866</th>\n      <td>489934</td>\n      <td>sodepami_vn_0363444466</td>\n      <td>363444466</td>\n      <td>4500000</td>\n      <td>sodepami_v</td>\n      <td>9</td>\n      <td>3</td>\n      <td>6</td>\n      <td>3</td>\n      <td>4</td>\n      <td>...</td>\n      <td>0</td>\n      <td></td>\n      <td>0</td>\n      <td></td>\n      <td>0</td>\n      <td></td>\n      <td>0</td>\n      <td>0</td>\n      <td>0</td>\n      <td>1</td>\n    </tr>\n    <tr>\n      <th>504658</th>\n      <td>755347</td>\n      <td>sodepami_vn_0839388899</td>\n      <td>839388899</td>\n      <td>15000000</td>\n      <td>sodepami_v</td>\n      <td>9</td>\n      <td>8</td>\n      <td>3</td>\n      <td>9</td>\n      <td>3</td>\n      <td>...</td>\n      <td>0</td>\n      <td></td>\n      <td>0</td>\n      <td></td>\n      <td>0</td>\n      <td></td>\n      <td>0</td>\n      <td>0</td>\n      <td>0</td>\n      <td>1</td>\n    </tr>\n    <tr>\n      <th>...</th>\n      <td>...</td>\n      <td>...</td>\n      <td>...</td>\n      <td>...</td>\n      <td>...</td>\n      <td>...</td>\n      <td>...</td>\n      <td>...</td>\n      <td>...</td>\n      <td>...</td>\n      <td>...</td>\n      <td>...</td>\n      <td>...</td>\n      <td>...</td>\n      <td>...</td>\n      <td>...</td>\n      <td>...</td>\n      <td>...</td>\n      <td>...</td>\n      <td>...</td>\n      <td>...</td>\n    </tr>\n    <tr>\n      <th>625912</th>\n      <td>506527</td>\n      <td>sodepami_vn_0799935577</td>\n      <td>799935577</td>\n      <td>1550000</td>\n      <td>sodepami_v</td>\n      <td>9</td>\n      <td>7</td>\n      <td>9</td>\n      <td>9</td>\n      <td>9</td>\n      <td>...</td>\n      <td>0</td>\n      <td></td>\n      <td>0</td>\n      <td></td>\n      <td>0</td>\n      <td></td>\n      <td>0</td>\n      <td>0</td>\n      <td>0</td>\n      <td>1</td>\n    </tr>\n    <tr>\n      <th>176970</th>\n      <td>468762</td>\n      <td>sodepami_vn_0829673399</td>\n      <td>829673399</td>\n      <td>800000</td>\n      <td>sodepami_v</td>\n      <td>9</td>\n      <td>8</td>\n      <td>2</td>\n      <td>9</td>\n      <td>6</td>\n      <td>...</td>\n      <td>0</td>\n      <td></td>\n      <td>0</td>\n      <td></td>\n      <td>0</td>\n      <td></td>\n      <td>0</td>\n      <td>0</td>\n      <td>0</td>\n      <td>1</td>\n    </tr>\n    <tr>\n      <th>776833</th>\n      <td>847036</td>\n      <td>sodepami_vn_0784166688</td>\n      <td>784166688</td>\n      <td>4800000</td>\n      <td>sodepami_v</td>\n      <td>9</td>\n      <td>7</td>\n      <td>8</td>\n      <td>4</td>\n      <td>1</td>\n      <td>...</td>\n      <td>0</td>\n      <td></td>\n      <td>0</td>\n      <td></td>\n      <td>0</td>\n      <td></td>\n      <td>0</td>\n      <td>0</td>\n      <td>0</td>\n      <td>1</td>\n    </tr>\n    <tr>\n      <th>269446</th>\n      <td>244251</td>\n      <td>sodepami_vn_0812441199</td>\n      <td>812441199</td>\n      <td>2050000</td>\n      <td>sodepami_v</td>\n      <td>9</td>\n      <td>8</td>\n      <td>1</td>\n      <td>2</td>\n      <td>4</td>\n      <td>...</td>\n      <td>0</td>\n      <td></td>\n      <td>0</td>\n      <td></td>\n      <td>0</td>\n      <td></td>\n      <td>0</td>\n      <td>0</td>\n      <td>0</td>\n      <td>1</td>\n    </tr>\n    <tr>\n      <th>804044</th>\n      <td>857942</td>\n      <td>sodepami_vn_0976431155</td>\n      <td>976431155</td>\n      <td>2220000</td>\n      <td>sodepami_v</td>\n      <td>9</td>\n      <td>9</td>\n      <td>7</td>\n      <td>6</td>\n      <td>4</td>\n      <td>...</td>\n      <td>0</td>\n      <td></td>\n      <td>0</td>\n      <td></td>\n      <td>0</td>\n      <td></td>\n      <td>0</td>\n      <td>0</td>\n      <td>0</td>\n      <td>1</td>\n    </tr>\n  </tbody>\n</table>\n<p>35753 rows × 214 columns</p>\n</div>"
     },
     "metadata": {}
    }
   ]
  },
  {
   "cell_type": "code",
   "source": [
    "def ong_dia(df):\n",
    "    list_number = df['phone_number'].to_list()\n",
    "    list_4_last = []\n",
    "    for i in range(len(list_number)):\n",
    "        str_tmp_4_last = list_number[i][-4:]\n",
    "        list_4_last.append(str_tmp_4_last)\n",
    "    \n",
    "    list_lap_ong_dia = [] #7997, 8998\n",
    "    list_lap_ong_dia_last = []\n",
    "    list_lap_ong_dia_sample = ['7997', '8998']\n",
    "\n",
    "    list_kep_ong_dia = [] #7799, 8899\n",
    "    list_kep_ong_dia_last = []\n",
    "    list_kep_ong_dia_sample = ['7799', '8899']\n",
    "\n",
    "    list_dao_ong_dia_1 = [] #9779, 9889\n",
    "    list_dao_ong_dia_1_last = []\n",
    "    list_dao_ong_dia_1_sample = ['9779', '9889']\n",
    "\n",
    "    list_dao_ong_dia_2 = [] #7997, 8998\n",
    "    list_dao_ong_dia_2_last = []\n",
    "    list_dao_ong_dia_2_sample = ['7997', '8998']\n",
    "\n",
    "    for i in range(len(list_number)):\n",
    "        #lap ong dia\n",
    "        lap_ong_dia_score = 0\n",
    "        lap_ong_dia_last_score = 0\n",
    "        for tmp_str in list_lap_ong_dia_sample:\n",
    "            if tmp_str in list_number[i]:\n",
    "                lap_ong_dia_score = lap_ong_dia_score +1\n",
    "\n",
    "            if (tmp_str == list_4_last[i]):\n",
    "                lap_ong_dia_last_score = lap_ong_dia_last_score +1\n",
    "\n",
    "        list_lap_ong_dia.append(lap_ong_dia_score)\n",
    "        list_lap_ong_dia_last.append(lap_ong_dia_last_score)\n",
    "\n",
    "        #kep ong dia\n",
    "        kep_ong_dia_score = 0\n",
    "        kep_ong_dia_last_score = 0\n",
    "        for tmp_str in list_kep_ong_dia_sample:\n",
    "            if tmp_str in list_number[i]:\n",
    "                kep_ong_dia_score = kep_ong_dia_score +1\n",
    "\n",
    "            if (tmp_str == list_4_last[i]):\n",
    "                kep_ong_dia_last_score = kep_ong_dia_last_score +1\n",
    "\n",
    "        list_kep_ong_dia.append(kep_ong_dia_score)\n",
    "        list_kep_ong_dia_last.append(kep_ong_dia_last_score)   \n",
    "\n",
    "        #dao ong dia 1\n",
    "        dao_ong_dia_1_score = 0\n",
    "        dao_ong_dia_1_last_score = 0\n",
    "        for tmp_str in list_dao_ong_dia_1_sample:\n",
    "            if tmp_str in list_number[i]:\n",
    "                dao_ong_dia_1_score = dao_ong_dia_1_score +1\n",
    "\n",
    "            if (tmp_str == list_4_last[i]):\n",
    "                dao_ong_dia_1_last_score = dao_ong_dia_1_last_score +1\n",
    "\n",
    "        list_dao_ong_dia_1.append(dao_ong_dia_1_score)\n",
    "        list_dao_ong_dia_1_last.append(dao_ong_dia_1_last_score)   \n",
    "\n",
    "        #dao ong dia 22\n",
    "        dao_ong_dia_2_score = 0\n",
    "        dao_ong_dia_2_last_score = 0\n",
    "        for tmp_str in list_dao_ong_dia_2_sample:\n",
    "            if tmp_str in list_number[i]:\n",
    "                dao_ong_dia_2_score = dao_ong_dia_2_score +1\n",
    "\n",
    "            if (tmp_str == list_4_last[i]):\n",
    "                dao_ong_dia_2_last_score = dao_ong_dia_2_last_score +1\n",
    "\n",
    "        list_dao_ong_dia_2.append(dao_ong_dia_2_score)\n",
    "        list_dao_ong_dia_2_last.append(dao_ong_dia_2_last_score)  \n",
    "    \n",
    "    df['lap_ong_dia'] = list_lap_ong_dia \n",
    "    df['lap_ong_dia_last'] = list_lap_ong_dia_last \n",
    "    df['kep_ong_dia'] = list_kep_ong_dia \n",
    "    df['kep_ong_dia_last'] = list_kep_ong_dia_last \n",
    "    df['dao_ong_dia_1'] = list_dao_ong_dia_1\n",
    "    df['dao_ong_dia_1_last'] = list_dao_ong_dia_1_last \n",
    "    df['dao_ong_dia_2'] = list_dao_ong_dia_2\n",
    "    df['dao_ong_dia_2_last'] = list_dao_ong_dia_2_last\n",
    "    \n",
    "    return df\n"
   ],
   "metadata": {
    "execution": {
     "iopub.status.busy": "2022-10-09T08:17:26.701507Z",
     "iopub.execute_input": "2022-10-09T08:17:26.703153Z",
     "iopub.status.idle": "2022-10-09T08:17:26.716513Z",
     "shell.execute_reply.started": "2022-10-09T08:17:26.703111Z",
     "shell.execute_reply": "2022-10-09T08:17:26.715416Z"
    },
    "trusted": true,
    "pycharm": {
     "name": "#%%\n"
    }
   },
   "execution_count": 57,
   "outputs": []
  },
  {
   "cell_type": "code",
   "source": [
    "\n",
    "df = ong_dia(df)"
   ],
   "metadata": {
    "execution": {
     "iopub.status.busy": "2022-10-09T08:17:26.717933Z",
     "iopub.execute_input": "2022-10-09T08:17:26.718473Z",
     "iopub.status.idle": "2022-10-09T08:17:29.004981Z",
     "shell.execute_reply.started": "2022-10-09T08:17:26.718435Z",
     "shell.execute_reply": "2022-10-09T08:17:29.003825Z"
    },
    "trusted": true,
    "pycharm": {
     "name": "#%%\n"
    }
   },
   "execution_count": 58,
   "outputs": []
  },
  {
   "cell_type": "code",
   "source": [
    "df[df['dao_ong_dia_2_last']==1]"
   ],
   "metadata": {
    "execution": {
     "iopub.status.busy": "2022-10-09T08:17:29.006389Z",
     "iopub.execute_input": "2022-10-09T08:17:29.006820Z",
     "iopub.status.idle": "2022-10-09T08:17:29.271788Z",
     "shell.execute_reply.started": "2022-10-09T08:17:29.006744Z",
     "shell.execute_reply": "2022-10-09T08:17:29.270620Z"
    },
    "trusted": true,
    "pycharm": {
     "name": "#%%\n"
    }
   },
   "execution_count": 59,
   "outputs": [
    {
     "execution_count": 59,
     "output_type": "execute_result",
     "data": {
      "text/plain": "        Unnamed: 0                      id phone_number  price_vnd  \\\n116070      234435  sodepami_vn_0929608998    929608998    1285000   \n776188      574010  sodepami_vn_0886218998    886218998    2050000   \n243567      681007  sodepami_vn_0372297997    372297997    1550000   \n267924      570409  sodepami_vn_0917148998    917148998    2050000   \n162278      465569  sodepami_vn_0372008998    372008998    2700000   \n...            ...                     ...          ...        ...   \n522415      776972  sodepami_vn_0939658998    939658998    5800000   \n782485      436377  sodepami_vn_0877997997    877997997   20000000   \n776946      299182  sodepami_vn_0983648998    983648998    6800000   \n629335      701609  sodepami_vn_0929207997    929207997    1100000   \n457837      589081  sodepami_vn_0931358998    931358998    2800000   \n\n              type  length pos_1 pos_2 pos_3 pos_4  ... 2_lap_t3 2_lap_t4  \\\n116070  sodepami_v       9     9     2     9     6  ...        0        0   \n776188  sodepami_v       9     8     8     6     2  ...        0        0   \n243567  sodepami_v       9     3     7     2     2  ...        0        0   \n267924  sodepami_v       9     9     1     7     1  ...        0        0   \n162278  sodepami_v       9     3     7     2     0  ...        0        0   \n...            ...     ...   ...   ...   ...   ...  ...      ...      ...   \n522415  sodepami_v       9     9     3     9     6  ...        0        0   \n782485  sodepami_v       9     8     7     7     9  ...        0        0   \n776946  sodepami_v       9     9     8     3     6  ...        0        0   \n629335  sodepami_v       9     9     2     9     2  ...        0        0   \n457837  sodepami_v       9     9     3     1     3  ...        0        0   \n\n       lap_ong_dia lap_ong_dia_last kep_ong_dia  kep_ong_dia_last  \\\n116070           1                1           0                 0   \n776188           1                1           0                 0   \n243567           1                1           0                 0   \n267924           1                1           0                 0   \n162278           1                1           0                 0   \n...            ...              ...         ...               ...   \n522415           1                1           0                 0   \n782485           1                1           1                 0   \n776946           1                1           0                 0   \n629335           1                1           0                 0   \n457837           1                1           0                 0   \n\n        dao_ong_dia_1  dao_ong_dia_1_last  dao_ong_dia_2  dao_ong_dia_2_last  \n116070              0                   0              1                   1  \n776188              0                   0              1                   1  \n243567              0                   0              1                   1  \n267924              0                   0              1                   1  \n162278              0                   0              1                   1  \n...               ...                 ...            ...                 ...  \n522415              0                   0              1                   1  \n782485              0                   0              1                   1  \n776946              0                   0              1                   1  \n629335              0                   0              1                   1  \n457837              0                   0              1                   1  \n\n[1081 rows x 222 columns]",
      "text/html": "<div>\n<style scoped>\n    .dataframe tbody tr th:only-of-type {\n        vertical-align: middle;\n    }\n\n    .dataframe tbody tr th {\n        vertical-align: top;\n    }\n\n    .dataframe thead th {\n        text-align: right;\n    }\n</style>\n<table border=\"1\" class=\"dataframe\">\n  <thead>\n    <tr style=\"text-align: right;\">\n      <th></th>\n      <th>Unnamed: 0</th>\n      <th>id</th>\n      <th>phone_number</th>\n      <th>price_vnd</th>\n      <th>type</th>\n      <th>length</th>\n      <th>pos_1</th>\n      <th>pos_2</th>\n      <th>pos_3</th>\n      <th>pos_4</th>\n      <th>...</th>\n      <th>2_lap_t3</th>\n      <th>2_lap_t4</th>\n      <th>lap_ong_dia</th>\n      <th>lap_ong_dia_last</th>\n      <th>kep_ong_dia</th>\n      <th>kep_ong_dia_last</th>\n      <th>dao_ong_dia_1</th>\n      <th>dao_ong_dia_1_last</th>\n      <th>dao_ong_dia_2</th>\n      <th>dao_ong_dia_2_last</th>\n    </tr>\n  </thead>\n  <tbody>\n    <tr>\n      <th>116070</th>\n      <td>234435</td>\n      <td>sodepami_vn_0929608998</td>\n      <td>929608998</td>\n      <td>1285000</td>\n      <td>sodepami_v</td>\n      <td>9</td>\n      <td>9</td>\n      <td>2</td>\n      <td>9</td>\n      <td>6</td>\n      <td>...</td>\n      <td>0</td>\n      <td>0</td>\n      <td>1</td>\n      <td>1</td>\n      <td>0</td>\n      <td>0</td>\n      <td>0</td>\n      <td>0</td>\n      <td>1</td>\n      <td>1</td>\n    </tr>\n    <tr>\n      <th>776188</th>\n      <td>574010</td>\n      <td>sodepami_vn_0886218998</td>\n      <td>886218998</td>\n      <td>2050000</td>\n      <td>sodepami_v</td>\n      <td>9</td>\n      <td>8</td>\n      <td>8</td>\n      <td>6</td>\n      <td>2</td>\n      <td>...</td>\n      <td>0</td>\n      <td>0</td>\n      <td>1</td>\n      <td>1</td>\n      <td>0</td>\n      <td>0</td>\n      <td>0</td>\n      <td>0</td>\n      <td>1</td>\n      <td>1</td>\n    </tr>\n    <tr>\n      <th>243567</th>\n      <td>681007</td>\n      <td>sodepami_vn_0372297997</td>\n      <td>372297997</td>\n      <td>1550000</td>\n      <td>sodepami_v</td>\n      <td>9</td>\n      <td>3</td>\n      <td>7</td>\n      <td>2</td>\n      <td>2</td>\n      <td>...</td>\n      <td>0</td>\n      <td>0</td>\n      <td>1</td>\n      <td>1</td>\n      <td>0</td>\n      <td>0</td>\n      <td>0</td>\n      <td>0</td>\n      <td>1</td>\n      <td>1</td>\n    </tr>\n    <tr>\n      <th>267924</th>\n      <td>570409</td>\n      <td>sodepami_vn_0917148998</td>\n      <td>917148998</td>\n      <td>2050000</td>\n      <td>sodepami_v</td>\n      <td>9</td>\n      <td>9</td>\n      <td>1</td>\n      <td>7</td>\n      <td>1</td>\n      <td>...</td>\n      <td>0</td>\n      <td>0</td>\n      <td>1</td>\n      <td>1</td>\n      <td>0</td>\n      <td>0</td>\n      <td>0</td>\n      <td>0</td>\n      <td>1</td>\n      <td>1</td>\n    </tr>\n    <tr>\n      <th>162278</th>\n      <td>465569</td>\n      <td>sodepami_vn_0372008998</td>\n      <td>372008998</td>\n      <td>2700000</td>\n      <td>sodepami_v</td>\n      <td>9</td>\n      <td>3</td>\n      <td>7</td>\n      <td>2</td>\n      <td>0</td>\n      <td>...</td>\n      <td>0</td>\n      <td>0</td>\n      <td>1</td>\n      <td>1</td>\n      <td>0</td>\n      <td>0</td>\n      <td>0</td>\n      <td>0</td>\n      <td>1</td>\n      <td>1</td>\n    </tr>\n    <tr>\n      <th>...</th>\n      <td>...</td>\n      <td>...</td>\n      <td>...</td>\n      <td>...</td>\n      <td>...</td>\n      <td>...</td>\n      <td>...</td>\n      <td>...</td>\n      <td>...</td>\n      <td>...</td>\n      <td>...</td>\n      <td>...</td>\n      <td>...</td>\n      <td>...</td>\n      <td>...</td>\n      <td>...</td>\n      <td>...</td>\n      <td>...</td>\n      <td>...</td>\n      <td>...</td>\n      <td>...</td>\n    </tr>\n    <tr>\n      <th>522415</th>\n      <td>776972</td>\n      <td>sodepami_vn_0939658998</td>\n      <td>939658998</td>\n      <td>5800000</td>\n      <td>sodepami_v</td>\n      <td>9</td>\n      <td>9</td>\n      <td>3</td>\n      <td>9</td>\n      <td>6</td>\n      <td>...</td>\n      <td>0</td>\n      <td>0</td>\n      <td>1</td>\n      <td>1</td>\n      <td>0</td>\n      <td>0</td>\n      <td>0</td>\n      <td>0</td>\n      <td>1</td>\n      <td>1</td>\n    </tr>\n    <tr>\n      <th>782485</th>\n      <td>436377</td>\n      <td>sodepami_vn_0877997997</td>\n      <td>877997997</td>\n      <td>20000000</td>\n      <td>sodepami_v</td>\n      <td>9</td>\n      <td>8</td>\n      <td>7</td>\n      <td>7</td>\n      <td>9</td>\n      <td>...</td>\n      <td>0</td>\n      <td>0</td>\n      <td>1</td>\n      <td>1</td>\n      <td>1</td>\n      <td>0</td>\n      <td>0</td>\n      <td>0</td>\n      <td>1</td>\n      <td>1</td>\n    </tr>\n    <tr>\n      <th>776946</th>\n      <td>299182</td>\n      <td>sodepami_vn_0983648998</td>\n      <td>983648998</td>\n      <td>6800000</td>\n      <td>sodepami_v</td>\n      <td>9</td>\n      <td>9</td>\n      <td>8</td>\n      <td>3</td>\n      <td>6</td>\n      <td>...</td>\n      <td>0</td>\n      <td>0</td>\n      <td>1</td>\n      <td>1</td>\n      <td>0</td>\n      <td>0</td>\n      <td>0</td>\n      <td>0</td>\n      <td>1</td>\n      <td>1</td>\n    </tr>\n    <tr>\n      <th>629335</th>\n      <td>701609</td>\n      <td>sodepami_vn_0929207997</td>\n      <td>929207997</td>\n      <td>1100000</td>\n      <td>sodepami_v</td>\n      <td>9</td>\n      <td>9</td>\n      <td>2</td>\n      <td>9</td>\n      <td>2</td>\n      <td>...</td>\n      <td>0</td>\n      <td>0</td>\n      <td>1</td>\n      <td>1</td>\n      <td>0</td>\n      <td>0</td>\n      <td>0</td>\n      <td>0</td>\n      <td>1</td>\n      <td>1</td>\n    </tr>\n    <tr>\n      <th>457837</th>\n      <td>589081</td>\n      <td>sodepami_vn_0931358998</td>\n      <td>931358998</td>\n      <td>2800000</td>\n      <td>sodepami_v</td>\n      <td>9</td>\n      <td>9</td>\n      <td>3</td>\n      <td>1</td>\n      <td>3</td>\n      <td>...</td>\n      <td>0</td>\n      <td>0</td>\n      <td>1</td>\n      <td>1</td>\n      <td>0</td>\n      <td>0</td>\n      <td>0</td>\n      <td>0</td>\n      <td>1</td>\n      <td>1</td>\n    </tr>\n  </tbody>\n</table>\n<p>1081 rows × 222 columns</p>\n</div>"
     },
     "metadata": {}
    }
   ]
  },
  {
   "cell_type": "code",
   "source": [
    "def special_6_last(df):\n",
    "    list_number = df['phone_number'].to_list()\n",
    "    list_ABBBBA_1 = [] #A<B\n",
    "    list_ABBBBA_2 = [] #A>B\n",
    "\n",
    "    list_ABBA_1 = [] #A<B\n",
    "    list_ABBA_2 = [] #A>B\n",
    "\n",
    "    for i in range(len(list_number)):\n",
    "        if (list_number[i][3] == list_number[i][8] and list_number[i][4] == list_number[i][5] and list_number[i][4] == list_number[i][6] and list_number[i][4] == list_number[i][7]):\n",
    "            if (int(list_number[i][3]) < int(list_number[i][4])):\n",
    "                list_ABBBBA_1.append(1)\n",
    "                list_ABBBBA_2.append(0)\n",
    "            elif(int(list_number[i][3]) > int(list_number[i][4])):\n",
    "                list_ABBBBA_1.append(0)\n",
    "                list_ABBBBA_2.append(1)\n",
    "            else:\n",
    "                list_ABBBBA_1.append(0)\n",
    "                list_ABBBBA_2.append(0)\n",
    "        else:\n",
    "            list_ABBBBA_1.append(0)\n",
    "            list_ABBBBA_2.append(0)\n",
    "\n",
    "        if (list_number[i][5] == list_number[i][8] and list_number[i][6] == list_number[i][7]):\n",
    "            if (int(list_number[i][5]) < int(list_number[i][6])):\n",
    "                list_ABBA_1.append(1)\n",
    "                list_ABBA_2.append(0)\n",
    "            elif(int(list_number[i][5]) > int(list_number[i][6])):\n",
    "                list_ABBA_1.append(0)\n",
    "                list_ABBA_2.append(1)\n",
    "            else:\n",
    "                list_ABBA_1.append(0)\n",
    "                list_ABBA_2.append(0)\n",
    "        else:\n",
    "            list_ABBA_1.append(0)\n",
    "            list_ABBA_2.append(0)\n",
    "    df['list_ABBBBA_1']= list_ABBBBA_1\n",
    "    df['list_ABBBBA_2']= list_ABBBBA_2\n",
    "    df['list_ABBA_1']= list_ABBA_1\n",
    "    df['list_ABBA_2']= list_ABBA_2\n",
    "    return df"
   ],
   "metadata": {
    "execution": {
     "iopub.status.busy": "2022-10-09T08:17:29.273549Z",
     "iopub.execute_input": "2022-10-09T08:17:29.273972Z",
     "iopub.status.idle": "2022-10-09T08:17:29.286166Z",
     "shell.execute_reply.started": "2022-10-09T08:17:29.273934Z",
     "shell.execute_reply": "2022-10-09T08:17:29.284963Z"
    },
    "trusted": true,
    "pycharm": {
     "name": "#%%\n"
    }
   },
   "execution_count": 60,
   "outputs": []
  },
  {
   "cell_type": "code",
   "source": [
    "\n",
    "df = special_6_last(df)"
   ],
   "metadata": {
    "execution": {
     "iopub.status.busy": "2022-10-09T08:17:29.288161Z",
     "iopub.execute_input": "2022-10-09T08:17:29.288624Z",
     "iopub.status.idle": "2022-10-09T08:17:30.208160Z",
     "shell.execute_reply.started": "2022-10-09T08:17:29.288519Z",
     "shell.execute_reply": "2022-10-09T08:17:30.207073Z"
    },
    "trusted": true,
    "pycharm": {
     "name": "#%%\n"
    }
   },
   "execution_count": 61,
   "outputs": []
  },
  {
   "cell_type": "code",
   "source": [
    "df[df['list_ABBA_2'] == 1]"
   ],
   "metadata": {
    "execution": {
     "iopub.status.busy": "2022-10-09T08:17:30.209677Z",
     "iopub.execute_input": "2022-10-09T08:17:30.210092Z",
     "iopub.status.idle": "2022-10-09T08:17:30.792935Z",
     "shell.execute_reply.started": "2022-10-09T08:17:30.210051Z",
     "shell.execute_reply": "2022-10-09T08:17:30.791832Z"
    },
    "trusted": true,
    "pycharm": {
     "name": "#%%\n"
    }
   },
   "execution_count": 62,
   "outputs": [
    {
     "execution_count": 62,
     "output_type": "execute_result",
     "data": {
      "text/plain": "        Unnamed: 0                      id phone_number  price_vnd  \\\n416425      518673  sodepami_vn_0865148668    865148668    3730000   \n358207      710092  sodepami_vn_0927867667    927867667    1100000   \n734818      115133  sodepami_vn_0938183223    938183223    4000000   \n193841      203510  sodepami_vn_0865794004    865794004    1340000   \n145053       41130  sodepami_vn_0377005115    377005115    2050000   \n...            ...                     ...          ...        ...   \n104058      726413  sodepami_vn_0929487667    929487667    1100000   \n202694      801248  sodepami_vn_0375096006    375096006    1000000   \n708446      565265  sodepami_vn_0325349559    325349559     500000   \n372551      510624  sodepami_vn_0962176556    962176556    1650000   \n301924      143946  sodepami_vn_0355939779    355939779    3630000   \n\n              type  length pos_1 pos_2 pos_3 pos_4  ... kep_ong_dia  \\\n416425  sodepami_v       9     8     6     5     1  ...           0   \n358207  sodepami_v       9     9     2     7     8  ...           0   \n734818  sodepami_v       9     9     3     8     1  ...           0   \n193841  sodepami_v       9     8     6     5     7  ...           0   \n145053  sodepami_v       9     3     7     7     0  ...           0   \n...            ...     ...   ...   ...   ...   ...  ...         ...   \n104058  sodepami_v       9     9     2     9     4  ...           0   \n202694  sodepami_v       9     3     7     5     0  ...           0   \n708446  sodepami_v       9     3     2     5     3  ...           0   \n372551  sodepami_v       9     9     6     2     1  ...           0   \n301924  sodepami_v       9     3     5     5     9  ...           0   \n\n       kep_ong_dia_last dao_ong_dia_1 dao_ong_dia_1_last dao_ong_dia_2  \\\n416425                0             0                  0             0   \n358207                0             0                  0             0   \n734818                0             0                  0             0   \n193841                0             0                  0             0   \n145053                0             0                  0             0   \n...                 ...           ...                ...           ...   \n104058                0             0                  0             0   \n202694                0             0                  0             0   \n708446                0             0                  0             0   \n372551                0             0                  0             0   \n301924                0             1                  1             0   \n\n        dao_ong_dia_2_last  list_ABBBBA_1  list_ABBBBA_2  list_ABBA_1  \\\n416425                   0              0              0            0   \n358207                   0              0              0            0   \n734818                   0              0              0            0   \n193841                   0              0              0            0   \n145053                   0              0              0            0   \n...                    ...            ...            ...          ...   \n104058                   0              0              0            0   \n202694                   0              0              0            0   \n708446                   0              0              0            0   \n372551                   0              0              0            0   \n301924                   0              0              0            0   \n\n        list_ABBA_2  \n416425            1  \n358207            1  \n734818            1  \n193841            1  \n145053            1  \n...             ...  \n104058            1  \n202694            1  \n708446            1  \n372551            1  \n301924            1  \n\n[23984 rows x 226 columns]",
      "text/html": "<div>\n<style scoped>\n    .dataframe tbody tr th:only-of-type {\n        vertical-align: middle;\n    }\n\n    .dataframe tbody tr th {\n        vertical-align: top;\n    }\n\n    .dataframe thead th {\n        text-align: right;\n    }\n</style>\n<table border=\"1\" class=\"dataframe\">\n  <thead>\n    <tr style=\"text-align: right;\">\n      <th></th>\n      <th>Unnamed: 0</th>\n      <th>id</th>\n      <th>phone_number</th>\n      <th>price_vnd</th>\n      <th>type</th>\n      <th>length</th>\n      <th>pos_1</th>\n      <th>pos_2</th>\n      <th>pos_3</th>\n      <th>pos_4</th>\n      <th>...</th>\n      <th>kep_ong_dia</th>\n      <th>kep_ong_dia_last</th>\n      <th>dao_ong_dia_1</th>\n      <th>dao_ong_dia_1_last</th>\n      <th>dao_ong_dia_2</th>\n      <th>dao_ong_dia_2_last</th>\n      <th>list_ABBBBA_1</th>\n      <th>list_ABBBBA_2</th>\n      <th>list_ABBA_1</th>\n      <th>list_ABBA_2</th>\n    </tr>\n  </thead>\n  <tbody>\n    <tr>\n      <th>416425</th>\n      <td>518673</td>\n      <td>sodepami_vn_0865148668</td>\n      <td>865148668</td>\n      <td>3730000</td>\n      <td>sodepami_v</td>\n      <td>9</td>\n      <td>8</td>\n      <td>6</td>\n      <td>5</td>\n      <td>1</td>\n      <td>...</td>\n      <td>0</td>\n      <td>0</td>\n      <td>0</td>\n      <td>0</td>\n      <td>0</td>\n      <td>0</td>\n      <td>0</td>\n      <td>0</td>\n      <td>0</td>\n      <td>1</td>\n    </tr>\n    <tr>\n      <th>358207</th>\n      <td>710092</td>\n      <td>sodepami_vn_0927867667</td>\n      <td>927867667</td>\n      <td>1100000</td>\n      <td>sodepami_v</td>\n      <td>9</td>\n      <td>9</td>\n      <td>2</td>\n      <td>7</td>\n      <td>8</td>\n      <td>...</td>\n      <td>0</td>\n      <td>0</td>\n      <td>0</td>\n      <td>0</td>\n      <td>0</td>\n      <td>0</td>\n      <td>0</td>\n      <td>0</td>\n      <td>0</td>\n      <td>1</td>\n    </tr>\n    <tr>\n      <th>734818</th>\n      <td>115133</td>\n      <td>sodepami_vn_0938183223</td>\n      <td>938183223</td>\n      <td>4000000</td>\n      <td>sodepami_v</td>\n      <td>9</td>\n      <td>9</td>\n      <td>3</td>\n      <td>8</td>\n      <td>1</td>\n      <td>...</td>\n      <td>0</td>\n      <td>0</td>\n      <td>0</td>\n      <td>0</td>\n      <td>0</td>\n      <td>0</td>\n      <td>0</td>\n      <td>0</td>\n      <td>0</td>\n      <td>1</td>\n    </tr>\n    <tr>\n      <th>193841</th>\n      <td>203510</td>\n      <td>sodepami_vn_0865794004</td>\n      <td>865794004</td>\n      <td>1340000</td>\n      <td>sodepami_v</td>\n      <td>9</td>\n      <td>8</td>\n      <td>6</td>\n      <td>5</td>\n      <td>7</td>\n      <td>...</td>\n      <td>0</td>\n      <td>0</td>\n      <td>0</td>\n      <td>0</td>\n      <td>0</td>\n      <td>0</td>\n      <td>0</td>\n      <td>0</td>\n      <td>0</td>\n      <td>1</td>\n    </tr>\n    <tr>\n      <th>145053</th>\n      <td>41130</td>\n      <td>sodepami_vn_0377005115</td>\n      <td>377005115</td>\n      <td>2050000</td>\n      <td>sodepami_v</td>\n      <td>9</td>\n      <td>3</td>\n      <td>7</td>\n      <td>7</td>\n      <td>0</td>\n      <td>...</td>\n      <td>0</td>\n      <td>0</td>\n      <td>0</td>\n      <td>0</td>\n      <td>0</td>\n      <td>0</td>\n      <td>0</td>\n      <td>0</td>\n      <td>0</td>\n      <td>1</td>\n    </tr>\n    <tr>\n      <th>...</th>\n      <td>...</td>\n      <td>...</td>\n      <td>...</td>\n      <td>...</td>\n      <td>...</td>\n      <td>...</td>\n      <td>...</td>\n      <td>...</td>\n      <td>...</td>\n      <td>...</td>\n      <td>...</td>\n      <td>...</td>\n      <td>...</td>\n      <td>...</td>\n      <td>...</td>\n      <td>...</td>\n      <td>...</td>\n      <td>...</td>\n      <td>...</td>\n      <td>...</td>\n      <td>...</td>\n    </tr>\n    <tr>\n      <th>104058</th>\n      <td>726413</td>\n      <td>sodepami_vn_0929487667</td>\n      <td>929487667</td>\n      <td>1100000</td>\n      <td>sodepami_v</td>\n      <td>9</td>\n      <td>9</td>\n      <td>2</td>\n      <td>9</td>\n      <td>4</td>\n      <td>...</td>\n      <td>0</td>\n      <td>0</td>\n      <td>0</td>\n      <td>0</td>\n      <td>0</td>\n      <td>0</td>\n      <td>0</td>\n      <td>0</td>\n      <td>0</td>\n      <td>1</td>\n    </tr>\n    <tr>\n      <th>202694</th>\n      <td>801248</td>\n      <td>sodepami_vn_0375096006</td>\n      <td>375096006</td>\n      <td>1000000</td>\n      <td>sodepami_v</td>\n      <td>9</td>\n      <td>3</td>\n      <td>7</td>\n      <td>5</td>\n      <td>0</td>\n      <td>...</td>\n      <td>0</td>\n      <td>0</td>\n      <td>0</td>\n      <td>0</td>\n      <td>0</td>\n      <td>0</td>\n      <td>0</td>\n      <td>0</td>\n      <td>0</td>\n      <td>1</td>\n    </tr>\n    <tr>\n      <th>708446</th>\n      <td>565265</td>\n      <td>sodepami_vn_0325349559</td>\n      <td>325349559</td>\n      <td>500000</td>\n      <td>sodepami_v</td>\n      <td>9</td>\n      <td>3</td>\n      <td>2</td>\n      <td>5</td>\n      <td>3</td>\n      <td>...</td>\n      <td>0</td>\n      <td>0</td>\n      <td>0</td>\n      <td>0</td>\n      <td>0</td>\n      <td>0</td>\n      <td>0</td>\n      <td>0</td>\n      <td>0</td>\n      <td>1</td>\n    </tr>\n    <tr>\n      <th>372551</th>\n      <td>510624</td>\n      <td>sodepami_vn_0962176556</td>\n      <td>962176556</td>\n      <td>1650000</td>\n      <td>sodepami_v</td>\n      <td>9</td>\n      <td>9</td>\n      <td>6</td>\n      <td>2</td>\n      <td>1</td>\n      <td>...</td>\n      <td>0</td>\n      <td>0</td>\n      <td>0</td>\n      <td>0</td>\n      <td>0</td>\n      <td>0</td>\n      <td>0</td>\n      <td>0</td>\n      <td>0</td>\n      <td>1</td>\n    </tr>\n    <tr>\n      <th>301924</th>\n      <td>143946</td>\n      <td>sodepami_vn_0355939779</td>\n      <td>355939779</td>\n      <td>3630000</td>\n      <td>sodepami_v</td>\n      <td>9</td>\n      <td>3</td>\n      <td>5</td>\n      <td>5</td>\n      <td>9</td>\n      <td>...</td>\n      <td>0</td>\n      <td>0</td>\n      <td>1</td>\n      <td>1</td>\n      <td>0</td>\n      <td>0</td>\n      <td>0</td>\n      <td>0</td>\n      <td>0</td>\n      <td>1</td>\n    </tr>\n  </tbody>\n</table>\n<p>23984 rows × 226 columns</p>\n</div>"
     },
     "metadata": {}
    }
   ]
  },
  {
   "cell_type": "code",
   "source": [
    "def check_easy_remember(df):\n",
    "    list_number = df['phone_number'].to_list()\n",
    "    list_1_3_5_iden_bool = []\n",
    "    list_1_3_5_iden_cat = []\n",
    "\n",
    "    list_2_4_6_iden_bool = []\n",
    "    list_2_4_6_iden_cat = []\n",
    "\n",
    "    list_3_5_7_iden_bool = []\n",
    "    list_3_5_7_iden_cat = []\n",
    "\n",
    "    list_4_6_8_iden_bool = []\n",
    "    list_4_6_8_iden_cat = []\n",
    "\n",
    "    list_5_7_9_iden_bool = []\n",
    "    list_5_7_9_iden_cat = []\n",
    "\n",
    "    for i in range(len(list_number)):\n",
    "        if ( (list_number[i][0] == list_number[i][2]) and (list_number[i][0] == list_number[i][4])):\n",
    "            list_1_3_5_iden_bool.append(1)\n",
    "            list_1_3_5_iden_cat.append((int)(list_number[i][0]))\n",
    "        else:\n",
    "            list_1_3_5_iden_bool.append(0)\n",
    "            list_1_3_5_iden_cat.append(-1)\n",
    "\n",
    "        if ( (list_number[i][1] == list_number[i][3]) and (list_number[i][1] == list_number[i][5])):\n",
    "            list_2_4_6_iden_bool.append(1)\n",
    "            list_2_4_6_iden_cat.append((int)(list_number[i][1]))\n",
    "        else:\n",
    "            list_2_4_6_iden_bool.append(0)\n",
    "            list_2_4_6_iden_cat.append(-1)\n",
    "\n",
    "        if ((list_number[i][2] == list_number[i][4]) and (list_number[i][2] == list_number[i][6])):\n",
    "            list_3_5_7_iden_bool.append(1)\n",
    "            list_3_5_7_iden_cat.append((int)(list_number[i][2]))\n",
    "        else:\n",
    "            list_3_5_7_iden_bool.append(0)\n",
    "            list_3_5_7_iden_cat.append(-1)\n",
    "\n",
    "        if ((list_number[i][3] == list_number[i][5]) and (list_number[i][3] == list_number[i][7])):\n",
    "            list_4_6_8_iden_bool.append(1)\n",
    "            list_4_6_8_iden_cat.append((int)(list_number[i][3]))\n",
    "        else:\n",
    "            list_4_6_8_iden_bool.append(0)\n",
    "            list_4_6_8_iden_cat.append(-1)\n",
    "\n",
    "        if ( (list_number[i][4] == list_number[i][6]) and (list_number[i][4] == list_number[i][8])):\n",
    "            list_5_7_9_iden_bool.append(1)\n",
    "            list_5_7_9_iden_cat.append((int)(list_number[i][4]))\n",
    "        else:\n",
    "            list_5_7_9_iden_bool.append(0)\n",
    "            list_5_7_9_iden_cat.append(-1)\n",
    "\n",
    "\n",
    "    df['1_3_5_iden_bool'] = list_1_3_5_iden_bool\n",
    "    df['1_3_5_iden_cat'] = list_1_3_5_iden_cat\n",
    "\n",
    "    df['2_4_6_iden_bool'] = list_2_4_6_iden_bool\n",
    "    df['2_4_6_iden_cat'] = list_2_4_6_iden_cat\n",
    "\n",
    "    df['3_5_7_iden_bool'] = list_3_5_7_iden_bool\n",
    "    df['3_5_7_iden_cat'] = list_3_5_7_iden_cat\n",
    "\n",
    "    df['4_6_8_iden_bool'] = list_4_6_8_iden_bool\n",
    "    df['4_6_8_iden_cat'] = list_4_6_8_iden_cat\n",
    "\n",
    "    df['5_7_9_iden_bool'] = list_5_7_9_iden_bool\n",
    "    df['5_7_9_iden_cat'] = list_5_7_9_iden_cat\n",
    "    \n",
    "    return df"
   ],
   "metadata": {
    "execution": {
     "iopub.status.busy": "2022-10-09T08:17:30.796137Z",
     "iopub.execute_input": "2022-10-09T08:17:30.796448Z",
     "iopub.status.idle": "2022-10-09T08:17:30.811458Z",
     "shell.execute_reply.started": "2022-10-09T08:17:30.796421Z",
     "shell.execute_reply": "2022-10-09T08:17:30.808920Z"
    },
    "trusted": true,
    "pycharm": {
     "name": "#%%\n"
    }
   },
   "execution_count": 63,
   "outputs": []
  },
  {
   "cell_type": "code",
   "source": [
    "df = check_easy_remember(df)"
   ],
   "metadata": {
    "execution": {
     "iopub.status.busy": "2022-10-09T08:17:30.812600Z",
     "iopub.execute_input": "2022-10-09T08:17:30.812998Z",
     "iopub.status.idle": "2022-10-09T08:17:32.914224Z",
     "shell.execute_reply.started": "2022-10-09T08:17:30.812954Z",
     "shell.execute_reply": "2022-10-09T08:17:32.913142Z"
    },
    "trusted": true,
    "pycharm": {
     "name": "#%%\n"
    }
   },
   "execution_count": 64,
   "outputs": []
  },
  {
   "cell_type": "code",
   "source": [
    "LIST_FEAT1 = ['pos_' + str(i) for i in range(1,10)]\n",
    "LIST_FEAT2 = ['phong_thuy_1','phong_thuy_2','4_last','5_last','3_last_iden','3_last_increasing',\n",
    "              '4_last_iden', '5_last_iden' ,'4_last_increasing', \n",
    "              '5_last_increasing','max_count','list_same','palindrome',\n",
    "              'nam_sinh','2_iden','2_lucky']\n",
    "LIST_FEAT3 = ['count_' + str(i) for i in range(0,10)]\n",
    "LIST_FEAT4 = ['palindrome_length','list_same_substr_length','length']\n",
    "LIST_FEAT5 = ['pos_' + str(i) + \"_\" +str(j) for i in range(1,9) for j in range(i+1,10)]\n",
    "LIST_FEAT6 = ['pos_'+str(i)+\"_\"+str(j)+\"_\"+str(k) for i in range(1,8) \n",
    "              for j in range(i+1,9) for k in range(j+1,10)]\n",
    "\n",
    "LIST_FEAT9 = ['kep_duoi_cat','lap_dau_cat','lap_cuoi_cat','phat_loc_4_cat',\n",
    "              'phat_loc_2_cat','5_combo_cat','6_combo_cat','3_combo_cat','4_combo_cat']\n",
    "\n",
    "LIST_FEAT10 = ['list_ABBBBA_1','list_ABBBBA_2','list_ABBA_1','list_ABBA_2','lap_ong_dia','lap_ong_dia_last'\n",
    "               ,'kep_ong_dia','kep_ong_dia_last','dao_ong_dia_1','dao_ong_dia_1_last','dao_ong_dia_2',\n",
    "               'dao_ong_dia_2_last','2_lap_t1','2_lap_t2','2_lap_t3','2_lap_t4','kep_duoi_bool'\n",
    "               ,'lap_dau_bool','lap_cuoi_bool','triple_2_last_r1','list_double_3_last','phat_loc_2_bool',\n",
    "               'phat_loc_4_bool','nam_sinh_bool','bool_palindrome','bool_substr','2_lucky_bool','2_iden_bool','3_last_iden_bool',\n",
    "                '4_last_iden_bool','5_last_iden_bool','3_last_increasing_bool','4_last_increasing_bool',\n",
    "              '5_last_increasing_bool','1_3_5_iden_bool','2_4_6_iden_bool','3_5_7_iden_bool','4_6_8_iden_bool','5_7_9_iden_bool',\n",
    "              '3_combo_bool','4_combo_bool','5_combo_bool','6_combo_bool','3_combo_s','3_combo_57','3_combo_689','4_combo_s',\n",
    "               '4_combo_57','4_combo_689','list_double_3_increasing','list_double_4_increasing']\n",
    "\n",
    "# LIST_FEAT7 = ['pos_'+str(i)+\"_\"+str(j)+\"_\"+str(k)+\"_\"+str(l) for i in range(1,7) \n",
    "#               for j in range(i+1,8) for k in range(j+1,9) for l in range(k+1,10)]\n",
    "\n",
    "# LIST_FEAT7 = ['pos_'+str(i)+\"_\"+str(i+1)+\"_\"+str(i+2)+\"_\"+str(i+3) for i in range(1,7)]\n",
    "\n",
    "# LIST_FEAT8 = ['pos_'+str(i)+\"_\"+str(j)+\"_\"+str(k)+\"_\"+str(l)+\"_\"+str(m) for i in range(1,6)\n",
    "#               for j in range(i+1,7) for k in range(j+1,8) for l in range(k+1,9)\n",
    "#               for m in range(l+1,10)]\n",
    "\n",
    "\n",
    "\n",
    "class Categorical_encoder:\n",
    "    def __init__(self):\n",
    "        self.list_feat =LIST_FEAT1 + LIST_FEAT2 + LIST_FEAT5 + LIST_FEAT6 + LIST_FEAT9\n",
    "        self.list_encoder = []\n",
    "    \n",
    "    def check_containing_columns(self,list_columns):\n",
    "\n",
    "        for i in self.list_feat:\n",
    "            for j in range(len(list_columns)):\n",
    "                if i == list_columns[j]:\n",
    "                    break\n",
    "                if j == len(list_columns) -1:\n",
    "                    return False\n",
    "        \n",
    "        return True\n",
    "                    \n",
    "    def fit(self,df):\n",
    "        \n",
    "        if self.check_containing_columns(df.columns) is False:\n",
    "               raise Exception(\"CAN NOT FIT BECAUSE DATAFRAME DO NOT HAVING ENOUGH REQUIRED COLUMNS\")\n",
    "        list_tmp = ['pos_' + str(i) for i in range(3,10)]\n",
    "        list_tmp = list_tmp\n",
    "        tmp = \"\"\n",
    "        for i in self.list_feat:\n",
    "            if (i in list_tmp):\n",
    "                self.list_encoder.append(tmp)\n",
    "                continue\n",
    "            ordinal_encoder= preprocessing.OrdinalEncoder(handle_unknown='use_encoded_value',\n",
    "                                 unknown_value=-1)\n",
    "\n",
    "            ordinal_encoder.fit(np.array(df[i]).reshape(-1,1))\n",
    "            self.list_encoder.append(ordinal_encoder)\n",
    "            tmp = ordinal_encoder\n",
    "\n",
    "    \n",
    "    def encode(self,df):\n",
    "        list_tmp = ['pos_' + str(i) for i in range(3,10)]\n",
    "        for i in range(len(self.list_feat)):\n",
    "            #print(self.list_feat[i])\n",
    "            df[self.list_feat[i]] = self.list_encoder[i].transform(np.array(df[self.list_feat[i]]).reshape(-1, 1)).flatten()\n",
    "            #df[self.list_feat[i]] = self.list_encoder[i].transform(df[self.list_feat[i]])\n",
    "        return df\n",
    "\n"
   ],
   "metadata": {
    "papermill": {
     "duration": 0.035405,
     "end_time": "2022-09-30T11:22:37.535105",
     "exception": false,
     "start_time": "2022-09-30T11:22:37.499700",
     "status": "completed"
    },
    "tags": [],
    "execution": {
     "iopub.status.busy": "2022-10-09T08:17:32.915979Z",
     "iopub.execute_input": "2022-10-09T08:17:32.916383Z",
     "iopub.status.idle": "2022-10-09T08:17:32.934884Z",
     "shell.execute_reply.started": "2022-10-09T08:17:32.916345Z",
     "shell.execute_reply": "2022-10-09T08:17:32.933888Z"
    },
    "trusted": true,
    "pycharm": {
     "name": "#%%\n"
    }
   },
   "execution_count": 65,
   "outputs": []
  },
  {
   "cell_type": "code",
   "source": [],
   "metadata": {
    "papermill": {
     "duration": 74.788936,
     "end_time": "2022-09-30T11:23:52.335805",
     "exception": false,
     "start_time": "2022-09-30T11:22:37.546869",
     "status": "completed"
    },
    "tags": [],
    "pycharm": {
     "name": "#%%\n"
    }
   },
   "execution_count": null,
   "outputs": []
  },
  {
   "cell_type": "code",
   "source": [
    "list_features = LIST_FEAT1 + LIST_FEAT2 + LIST_FEAT3 +  LIST_FEAT4 + LIST_FEAT5 + LIST_FEAT6 +LIST_FEAT9 + LIST_FEAT10"
   ],
   "metadata": {
    "papermill": {
     "duration": 0.022659,
     "end_time": "2022-09-30T11:23:52.371007",
     "exception": false,
     "start_time": "2022-09-30T11:23:52.348348",
     "status": "completed"
    },
    "tags": [],
    "execution": {
     "iopub.status.busy": "2022-10-09T08:17:32.936687Z",
     "iopub.execute_input": "2022-10-09T08:17:32.937090Z",
     "iopub.status.idle": "2022-10-09T08:17:32.946601Z",
     "shell.execute_reply.started": "2022-10-09T08:17:32.937053Z",
     "shell.execute_reply": "2022-10-09T08:17:32.945570Z"
    },
    "trusted": true,
    "pycharm": {
     "name": "#%%\n"
    }
   },
   "execution_count": 66,
   "outputs": []
  },
  {
   "cell_type": "code",
   "source": [
    "X_train, X_test,y_train, y_test = train_test_split(df[list_features],df['label'], test_size=0.1, random_state=25)"
   ],
   "metadata": {
    "papermill": {
     "duration": 1.347518,
     "end_time": "2022-09-30T11:23:53.730925",
     "exception": false,
     "start_time": "2022-09-30T11:23:52.383407",
     "status": "completed"
    },
    "tags": [],
    "execution": {
     "iopub.status.busy": "2022-10-09T08:17:32.948021Z",
     "iopub.execute_input": "2022-10-09T08:17:32.948412Z",
     "iopub.status.idle": "2022-10-09T08:17:41.883783Z",
     "shell.execute_reply.started": "2022-10-09T08:17:32.948372Z",
     "shell.execute_reply": "2022-10-09T08:17:41.882720Z"
    },
    "trusted": true,
    "pycharm": {
     "name": "#%%\n"
    }
   },
   "execution_count": 67,
   "outputs": []
  },
  {
   "cell_type": "code",
   "source": [
    "X_train.shape"
   ],
   "metadata": {
    "execution": {
     "iopub.status.busy": "2022-10-09T08:17:41.885283Z",
     "iopub.execute_input": "2022-10-09T08:17:41.885984Z",
     "iopub.status.idle": "2022-10-09T08:17:41.892592Z",
     "shell.execute_reply.started": "2022-10-09T08:17:41.885941Z",
     "shell.execute_reply": "2022-10-09T08:17:41.891602Z"
    },
    "trusted": true,
    "pycharm": {
     "name": "#%%\n"
    }
   },
   "execution_count": 68,
   "outputs": [
    {
     "execution_count": 68,
     "output_type": "execute_result",
     "data": {
      "text/plain": "(566085, 218)"
     },
     "metadata": {}
    }
   ]
  },
  {
   "cell_type": "code",
   "source": [
    "# ct = Categorical_encoder()\n",
    "# ct.fit(df[list_features])\n",
    "# X_train = ct.encode(X_train)\n",
    "# X_test = ct.encode(X_test)\n"
   ],
   "metadata": {
    "scrolled": true,
    "execution": {
     "iopub.status.busy": "2022-10-09T08:17:41.894236Z",
     "iopub.execute_input": "2022-10-09T08:17:41.894955Z",
     "iopub.status.idle": "2022-10-09T08:17:41.901187Z",
     "shell.execute_reply.started": "2022-10-09T08:17:41.894914Z",
     "shell.execute_reply": "2022-10-09T08:17:41.900259Z"
    },
    "trusted": true,
    "pycharm": {
     "name": "#%%\n"
    }
   },
   "execution_count": 69,
   "outputs": []
  },
  {
   "cell_type": "code",
   "source": [
    "del df\n",
    "gc.collect()"
   ],
   "metadata": {
    "execution": {
     "iopub.status.busy": "2022-10-09T08:17:41.902596Z",
     "iopub.execute_input": "2022-10-09T08:17:41.903241Z",
     "iopub.status.idle": "2022-10-09T08:17:42.723295Z",
     "shell.execute_reply.started": "2022-10-09T08:17:41.903206Z",
     "shell.execute_reply": "2022-10-09T08:17:42.722017Z"
    },
    "trusted": true,
    "pycharm": {
     "name": "#%%\n"
    }
   },
   "execution_count": 70,
   "outputs": [
    {
     "execution_count": 70,
     "output_type": "execute_result",
     "data": {
      "text/plain": "118"
     },
     "metadata": {}
    }
   ]
  },
  {
   "cell_type": "code",
   "source": [
    "# import xgboost as xgb\n",
    "\n",
    "# reg = xgb.XGBClassifier(n_estimators = 400, max_depth=18,tree_method=\"gpu_hist\")\n",
    "\n",
    "# reg.fit(X_train, y_train)\n",
    "# y_train_predict = reg.predict(X_train)\n",
    "# print(\"XGB Accuracy Score of train set-> \",accuracy_score(y_train, y_train_predict)*100)\n",
    "\n",
    "# y_test_predict = reg.predict(X_test)\n",
    "# print(classification_report(y_test,y_test_predict))"
   ],
   "metadata": {
    "papermill": {
     "duration": 352.737785,
     "end_time": "2022-09-30T11:29:46.480704",
     "exception": false,
     "start_time": "2022-09-30T11:23:53.742919",
     "status": "completed"
    },
    "tags": [],
    "execution": {
     "iopub.status.busy": "2022-10-09T08:17:42.725203Z",
     "iopub.execute_input": "2022-10-09T08:17:42.726225Z",
     "iopub.status.idle": "2022-10-09T08:17:42.731830Z",
     "shell.execute_reply.started": "2022-10-09T08:17:42.726184Z",
     "shell.execute_reply": "2022-10-09T08:17:42.730730Z"
    },
    "trusted": true,
    "pycharm": {
     "name": "#%%\n"
    }
   },
   "execution_count": 71,
   "outputs": []
  },
  {
   "cell_type": "code",
   "source": [],
   "metadata": {
    "pycharm": {
     "name": "#%%\n"
    }
   },
   "execution_count": null,
   "outputs": []
  },
  {
   "cell_type": "code",
   "source": [
    "# from sklearn.metrics import plot_confusion_matrix\n",
    "# fig, ax = plt.subplots(figsize=(40, 30))\n",
    "# plt.grid(False)\n",
    "# sns.set(font_scale=1.5)\n",
    "# plot_confusion_matrix(reg, X_test[list_features], y_test,cmap=\"OrRd\",ax = ax)  \n",
    "# plt.show()\n"
   ],
   "metadata": {
    "execution": {
     "iopub.status.busy": "2022-10-09T08:17:42.733495Z",
     "iopub.execute_input": "2022-10-09T08:17:42.733902Z",
     "iopub.status.idle": "2022-10-09T08:17:42.741012Z",
     "shell.execute_reply.started": "2022-10-09T08:17:42.733843Z",
     "shell.execute_reply": "2022-10-09T08:17:42.739885Z"
    },
    "trusted": true,
    "pycharm": {
     "name": "#%%\n"
    }
   },
   "execution_count": 72,
   "outputs": []
  },
  {
   "cell_type": "code",
   "source": [
    "# plt.figure(figsize = (50,60))\n",
    "# plt.grid(False)\n",
    "\n",
    "# sorted_idx = reg.feature_importances_.argsort()\n",
    "# plt.barh(X_train.columns[sorted_idx], reg.feature_importances_[sorted_idx])\n",
    "# plt.xlabel(\"XGB Feature Importance\")"
   ],
   "metadata": {
    "execution": {
     "iopub.status.busy": "2022-10-09T08:17:42.742603Z",
     "iopub.execute_input": "2022-10-09T08:17:42.743719Z",
     "iopub.status.idle": "2022-10-09T08:17:42.749795Z",
     "shell.execute_reply.started": "2022-10-09T08:17:42.743658Z",
     "shell.execute_reply": "2022-10-09T08:17:42.748482Z"
    },
    "trusted": true,
    "pycharm": {
     "name": "#%%\n"
    }
   },
   "execution_count": 73,
   "outputs": []
  },
  {
   "cell_type": "code",
   "source": [
    "# import pickle\n",
    "# pickle.dump(ct, open(\"encoder.pkl\", \"wb\"))\n",
    "# pickle.dump(reg, open(\"xgb_reg.pkl\", \"wb\"))\n",
    "# # pickle.dump(clf,open(\"ct.pkl\", \"wb\"))"
   ],
   "metadata": {
    "papermill": {
     "duration": 0.012559,
     "end_time": "2022-09-30T11:29:46.505813",
     "exception": false,
     "start_time": "2022-09-30T11:29:46.493254",
     "status": "completed"
    },
    "tags": [],
    "execution": {
     "iopub.status.busy": "2022-10-09T08:17:42.751461Z",
     "iopub.execute_input": "2022-10-09T08:17:42.752907Z",
     "iopub.status.idle": "2022-10-09T08:17:42.757913Z",
     "shell.execute_reply.started": "2022-10-09T08:17:42.752850Z",
     "shell.execute_reply": "2022-10-09T08:17:42.756800Z"
    },
    "trusted": true,
    "pycharm": {
     "name": "#%%\n"
    }
   },
   "execution_count": 74,
   "outputs": []
  },
  {
   "cell_type": "code",
   "source": [
    "clf = CatBoostClassifier(task_type = \"GPU\", iterations = 1500,depth = 12,cat_features =LIST_FEAT1 + LIST_FEAT2 + LIST_FEAT5 + LIST_FEAT6 + LIST_FEAT9)\n",
    "\n",
    "# ,iterations=1000,learning_rate = 0.15,depth =10)    \n",
    "# , ,LIST_FEAT1 + LIST_FEAT2 + LIST_FEAT5 + LIST_FEAT6 + LIST_FEAT7 + LIST_FEAT8)\n",
    "clf.fit(X_train, y_train)\n",
    "y_train_predict = clf.predict(X_train)\n",
    "print(\"CBoost Accuracy Score of train set-> \",accuracy_score(y_train, y_train_predict)*100)\n",
    "\n",
    "y_test_predict = clf.predict(X_test)\n",
    "print(classification_report(y_test,y_test_predict))"
   ],
   "metadata": {
    "scrolled": true,
    "execution": {
     "iopub.status.busy": "2022-10-09T08:17:42.759431Z",
     "iopub.execute_input": "2022-10-09T08:17:42.760030Z",
     "iopub.status.idle": "2022-10-09T08:31:45.886568Z",
     "shell.execute_reply.started": "2022-10-09T08:17:42.759991Z",
     "shell.execute_reply": "2022-10-09T08:31:45.884700Z"
    },
    "trusted": true,
    "pycharm": {
     "name": "#%%\n"
    }
   },
   "execution_count": 75,
   "outputs": [
    {
     "name": "stdout",
     "text": "Learning rate set to 0.168728\n0:\tlearn: 1.5830561\ttotal: 443ms\tremaining: 11m 3s\n1:\tlearn: 1.3571759\ttotal: 876ms\tremaining: 10m 56s\n2:\tlearn: 1.2055810\ttotal: 1.28s\tremaining: 10m 40s\n3:\tlearn: 1.0989496\ttotal: 1.71s\tremaining: 10m 40s\n4:\tlearn: 1.0200378\ttotal: 2.16s\tremaining: 10m 46s\n5:\tlearn: 0.9570278\ttotal: 2.55s\tremaining: 10m 34s\n6:\tlearn: 0.9067830\ttotal: 2.98s\tremaining: 10m 36s\n7:\tlearn: 0.8667918\ttotal: 3.51s\tremaining: 10m 54s\n8:\tlearn: 0.8333051\ttotal: 3.92s\tremaining: 10m 48s\n9:\tlearn: 0.8053045\ttotal: 4.36s\tremaining: 10m 50s\n10:\tlearn: 0.7808026\ttotal: 4.74s\tremaining: 10m 42s\n11:\tlearn: 0.7605673\ttotal: 5.19s\tremaining: 10m 43s\n12:\tlearn: 0.7423029\ttotal: 5.69s\tremaining: 10m 51s\n13:\tlearn: 0.7281207\ttotal: 6.11s\tremaining: 10m 48s\n14:\tlearn: 0.7159473\ttotal: 6.46s\tremaining: 10m 39s\n15:\tlearn: 0.7029280\ttotal: 6.87s\tremaining: 10m 37s\n16:\tlearn: 0.6926875\ttotal: 7.44s\tremaining: 10m 49s\n17:\tlearn: 0.6825208\ttotal: 7.9s\tremaining: 10m 50s\n18:\tlearn: 0.6738237\ttotal: 8.32s\tremaining: 10m 48s\n19:\tlearn: 0.6648775\ttotal: 8.82s\tremaining: 10m 52s\n20:\tlearn: 0.6565396\ttotal: 9.27s\tremaining: 10m 52s\n21:\tlearn: 0.6484599\ttotal: 9.7s\tremaining: 10m 51s\n22:\tlearn: 0.6424727\ttotal: 10.1s\tremaining: 10m 46s\n23:\tlearn: 0.6363549\ttotal: 10.5s\tremaining: 10m 43s\n24:\tlearn: 0.6314416\ttotal: 10.9s\tremaining: 10m 45s\n25:\tlearn: 0.6271606\ttotal: 11.3s\tremaining: 10m 43s\n26:\tlearn: 0.6226177\ttotal: 11.8s\tremaining: 10m 43s\n27:\tlearn: 0.6180971\ttotal: 12.2s\tremaining: 10m 41s\n28:\tlearn: 0.6135282\ttotal: 12.7s\tremaining: 10m 46s\n29:\tlearn: 0.6096046\ttotal: 13.4s\tremaining: 10m 55s\n30:\tlearn: 0.6064491\ttotal: 13.9s\tremaining: 11m\n31:\tlearn: 0.6017105\ttotal: 14.4s\tremaining: 11m\n32:\tlearn: 0.5980843\ttotal: 14.9s\tremaining: 11m 4s\n33:\tlearn: 0.5949510\ttotal: 15.4s\tremaining: 11m 2s\n34:\tlearn: 0.5913666\ttotal: 15.8s\tremaining: 10m 59s\n35:\tlearn: 0.5883520\ttotal: 16.1s\tremaining: 10m 56s\n36:\tlearn: 0.5861427\ttotal: 16.5s\tremaining: 10m 51s\n37:\tlearn: 0.5833596\ttotal: 16.9s\tremaining: 10m 49s\n38:\tlearn: 0.5805334\ttotal: 17.3s\tremaining: 10m 47s\n39:\tlearn: 0.5787537\ttotal: 17.7s\tremaining: 10m 45s\n40:\tlearn: 0.5764968\ttotal: 18.2s\tremaining: 10m 48s\n41:\tlearn: 0.5719677\ttotal: 18.8s\tremaining: 10m 54s\n42:\tlearn: 0.5698002\ttotal: 19.2s\tremaining: 10m 52s\n43:\tlearn: 0.5678174\ttotal: 19.6s\tremaining: 10m 49s\n44:\tlearn: 0.5658824\ttotal: 20s\tremaining: 10m 47s\n45:\tlearn: 0.5644221\ttotal: 20.4s\tremaining: 10m 45s\n46:\tlearn: 0.5627567\ttotal: 20.8s\tremaining: 10m 44s\n47:\tlearn: 0.5605868\ttotal: 21.3s\tremaining: 10m 44s\n48:\tlearn: 0.5588661\ttotal: 21.8s\tremaining: 10m 44s\n49:\tlearn: 0.5572304\ttotal: 22.2s\tremaining: 10m 42s\n50:\tlearn: 0.5547492\ttotal: 22.6s\tremaining: 10m 41s\n51:\tlearn: 0.5521577\ttotal: 23s\tremaining: 10m 41s\n52:\tlearn: 0.5507053\ttotal: 23.4s\tremaining: 10m 40s\n53:\tlearn: 0.5480399\ttotal: 23.9s\tremaining: 10m 41s\n54:\tlearn: 0.5464645\ttotal: 24.3s\tremaining: 10m 39s\n55:\tlearn: 0.5448649\ttotal: 24.8s\tremaining: 10m 38s\n56:\tlearn: 0.5429707\ttotal: 25.2s\tremaining: 10m 38s\n57:\tlearn: 0.5410480\ttotal: 25.7s\tremaining: 10m 37s\n58:\tlearn: 0.5388194\ttotal: 26.2s\tremaining: 10m 39s\n59:\tlearn: 0.5366897\ttotal: 26.6s\tremaining: 10m 39s\n60:\tlearn: 0.5341863\ttotal: 27.2s\tremaining: 10m 41s\n61:\tlearn: 0.5327387\ttotal: 27.6s\tremaining: 10m 40s\n62:\tlearn: 0.5312856\ttotal: 28s\tremaining: 10m 39s\n63:\tlearn: 0.5299305\ttotal: 28.5s\tremaining: 10m 39s\n64:\tlearn: 0.5282716\ttotal: 29s\tremaining: 10m 40s\n65:\tlearn: 0.5268710\ttotal: 29.6s\tremaining: 10m 42s\n66:\tlearn: 0.5251198\ttotal: 30s\tremaining: 10m 42s\n67:\tlearn: 0.5234474\ttotal: 30.5s\tremaining: 10m 42s\n68:\tlearn: 0.5220103\ttotal: 30.9s\tremaining: 10m 41s\n69:\tlearn: 0.5208764\ttotal: 31.3s\tremaining: 10m 40s\n70:\tlearn: 0.5195945\ttotal: 31.7s\tremaining: 10m 38s\n71:\tlearn: 0.5182489\ttotal: 32.2s\tremaining: 10m 38s\n72:\tlearn: 0.5169276\ttotal: 32.7s\tremaining: 10m 38s\n73:\tlearn: 0.5155814\ttotal: 33.1s\tremaining: 10m 38s\n74:\tlearn: 0.5142386\ttotal: 33.6s\tremaining: 10m 38s\n75:\tlearn: 0.5129916\ttotal: 34.1s\tremaining: 10m 38s\n76:\tlearn: 0.5116702\ttotal: 34.5s\tremaining: 10m 37s\n77:\tlearn: 0.5099864\ttotal: 35s\tremaining: 10m 37s\n78:\tlearn: 0.5088418\ttotal: 35.4s\tremaining: 10m 36s\n79:\tlearn: 0.5076069\ttotal: 35.8s\tremaining: 10m 36s\n80:\tlearn: 0.5066741\ttotal: 36.2s\tremaining: 10m 34s\n81:\tlearn: 0.5057570\ttotal: 36.6s\tremaining: 10m 33s\n82:\tlearn: 0.5043593\ttotal: 37.1s\tremaining: 10m 33s\n83:\tlearn: 0.5031740\ttotal: 37.5s\tremaining: 10m 32s\n84:\tlearn: 0.5015602\ttotal: 38s\tremaining: 10m 32s\n85:\tlearn: 0.4998805\ttotal: 38.5s\tremaining: 10m 32s\n86:\tlearn: 0.4986518\ttotal: 38.9s\tremaining: 10m 32s\n87:\tlearn: 0.4969216\ttotal: 39.4s\tremaining: 10m 32s\n88:\tlearn: 0.4954510\ttotal: 40s\tremaining: 10m 34s\n89:\tlearn: 0.4942092\ttotal: 40.5s\tremaining: 10m 34s\n90:\tlearn: 0.4925041\ttotal: 41s\tremaining: 10m 35s\n91:\tlearn: 0.4908299\ttotal: 41.5s\tremaining: 10m 35s\n92:\tlearn: 0.4900400\ttotal: 42s\tremaining: 10m 34s\n93:\tlearn: 0.4886617\ttotal: 42.4s\tremaining: 10m 34s\n94:\tlearn: 0.4874447\ttotal: 42.9s\tremaining: 10m 34s\n95:\tlearn: 0.4866118\ttotal: 43.3s\tremaining: 10m 33s\n96:\tlearn: 0.4855923\ttotal: 43.7s\tremaining: 10m 32s\n97:\tlearn: 0.4844636\ttotal: 44.2s\tremaining: 10m 31s\n98:\tlearn: 0.4832898\ttotal: 44.6s\tremaining: 10m 31s\n99:\tlearn: 0.4825170\ttotal: 45.1s\tremaining: 10m 31s\n100:\tlearn: 0.4812716\ttotal: 45.7s\tremaining: 10m 33s\n101:\tlearn: 0.4803496\ttotal: 46.3s\tremaining: 10m 34s\n102:\tlearn: 0.4792561\ttotal: 46.7s\tremaining: 10m 34s\n103:\tlearn: 0.4784466\ttotal: 47.1s\tremaining: 10m 32s\n104:\tlearn: 0.4774208\ttotal: 47.6s\tremaining: 10m 31s\n105:\tlearn: 0.4766577\ttotal: 48s\tremaining: 10m 30s\n106:\tlearn: 0.4751415\ttotal: 48.5s\tremaining: 10m 31s\n107:\tlearn: 0.4738350\ttotal: 49s\tremaining: 10m 31s\n108:\tlearn: 0.4731359\ttotal: 49.4s\tremaining: 10m 30s\n109:\tlearn: 0.4722052\ttotal: 49.8s\tremaining: 10m 29s\n110:\tlearn: 0.4711468\ttotal: 50.3s\tremaining: 10m 29s\n111:\tlearn: 0.4703399\ttotal: 50.7s\tremaining: 10m 28s\n112:\tlearn: 0.4694130\ttotal: 51.4s\tremaining: 10m 30s\n113:\tlearn: 0.4686569\ttotal: 51.8s\tremaining: 10m 30s\n114:\tlearn: 0.4680094\ttotal: 52.2s\tremaining: 10m 29s\n115:\tlearn: 0.4669287\ttotal: 52.7s\tremaining: 10m 28s\n116:\tlearn: 0.4659734\ttotal: 53.1s\tremaining: 10m 28s\n117:\tlearn: 0.4650287\ttotal: 53.6s\tremaining: 10m 27s\n118:\tlearn: 0.4636060\ttotal: 54.1s\tremaining: 10m 27s\n119:\tlearn: 0.4622722\ttotal: 54.6s\tremaining: 10m 27s\n120:\tlearn: 0.4612632\ttotal: 55s\tremaining: 10m 27s\n121:\tlearn: 0.4603377\ttotal: 55.5s\tremaining: 10m 26s\n122:\tlearn: 0.4593690\ttotal: 55.9s\tremaining: 10m 25s\n123:\tlearn: 0.4583705\ttotal: 56.3s\tremaining: 10m 25s\n124:\tlearn: 0.4575942\ttotal: 56.8s\tremaining: 10m 24s\n125:\tlearn: 0.4565729\ttotal: 57.2s\tremaining: 10m 24s\n126:\tlearn: 0.4557834\ttotal: 57.6s\tremaining: 10m 23s\n127:\tlearn: 0.4550280\ttotal: 58s\tremaining: 10m 22s\n128:\tlearn: 0.4543826\ttotal: 58.5s\tremaining: 10m 21s\n129:\tlearn: 0.4532614\ttotal: 59s\tremaining: 10m 21s\n130:\tlearn: 0.4520166\ttotal: 59.4s\tremaining: 10m 21s\n131:\tlearn: 0.4513572\ttotal: 59.8s\tremaining: 10m 19s\n132:\tlearn: 0.4504809\ttotal: 1m\tremaining: 10m 19s\n133:\tlearn: 0.4497680\ttotal: 1m\tremaining: 10m 19s\n134:\tlearn: 0.4490428\ttotal: 1m 1s\tremaining: 10m 18s\n135:\tlearn: 0.4483191\ttotal: 1m 1s\tremaining: 10m 17s\n136:\tlearn: 0.4474262\ttotal: 1m 2s\tremaining: 10m 17s\n137:\tlearn: 0.4463642\ttotal: 1m 2s\tremaining: 10m 18s\n138:\tlearn: 0.4451226\ttotal: 1m 3s\tremaining: 10m 18s\n139:\tlearn: 0.4439384\ttotal: 1m 3s\tremaining: 10m 17s\n140:\tlearn: 0.4431938\ttotal: 1m 4s\tremaining: 10m 17s\n141:\tlearn: 0.4425468\ttotal: 1m 4s\tremaining: 10m 16s\n142:\tlearn: 0.4419547\ttotal: 1m 4s\tremaining: 10m 15s\n143:\tlearn: 0.4413607\ttotal: 1m 5s\tremaining: 10m 15s\n144:\tlearn: 0.4402056\ttotal: 1m 5s\tremaining: 10m 15s\n145:\tlearn: 0.4393590\ttotal: 1m 6s\tremaining: 10m 15s\n146:\tlearn: 0.4384782\ttotal: 1m 6s\tremaining: 10m 15s\n147:\tlearn: 0.4375315\ttotal: 1m 7s\tremaining: 10m 15s\n148:\tlearn: 0.4365233\ttotal: 1m 7s\tremaining: 10m 15s\n149:\tlearn: 0.4352497\ttotal: 1m 8s\tremaining: 10m 15s\n150:\tlearn: 0.4344567\ttotal: 1m 8s\tremaining: 10m 14s\n151:\tlearn: 0.4341776\ttotal: 1m 9s\tremaining: 10m 13s\n152:\tlearn: 0.4334982\ttotal: 1m 9s\tremaining: 10m 12s\n153:\tlearn: 0.4330475\ttotal: 1m 9s\tremaining: 10m 10s\n154:\tlearn: 0.4316597\ttotal: 1m 10s\tremaining: 10m 11s\n155:\tlearn: 0.4306124\ttotal: 1m 10s\tremaining: 10m 11s\n156:\tlearn: 0.4298875\ttotal: 1m 11s\tremaining: 10m 10s\n157:\tlearn: 0.4292563\ttotal: 1m 11s\tremaining: 10m 9s\n158:\tlearn: 0.4288238\ttotal: 1m 12s\tremaining: 10m 8s\n159:\tlearn: 0.4277698\ttotal: 1m 12s\tremaining: 10m 8s\n160:\tlearn: 0.4268893\ttotal: 1m 13s\tremaining: 10m 9s\n161:\tlearn: 0.4259666\ttotal: 1m 13s\tremaining: 10m 9s\n162:\tlearn: 0.4251597\ttotal: 1m 14s\tremaining: 10m 9s\n163:\tlearn: 0.4244856\ttotal: 1m 14s\tremaining: 10m 8s\n164:\tlearn: 0.4236676\ttotal: 1m 15s\tremaining: 10m 7s\n165:\tlearn: 0.4225828\ttotal: 1m 15s\tremaining: 10m 7s\n166:\tlearn: 0.4213069\ttotal: 1m 16s\tremaining: 10m 7s\n167:\tlearn: 0.4208145\ttotal: 1m 16s\tremaining: 10m 6s\n168:\tlearn: 0.4204755\ttotal: 1m 16s\tremaining: 10m 5s\n169:\tlearn: 0.4200390\ttotal: 1m 17s\tremaining: 10m 5s\n170:\tlearn: 0.4194259\ttotal: 1m 18s\tremaining: 10m 6s\n171:\tlearn: 0.4183487\ttotal: 1m 18s\tremaining: 10m 7s\n172:\tlearn: 0.4174337\ttotal: 1m 19s\tremaining: 10m 6s\n173:\tlearn: 0.4170669\ttotal: 1m 19s\tremaining: 10m 5s\n174:\tlearn: 0.4163440\ttotal: 1m 19s\tremaining: 10m 5s\n175:\tlearn: 0.4156543\ttotal: 1m 20s\tremaining: 10m 4s\n176:\tlearn: 0.4144930\ttotal: 1m 20s\tremaining: 10m 4s\n177:\tlearn: 0.4139418\ttotal: 1m 21s\tremaining: 10m 3s\n178:\tlearn: 0.4131578\ttotal: 1m 21s\tremaining: 10m 3s\n179:\tlearn: 0.4124396\ttotal: 1m 22s\tremaining: 10m 2s\n180:\tlearn: 0.4120004\ttotal: 1m 22s\tremaining: 10m 2s\n181:\tlearn: 0.4111336\ttotal: 1m 23s\tremaining: 10m 1s\n182:\tlearn: 0.4102614\ttotal: 1m 23s\tremaining: 10m 1s\n183:\tlearn: 0.4096890\ttotal: 1m 24s\tremaining: 10m 1s\n184:\tlearn: 0.4086190\ttotal: 1m 24s\tremaining: 10m 1s\n185:\tlearn: 0.4080653\ttotal: 1m 25s\tremaining: 10m\n186:\tlearn: 0.4077223\ttotal: 1m 25s\tremaining: 9m 59s\n187:\tlearn: 0.4071550\ttotal: 1m 25s\tremaining: 9m 59s\n188:\tlearn: 0.4064223\ttotal: 1m 26s\tremaining: 9m 58s\n189:\tlearn: 0.4057963\ttotal: 1m 26s\tremaining: 9m 58s\n190:\tlearn: 0.4051276\ttotal: 1m 27s\tremaining: 9m 57s\n191:\tlearn: 0.4044432\ttotal: 1m 27s\tremaining: 9m 57s\n192:\tlearn: 0.4039385\ttotal: 1m 28s\tremaining: 9m 56s\n193:\tlearn: 0.4034001\ttotal: 1m 28s\tremaining: 9m 55s\n194:\tlearn: 0.4028213\ttotal: 1m 28s\tremaining: 9m 54s\n195:\tlearn: 0.4023212\ttotal: 1m 29s\tremaining: 9m 54s\n196:\tlearn: 0.4013177\ttotal: 1m 29s\tremaining: 9m 54s\n197:\tlearn: 0.4008995\ttotal: 1m 30s\tremaining: 9m 53s\n198:\tlearn: 0.4000780\ttotal: 1m 30s\tremaining: 9m 53s\n199:\tlearn: 0.3993525\ttotal: 1m 31s\tremaining: 9m 53s\n200:\tlearn: 0.3984560\ttotal: 1m 31s\tremaining: 9m 52s\n201:\tlearn: 0.3978130\ttotal: 1m 32s\tremaining: 9m 52s\n202:\tlearn: 0.3974422\ttotal: 1m 32s\tremaining: 9m 51s\n203:\tlearn: 0.3969006\ttotal: 1m 32s\tremaining: 9m 50s\n204:\tlearn: 0.3964069\ttotal: 1m 33s\tremaining: 9m 49s\n205:\tlearn: 0.3959712\ttotal: 1m 33s\tremaining: 9m 48s\n206:\tlearn: 0.3952310\ttotal: 1m 34s\tremaining: 9m 48s\n207:\tlearn: 0.3949466\ttotal: 1m 34s\tremaining: 9m 47s\n208:\tlearn: 0.3943307\ttotal: 1m 35s\tremaining: 9m 47s\n209:\tlearn: 0.3938927\ttotal: 1m 35s\tremaining: 9m 47s\n210:\tlearn: 0.3930407\ttotal: 1m 36s\tremaining: 9m 46s\n211:\tlearn: 0.3926140\ttotal: 1m 36s\tremaining: 9m 45s\n212:\tlearn: 0.3917077\ttotal: 1m 36s\tremaining: 9m 45s\n213:\tlearn: 0.3909445\ttotal: 1m 37s\tremaining: 9m 45s\n214:\tlearn: 0.3906359\ttotal: 1m 37s\tremaining: 9m 44s\n215:\tlearn: 0.3898355\ttotal: 1m 38s\tremaining: 9m 44s\n216:\tlearn: 0.3890232\ttotal: 1m 38s\tremaining: 9m 43s\n217:\tlearn: 0.3881515\ttotal: 1m 39s\tremaining: 9m 43s\n218:\tlearn: 0.3877524\ttotal: 1m 39s\tremaining: 9m 42s\n219:\tlearn: 0.3868933\ttotal: 1m 40s\tremaining: 9m 42s\n220:\tlearn: 0.3861793\ttotal: 1m 40s\tremaining: 9m 42s\n221:\tlearn: 0.3858156\ttotal: 1m 40s\tremaining: 9m 41s\n222:\tlearn: 0.3849378\ttotal: 1m 41s\tremaining: 9m 41s\n223:\tlearn: 0.3842806\ttotal: 1m 41s\tremaining: 9m 40s\n224:\tlearn: 0.3838996\ttotal: 1m 42s\tremaining: 9m 39s\n225:\tlearn: 0.3833213\ttotal: 1m 42s\tremaining: 9m 39s\n226:\tlearn: 0.3827076\ttotal: 1m 43s\tremaining: 9m 38s\n227:\tlearn: 0.3823979\ttotal: 1m 43s\tremaining: 9m 37s\n228:\tlearn: 0.3815395\ttotal: 1m 44s\tremaining: 9m 37s\n229:\tlearn: 0.3808312\ttotal: 1m 44s\tremaining: 9m 37s\n230:\tlearn: 0.3802969\ttotal: 1m 45s\tremaining: 9m 36s\n231:\tlearn: 0.3799800\ttotal: 1m 45s\tremaining: 9m 35s\n232:\tlearn: 0.3794401\ttotal: 1m 45s\tremaining: 9m 35s\n233:\tlearn: 0.3786475\ttotal: 1m 46s\tremaining: 9m 36s\n234:\tlearn: 0.3781305\ttotal: 1m 47s\tremaining: 9m 36s\n235:\tlearn: 0.3775144\ttotal: 1m 47s\tremaining: 9m 35s\n236:\tlearn: 0.3771266\ttotal: 1m 47s\tremaining: 9m 34s\n237:\tlearn: 0.3764690\ttotal: 1m 48s\tremaining: 9m 34s\n238:\tlearn: 0.3760695\ttotal: 1m 48s\tremaining: 9m 33s\n239:\tlearn: 0.3756976\ttotal: 1m 49s\tremaining: 9m 33s\n240:\tlearn: 0.3750510\ttotal: 1m 49s\tremaining: 9m 34s\n241:\tlearn: 0.3743333\ttotal: 1m 50s\tremaining: 9m 34s\n242:\tlearn: 0.3734062\ttotal: 1m 51s\tremaining: 9m 34s\n243:\tlearn: 0.3726890\ttotal: 1m 51s\tremaining: 9m 33s\n244:\tlearn: 0.3720928\ttotal: 1m 51s\tremaining: 9m 33s\n245:\tlearn: 0.3714007\ttotal: 1m 52s\tremaining: 9m 33s\n246:\tlearn: 0.3705841\ttotal: 1m 52s\tremaining: 9m 32s\n247:\tlearn: 0.3698963\ttotal: 1m 53s\tremaining: 9m 32s\n248:\tlearn: 0.3691959\ttotal: 1m 53s\tremaining: 9m 32s\n249:\tlearn: 0.3686346\ttotal: 1m 54s\tremaining: 9m 31s\n250:\tlearn: 0.3681738\ttotal: 1m 54s\tremaining: 9m 30s\n251:\tlearn: 0.3678113\ttotal: 1m 55s\tremaining: 9m 30s\n252:\tlearn: 0.3672512\ttotal: 1m 55s\tremaining: 9m 29s\n253:\tlearn: 0.3667161\ttotal: 1m 55s\tremaining: 9m 28s\n254:\tlearn: 0.3660660\ttotal: 1m 56s\tremaining: 9m 28s\n255:\tlearn: 0.3655538\ttotal: 1m 56s\tremaining: 9m 27s\n256:\tlearn: 0.3649033\ttotal: 1m 57s\tremaining: 9m 28s\n257:\tlearn: 0.3644009\ttotal: 1m 57s\tremaining: 9m 27s\n258:\tlearn: 0.3638874\ttotal: 1m 58s\tremaining: 9m 27s\n259:\tlearn: 0.3633384\ttotal: 1m 58s\tremaining: 9m 27s\n260:\tlearn: 0.3625045\ttotal: 1m 59s\tremaining: 9m 26s\n261:\tlearn: 0.3619256\ttotal: 1m 59s\tremaining: 9m 26s\n262:\tlearn: 0.3614311\ttotal: 2m\tremaining: 9m 25s\n263:\tlearn: 0.3610773\ttotal: 2m\tremaining: 9m 25s\n264:\tlearn: 0.3603635\ttotal: 2m 1s\tremaining: 9m 24s\n265:\tlearn: 0.3597977\ttotal: 2m 1s\tremaining: 9m 24s\n266:\tlearn: 0.3592542\ttotal: 2m 2s\tremaining: 9m 23s\n267:\tlearn: 0.3589154\ttotal: 2m 2s\tremaining: 9m 22s\n268:\tlearn: 0.3582713\ttotal: 2m 2s\tremaining: 9m 22s\n269:\tlearn: 0.3574877\ttotal: 2m 3s\tremaining: 9m 22s\n270:\tlearn: 0.3570409\ttotal: 2m 3s\tremaining: 9m 21s\n271:\tlearn: 0.3562120\ttotal: 2m 4s\tremaining: 9m 21s\n272:\tlearn: 0.3556806\ttotal: 2m 4s\tremaining: 9m 20s\n273:\tlearn: 0.3551799\ttotal: 2m 5s\tremaining: 9m 20s\n274:\tlearn: 0.3547129\ttotal: 2m 5s\tremaining: 9m 19s\n275:\tlearn: 0.3540652\ttotal: 2m 6s\tremaining: 9m 19s\n276:\tlearn: 0.3533891\ttotal: 2m 6s\tremaining: 9m 18s\n277:\tlearn: 0.3528865\ttotal: 2m 7s\tremaining: 9m 18s\n278:\tlearn: 0.3523449\ttotal: 2m 7s\tremaining: 9m 18s\n279:\tlearn: 0.3515709\ttotal: 2m 8s\tremaining: 9m 18s\n280:\tlearn: 0.3509965\ttotal: 2m 8s\tremaining: 9m 18s\n281:\tlearn: 0.3502006\ttotal: 2m 9s\tremaining: 9m 18s\n282:\tlearn: 0.3493732\ttotal: 2m 9s\tremaining: 9m 17s\n283:\tlearn: 0.3489854\ttotal: 2m 10s\tremaining: 9m 17s\n284:\tlearn: 0.3482505\ttotal: 2m 10s\tremaining: 9m 17s\n285:\tlearn: 0.3475332\ttotal: 2m 11s\tremaining: 9m 16s\n286:\tlearn: 0.3465991\ttotal: 2m 11s\tremaining: 9m 16s\n287:\tlearn: 0.3461692\ttotal: 2m 12s\tremaining: 9m 16s\n288:\tlearn: 0.3456466\ttotal: 2m 12s\tremaining: 9m 15s\n289:\tlearn: 0.3450018\ttotal: 2m 13s\tremaining: 9m 15s\n290:\tlearn: 0.3444415\ttotal: 2m 13s\tremaining: 9m 14s\n291:\tlearn: 0.3437259\ttotal: 2m 14s\tremaining: 9m 14s\n292:\tlearn: 0.3433002\ttotal: 2m 14s\tremaining: 9m 14s\n293:\tlearn: 0.3428856\ttotal: 2m 14s\tremaining: 9m 13s\n294:\tlearn: 0.3424801\ttotal: 2m 15s\tremaining: 9m 12s\n295:\tlearn: 0.3419625\ttotal: 2m 15s\tremaining: 9m 12s\n296:\tlearn: 0.3412151\ttotal: 2m 16s\tremaining: 9m 11s\n297:\tlearn: 0.3403689\ttotal: 2m 16s\tremaining: 9m 11s\n298:\tlearn: 0.3397503\ttotal: 2m 17s\tremaining: 9m 10s\n299:\tlearn: 0.3393628\ttotal: 2m 17s\tremaining: 9m 10s\n300:\tlearn: 0.3388682\ttotal: 2m 18s\tremaining: 9m 9s\n301:\tlearn: 0.3381097\ttotal: 2m 18s\tremaining: 9m 9s\n302:\tlearn: 0.3373776\ttotal: 2m 19s\tremaining: 9m 10s\n303:\tlearn: 0.3368082\ttotal: 2m 19s\tremaining: 9m 10s\n304:\tlearn: 0.3365576\ttotal: 2m 20s\tremaining: 9m 9s\n305:\tlearn: 0.3358798\ttotal: 2m 20s\tremaining: 9m 8s\n306:\tlearn: 0.3354940\ttotal: 2m 21s\tremaining: 9m 8s\n307:\tlearn: 0.3348125\ttotal: 2m 21s\tremaining: 9m 9s\n308:\tlearn: 0.3343689\ttotal: 2m 22s\tremaining: 9m 9s\n309:\tlearn: 0.3339452\ttotal: 2m 22s\tremaining: 9m 8s\n310:\tlearn: 0.3335331\ttotal: 2m 23s\tremaining: 9m 7s\n311:\tlearn: 0.3328701\ttotal: 2m 23s\tremaining: 9m 7s\n312:\tlearn: 0.3323803\ttotal: 2m 24s\tremaining: 9m 6s\n313:\tlearn: 0.3319995\ttotal: 2m 24s\tremaining: 9m 6s\n314:\tlearn: 0.3316752\ttotal: 2m 25s\tremaining: 9m 5s\n315:\tlearn: 0.3312321\ttotal: 2m 25s\tremaining: 9m 4s\n316:\tlearn: 0.3306040\ttotal: 2m 25s\tremaining: 9m 4s\n317:\tlearn: 0.3301613\ttotal: 2m 26s\tremaining: 9m 3s\n318:\tlearn: 0.3297140\ttotal: 2m 26s\tremaining: 9m 3s\n319:\tlearn: 0.3293520\ttotal: 2m 27s\tremaining: 9m 2s\n320:\tlearn: 0.3288227\ttotal: 2m 27s\tremaining: 9m 2s\n321:\tlearn: 0.3280576\ttotal: 2m 28s\tremaining: 9m 1s\n322:\tlearn: 0.3276649\ttotal: 2m 28s\tremaining: 9m 1s\n323:\tlearn: 0.3271793\ttotal: 2m 29s\tremaining: 9m\n324:\tlearn: 0.3266641\ttotal: 2m 29s\tremaining: 9m\n325:\tlearn: 0.3261408\ttotal: 2m 30s\tremaining: 9m\n326:\tlearn: 0.3255897\ttotal: 2m 30s\tremaining: 9m\n327:\tlearn: 0.3249835\ttotal: 2m 31s\tremaining: 9m\n328:\tlearn: 0.3242149\ttotal: 2m 31s\tremaining: 9m\n329:\tlearn: 0.3237394\ttotal: 2m 32s\tremaining: 8m 59s\n330:\tlearn: 0.3230586\ttotal: 2m 32s\tremaining: 8m 59s\n331:\tlearn: 0.3224909\ttotal: 2m 33s\tremaining: 8m 58s\n332:\tlearn: 0.3221679\ttotal: 2m 33s\tremaining: 8m 58s\n333:\tlearn: 0.3216715\ttotal: 2m 34s\tremaining: 8m 57s\n334:\tlearn: 0.3214653\ttotal: 2m 34s\tremaining: 8m 56s\n335:\tlearn: 0.3208729\ttotal: 2m 34s\tremaining: 8m 56s\n336:\tlearn: 0.3205513\ttotal: 2m 35s\tremaining: 8m 55s\n337:\tlearn: 0.3199358\ttotal: 2m 35s\tremaining: 8m 55s\n338:\tlearn: 0.3194243\ttotal: 2m 36s\tremaining: 8m 55s\n339:\tlearn: 0.3191157\ttotal: 2m 36s\tremaining: 8m 54s\n340:\tlearn: 0.3185712\ttotal: 2m 37s\tremaining: 8m 53s\n341:\tlearn: 0.3180055\ttotal: 2m 37s\tremaining: 8m 53s\n342:\tlearn: 0.3175066\ttotal: 2m 38s\tremaining: 8m 53s\n343:\tlearn: 0.3168860\ttotal: 2m 38s\tremaining: 8m 52s\n344:\tlearn: 0.3163732\ttotal: 2m 39s\tremaining: 8m 52s\n345:\tlearn: 0.3159284\ttotal: 2m 39s\tremaining: 8m 51s\n346:\tlearn: 0.3154952\ttotal: 2m 39s\tremaining: 8m 51s\n347:\tlearn: 0.3149070\ttotal: 2m 40s\tremaining: 8m 50s\n348:\tlearn: 0.3142680\ttotal: 2m 40s\tremaining: 8m 50s\n349:\tlearn: 0.3141520\ttotal: 2m 41s\tremaining: 8m 50s\n350:\tlearn: 0.3137809\ttotal: 2m 41s\tremaining: 8m 49s\n351:\tlearn: 0.3133632\ttotal: 2m 42s\tremaining: 8m 49s\n352:\tlearn: 0.3130836\ttotal: 2m 42s\tremaining: 8m 49s\n353:\tlearn: 0.3126547\ttotal: 2m 43s\tremaining: 8m 48s\n354:\tlearn: 0.3119149\ttotal: 2m 44s\tremaining: 8m 48s\n355:\tlearn: 0.3115193\ttotal: 2m 44s\tremaining: 8m 48s\n356:\tlearn: 0.3112205\ttotal: 2m 44s\tremaining: 8m 47s\n357:\tlearn: 0.3107001\ttotal: 2m 45s\tremaining: 8m 47s\n358:\tlearn: 0.3102971\ttotal: 2m 45s\tremaining: 8m 47s\n359:\tlearn: 0.3100059\ttotal: 2m 46s\tremaining: 8m 46s\n360:\tlearn: 0.3094704\ttotal: 2m 46s\tremaining: 8m 46s\n361:\tlearn: 0.3090994\ttotal: 2m 47s\tremaining: 8m 45s\n362:\tlearn: 0.3086682\ttotal: 2m 47s\tremaining: 8m 45s\n363:\tlearn: 0.3081993\ttotal: 2m 48s\tremaining: 8m 44s\n364:\tlearn: 0.3077476\ttotal: 2m 48s\tremaining: 8m 44s\n365:\tlearn: 0.3075970\ttotal: 2m 48s\tremaining: 8m 43s\n366:\tlearn: 0.3070712\ttotal: 2m 49s\tremaining: 8m 42s\n367:\tlearn: 0.3067282\ttotal: 2m 49s\tremaining: 8m 42s\n368:\tlearn: 0.3061896\ttotal: 2m 50s\tremaining: 8m 41s\n369:\tlearn: 0.3059480\ttotal: 2m 50s\tremaining: 8m 41s\n370:\tlearn: 0.3056341\ttotal: 2m 51s\tremaining: 8m 40s\n371:\tlearn: 0.3053214\ttotal: 2m 51s\tremaining: 8m 40s\n372:\tlearn: 0.3048218\ttotal: 2m 52s\tremaining: 8m 39s\n373:\tlearn: 0.3045175\ttotal: 2m 52s\tremaining: 8m 39s\n374:\tlearn: 0.3039208\ttotal: 2m 53s\tremaining: 8m 39s\n375:\tlearn: 0.3034446\ttotal: 2m 53s\tremaining: 8m 39s\n376:\tlearn: 0.3029378\ttotal: 2m 54s\tremaining: 8m 39s\n377:\tlearn: 0.3026146\ttotal: 2m 54s\tremaining: 8m 38s\n378:\tlearn: 0.3021118\ttotal: 2m 55s\tremaining: 8m 38s\n379:\tlearn: 0.3016711\ttotal: 2m 55s\tremaining: 8m 38s\n380:\tlearn: 0.3010749\ttotal: 2m 56s\tremaining: 8m 37s\n381:\tlearn: 0.3005124\ttotal: 2m 56s\tremaining: 8m 37s\n382:\tlearn: 0.2999291\ttotal: 2m 57s\tremaining: 8m 37s\n383:\tlearn: 0.2994086\ttotal: 2m 57s\tremaining: 8m 36s\n384:\tlearn: 0.2989289\ttotal: 2m 58s\tremaining: 8m 36s\n385:\tlearn: 0.2984542\ttotal: 2m 58s\tremaining: 8m 35s\n386:\tlearn: 0.2978829\ttotal: 2m 59s\tremaining: 8m 35s\n387:\tlearn: 0.2974628\ttotal: 2m 59s\tremaining: 8m 34s\n388:\tlearn: 0.2970812\ttotal: 3m\tremaining: 8m 34s\n389:\tlearn: 0.2965884\ttotal: 3m\tremaining: 8m 33s\n390:\tlearn: 0.2960611\ttotal: 3m 1s\tremaining: 8m 33s\n391:\tlearn: 0.2952012\ttotal: 3m 1s\tremaining: 8m 33s\n392:\tlearn: 0.2946469\ttotal: 3m 2s\tremaining: 8m 33s\n393:\tlearn: 0.2942572\ttotal: 3m 2s\tremaining: 8m 32s\n394:\tlearn: 0.2939196\ttotal: 3m 3s\tremaining: 8m 32s\n395:\tlearn: 0.2934711\ttotal: 3m 3s\tremaining: 8m 32s\n396:\tlearn: 0.2931955\ttotal: 3m 4s\tremaining: 8m 31s\n397:\tlearn: 0.2927689\ttotal: 3m 4s\tremaining: 8m 31s\n398:\tlearn: 0.2924754\ttotal: 3m 5s\tremaining: 8m 30s\n399:\tlearn: 0.2919774\ttotal: 3m 5s\tremaining: 8m 30s\n400:\tlearn: 0.2917615\ttotal: 3m 6s\tremaining: 8m 29s\n401:\tlearn: 0.2915337\ttotal: 3m 6s\tremaining: 8m 29s\n402:\tlearn: 0.2912113\ttotal: 3m 6s\tremaining: 8m 28s\n403:\tlearn: 0.2907963\ttotal: 3m 7s\tremaining: 8m 28s\n404:\tlearn: 0.2903522\ttotal: 3m 7s\tremaining: 8m 28s\n405:\tlearn: 0.2898585\ttotal: 3m 8s\tremaining: 8m 28s\n406:\tlearn: 0.2894934\ttotal: 3m 9s\tremaining: 8m 27s\n407:\tlearn: 0.2892597\ttotal: 3m 9s\tremaining: 8m 26s\n408:\tlearn: 0.2889162\ttotal: 3m 9s\tremaining: 8m 26s\n409:\tlearn: 0.2886565\ttotal: 3m 10s\tremaining: 8m 25s\n410:\tlearn: 0.2881839\ttotal: 3m 10s\tremaining: 8m 25s\n411:\tlearn: 0.2879460\ttotal: 3m 11s\tremaining: 8m 24s\n412:\tlearn: 0.2875721\ttotal: 3m 11s\tremaining: 8m 24s\n413:\tlearn: 0.2870150\ttotal: 3m 12s\tremaining: 8m 23s\n414:\tlearn: 0.2866228\ttotal: 3m 12s\tremaining: 8m 23s\n415:\tlearn: 0.2864312\ttotal: 3m 12s\tremaining: 8m 22s\n416:\tlearn: 0.2859286\ttotal: 3m 13s\tremaining: 8m 22s\n417:\tlearn: 0.2854928\ttotal: 3m 13s\tremaining: 8m 22s\n418:\tlearn: 0.2849834\ttotal: 3m 14s\tremaining: 8m 21s\n419:\tlearn: 0.2844025\ttotal: 3m 15s\tremaining: 8m 21s\n420:\tlearn: 0.2842695\ttotal: 3m 15s\tremaining: 8m 20s\n421:\tlearn: 0.2841366\ttotal: 3m 15s\tremaining: 8m 20s\n422:\tlearn: 0.2838212\ttotal: 3m 16s\tremaining: 8m 19s\n423:\tlearn: 0.2835289\ttotal: 3m 16s\tremaining: 8m 19s\n424:\tlearn: 0.2832366\ttotal: 3m 17s\tremaining: 8m 18s\n425:\tlearn: 0.2826863\ttotal: 3m 17s\tremaining: 8m 18s\n426:\tlearn: 0.2821503\ttotal: 3m 18s\tremaining: 8m 17s\n427:\tlearn: 0.2819832\ttotal: 3m 18s\tremaining: 8m 17s\n428:\tlearn: 0.2815588\ttotal: 3m 18s\tremaining: 8m 16s\n429:\tlearn: 0.2808514\ttotal: 3m 19s\tremaining: 8m 16s\n430:\tlearn: 0.2802048\ttotal: 3m 20s\tremaining: 8m 16s\n431:\tlearn: 0.2798050\ttotal: 3m 20s\tremaining: 8m 15s\n432:\tlearn: 0.2793723\ttotal: 3m 21s\tremaining: 8m 15s\n433:\tlearn: 0.2788160\ttotal: 3m 21s\tremaining: 8m 15s\n434:\tlearn: 0.2783577\ttotal: 3m 22s\tremaining: 8m 14s\n435:\tlearn: 0.2777909\ttotal: 3m 22s\tremaining: 8m 14s\n436:\tlearn: 0.2773318\ttotal: 3m 23s\tremaining: 8m 14s\n437:\tlearn: 0.2771355\ttotal: 3m 23s\tremaining: 8m 13s\n438:\tlearn: 0.2769553\ttotal: 3m 23s\tremaining: 8m 12s\n439:\tlearn: 0.2767336\ttotal: 3m 24s\tremaining: 8m 12s\n440:\tlearn: 0.2764568\ttotal: 3m 24s\tremaining: 8m 11s\n441:\tlearn: 0.2757793\ttotal: 3m 25s\tremaining: 8m 12s\n442:\tlearn: 0.2753400\ttotal: 3m 26s\tremaining: 8m 12s\n443:\tlearn: 0.2747742\ttotal: 3m 26s\tremaining: 8m 12s\n444:\tlearn: 0.2742912\ttotal: 3m 27s\tremaining: 8m 11s\n445:\tlearn: 0.2740625\ttotal: 3m 27s\tremaining: 8m 11s\n446:\tlearn: 0.2737272\ttotal: 3m 28s\tremaining: 8m 10s\n447:\tlearn: 0.2732587\ttotal: 3m 28s\tremaining: 8m 10s\n448:\tlearn: 0.2730296\ttotal: 3m 29s\tremaining: 8m 9s\n449:\tlearn: 0.2725349\ttotal: 3m 29s\tremaining: 8m 9s\n450:\tlearn: 0.2720900\ttotal: 3m 30s\tremaining: 8m 9s\n451:\tlearn: 0.2716727\ttotal: 3m 30s\tremaining: 8m 8s\n452:\tlearn: 0.2714854\ttotal: 3m 31s\tremaining: 8m 8s\n453:\tlearn: 0.2712656\ttotal: 3m 31s\tremaining: 8m 7s\n454:\tlearn: 0.2711363\ttotal: 3m 31s\tremaining: 8m 6s\n455:\tlearn: 0.2707058\ttotal: 3m 32s\tremaining: 8m 6s\n456:\tlearn: 0.2701159\ttotal: 3m 33s\tremaining: 8m 6s\n457:\tlearn: 0.2698160\ttotal: 3m 33s\tremaining: 8m 5s\n458:\tlearn: 0.2695118\ttotal: 3m 33s\tremaining: 8m 5s\n459:\tlearn: 0.2693232\ttotal: 3m 34s\tremaining: 8m 4s\n460:\tlearn: 0.2690503\ttotal: 3m 34s\tremaining: 8m 3s\n461:\tlearn: 0.2687594\ttotal: 3m 35s\tremaining: 8m 3s\n462:\tlearn: 0.2681513\ttotal: 3m 35s\tremaining: 8m 3s\n463:\tlearn: 0.2678732\ttotal: 3m 36s\tremaining: 8m 3s\n464:\tlearn: 0.2675264\ttotal: 3m 36s\tremaining: 8m 2s\n465:\tlearn: 0.2671670\ttotal: 3m 37s\tremaining: 8m 2s\n466:\tlearn: 0.2668016\ttotal: 3m 37s\tremaining: 8m 1s\n467:\tlearn: 0.2665804\ttotal: 3m 38s\tremaining: 8m\n468:\tlearn: 0.2661868\ttotal: 3m 38s\tremaining: 8m\n469:\tlearn: 0.2658994\ttotal: 3m 38s\tremaining: 7m 59s\n470:\tlearn: 0.2655235\ttotal: 3m 39s\tremaining: 7m 59s\n471:\tlearn: 0.2651388\ttotal: 3m 39s\tremaining: 7m 58s\n472:\tlearn: 0.2648287\ttotal: 3m 40s\tremaining: 7m 58s\n473:\tlearn: 0.2643596\ttotal: 3m 40s\tremaining: 7m 58s\n474:\tlearn: 0.2640184\ttotal: 3m 41s\tremaining: 7m 57s\n475:\tlearn: 0.2637247\ttotal: 3m 41s\tremaining: 7m 57s\n476:\tlearn: 0.2633600\ttotal: 3m 42s\tremaining: 7m 56s\n477:\tlearn: 0.2628239\ttotal: 3m 42s\tremaining: 7m 56s\n478:\tlearn: 0.2626039\ttotal: 3m 43s\tremaining: 7m 55s\n479:\tlearn: 0.2623332\ttotal: 3m 43s\tremaining: 7m 55s\n480:\tlearn: 0.2619043\ttotal: 3m 44s\tremaining: 7m 54s\n481:\tlearn: 0.2615189\ttotal: 3m 44s\tremaining: 7m 54s\n482:\tlearn: 0.2613453\ttotal: 3m 44s\tremaining: 7m 53s\n483:\tlearn: 0.2609134\ttotal: 3m 45s\tremaining: 7m 53s\n484:\tlearn: 0.2603813\ttotal: 3m 46s\tremaining: 7m 53s\n485:\tlearn: 0.2600393\ttotal: 3m 46s\tremaining: 7m 52s\n486:\tlearn: 0.2597194\ttotal: 3m 47s\tremaining: 7m 52s\n487:\tlearn: 0.2593262\ttotal: 3m 47s\tremaining: 7m 52s\n488:\tlearn: 0.2590944\ttotal: 3m 48s\tremaining: 7m 51s\n489:\tlearn: 0.2587220\ttotal: 3m 48s\tremaining: 7m 51s\n490:\tlearn: 0.2582269\ttotal: 3m 49s\tremaining: 7m 50s\n491:\tlearn: 0.2577387\ttotal: 3m 49s\tremaining: 7m 50s\n492:\tlearn: 0.2575325\ttotal: 3m 50s\tremaining: 7m 49s\n493:\tlearn: 0.2572681\ttotal: 3m 50s\tremaining: 7m 49s\n494:\tlearn: 0.2569089\ttotal: 3m 50s\tremaining: 7m 48s\n495:\tlearn: 0.2564317\ttotal: 3m 51s\tremaining: 7m 48s\n496:\tlearn: 0.2561855\ttotal: 3m 51s\tremaining: 7m 47s\n497:\tlearn: 0.2559790\ttotal: 3m 52s\tremaining: 7m 47s\n498:\tlearn: 0.2556455\ttotal: 3m 52s\tremaining: 7m 46s\n499:\tlearn: 0.2552020\ttotal: 3m 53s\tremaining: 7m 46s\n500:\tlearn: 0.2548292\ttotal: 3m 53s\tremaining: 7m 46s\n501:\tlearn: 0.2546276\ttotal: 3m 54s\tremaining: 7m 45s\n502:\tlearn: 0.2543367\ttotal: 3m 54s\tremaining: 7m 44s\n503:\tlearn: 0.2539718\ttotal: 3m 55s\tremaining: 7m 44s\n504:\tlearn: 0.2537157\ttotal: 3m 55s\tremaining: 7m 43s\n505:\tlearn: 0.2532280\ttotal: 3m 55s\tremaining: 7m 43s\n506:\tlearn: 0.2528835\ttotal: 3m 56s\tremaining: 7m 43s\n507:\tlearn: 0.2526147\ttotal: 3m 56s\tremaining: 7m 42s\n508:\tlearn: 0.2524216\ttotal: 3m 57s\tremaining: 7m 41s\n509:\tlearn: 0.2520351\ttotal: 3m 58s\tremaining: 7m 42s\n510:\tlearn: 0.2517548\ttotal: 3m 58s\tremaining: 7m 41s\n511:\tlearn: 0.2511952\ttotal: 3m 59s\tremaining: 7m 41s\n512:\tlearn: 0.2509769\ttotal: 3m 59s\tremaining: 7m 41s\n513:\tlearn: 0.2507883\ttotal: 4m\tremaining: 7m 40s\n514:\tlearn: 0.2503322\ttotal: 4m\tremaining: 7m 40s\n515:\tlearn: 0.2500221\ttotal: 4m 1s\tremaining: 7m 40s\n516:\tlearn: 0.2497092\ttotal: 4m 1s\tremaining: 7m 39s\n517:\tlearn: 0.2494548\ttotal: 4m 2s\tremaining: 7m 39s\n518:\tlearn: 0.2491329\ttotal: 4m 2s\tremaining: 7m 38s\n519:\tlearn: 0.2487144\ttotal: 4m 3s\tremaining: 7m 38s\n520:\tlearn: 0.2484375\ttotal: 4m 3s\tremaining: 7m 37s\n521:\tlearn: 0.2479714\ttotal: 4m 4s\tremaining: 7m 37s\n522:\tlearn: 0.2475855\ttotal: 4m 4s\tremaining: 7m 36s\n523:\tlearn: 0.2472312\ttotal: 4m 5s\tremaining: 7m 36s\n524:\tlearn: 0.2469501\ttotal: 4m 5s\tremaining: 7m 35s\n525:\tlearn: 0.2464893\ttotal: 4m 5s\tremaining: 7m 35s\n526:\tlearn: 0.2461884\ttotal: 4m 6s\tremaining: 7m 35s\n527:\tlearn: 0.2457348\ttotal: 4m 6s\tremaining: 7m 34s\n528:\tlearn: 0.2454591\ttotal: 4m 7s\tremaining: 7m 34s\n529:\tlearn: 0.2451784\ttotal: 4m 7s\tremaining: 7m 33s\n530:\tlearn: 0.2448674\ttotal: 4m 8s\tremaining: 7m 33s\n531:\tlearn: 0.2446615\ttotal: 4m 8s\tremaining: 7m 32s\n532:\tlearn: 0.2443684\ttotal: 4m 9s\tremaining: 7m 32s\n533:\tlearn: 0.2442187\ttotal: 4m 9s\tremaining: 7m 31s\n534:\tlearn: 0.2439016\ttotal: 4m 10s\tremaining: 7m 31s\n535:\tlearn: 0.2434136\ttotal: 4m 10s\tremaining: 7m 30s\n536:\tlearn: 0.2432712\ttotal: 4m 11s\tremaining: 7m 30s\n537:\tlearn: 0.2431099\ttotal: 4m 11s\tremaining: 7m 29s\n538:\tlearn: 0.2429230\ttotal: 4m 11s\tremaining: 7m 29s\n539:\tlearn: 0.2425990\ttotal: 4m 12s\tremaining: 7m 28s\n540:\tlearn: 0.2423105\ttotal: 4m 12s\tremaining: 7m 28s\n541:\tlearn: 0.2421117\ttotal: 4m 13s\tremaining: 7m 27s\n542:\tlearn: 0.2417664\ttotal: 4m 13s\tremaining: 7m 27s\n543:\tlearn: 0.2414714\ttotal: 4m 14s\tremaining: 7m 26s\n544:\tlearn: 0.2410686\ttotal: 4m 14s\tremaining: 7m 26s\n545:\tlearn: 0.2407187\ttotal: 4m 15s\tremaining: 7m 25s\n546:\tlearn: 0.2404166\ttotal: 4m 15s\tremaining: 7m 25s\n547:\tlearn: 0.2401867\ttotal: 4m 16s\tremaining: 7m 24s\n548:\tlearn: 0.2399999\ttotal: 4m 16s\tremaining: 7m 24s\n549:\tlearn: 0.2396936\ttotal: 4m 16s\tremaining: 7m 23s\n550:\tlearn: 0.2395029\ttotal: 4m 17s\tremaining: 7m 23s\n551:\tlearn: 0.2392727\ttotal: 4m 17s\tremaining: 7m 22s\n552:\tlearn: 0.2388373\ttotal: 4m 18s\tremaining: 7m 22s\n553:\tlearn: 0.2386225\ttotal: 4m 18s\tremaining: 7m 21s\n554:\tlearn: 0.2381562\ttotal: 4m 19s\tremaining: 7m 21s\n555:\tlearn: 0.2378591\ttotal: 4m 19s\tremaining: 7m 20s\n556:\tlearn: 0.2375386\ttotal: 4m 20s\tremaining: 7m 20s\n557:\tlearn: 0.2372575\ttotal: 4m 20s\tremaining: 7m 20s\n558:\tlearn: 0.2370027\ttotal: 4m 21s\tremaining: 7m 19s\n559:\tlearn: 0.2367645\ttotal: 4m 21s\tremaining: 7m 19s\n560:\tlearn: 0.2364167\ttotal: 4m 22s\tremaining: 7m 18s\n561:\tlearn: 0.2360776\ttotal: 4m 22s\tremaining: 7m 18s\n562:\tlearn: 0.2356705\ttotal: 4m 23s\tremaining: 7m 17s\n563:\tlearn: 0.2352481\ttotal: 4m 23s\tremaining: 7m 17s\n564:\tlearn: 0.2350048\ttotal: 4m 24s\tremaining: 7m 16s\n565:\tlearn: 0.2347753\ttotal: 4m 24s\tremaining: 7m 16s\n566:\tlearn: 0.2345623\ttotal: 4m 24s\tremaining: 7m 15s\n567:\tlearn: 0.2342803\ttotal: 4m 25s\tremaining: 7m 15s\n568:\tlearn: 0.2338527\ttotal: 4m 25s\tremaining: 7m 14s\n569:\tlearn: 0.2335544\ttotal: 4m 26s\tremaining: 7m 14s\n570:\tlearn: 0.2331758\ttotal: 4m 26s\tremaining: 7m 14s\n571:\tlearn: 0.2329504\ttotal: 4m 27s\tremaining: 7m 13s\n572:\tlearn: 0.2326098\ttotal: 4m 27s\tremaining: 7m 13s\n573:\tlearn: 0.2322808\ttotal: 4m 28s\tremaining: 7m 12s\n574:\tlearn: 0.2321002\ttotal: 4m 28s\tremaining: 7m 12s\n575:\tlearn: 0.2317089\ttotal: 4m 29s\tremaining: 7m 11s\n576:\tlearn: 0.2313019\ttotal: 4m 29s\tremaining: 7m 11s\n577:\tlearn: 0.2310751\ttotal: 4m 30s\tremaining: 7m 11s\n578:\tlearn: 0.2306265\ttotal: 4m 31s\tremaining: 7m 11s\n579:\tlearn: 0.2302349\ttotal: 4m 31s\tremaining: 7m 10s\n580:\tlearn: 0.2299915\ttotal: 4m 32s\tremaining: 7m 10s\n581:\tlearn: 0.2296922\ttotal: 4m 32s\tremaining: 7m 9s\n582:\tlearn: 0.2292993\ttotal: 4m 33s\tremaining: 7m 9s\n583:\tlearn: 0.2289899\ttotal: 4m 33s\tremaining: 7m 9s\n584:\tlearn: 0.2287478\ttotal: 4m 33s\tremaining: 7m 8s\n585:\tlearn: 0.2283725\ttotal: 4m 34s\tremaining: 7m 8s\n586:\tlearn: 0.2280959\ttotal: 4m 34s\tremaining: 7m 7s\n587:\tlearn: 0.2277454\ttotal: 4m 35s\tremaining: 7m 7s\n588:\tlearn: 0.2275115\ttotal: 4m 35s\tremaining: 7m 6s\n589:\tlearn: 0.2272333\ttotal: 4m 36s\tremaining: 7m 6s\n590:\tlearn: 0.2269995\ttotal: 4m 36s\tremaining: 7m 5s\n591:\tlearn: 0.2267229\ttotal: 4m 37s\tremaining: 7m 5s\n592:\tlearn: 0.2265843\ttotal: 4m 37s\tremaining: 7m 4s\n593:\tlearn: 0.2263069\ttotal: 4m 38s\tremaining: 7m 4s\n594:\tlearn: 0.2261672\ttotal: 4m 38s\tremaining: 7m 3s\n595:\tlearn: 0.2259942\ttotal: 4m 38s\tremaining: 7m 2s\n596:\tlearn: 0.2257267\ttotal: 4m 39s\tremaining: 7m 2s\n597:\tlearn: 0.2254425\ttotal: 4m 39s\tremaining: 7m 2s\n598:\tlearn: 0.2252240\ttotal: 4m 40s\tremaining: 7m 1s\n599:\tlearn: 0.2247904\ttotal: 4m 40s\tremaining: 7m 1s\n600:\tlearn: 0.2244002\ttotal: 4m 41s\tremaining: 7m\n601:\tlearn: 0.2240860\ttotal: 4m 41s\tremaining: 7m\n602:\tlearn: 0.2236975\ttotal: 4m 42s\tremaining: 7m\n603:\tlearn: 0.2233773\ttotal: 4m 42s\tremaining: 6m 59s\n604:\tlearn: 0.2229780\ttotal: 4m 43s\tremaining: 6m 59s\n605:\tlearn: 0.2226539\ttotal: 4m 44s\tremaining: 6m 58s\n606:\tlearn: 0.2223213\ttotal: 4m 44s\tremaining: 6m 58s\n607:\tlearn: 0.2221301\ttotal: 4m 44s\tremaining: 6m 57s\n608:\tlearn: 0.2218782\ttotal: 4m 45s\tremaining: 6m 57s\n609:\tlearn: 0.2216535\ttotal: 4m 45s\tremaining: 6m 56s\n610:\tlearn: 0.2214093\ttotal: 4m 46s\tremaining: 6m 56s\n611:\tlearn: 0.2211361\ttotal: 4m 46s\tremaining: 6m 55s\n612:\tlearn: 0.2209837\ttotal: 4m 47s\tremaining: 6m 55s\n613:\tlearn: 0.2208205\ttotal: 4m 47s\tremaining: 6m 54s\n614:\tlearn: 0.2203892\ttotal: 4m 47s\tremaining: 6m 54s\n615:\tlearn: 0.2201691\ttotal: 4m 48s\tremaining: 6m 53s\n616:\tlearn: 0.2198502\ttotal: 4m 48s\tremaining: 6m 53s\n617:\tlearn: 0.2194647\ttotal: 4m 49s\tremaining: 6m 53s\n618:\tlearn: 0.2192193\ttotal: 4m 49s\tremaining: 6m 52s\n619:\tlearn: 0.2188200\ttotal: 4m 50s\tremaining: 6m 52s\n620:\tlearn: 0.2185797\ttotal: 4m 50s\tremaining: 6m 51s\n621:\tlearn: 0.2184252\ttotal: 4m 51s\tremaining: 6m 51s\n622:\tlearn: 0.2183276\ttotal: 4m 51s\tremaining: 6m 50s\n623:\tlearn: 0.2179405\ttotal: 4m 52s\tremaining: 6m 50s\n624:\tlearn: 0.2178302\ttotal: 4m 52s\tremaining: 6m 49s\n625:\tlearn: 0.2175985\ttotal: 4m 53s\tremaining: 6m 49s\n626:\tlearn: 0.2174524\ttotal: 4m 53s\tremaining: 6m 48s\n627:\tlearn: 0.2172610\ttotal: 4m 54s\tremaining: 6m 48s\n628:\tlearn: 0.2170847\ttotal: 4m 54s\tremaining: 6m 47s\n629:\tlearn: 0.2166662\ttotal: 4m 54s\tremaining: 6m 47s\n630:\tlearn: 0.2164704\ttotal: 4m 55s\tremaining: 6m 46s\n631:\tlearn: 0.2160187\ttotal: 4m 55s\tremaining: 6m 46s\n632:\tlearn: 0.2154896\ttotal: 4m 56s\tremaining: 6m 46s\n633:\tlearn: 0.2150524\ttotal: 4m 57s\tremaining: 6m 45s\n634:\tlearn: 0.2149125\ttotal: 4m 57s\tremaining: 6m 45s\n635:\tlearn: 0.2145534\ttotal: 4m 58s\tremaining: 6m 44s\n636:\tlearn: 0.2143604\ttotal: 4m 58s\tremaining: 6m 44s\n637:\tlearn: 0.2141873\ttotal: 4m 58s\tremaining: 6m 43s\n638:\tlearn: 0.2137807\ttotal: 4m 59s\tremaining: 6m 43s\n639:\tlearn: 0.2134276\ttotal: 4m 59s\tremaining: 6m 43s\n640:\tlearn: 0.2131326\ttotal: 5m\tremaining: 6m 42s\n641:\tlearn: 0.2128862\ttotal: 5m\tremaining: 6m 42s\n642:\tlearn: 0.2127346\ttotal: 5m 1s\tremaining: 6m 41s\n643:\tlearn: 0.2124144\ttotal: 5m 1s\tremaining: 6m 41s\n644:\tlearn: 0.2120381\ttotal: 5m 2s\tremaining: 6m 41s\n645:\tlearn: 0.2118287\ttotal: 5m 3s\tremaining: 6m 40s\n646:\tlearn: 0.2113205\ttotal: 5m 3s\tremaining: 6m 40s\n647:\tlearn: 0.2111966\ttotal: 5m 4s\tremaining: 6m 40s\n648:\tlearn: 0.2107834\ttotal: 5m 4s\tremaining: 6m 39s\n649:\tlearn: 0.2105357\ttotal: 5m 5s\tremaining: 6m 39s\n650:\tlearn: 0.2102599\ttotal: 5m 5s\tremaining: 6m 38s\n651:\tlearn: 0.2100960\ttotal: 5m 6s\tremaining: 6m 38s\n652:\tlearn: 0.2096328\ttotal: 5m 6s\tremaining: 6m 37s\n653:\tlearn: 0.2094397\ttotal: 5m 7s\tremaining: 6m 37s\n654:\tlearn: 0.2091575\ttotal: 5m 7s\tremaining: 6m 36s\n655:\tlearn: 0.2089679\ttotal: 5m 8s\tremaining: 6m 36s\n656:\tlearn: 0.2085410\ttotal: 5m 8s\tremaining: 6m 36s\n657:\tlearn: 0.2083521\ttotal: 5m 9s\tremaining: 6m 35s\n658:\tlearn: 0.2081726\ttotal: 5m 9s\tremaining: 6m 35s\n659:\tlearn: 0.2077674\ttotal: 5m 10s\tremaining: 6m 34s\n660:\tlearn: 0.2076036\ttotal: 5m 10s\tremaining: 6m 34s\n661:\tlearn: 0.2074347\ttotal: 5m 11s\tremaining: 6m 33s\n662:\tlearn: 0.2073157\ttotal: 5m 11s\tremaining: 6m 33s\n663:\tlearn: 0.2071876\ttotal: 5m 11s\tremaining: 6m 32s\n664:\tlearn: 0.2070073\ttotal: 5m 12s\tremaining: 6m 32s\n665:\tlearn: 0.2068596\ttotal: 5m 12s\tremaining: 6m 31s\n666:\tlearn: 0.2066429\ttotal: 5m 13s\tremaining: 6m 31s\n667:\tlearn: 0.2062986\ttotal: 5m 13s\tremaining: 6m 30s\n668:\tlearn: 0.2060590\ttotal: 5m 14s\tremaining: 6m 30s\n669:\tlearn: 0.2059175\ttotal: 5m 14s\tremaining: 6m 29s\n670:\tlearn: 0.2054540\ttotal: 5m 15s\tremaining: 6m 29s\n671:\tlearn: 0.2050427\ttotal: 5m 15s\tremaining: 6m 29s\n672:\tlearn: 0.2048378\ttotal: 5m 16s\tremaining: 6m 28s\n673:\tlearn: 0.2045182\ttotal: 5m 16s\tremaining: 6m 28s\n674:\tlearn: 0.2043209\ttotal: 5m 17s\tremaining: 6m 27s\n675:\tlearn: 0.2041450\ttotal: 5m 17s\tremaining: 6m 27s\n676:\tlearn: 0.2038244\ttotal: 5m 18s\tremaining: 6m 26s\n677:\tlearn: 0.2035365\ttotal: 5m 18s\tremaining: 6m 26s\n678:\tlearn: 0.2033341\ttotal: 5m 19s\tremaining: 6m 25s\n679:\tlearn: 0.2029197\ttotal: 5m 19s\tremaining: 6m 25s\n680:\tlearn: 0.2027231\ttotal: 5m 20s\tremaining: 6m 24s\n681:\tlearn: 0.2025500\ttotal: 5m 20s\tremaining: 6m 24s\n682:\tlearn: 0.2023105\ttotal: 5m 21s\tremaining: 6m 23s\n683:\tlearn: 0.2020142\ttotal: 5m 21s\tremaining: 6m 23s\n684:\tlearn: 0.2018146\ttotal: 5m 21s\tremaining: 6m 23s\n685:\tlearn: 0.2016961\ttotal: 5m 22s\tremaining: 6m 22s\n686:\tlearn: 0.2013148\ttotal: 5m 22s\tremaining: 6m 22s\n687:\tlearn: 0.2010123\ttotal: 5m 23s\tremaining: 6m 21s\n688:\tlearn: 0.2006954\ttotal: 5m 23s\tremaining: 6m 21s\n689:\tlearn: 0.2003994\ttotal: 5m 24s\tremaining: 6m 20s\n690:\tlearn: 0.2001231\ttotal: 5m 24s\tremaining: 6m 20s\n691:\tlearn: 0.1999595\ttotal: 5m 25s\tremaining: 6m 19s\n692:\tlearn: 0.1997889\ttotal: 5m 25s\tremaining: 6m 19s\n693:\tlearn: 0.1995456\ttotal: 5m 26s\tremaining: 6m 18s\n694:\tlearn: 0.1993461\ttotal: 5m 26s\tremaining: 6m 18s\n695:\tlearn: 0.1992387\ttotal: 5m 27s\tremaining: 6m 17s\n696:\tlearn: 0.1990851\ttotal: 5m 27s\tremaining: 6m 17s\n697:\tlearn: 0.1989120\ttotal: 5m 28s\tremaining: 6m 16s\n698:\tlearn: 0.1986382\ttotal: 5m 28s\tremaining: 6m 16s\n699:\tlearn: 0.1984475\ttotal: 5m 28s\tremaining: 6m 15s\n700:\tlearn: 0.1982669\ttotal: 5m 29s\tremaining: 6m 15s\n701:\tlearn: 0.1981879\ttotal: 5m 29s\tremaining: 6m 14s\n702:\tlearn: 0.1979180\ttotal: 5m 30s\tremaining: 6m 14s\n703:\tlearn: 0.1977755\ttotal: 5m 30s\tremaining: 6m 13s\n704:\tlearn: 0.1975739\ttotal: 5m 31s\tremaining: 6m 13s\n705:\tlearn: 0.1972517\ttotal: 5m 31s\tremaining: 6m 12s\n706:\tlearn: 0.1969919\ttotal: 5m 32s\tremaining: 6m 12s\n707:\tlearn: 0.1968346\ttotal: 5m 32s\tremaining: 6m 11s\n708:\tlearn: 0.1966602\ttotal: 5m 32s\tremaining: 6m 11s\n709:\tlearn: 0.1965033\ttotal: 5m 33s\tremaining: 6m 10s\n710:\tlearn: 0.1962534\ttotal: 5m 33s\tremaining: 6m 10s\n711:\tlearn: 0.1960868\ttotal: 5m 34s\tremaining: 6m 10s\n712:\tlearn: 0.1959092\ttotal: 5m 34s\tremaining: 6m 9s\n713:\tlearn: 0.1954857\ttotal: 5m 35s\tremaining: 6m 9s\n714:\tlearn: 0.1953347\ttotal: 5m 35s\tremaining: 6m 8s\n715:\tlearn: 0.1950224\ttotal: 5m 36s\tremaining: 6m 8s\n716:\tlearn: 0.1948044\ttotal: 5m 37s\tremaining: 6m 8s\n717:\tlearn: 0.1946442\ttotal: 5m 37s\tremaining: 6m 7s\n718:\tlearn: 0.1944785\ttotal: 5m 38s\tremaining: 6m 7s\n719:\tlearn: 0.1943252\ttotal: 5m 38s\tremaining: 6m 6s\n720:\tlearn: 0.1941071\ttotal: 5m 38s\tremaining: 6m 6s\n721:\tlearn: 0.1938402\ttotal: 5m 39s\tremaining: 6m 5s\n722:\tlearn: 0.1935614\ttotal: 5m 39s\tremaining: 6m 5s\n723:\tlearn: 0.1934826\ttotal: 5m 40s\tremaining: 6m 4s\n724:\tlearn: 0.1931722\ttotal: 5m 40s\tremaining: 6m 4s\n725:\tlearn: 0.1928314\ttotal: 5m 41s\tremaining: 6m 3s\n726:\tlearn: 0.1927373\ttotal: 5m 41s\tremaining: 6m 3s\n727:\tlearn: 0.1925886\ttotal: 5m 42s\tremaining: 6m 2s\n728:\tlearn: 0.1924099\ttotal: 5m 42s\tremaining: 6m 2s\n729:\tlearn: 0.1921571\ttotal: 5m 43s\tremaining: 6m 1s\n730:\tlearn: 0.1918722\ttotal: 5m 43s\tremaining: 6m 1s\n731:\tlearn: 0.1916618\ttotal: 5m 44s\tremaining: 6m\n732:\tlearn: 0.1914822\ttotal: 5m 44s\tremaining: 6m\n733:\tlearn: 0.1911692\ttotal: 5m 45s\tremaining: 6m\n734:\tlearn: 0.1909326\ttotal: 5m 45s\tremaining: 5m 59s\n735:\tlearn: 0.1907908\ttotal: 5m 45s\tremaining: 5m 59s\n736:\tlearn: 0.1906508\ttotal: 5m 46s\tremaining: 5m 58s\n737:\tlearn: 0.1905637\ttotal: 5m 46s\tremaining: 5m 57s\n738:\tlearn: 0.1902773\ttotal: 5m 47s\tremaining: 5m 57s\n739:\tlearn: 0.1900394\ttotal: 5m 47s\tremaining: 5m 57s\n740:\tlearn: 0.1898557\ttotal: 5m 48s\tremaining: 5m 56s\n741:\tlearn: 0.1894606\ttotal: 5m 48s\tremaining: 5m 56s\n742:\tlearn: 0.1892206\ttotal: 5m 49s\tremaining: 5m 55s\n743:\tlearn: 0.1889305\ttotal: 5m 49s\tremaining: 5m 55s\n744:\tlearn: 0.1886676\ttotal: 5m 50s\tremaining: 5m 55s\n745:\tlearn: 0.1884679\ttotal: 5m 50s\tremaining: 5m 54s\n746:\tlearn: 0.1881669\ttotal: 5m 51s\tremaining: 5m 54s\n747:\tlearn: 0.1880114\ttotal: 5m 51s\tremaining: 5m 53s\n748:\tlearn: 0.1878214\ttotal: 5m 52s\tremaining: 5m 53s\n749:\tlearn: 0.1875736\ttotal: 5m 52s\tremaining: 5m 52s\n750:\tlearn: 0.1873455\ttotal: 5m 53s\tremaining: 5m 52s\n751:\tlearn: 0.1872415\ttotal: 5m 53s\tremaining: 5m 51s\n752:\tlearn: 0.1870339\ttotal: 5m 53s\tremaining: 5m 51s\n753:\tlearn: 0.1868159\ttotal: 5m 54s\tremaining: 5m 50s\n754:\tlearn: 0.1866374\ttotal: 5m 54s\tremaining: 5m 50s\n755:\tlearn: 0.1863943\ttotal: 5m 55s\tremaining: 5m 49s\n756:\tlearn: 0.1861016\ttotal: 5m 55s\tremaining: 5m 49s\n757:\tlearn: 0.1859165\ttotal: 5m 56s\tremaining: 5m 48s\n758:\tlearn: 0.1857083\ttotal: 5m 56s\tremaining: 5m 48s\n759:\tlearn: 0.1856233\ttotal: 5m 57s\tremaining: 5m 47s\n760:\tlearn: 0.1854626\ttotal: 5m 57s\tremaining: 5m 47s\n761:\tlearn: 0.1852331\ttotal: 5m 58s\tremaining: 5m 46s\n762:\tlearn: 0.1850493\ttotal: 5m 58s\tremaining: 5m 46s\n763:\tlearn: 0.1847629\ttotal: 5m 59s\tremaining: 5m 46s\n764:\tlearn: 0.1846468\ttotal: 5m 59s\tremaining: 5m 45s\n765:\tlearn: 0.1843372\ttotal: 6m\tremaining: 5m 45s\n766:\tlearn: 0.1841791\ttotal: 6m\tremaining: 5m 44s\n767:\tlearn: 0.1839792\ttotal: 6m 1s\tremaining: 5m 44s\n768:\tlearn: 0.1835896\ttotal: 6m 1s\tremaining: 5m 43s\n769:\tlearn: 0.1834830\ttotal: 6m 1s\tremaining: 5m 43s\n770:\tlearn: 0.1833201\ttotal: 6m 2s\tremaining: 5m 42s\n771:\tlearn: 0.1831448\ttotal: 6m 2s\tremaining: 5m 42s\n772:\tlearn: 0.1829475\ttotal: 6m 3s\tremaining: 5m 41s\n773:\tlearn: 0.1827617\ttotal: 6m 3s\tremaining: 5m 41s\n774:\tlearn: 0.1825391\ttotal: 6m 4s\tremaining: 5m 40s\n775:\tlearn: 0.1822618\ttotal: 6m 4s\tremaining: 5m 40s\n776:\tlearn: 0.1821533\ttotal: 6m 5s\tremaining: 5m 39s\n777:\tlearn: 0.1819230\ttotal: 6m 5s\tremaining: 5m 39s\n778:\tlearn: 0.1818530\ttotal: 6m 6s\tremaining: 5m 38s\n779:\tlearn: 0.1815528\ttotal: 6m 6s\tremaining: 5m 38s\n780:\tlearn: 0.1814387\ttotal: 6m 7s\tremaining: 5m 38s\n781:\tlearn: 0.1812302\ttotal: 6m 7s\tremaining: 5m 37s\n782:\tlearn: 0.1810635\ttotal: 6m 8s\tremaining: 5m 37s\n783:\tlearn: 0.1808197\ttotal: 6m 8s\tremaining: 5m 36s\n784:\tlearn: 0.1805570\ttotal: 6m 9s\tremaining: 5m 36s\n785:\tlearn: 0.1804421\ttotal: 6m 9s\tremaining: 5m 35s\n786:\tlearn: 0.1802264\ttotal: 6m 10s\tremaining: 5m 35s\n787:\tlearn: 0.1799536\ttotal: 6m 10s\tremaining: 5m 35s\n788:\tlearn: 0.1796624\ttotal: 6m 11s\tremaining: 5m 34s\n789:\tlearn: 0.1794307\ttotal: 6m 11s\tremaining: 5m 34s\n790:\tlearn: 0.1791178\ttotal: 6m 12s\tremaining: 5m 33s\n791:\tlearn: 0.1789313\ttotal: 6m 12s\tremaining: 5m 33s\n792:\tlearn: 0.1786378\ttotal: 6m 13s\tremaining: 5m 32s\n793:\tlearn: 0.1784431\ttotal: 6m 13s\tremaining: 5m 32s\n794:\tlearn: 0.1781679\ttotal: 6m 14s\tremaining: 5m 31s\n795:\tlearn: 0.1779910\ttotal: 6m 14s\tremaining: 5m 31s\n796:\tlearn: 0.1779122\ttotal: 6m 15s\tremaining: 5m 30s\n797:\tlearn: 0.1777900\ttotal: 6m 15s\tremaining: 5m 30s\n798:\tlearn: 0.1775730\ttotal: 6m 16s\tremaining: 5m 29s\n799:\tlearn: 0.1774676\ttotal: 6m 16s\tremaining: 5m 29s\n800:\tlearn: 0.1772305\ttotal: 6m 16s\tremaining: 5m 28s\n801:\tlearn: 0.1770656\ttotal: 6m 17s\tremaining: 5m 28s\n802:\tlearn: 0.1769099\ttotal: 6m 17s\tremaining: 5m 27s\n803:\tlearn: 0.1766209\ttotal: 6m 18s\tremaining: 5m 27s\n804:\tlearn: 0.1763911\ttotal: 6m 18s\tremaining: 5m 27s\n805:\tlearn: 0.1760425\ttotal: 6m 19s\tremaining: 5m 26s\n806:\tlearn: 0.1758699\ttotal: 6m 19s\tremaining: 5m 26s\n807:\tlearn: 0.1758029\ttotal: 6m 20s\tremaining: 5m 25s\n808:\tlearn: 0.1756401\ttotal: 6m 20s\tremaining: 5m 25s\n809:\tlearn: 0.1753788\ttotal: 6m 21s\tremaining: 5m 24s\n810:\tlearn: 0.1752083\ttotal: 6m 21s\tremaining: 5m 24s\n811:\tlearn: 0.1748724\ttotal: 6m 22s\tremaining: 5m 23s\n812:\tlearn: 0.1745695\ttotal: 6m 22s\tremaining: 5m 23s\n813:\tlearn: 0.1743797\ttotal: 6m 23s\tremaining: 5m 23s\n814:\tlearn: 0.1740620\ttotal: 6m 23s\tremaining: 5m 22s\n815:\tlearn: 0.1738672\ttotal: 6m 24s\tremaining: 5m 22s\n816:\tlearn: 0.1736048\ttotal: 6m 24s\tremaining: 5m 21s\n817:\tlearn: 0.1733527\ttotal: 6m 25s\tremaining: 5m 21s\n818:\tlearn: 0.1732476\ttotal: 6m 25s\tremaining: 5m 20s\n819:\tlearn: 0.1729019\ttotal: 6m 26s\tremaining: 5m 20s\n820:\tlearn: 0.1727888\ttotal: 6m 26s\tremaining: 5m 19s\n821:\tlearn: 0.1726062\ttotal: 6m 27s\tremaining: 5m 19s\n822:\tlearn: 0.1722708\ttotal: 6m 27s\tremaining: 5m 18s\n823:\tlearn: 0.1719909\ttotal: 6m 28s\tremaining: 5m 18s\n824:\tlearn: 0.1717773\ttotal: 6m 28s\tremaining: 5m 18s\n825:\tlearn: 0.1716090\ttotal: 6m 29s\tremaining: 5m 17s\n826:\tlearn: 0.1712258\ttotal: 6m 29s\tremaining: 5m 17s\n827:\tlearn: 0.1710214\ttotal: 6m 30s\tremaining: 5m 16s\n828:\tlearn: 0.1708743\ttotal: 6m 30s\tremaining: 5m 16s\n829:\tlearn: 0.1706852\ttotal: 6m 31s\tremaining: 5m 15s\n830:\tlearn: 0.1704653\ttotal: 6m 31s\tremaining: 5m 15s\n831:\tlearn: 0.1702099\ttotal: 6m 32s\tremaining: 5m 14s\n832:\tlearn: 0.1700184\ttotal: 6m 32s\tremaining: 5m 14s\n833:\tlearn: 0.1697969\ttotal: 6m 33s\tremaining: 5m 14s\n834:\tlearn: 0.1696454\ttotal: 6m 33s\tremaining: 5m 13s\n835:\tlearn: 0.1695054\ttotal: 6m 34s\tremaining: 5m 13s\n836:\tlearn: 0.1693825\ttotal: 6m 34s\tremaining: 5m 12s\n837:\tlearn: 0.1690481\ttotal: 6m 35s\tremaining: 5m 12s\n838:\tlearn: 0.1689194\ttotal: 6m 35s\tremaining: 5m 11s\n839:\tlearn: 0.1686778\ttotal: 6m 35s\tremaining: 5m 11s\n840:\tlearn: 0.1684375\ttotal: 6m 36s\tremaining: 5m 10s\n841:\tlearn: 0.1682406\ttotal: 6m 36s\tremaining: 5m 10s\n842:\tlearn: 0.1679633\ttotal: 6m 37s\tremaining: 5m 9s\n843:\tlearn: 0.1676744\ttotal: 6m 37s\tremaining: 5m 9s\n844:\tlearn: 0.1674832\ttotal: 6m 38s\tremaining: 5m 8s\n845:\tlearn: 0.1672722\ttotal: 6m 39s\tremaining: 5m 8s\n846:\tlearn: 0.1671233\ttotal: 6m 39s\tremaining: 5m 8s\n847:\tlearn: 0.1668511\ttotal: 6m 40s\tremaining: 5m 7s\n848:\tlearn: 0.1665851\ttotal: 6m 40s\tremaining: 5m 7s\n849:\tlearn: 0.1665008\ttotal: 6m 41s\tremaining: 5m 6s\n850:\tlearn: 0.1661498\ttotal: 6m 41s\tremaining: 5m 6s\n851:\tlearn: 0.1660061\ttotal: 6m 42s\tremaining: 5m 5s\n852:\tlearn: 0.1658147\ttotal: 6m 42s\tremaining: 5m 5s\n853:\tlearn: 0.1656240\ttotal: 6m 43s\tremaining: 5m 5s\n854:\tlearn: 0.1654083\ttotal: 6m 43s\tremaining: 5m 4s\n855:\tlearn: 0.1652266\ttotal: 6m 44s\tremaining: 5m 4s\n856:\tlearn: 0.1650792\ttotal: 6m 44s\tremaining: 5m 3s\n857:\tlearn: 0.1649475\ttotal: 6m 45s\tremaining: 5m 3s\n858:\tlearn: 0.1648426\ttotal: 6m 45s\tremaining: 5m 2s\n859:\tlearn: 0.1646774\ttotal: 6m 45s\tremaining: 5m 2s\n860:\tlearn: 0.1645463\ttotal: 6m 46s\tremaining: 5m 1s\n861:\tlearn: 0.1643322\ttotal: 6m 46s\tremaining: 5m 1s\n862:\tlearn: 0.1641595\ttotal: 6m 47s\tremaining: 5m\n863:\tlearn: 0.1639501\ttotal: 6m 47s\tremaining: 5m\n864:\tlearn: 0.1636902\ttotal: 6m 48s\tremaining: 4m 59s\n865:\tlearn: 0.1635105\ttotal: 6m 48s\tremaining: 4m 59s\n866:\tlearn: 0.1632999\ttotal: 6m 49s\tremaining: 4m 58s\n867:\tlearn: 0.1631340\ttotal: 6m 49s\tremaining: 4m 58s\n868:\tlearn: 0.1628995\ttotal: 6m 50s\tremaining: 4m 57s\n869:\tlearn: 0.1627209\ttotal: 6m 50s\tremaining: 4m 57s\n870:\tlearn: 0.1625588\ttotal: 6m 51s\tremaining: 4m 56s\n871:\tlearn: 0.1623940\ttotal: 6m 51s\tremaining: 4m 56s\n872:\tlearn: 0.1621651\ttotal: 6m 52s\tremaining: 4m 55s\n873:\tlearn: 0.1619341\ttotal: 6m 52s\tremaining: 4m 55s\n874:\tlearn: 0.1617717\ttotal: 6m 52s\tremaining: 4m 54s\n875:\tlearn: 0.1614807\ttotal: 6m 53s\tremaining: 4m 54s\n876:\tlearn: 0.1613432\ttotal: 6m 54s\tremaining: 4m 54s\n877:\tlearn: 0.1611633\ttotal: 6m 54s\tremaining: 4m 53s\n878:\tlearn: 0.1610220\ttotal: 6m 55s\tremaining: 4m 53s\n879:\tlearn: 0.1607877\ttotal: 6m 55s\tremaining: 4m 52s\n880:\tlearn: 0.1605826\ttotal: 6m 56s\tremaining: 4m 52s\n881:\tlearn: 0.1603053\ttotal: 6m 56s\tremaining: 4m 51s\n882:\tlearn: 0.1601177\ttotal: 6m 57s\tremaining: 4m 51s\n883:\tlearn: 0.1598851\ttotal: 6m 57s\tremaining: 4m 50s\n884:\tlearn: 0.1596992\ttotal: 6m 58s\tremaining: 4m 50s\n885:\tlearn: 0.1594577\ttotal: 6m 58s\tremaining: 4m 50s\n886:\tlearn: 0.1592801\ttotal: 6m 59s\tremaining: 4m 49s\n887:\tlearn: 0.1590573\ttotal: 6m 59s\tremaining: 4m 49s\n888:\tlearn: 0.1590025\ttotal: 6m 59s\tremaining: 4m 48s\n889:\tlearn: 0.1588260\ttotal: 7m\tremaining: 4m 48s\n890:\tlearn: 0.1587272\ttotal: 7m\tremaining: 4m 47s\n891:\tlearn: 0.1585594\ttotal: 7m 1s\tremaining: 4m 47s\n892:\tlearn: 0.1583257\ttotal: 7m 1s\tremaining: 4m 46s\n893:\tlearn: 0.1581637\ttotal: 7m 2s\tremaining: 4m 46s\n894:\tlearn: 0.1579251\ttotal: 7m 2s\tremaining: 4m 45s\n895:\tlearn: 0.1576201\ttotal: 7m 3s\tremaining: 4m 45s\n896:\tlearn: 0.1574332\ttotal: 7m 3s\tremaining: 4m 44s\n897:\tlearn: 0.1571343\ttotal: 7m 4s\tremaining: 4m 44s\n898:\tlearn: 0.1569725\ttotal: 7m 5s\tremaining: 4m 44s\n899:\tlearn: 0.1567127\ttotal: 7m 5s\tremaining: 4m 43s\n900:\tlearn: 0.1564481\ttotal: 7m 6s\tremaining: 4m 43s\n901:\tlearn: 0.1561652\ttotal: 7m 6s\tremaining: 4m 42s\n902:\tlearn: 0.1559494\ttotal: 7m 7s\tremaining: 4m 42s\n903:\tlearn: 0.1557439\ttotal: 7m 7s\tremaining: 4m 41s\n904:\tlearn: 0.1555663\ttotal: 7m 8s\tremaining: 4m 41s\n905:\tlearn: 0.1554978\ttotal: 7m 8s\tremaining: 4m 40s\n906:\tlearn: 0.1552855\ttotal: 7m 9s\tremaining: 4m 40s\n907:\tlearn: 0.1550240\ttotal: 7m 9s\tremaining: 4m 40s\n908:\tlearn: 0.1548646\ttotal: 7m 10s\tremaining: 4m 39s\n909:\tlearn: 0.1546420\ttotal: 7m 11s\tremaining: 4m 39s\n910:\tlearn: 0.1544683\ttotal: 7m 11s\tremaining: 4m 39s\n911:\tlearn: 0.1542788\ttotal: 7m 12s\tremaining: 4m 38s\n912:\tlearn: 0.1541690\ttotal: 7m 12s\tremaining: 4m 38s\n913:\tlearn: 0.1539455\ttotal: 7m 12s\tremaining: 4m 37s\n914:\tlearn: 0.1538025\ttotal: 7m 13s\tremaining: 4m 37s\n915:\tlearn: 0.1536172\ttotal: 7m 13s\tremaining: 4m 36s\n916:\tlearn: 0.1534238\ttotal: 7m 14s\tremaining: 4m 36s\n917:\tlearn: 0.1533051\ttotal: 7m 14s\tremaining: 4m 35s\n918:\tlearn: 0.1530555\ttotal: 7m 15s\tremaining: 4m 35s\n919:\tlearn: 0.1528215\ttotal: 7m 16s\tremaining: 4m 34s\n920:\tlearn: 0.1526953\ttotal: 7m 16s\tremaining: 4m 34s\n921:\tlearn: 0.1525855\ttotal: 7m 16s\tremaining: 4m 33s\n922:\tlearn: 0.1523556\ttotal: 7m 17s\tremaining: 4m 33s\n923:\tlearn: 0.1521939\ttotal: 7m 17s\tremaining: 4m 32s\n924:\tlearn: 0.1519985\ttotal: 7m 18s\tremaining: 4m 32s\n925:\tlearn: 0.1518957\ttotal: 7m 18s\tremaining: 4m 32s\n926:\tlearn: 0.1517101\ttotal: 7m 19s\tremaining: 4m 31s\n927:\tlearn: 0.1514660\ttotal: 7m 19s\tremaining: 4m 31s\n928:\tlearn: 0.1513751\ttotal: 7m 20s\tremaining: 4m 30s\n929:\tlearn: 0.1512033\ttotal: 7m 20s\tremaining: 4m 30s\n930:\tlearn: 0.1510955\ttotal: 7m 21s\tremaining: 4m 29s\n931:\tlearn: 0.1509344\ttotal: 7m 21s\tremaining: 4m 29s\n932:\tlearn: 0.1507710\ttotal: 7m 22s\tremaining: 4m 28s\n933:\tlearn: 0.1506012\ttotal: 7m 22s\tremaining: 4m 28s\n934:\tlearn: 0.1504489\ttotal: 7m 23s\tremaining: 4m 27s\n935:\tlearn: 0.1503605\ttotal: 7m 23s\tremaining: 4m 27s\n936:\tlearn: 0.1502820\ttotal: 7m 24s\tremaining: 4m 26s\n937:\tlearn: 0.1501829\ttotal: 7m 24s\tremaining: 4m 26s\n938:\tlearn: 0.1499917\ttotal: 7m 24s\tremaining: 4m 25s\n939:\tlearn: 0.1498277\ttotal: 7m 25s\tremaining: 4m 25s\n940:\tlearn: 0.1497412\ttotal: 7m 25s\tremaining: 4m 24s\n941:\tlearn: 0.1495858\ttotal: 7m 26s\tremaining: 4m 24s\n942:\tlearn: 0.1494089\ttotal: 7m 26s\tremaining: 4m 24s\n943:\tlearn: 0.1492510\ttotal: 7m 27s\tremaining: 4m 23s\n944:\tlearn: 0.1491011\ttotal: 7m 27s\tremaining: 4m 23s\n945:\tlearn: 0.1488799\ttotal: 7m 28s\tremaining: 4m 22s\n946:\tlearn: 0.1486533\ttotal: 7m 28s\tremaining: 4m 22s\n947:\tlearn: 0.1483854\ttotal: 7m 29s\tremaining: 4m 21s\n948:\tlearn: 0.1481538\ttotal: 7m 30s\tremaining: 4m 21s\n949:\tlearn: 0.1480625\ttotal: 7m 30s\tremaining: 4m 20s\n950:\tlearn: 0.1478135\ttotal: 7m 31s\tremaining: 4m 20s\n951:\tlearn: 0.1477007\ttotal: 7m 31s\tremaining: 4m 19s\n952:\tlearn: 0.1474489\ttotal: 7m 32s\tremaining: 4m 19s\n953:\tlearn: 0.1473684\ttotal: 7m 32s\tremaining: 4m 18s\n954:\tlearn: 0.1471685\ttotal: 7m 33s\tremaining: 4m 18s\n955:\tlearn: 0.1468709\ttotal: 7m 33s\tremaining: 4m 18s\n956:\tlearn: 0.1466817\ttotal: 7m 34s\tremaining: 4m 17s\n957:\tlearn: 0.1465872\ttotal: 7m 34s\tremaining: 4m 17s\n958:\tlearn: 0.1464905\ttotal: 7m 34s\tremaining: 4m 16s\n959:\tlearn: 0.1462935\ttotal: 7m 35s\tremaining: 4m 16s\n960:\tlearn: 0.1460775\ttotal: 7m 36s\tremaining: 4m 15s\n961:\tlearn: 0.1459235\ttotal: 7m 36s\tremaining: 4m 15s\n962:\tlearn: 0.1456838\ttotal: 7m 37s\tremaining: 4m 14s\n963:\tlearn: 0.1455134\ttotal: 7m 37s\tremaining: 4m 14s\n964:\tlearn: 0.1453475\ttotal: 7m 38s\tremaining: 4m 14s\n965:\tlearn: 0.1452947\ttotal: 7m 38s\tremaining: 4m 13s\n966:\tlearn: 0.1451432\ttotal: 7m 39s\tremaining: 4m 12s\n967:\tlearn: 0.1448887\ttotal: 7m 39s\tremaining: 4m 12s\n968:\tlearn: 0.1448230\ttotal: 7m 39s\tremaining: 4m 12s\n969:\tlearn: 0.1447010\ttotal: 7m 40s\tremaining: 4m 11s\n970:\tlearn: 0.1444650\ttotal: 7m 40s\tremaining: 4m 11s\n971:\tlearn: 0.1443615\ttotal: 7m 41s\tremaining: 4m 10s\n972:\tlearn: 0.1441705\ttotal: 7m 41s\tremaining: 4m 10s\n973:\tlearn: 0.1440739\ttotal: 7m 42s\tremaining: 4m 9s\n974:\tlearn: 0.1439367\ttotal: 7m 42s\tremaining: 4m 9s\n975:\tlearn: 0.1437197\ttotal: 7m 43s\tremaining: 4m 8s\n976:\tlearn: 0.1435236\ttotal: 7m 44s\tremaining: 4m 8s\n977:\tlearn: 0.1433156\ttotal: 7m 44s\tremaining: 4m 7s\n978:\tlearn: 0.1432141\ttotal: 7m 44s\tremaining: 4m 7s\n979:\tlearn: 0.1429397\ttotal: 7m 45s\tremaining: 4m 7s\n980:\tlearn: 0.1427487\ttotal: 7m 46s\tremaining: 4m 6s\n981:\tlearn: 0.1425948\ttotal: 7m 46s\tremaining: 4m 6s\n982:\tlearn: 0.1425427\ttotal: 7m 46s\tremaining: 4m 5s\n983:\tlearn: 0.1424496\ttotal: 7m 47s\tremaining: 4m 5s\n984:\tlearn: 0.1422765\ttotal: 7m 47s\tremaining: 4m 4s\n985:\tlearn: 0.1421037\ttotal: 7m 48s\tremaining: 4m 4s\n986:\tlearn: 0.1419017\ttotal: 7m 49s\tremaining: 4m 3s\n987:\tlearn: 0.1417332\ttotal: 7m 49s\tremaining: 4m 3s\n988:\tlearn: 0.1415057\ttotal: 7m 50s\tremaining: 4m 2s\n989:\tlearn: 0.1413673\ttotal: 7m 50s\tremaining: 4m 2s\n990:\tlearn: 0.1411956\ttotal: 7m 51s\tremaining: 4m 1s\n991:\tlearn: 0.1410204\ttotal: 7m 51s\tremaining: 4m 1s\n992:\tlearn: 0.1408144\ttotal: 7m 52s\tremaining: 4m 1s\n993:\tlearn: 0.1406951\ttotal: 7m 52s\tremaining: 4m\n994:\tlearn: 0.1405700\ttotal: 7m 53s\tremaining: 4m\n995:\tlearn: 0.1403998\ttotal: 7m 53s\tremaining: 3m 59s\n996:\tlearn: 0.1402022\ttotal: 7m 54s\tremaining: 3m 59s\n997:\tlearn: 0.1400155\ttotal: 7m 54s\tremaining: 3m 58s\n998:\tlearn: 0.1398145\ttotal: 7m 55s\tremaining: 3m 58s\n999:\tlearn: 0.1396877\ttotal: 7m 55s\tremaining: 3m 57s\n1000:\tlearn: 0.1396442\ttotal: 7m 55s\tremaining: 3m 57s\n1001:\tlearn: 0.1394796\ttotal: 7m 56s\tremaining: 3m 56s\n1002:\tlearn: 0.1394087\ttotal: 7m 56s\tremaining: 3m 56s\n1003:\tlearn: 0.1392428\ttotal: 7m 57s\tremaining: 3m 55s\n1004:\tlearn: 0.1390964\ttotal: 7m 57s\tremaining: 3m 55s\n1005:\tlearn: 0.1389274\ttotal: 7m 58s\tremaining: 3m 54s\n1006:\tlearn: 0.1386982\ttotal: 7m 58s\tremaining: 3m 54s\n1007:\tlearn: 0.1384861\ttotal: 7m 59s\tremaining: 3m 54s\n1008:\tlearn: 0.1383329\ttotal: 8m\tremaining: 3m 53s\n1009:\tlearn: 0.1382064\ttotal: 8m\tremaining: 3m 53s\n1010:\tlearn: 0.1380705\ttotal: 8m\tremaining: 3m 52s\n1011:\tlearn: 0.1379196\ttotal: 8m 1s\tremaining: 3m 52s\n1012:\tlearn: 0.1377263\ttotal: 8m 2s\tremaining: 3m 51s\n1013:\tlearn: 0.1376435\ttotal: 8m 2s\tremaining: 3m 51s\n1014:\tlearn: 0.1375329\ttotal: 8m 2s\tremaining: 3m 50s\n1015:\tlearn: 0.1374086\ttotal: 8m 3s\tremaining: 3m 50s\n1016:\tlearn: 0.1373336\ttotal: 8m 3s\tremaining: 3m 49s\n1017:\tlearn: 0.1371571\ttotal: 8m 4s\tremaining: 3m 49s\n1018:\tlearn: 0.1369827\ttotal: 8m 4s\tremaining: 3m 48s\n1019:\tlearn: 0.1369047\ttotal: 8m 5s\tremaining: 3m 48s\n1020:\tlearn: 0.1367326\ttotal: 8m 5s\tremaining: 3m 47s\n1021:\tlearn: 0.1365399\ttotal: 8m 6s\tremaining: 3m 47s\n1022:\tlearn: 0.1364514\ttotal: 8m 6s\tremaining: 3m 46s\n1023:\tlearn: 0.1362732\ttotal: 8m 7s\tremaining: 3m 46s\n1024:\tlearn: 0.1360782\ttotal: 8m 7s\tremaining: 3m 46s\n1025:\tlearn: 0.1359519\ttotal: 8m 8s\tremaining: 3m 45s\n1026:\tlearn: 0.1357316\ttotal: 8m 9s\tremaining: 3m 45s\n1027:\tlearn: 0.1355264\ttotal: 8m 9s\tremaining: 3m 44s\n1028:\tlearn: 0.1353624\ttotal: 8m 10s\tremaining: 3m 44s\n1029:\tlearn: 0.1351495\ttotal: 8m 10s\tremaining: 3m 43s\n1030:\tlearn: 0.1349366\ttotal: 8m 11s\tremaining: 3m 43s\n1031:\tlearn: 0.1347042\ttotal: 8m 11s\tremaining: 3m 43s\n1032:\tlearn: 0.1345833\ttotal: 8m 12s\tremaining: 3m 42s\n1033:\tlearn: 0.1343928\ttotal: 8m 12s\tremaining: 3m 42s\n1034:\tlearn: 0.1341636\ttotal: 8m 13s\tremaining: 3m 41s\n1035:\tlearn: 0.1340006\ttotal: 8m 13s\tremaining: 3m 41s\n1036:\tlearn: 0.1338804\ttotal: 8m 14s\tremaining: 3m 40s\n1037:\tlearn: 0.1336703\ttotal: 8m 15s\tremaining: 3m 40s\n1038:\tlearn: 0.1335049\ttotal: 8m 15s\tremaining: 3m 39s\n1039:\tlearn: 0.1333478\ttotal: 8m 16s\tremaining: 3m 39s\n1040:\tlearn: 0.1331737\ttotal: 8m 16s\tremaining: 3m 38s\n1041:\tlearn: 0.1330602\ttotal: 8m 17s\tremaining: 3m 38s\n1042:\tlearn: 0.1329288\ttotal: 8m 17s\tremaining: 3m 38s\n1043:\tlearn: 0.1327103\ttotal: 8m 18s\tremaining: 3m 37s\n1044:\tlearn: 0.1325002\ttotal: 8m 18s\tremaining: 3m 37s\n1045:\tlearn: 0.1323408\ttotal: 8m 19s\tremaining: 3m 36s\n1046:\tlearn: 0.1321672\ttotal: 8m 19s\tremaining: 3m 36s\n1047:\tlearn: 0.1321214\ttotal: 8m 20s\tremaining: 3m 35s\n1048:\tlearn: 0.1320673\ttotal: 8m 20s\tremaining: 3m 35s\n1049:\tlearn: 0.1318598\ttotal: 8m 21s\tremaining: 3m 34s\n1050:\tlearn: 0.1317094\ttotal: 8m 21s\tremaining: 3m 34s\n1051:\tlearn: 0.1315075\ttotal: 8m 22s\tremaining: 3m 33s\n1052:\tlearn: 0.1313497\ttotal: 8m 22s\tremaining: 3m 33s\n1053:\tlearn: 0.1312173\ttotal: 8m 23s\tremaining: 3m 32s\n1054:\tlearn: 0.1311074\ttotal: 8m 23s\tremaining: 3m 32s\n1055:\tlearn: 0.1309596\ttotal: 8m 24s\tremaining: 3m 31s\n1056:\tlearn: 0.1308453\ttotal: 8m 24s\tremaining: 3m 31s\n1057:\tlearn: 0.1307129\ttotal: 8m 25s\tremaining: 3m 30s\n1058:\tlearn: 0.1305384\ttotal: 8m 25s\tremaining: 3m 30s\n1059:\tlearn: 0.1303299\ttotal: 8m 26s\tremaining: 3m 30s\n1060:\tlearn: 0.1302590\ttotal: 8m 26s\tremaining: 3m 29s\n1061:\tlearn: 0.1300245\ttotal: 8m 27s\tremaining: 3m 29s\n1062:\tlearn: 0.1298431\ttotal: 8m 27s\tremaining: 3m 28s\n1063:\tlearn: 0.1297051\ttotal: 8m 28s\tremaining: 3m 28s\n1064:\tlearn: 0.1296263\ttotal: 8m 28s\tremaining: 3m 27s\n1065:\tlearn: 0.1294866\ttotal: 8m 28s\tremaining: 3m 27s\n1066:\tlearn: 0.1293855\ttotal: 8m 29s\tremaining: 3m 26s\n1067:\tlearn: 0.1292987\ttotal: 8m 29s\tremaining: 3m 26s\n1068:\tlearn: 0.1291576\ttotal: 8m 30s\tremaining: 3m 25s\n1069:\tlearn: 0.1290642\ttotal: 8m 30s\tremaining: 3m 25s\n1070:\tlearn: 0.1289279\ttotal: 8m 31s\tremaining: 3m 24s\n1071:\tlearn: 0.1288097\ttotal: 8m 31s\tremaining: 3m 24s\n1072:\tlearn: 0.1286796\ttotal: 8m 32s\tremaining: 3m 23s\n1073:\tlearn: 0.1284360\ttotal: 8m 32s\tremaining: 3m 23s\n1074:\tlearn: 0.1283487\ttotal: 8m 33s\tremaining: 3m 22s\n1075:\tlearn: 0.1282316\ttotal: 8m 33s\tremaining: 3m 22s\n1076:\tlearn: 0.1280559\ttotal: 8m 34s\tremaining: 3m 22s\n1077:\tlearn: 0.1278849\ttotal: 8m 34s\tremaining: 3m 21s\n1078:\tlearn: 0.1278274\ttotal: 8m 35s\tremaining: 3m 21s\n1079:\tlearn: 0.1277191\ttotal: 8m 35s\tremaining: 3m 20s\n1080:\tlearn: 0.1275807\ttotal: 8m 36s\tremaining: 3m 20s\n1081:\tlearn: 0.1274072\ttotal: 8m 36s\tremaining: 3m 19s\n1082:\tlearn: 0.1271251\ttotal: 8m 37s\tremaining: 3m 19s\n1083:\tlearn: 0.1269087\ttotal: 8m 37s\tremaining: 3m 18s\n1084:\tlearn: 0.1267131\ttotal: 8m 38s\tremaining: 3m 18s\n1085:\tlearn: 0.1266084\ttotal: 8m 38s\tremaining: 3m 17s\n1086:\tlearn: 0.1265271\ttotal: 8m 39s\tremaining: 3m 17s\n1087:\tlearn: 0.1263764\ttotal: 8m 39s\tremaining: 3m 16s\n1088:\tlearn: 0.1263293\ttotal: 8m 40s\tremaining: 3m 16s\n1089:\tlearn: 0.1261918\ttotal: 8m 40s\tremaining: 3m 15s\n1090:\tlearn: 0.1259899\ttotal: 8m 41s\tremaining: 3m 15s\n1091:\tlearn: 0.1258850\ttotal: 8m 41s\tremaining: 3m 14s\n1092:\tlearn: 0.1256916\ttotal: 8m 42s\tremaining: 3m 14s\n1093:\tlearn: 0.1256267\ttotal: 8m 42s\tremaining: 3m 13s\n1094:\tlearn: 0.1254757\ttotal: 8m 43s\tremaining: 3m 13s\n1095:\tlearn: 0.1253836\ttotal: 8m 43s\tremaining: 3m 13s\n1096:\tlearn: 0.1252605\ttotal: 8m 44s\tremaining: 3m 12s\n1097:\tlearn: 0.1251376\ttotal: 8m 44s\tremaining: 3m 12s\n1098:\tlearn: 0.1249368\ttotal: 8m 45s\tremaining: 3m 11s\n1099:\tlearn: 0.1247789\ttotal: 8m 45s\tremaining: 3m 11s\n1100:\tlearn: 0.1246787\ttotal: 8m 46s\tremaining: 3m 10s\n1101:\tlearn: 0.1244472\ttotal: 8m 47s\tremaining: 3m 10s\n1102:\tlearn: 0.1243538\ttotal: 8m 47s\tremaining: 3m 9s\n1103:\tlearn: 0.1242354\ttotal: 8m 48s\tremaining: 3m 9s\n1104:\tlearn: 0.1241137\ttotal: 8m 48s\tremaining: 3m 8s\n1105:\tlearn: 0.1238678\ttotal: 8m 49s\tremaining: 3m 8s\n1106:\tlearn: 0.1237863\ttotal: 8m 49s\tremaining: 3m 8s\n1107:\tlearn: 0.1236034\ttotal: 8m 50s\tremaining: 3m 7s\n1108:\tlearn: 0.1234704\ttotal: 8m 50s\tremaining: 3m 7s\n1109:\tlearn: 0.1233964\ttotal: 8m 51s\tremaining: 3m 6s\n1110:\tlearn: 0.1232991\ttotal: 8m 51s\tremaining: 3m 6s\n1111:\tlearn: 0.1231568\ttotal: 8m 51s\tremaining: 3m 5s\n1112:\tlearn: 0.1230831\ttotal: 8m 52s\tremaining: 3m 5s\n1113:\tlearn: 0.1229440\ttotal: 8m 52s\tremaining: 3m 4s\n1114:\tlearn: 0.1227536\ttotal: 8m 53s\tremaining: 3m 4s\n1115:\tlearn: 0.1226766\ttotal: 8m 53s\tremaining: 3m 3s\n1116:\tlearn: 0.1224817\ttotal: 8m 54s\tremaining: 3m 3s\n1117:\tlearn: 0.1223405\ttotal: 8m 55s\tremaining: 3m 2s\n1118:\tlearn: 0.1221545\ttotal: 8m 55s\tremaining: 3m 2s\n1119:\tlearn: 0.1218871\ttotal: 8m 56s\tremaining: 3m 1s\n1120:\tlearn: 0.1217129\ttotal: 8m 56s\tremaining: 3m 1s\n1121:\tlearn: 0.1216197\ttotal: 8m 57s\tremaining: 3m\n1122:\tlearn: 0.1214895\ttotal: 8m 57s\tremaining: 3m\n1123:\tlearn: 0.1212838\ttotal: 8m 58s\tremaining: 3m\n1124:\tlearn: 0.1211390\ttotal: 8m 58s\tremaining: 2m 59s\n1125:\tlearn: 0.1209871\ttotal: 8m 59s\tremaining: 2m 59s\n1126:\tlearn: 0.1208636\ttotal: 8m 59s\tremaining: 2m 58s\n1127:\tlearn: 0.1207344\ttotal: 9m\tremaining: 2m 58s\n1128:\tlearn: 0.1206303\ttotal: 9m\tremaining: 2m 57s\n1129:\tlearn: 0.1205184\ttotal: 9m 1s\tremaining: 2m 57s\n1130:\tlearn: 0.1204411\ttotal: 9m 1s\tremaining: 2m 56s\n1131:\tlearn: 0.1203405\ttotal: 9m 1s\tremaining: 2m 56s\n1132:\tlearn: 0.1202518\ttotal: 9m 2s\tremaining: 2m 55s\n1133:\tlearn: 0.1201259\ttotal: 9m 2s\tremaining: 2m 55s\n1134:\tlearn: 0.1199901\ttotal: 9m 3s\tremaining: 2m 54s\n1135:\tlearn: 0.1198310\ttotal: 9m 3s\tremaining: 2m 54s\n1136:\tlearn: 0.1197177\ttotal: 9m 4s\tremaining: 2m 53s\n1137:\tlearn: 0.1196279\ttotal: 9m 4s\tremaining: 2m 53s\n1138:\tlearn: 0.1194320\ttotal: 9m 5s\tremaining: 2m 52s\n1139:\tlearn: 0.1192937\ttotal: 9m 5s\tremaining: 2m 52s\n1140:\tlearn: 0.1191754\ttotal: 9m 6s\tremaining: 2m 51s\n1141:\tlearn: 0.1191187\ttotal: 9m 6s\tremaining: 2m 51s\n1142:\tlearn: 0.1189865\ttotal: 9m 7s\tremaining: 2m 50s\n1143:\tlearn: 0.1187948\ttotal: 9m 7s\tremaining: 2m 50s\n1144:\tlearn: 0.1186981\ttotal: 9m 8s\tremaining: 2m 50s\n1145:\tlearn: 0.1185544\ttotal: 9m 8s\tremaining: 2m 49s\n1146:\tlearn: 0.1183907\ttotal: 9m 9s\tremaining: 2m 49s\n1147:\tlearn: 0.1182650\ttotal: 9m 10s\tremaining: 2m 48s\n1148:\tlearn: 0.1182073\ttotal: 9m 10s\tremaining: 2m 48s\n1149:\tlearn: 0.1181672\ttotal: 9m 10s\tremaining: 2m 47s\n1150:\tlearn: 0.1179451\ttotal: 9m 11s\tremaining: 2m 47s\n1151:\tlearn: 0.1177304\ttotal: 9m 11s\tremaining: 2m 46s\n1152:\tlearn: 0.1176239\ttotal: 9m 12s\tremaining: 2m 46s\n1153:\tlearn: 0.1174844\ttotal: 9m 12s\tremaining: 2m 45s\n1154:\tlearn: 0.1173415\ttotal: 9m 13s\tremaining: 2m 45s\n1155:\tlearn: 0.1172602\ttotal: 9m 13s\tremaining: 2m 44s\n1156:\tlearn: 0.1171533\ttotal: 9m 14s\tremaining: 2m 44s\n1157:\tlearn: 0.1169779\ttotal: 9m 14s\tremaining: 2m 43s\n1158:\tlearn: 0.1168438\ttotal: 9m 15s\tremaining: 2m 43s\n1159:\tlearn: 0.1167842\ttotal: 9m 15s\tremaining: 2m 42s\n1160:\tlearn: 0.1166007\ttotal: 9m 16s\tremaining: 2m 42s\n1161:\tlearn: 0.1165477\ttotal: 9m 17s\tremaining: 2m 42s\n1162:\tlearn: 0.1164119\ttotal: 9m 17s\tremaining: 2m 41s\n1163:\tlearn: 0.1162688\ttotal: 9m 18s\tremaining: 2m 41s\n1164:\tlearn: 0.1161039\ttotal: 9m 19s\tremaining: 2m 40s\n1165:\tlearn: 0.1160139\ttotal: 9m 19s\tremaining: 2m 40s\n1166:\tlearn: 0.1159316\ttotal: 9m 20s\tremaining: 2m 39s\n1167:\tlearn: 0.1157030\ttotal: 9m 20s\tremaining: 2m 39s\n1168:\tlearn: 0.1155786\ttotal: 9m 21s\tremaining: 2m 38s\n1169:\tlearn: 0.1154468\ttotal: 9m 21s\tremaining: 2m 38s\n1170:\tlearn: 0.1152869\ttotal: 9m 22s\tremaining: 2m 37s\n1171:\tlearn: 0.1151974\ttotal: 9m 22s\tremaining: 2m 37s\n1172:\tlearn: 0.1151252\ttotal: 9m 23s\tremaining: 2m 37s\n1173:\tlearn: 0.1150241\ttotal: 9m 23s\tremaining: 2m 36s\n1174:\tlearn: 0.1148908\ttotal: 9m 24s\tremaining: 2m 36s\n1175:\tlearn: 0.1148023\ttotal: 9m 24s\tremaining: 2m 35s\n1176:\tlearn: 0.1147318\ttotal: 9m 25s\tremaining: 2m 35s\n1177:\tlearn: 0.1146242\ttotal: 9m 25s\tremaining: 2m 34s\n1178:\tlearn: 0.1144920\ttotal: 9m 26s\tremaining: 2m 34s\n1179:\tlearn: 0.1144012\ttotal: 9m 26s\tremaining: 2m 33s\n1180:\tlearn: 0.1142825\ttotal: 9m 26s\tremaining: 2m 33s\n1181:\tlearn: 0.1141937\ttotal: 9m 27s\tremaining: 2m 32s\n1182:\tlearn: 0.1141353\ttotal: 9m 28s\tremaining: 2m 32s\n1183:\tlearn: 0.1139685\ttotal: 9m 28s\tremaining: 2m 31s\n1184:\tlearn: 0.1138308\ttotal: 9m 29s\tremaining: 2m 31s\n1185:\tlearn: 0.1137356\ttotal: 9m 29s\tremaining: 2m 30s\n1186:\tlearn: 0.1135940\ttotal: 9m 30s\tremaining: 2m 30s\n1187:\tlearn: 0.1134999\ttotal: 9m 30s\tremaining: 2m 29s\n1188:\tlearn: 0.1133257\ttotal: 9m 31s\tremaining: 2m 29s\n1189:\tlearn: 0.1132251\ttotal: 9m 31s\tremaining: 2m 28s\n1190:\tlearn: 0.1131224\ttotal: 9m 32s\tremaining: 2m 28s\n1191:\tlearn: 0.1129924\ttotal: 9m 32s\tremaining: 2m 27s\n1192:\tlearn: 0.1128589\ttotal: 9m 33s\tremaining: 2m 27s\n1193:\tlearn: 0.1127482\ttotal: 9m 33s\tremaining: 2m 27s\n1194:\tlearn: 0.1125667\ttotal: 9m 34s\tremaining: 2m 26s\n1195:\tlearn: 0.1124489\ttotal: 9m 34s\tremaining: 2m 26s\n1196:\tlearn: 0.1124052\ttotal: 9m 35s\tremaining: 2m 25s\n1197:\tlearn: 0.1123396\ttotal: 9m 35s\tremaining: 2m 25s\n1198:\tlearn: 0.1122733\ttotal: 9m 36s\tremaining: 2m 24s\n1199:\tlearn: 0.1122235\ttotal: 9m 36s\tremaining: 2m 24s\n1200:\tlearn: 0.1121182\ttotal: 9m 36s\tremaining: 2m 23s\n1201:\tlearn: 0.1120455\ttotal: 9m 37s\tremaining: 2m 23s\n1202:\tlearn: 0.1119965\ttotal: 9m 37s\tremaining: 2m 22s\n1203:\tlearn: 0.1119247\ttotal: 9m 38s\tremaining: 2m 22s\n1204:\tlearn: 0.1117497\ttotal: 9m 38s\tremaining: 2m 21s\n1205:\tlearn: 0.1116630\ttotal: 9m 39s\tremaining: 2m 21s\n1206:\tlearn: 0.1115555\ttotal: 9m 39s\tremaining: 2m 20s\n1207:\tlearn: 0.1114544\ttotal: 9m 40s\tremaining: 2m 20s\n1208:\tlearn: 0.1113728\ttotal: 9m 40s\tremaining: 2m 19s\n1209:\tlearn: 0.1112778\ttotal: 9m 41s\tremaining: 2m 19s\n1210:\tlearn: 0.1112049\ttotal: 9m 41s\tremaining: 2m 18s\n1211:\tlearn: 0.1111009\ttotal: 9m 42s\tremaining: 2m 18s\n1212:\tlearn: 0.1109589\ttotal: 9m 42s\tremaining: 2m 17s\n1213:\tlearn: 0.1108078\ttotal: 9m 43s\tremaining: 2m 17s\n1214:\tlearn: 0.1106742\ttotal: 9m 43s\tremaining: 2m 16s\n1215:\tlearn: 0.1105520\ttotal: 9m 44s\tremaining: 2m 16s\n1216:\tlearn: 0.1103720\ttotal: 9m 44s\tremaining: 2m 16s\n1217:\tlearn: 0.1102070\ttotal: 9m 45s\tremaining: 2m 15s\n1218:\tlearn: 0.1100990\ttotal: 9m 45s\tremaining: 2m 15s\n1219:\tlearn: 0.1100453\ttotal: 9m 46s\tremaining: 2m 14s\n1220:\tlearn: 0.1099636\ttotal: 9m 46s\tremaining: 2m 14s\n1221:\tlearn: 0.1097645\ttotal: 9m 47s\tremaining: 2m 13s\n1222:\tlearn: 0.1096613\ttotal: 9m 47s\tremaining: 2m 13s\n1223:\tlearn: 0.1095780\ttotal: 9m 48s\tremaining: 2m 12s\n1224:\tlearn: 0.1095273\ttotal: 9m 48s\tremaining: 2m 12s\n1225:\tlearn: 0.1094401\ttotal: 9m 49s\tremaining: 2m 11s\n1226:\tlearn: 0.1092432\ttotal: 9m 49s\tremaining: 2m 11s\n1227:\tlearn: 0.1091792\ttotal: 9m 50s\tremaining: 2m 10s\n1228:\tlearn: 0.1090687\ttotal: 9m 50s\tremaining: 2m 10s\n1229:\tlearn: 0.1089853\ttotal: 9m 51s\tremaining: 2m 9s\n1230:\tlearn: 0.1088978\ttotal: 9m 52s\tremaining: 2m 9s\n1231:\tlearn: 0.1087891\ttotal: 9m 52s\tremaining: 2m 8s\n1232:\tlearn: 0.1086389\ttotal: 9m 53s\tremaining: 2m 8s\n1233:\tlearn: 0.1085167\ttotal: 9m 53s\tremaining: 2m 7s\n1234:\tlearn: 0.1084318\ttotal: 9m 53s\tremaining: 2m 7s\n1235:\tlearn: 0.1082905\ttotal: 9m 54s\tremaining: 2m 6s\n1236:\tlearn: 0.1082173\ttotal: 9m 54s\tremaining: 2m 6s\n1237:\tlearn: 0.1081646\ttotal: 9m 55s\tremaining: 2m 5s\n1238:\tlearn: 0.1080646\ttotal: 9m 55s\tremaining: 2m 5s\n1239:\tlearn: 0.1079433\ttotal: 9m 56s\tremaining: 2m 5s\n1240:\tlearn: 0.1078379\ttotal: 9m 56s\tremaining: 2m 4s\n1241:\tlearn: 0.1077190\ttotal: 9m 57s\tremaining: 2m 4s\n1242:\tlearn: 0.1076193\ttotal: 9m 57s\tremaining: 2m 3s\n1243:\tlearn: 0.1075378\ttotal: 9m 58s\tremaining: 2m 3s\n1244:\tlearn: 0.1074508\ttotal: 9m 58s\tremaining: 2m 2s\n1245:\tlearn: 0.1072990\ttotal: 9m 59s\tremaining: 2m 2s\n1246:\tlearn: 0.1071818\ttotal: 9m 59s\tremaining: 2m 1s\n1247:\tlearn: 0.1070498\ttotal: 10m\tremaining: 2m 1s\n1248:\tlearn: 0.1069643\ttotal: 10m\tremaining: 2m\n1249:\tlearn: 0.1069200\ttotal: 10m 1s\tremaining: 2m\n1250:\tlearn: 0.1068431\ttotal: 10m 1s\tremaining: 1m 59s\n1251:\tlearn: 0.1066841\ttotal: 10m 2s\tremaining: 1m 59s\n1252:\tlearn: 0.1066205\ttotal: 10m 2s\tremaining: 1m 58s\n1253:\tlearn: 0.1065101\ttotal: 10m 3s\tremaining: 1m 58s\n1254:\tlearn: 0.1063748\ttotal: 10m 3s\tremaining: 1m 57s\n1255:\tlearn: 0.1062447\ttotal: 10m 4s\tremaining: 1m 57s\n1256:\tlearn: 0.1060436\ttotal: 10m 4s\tremaining: 1m 56s\n1257:\tlearn: 0.1059005\ttotal: 10m 5s\tremaining: 1m 56s\n1258:\tlearn: 0.1057709\ttotal: 10m 5s\tremaining: 1m 55s\n1259:\tlearn: 0.1056796\ttotal: 10m 6s\tremaining: 1m 55s\n1260:\tlearn: 0.1055778\ttotal: 10m 6s\tremaining: 1m 54s\n1261:\tlearn: 0.1053928\ttotal: 10m 7s\tremaining: 1m 54s\n1262:\tlearn: 0.1053079\ttotal: 10m 7s\tremaining: 1m 54s\n1263:\tlearn: 0.1052353\ttotal: 10m 7s\tremaining: 1m 53s\n1264:\tlearn: 0.1050552\ttotal: 10m 8s\tremaining: 1m 53s\n1265:\tlearn: 0.1049713\ttotal: 10m 9s\tremaining: 1m 52s\n1266:\tlearn: 0.1049017\ttotal: 10m 9s\tremaining: 1m 52s\n1267:\tlearn: 0.1047629\ttotal: 10m 9s\tremaining: 1m 51s\n1268:\tlearn: 0.1046777\ttotal: 10m 10s\tremaining: 1m 51s\n1269:\tlearn: 0.1045509\ttotal: 10m 10s\tremaining: 1m 50s\n1270:\tlearn: 0.1044789\ttotal: 10m 11s\tremaining: 1m 50s\n1271:\tlearn: 0.1043979\ttotal: 10m 11s\tremaining: 1m 49s\n1272:\tlearn: 0.1043126\ttotal: 10m 12s\tremaining: 1m 49s\n1273:\tlearn: 0.1042170\ttotal: 10m 12s\tremaining: 1m 48s\n1274:\tlearn: 0.1040818\ttotal: 10m 13s\tremaining: 1m 48s\n1275:\tlearn: 0.1040119\ttotal: 10m 13s\tremaining: 1m 47s\n1276:\tlearn: 0.1039070\ttotal: 10m 14s\tremaining: 1m 47s\n1277:\tlearn: 0.1037399\ttotal: 10m 14s\tremaining: 1m 46s\n1278:\tlearn: 0.1036367\ttotal: 10m 15s\tremaining: 1m 46s\n1279:\tlearn: 0.1035156\ttotal: 10m 15s\tremaining: 1m 45s\n1280:\tlearn: 0.1033467\ttotal: 10m 16s\tremaining: 1m 45s\n1281:\tlearn: 0.1032359\ttotal: 10m 17s\tremaining: 1m 44s\n1282:\tlearn: 0.1031288\ttotal: 10m 17s\tremaining: 1m 44s\n1283:\tlearn: 0.1030106\ttotal: 10m 17s\tremaining: 1m 43s\n1284:\tlearn: 0.1029128\ttotal: 10m 18s\tremaining: 1m 43s\n1285:\tlearn: 0.1028137\ttotal: 10m 18s\tremaining: 1m 42s\n1286:\tlearn: 0.1026895\ttotal: 10m 19s\tremaining: 1m 42s\n1287:\tlearn: 0.1025936\ttotal: 10m 19s\tremaining: 1m 42s\n1288:\tlearn: 0.1025138\ttotal: 10m 20s\tremaining: 1m 41s\n1289:\tlearn: 0.1023719\ttotal: 10m 20s\tremaining: 1m 41s\n1290:\tlearn: 0.1022891\ttotal: 10m 21s\tremaining: 1m 40s\n1291:\tlearn: 0.1021585\ttotal: 10m 21s\tremaining: 1m 40s\n1292:\tlearn: 0.1019877\ttotal: 10m 22s\tremaining: 1m 39s\n1293:\tlearn: 0.1019263\ttotal: 10m 23s\tremaining: 1m 39s\n1294:\tlearn: 0.1018670\ttotal: 10m 23s\tremaining: 1m 38s\n1295:\tlearn: 0.1017882\ttotal: 10m 24s\tremaining: 1m 38s\n1296:\tlearn: 0.1016602\ttotal: 10m 24s\tremaining: 1m 37s\n1297:\tlearn: 0.1015004\ttotal: 10m 25s\tremaining: 1m 37s\n1298:\tlearn: 0.1014532\ttotal: 10m 25s\tremaining: 1m 36s\n1299:\tlearn: 0.1014075\ttotal: 10m 26s\tremaining: 1m 36s\n1300:\tlearn: 0.1013493\ttotal: 10m 26s\tremaining: 1m 35s\n1301:\tlearn: 0.1011842\ttotal: 10m 27s\tremaining: 1m 35s\n1302:\tlearn: 0.1010655\ttotal: 10m 27s\tremaining: 1m 34s\n1303:\tlearn: 0.1009743\ttotal: 10m 27s\tremaining: 1m 34s\n1304:\tlearn: 0.1008746\ttotal: 10m 28s\tremaining: 1m 33s\n1305:\tlearn: 0.1007838\ttotal: 10m 28s\tremaining: 1m 33s\n1306:\tlearn: 0.1006387\ttotal: 10m 29s\tremaining: 1m 32s\n1307:\tlearn: 0.1005319\ttotal: 10m 29s\tremaining: 1m 32s\n1308:\tlearn: 0.1004570\ttotal: 10m 30s\tremaining: 1m 31s\n1309:\tlearn: 0.1003617\ttotal: 10m 30s\tremaining: 1m 31s\n1310:\tlearn: 0.1002879\ttotal: 10m 31s\tremaining: 1m 31s\n1311:\tlearn: 0.1001624\ttotal: 10m 31s\tremaining: 1m 30s\n1312:\tlearn: 0.1000562\ttotal: 10m 32s\tremaining: 1m 30s\n1313:\tlearn: 0.0999887\ttotal: 10m 32s\tremaining: 1m 29s\n1314:\tlearn: 0.0999486\ttotal: 10m 33s\tremaining: 1m 29s\n1315:\tlearn: 0.0998996\ttotal: 10m 33s\tremaining: 1m 28s\n1316:\tlearn: 0.0997791\ttotal: 10m 34s\tremaining: 1m 28s\n1317:\tlearn: 0.0996753\ttotal: 10m 34s\tremaining: 1m 27s\n1318:\tlearn: 0.0995632\ttotal: 10m 35s\tremaining: 1m 27s\n1319:\tlearn: 0.0994208\ttotal: 10m 35s\tremaining: 1m 26s\n1320:\tlearn: 0.0993450\ttotal: 10m 36s\tremaining: 1m 26s\n1321:\tlearn: 0.0991989\ttotal: 10m 36s\tremaining: 1m 25s\n1322:\tlearn: 0.0991449\ttotal: 10m 37s\tremaining: 1m 25s\n1323:\tlearn: 0.0990342\ttotal: 10m 37s\tremaining: 1m 24s\n1324:\tlearn: 0.0989203\ttotal: 10m 38s\tremaining: 1m 24s\n1325:\tlearn: 0.0988219\ttotal: 10m 38s\tremaining: 1m 23s\n1326:\tlearn: 0.0986956\ttotal: 10m 39s\tremaining: 1m 23s\n1327:\tlearn: 0.0986264\ttotal: 10m 39s\tremaining: 1m 22s\n1328:\tlearn: 0.0985175\ttotal: 10m 39s\tremaining: 1m 22s\n1329:\tlearn: 0.0984147\ttotal: 10m 40s\tremaining: 1m 21s\n1330:\tlearn: 0.0982986\ttotal: 10m 40s\tremaining: 1m 21s\n1331:\tlearn: 0.0982045\ttotal: 10m 41s\tremaining: 1m 20s\n1332:\tlearn: 0.0981302\ttotal: 10m 41s\tremaining: 1m 20s\n1333:\tlearn: 0.0980636\ttotal: 10m 42s\tremaining: 1m 19s\n1334:\tlearn: 0.0979695\ttotal: 10m 42s\tremaining: 1m 19s\n1335:\tlearn: 0.0978836\ttotal: 10m 43s\tremaining: 1m 18s\n1336:\tlearn: 0.0977979\ttotal: 10m 43s\tremaining: 1m 18s\n1337:\tlearn: 0.0977038\ttotal: 10m 44s\tremaining: 1m 18s\n1338:\tlearn: 0.0975137\ttotal: 10m 44s\tremaining: 1m 17s\n1339:\tlearn: 0.0974169\ttotal: 10m 45s\tremaining: 1m 17s\n1340:\tlearn: 0.0973234\ttotal: 10m 45s\tremaining: 1m 16s\n1341:\tlearn: 0.0972456\ttotal: 10m 46s\tremaining: 1m 16s\n1342:\tlearn: 0.0971554\ttotal: 10m 46s\tremaining: 1m 15s\n1343:\tlearn: 0.0970652\ttotal: 10m 47s\tremaining: 1m 15s\n1344:\tlearn: 0.0969464\ttotal: 10m 47s\tremaining: 1m 14s\n1345:\tlearn: 0.0968744\ttotal: 10m 48s\tremaining: 1m 14s\n1346:\tlearn: 0.0967495\ttotal: 10m 48s\tremaining: 1m 13s\n1347:\tlearn: 0.0966409\ttotal: 10m 49s\tremaining: 1m 13s\n1348:\tlearn: 0.0964718\ttotal: 10m 49s\tremaining: 1m 12s\n1349:\tlearn: 0.0963275\ttotal: 10m 50s\tremaining: 1m 12s\n1350:\tlearn: 0.0962097\ttotal: 10m 50s\tremaining: 1m 11s\n1351:\tlearn: 0.0961307\ttotal: 10m 51s\tremaining: 1m 11s\n1352:\tlearn: 0.0960302\ttotal: 10m 51s\tremaining: 1m 10s\n1353:\tlearn: 0.0959375\ttotal: 10m 52s\tremaining: 1m 10s\n1354:\tlearn: 0.0958197\ttotal: 10m 52s\tremaining: 1m 9s\n1355:\tlearn: 0.0956944\ttotal: 10m 53s\tremaining: 1m 9s\n1356:\tlearn: 0.0956195\ttotal: 10m 53s\tremaining: 1m 8s\n1357:\tlearn: 0.0955455\ttotal: 10m 54s\tremaining: 1m 8s\n1358:\tlearn: 0.0954441\ttotal: 10m 54s\tremaining: 1m 7s\n1359:\tlearn: 0.0953335\ttotal: 10m 55s\tremaining: 1m 7s\n1360:\tlearn: 0.0952767\ttotal: 10m 56s\tremaining: 1m 7s\n1361:\tlearn: 0.0951810\ttotal: 10m 56s\tremaining: 1m 6s\n1362:\tlearn: 0.0950663\ttotal: 10m 57s\tremaining: 1m 6s\n1363:\tlearn: 0.0949958\ttotal: 10m 57s\tremaining: 1m 5s\n1364:\tlearn: 0.0949004\ttotal: 10m 58s\tremaining: 1m 5s\n1365:\tlearn: 0.0948139\ttotal: 10m 58s\tremaining: 1m 4s\n1366:\tlearn: 0.0947414\ttotal: 10m 59s\tremaining: 1m 4s\n1367:\tlearn: 0.0947180\ttotal: 10m 59s\tremaining: 1m 3s\n1368:\tlearn: 0.0946686\ttotal: 10m 59s\tremaining: 1m 3s\n1369:\tlearn: 0.0945344\ttotal: 11m\tremaining: 1m 2s\n1370:\tlearn: 0.0944670\ttotal: 11m\tremaining: 1m 2s\n1371:\tlearn: 0.0944013\ttotal: 11m 1s\tremaining: 1m 1s\n1372:\tlearn: 0.0943175\ttotal: 11m 1s\tremaining: 1m 1s\n1373:\tlearn: 0.0942421\ttotal: 11m 2s\tremaining: 1m\n1374:\tlearn: 0.0942015\ttotal: 11m 2s\tremaining: 1m\n1375:\tlearn: 0.0941365\ttotal: 11m 2s\tremaining: 59.7s\n1376:\tlearn: 0.0940538\ttotal: 11m 3s\tremaining: 59.3s\n1377:\tlearn: 0.0939568\ttotal: 11m 3s\tremaining: 58.8s\n1378:\tlearn: 0.0938816\ttotal: 11m 4s\tremaining: 58.3s\n1379:\tlearn: 0.0937915\ttotal: 11m 4s\tremaining: 57.8s\n1380:\tlearn: 0.0936812\ttotal: 11m 5s\tremaining: 57.3s\n1381:\tlearn: 0.0936250\ttotal: 11m 5s\tremaining: 56.9s\n1382:\tlearn: 0.0935229\ttotal: 11m 6s\tremaining: 56.4s\n1383:\tlearn: 0.0934102\ttotal: 11m 7s\tremaining: 55.9s\n1384:\tlearn: 0.0933023\ttotal: 11m 7s\tremaining: 55.4s\n1385:\tlearn: 0.0932044\ttotal: 11m 7s\tremaining: 54.9s\n1386:\tlearn: 0.0931352\ttotal: 11m 8s\tremaining: 54.5s\n1387:\tlearn: 0.0930610\ttotal: 11m 8s\tremaining: 54s\n1388:\tlearn: 0.0929835\ttotal: 11m 9s\tremaining: 53.5s\n1389:\tlearn: 0.0928771\ttotal: 11m 9s\tremaining: 53s\n1390:\tlearn: 0.0927843\ttotal: 11m 10s\tremaining: 52.5s\n1391:\tlearn: 0.0926989\ttotal: 11m 10s\tremaining: 52.1s\n1392:\tlearn: 0.0926090\ttotal: 11m 11s\tremaining: 51.6s\n1393:\tlearn: 0.0925250\ttotal: 11m 11s\tremaining: 51.1s\n1394:\tlearn: 0.0923679\ttotal: 11m 12s\tremaining: 50.6s\n1395:\tlearn: 0.0922540\ttotal: 11m 12s\tremaining: 50.1s\n1396:\tlearn: 0.0921868\ttotal: 11m 13s\tremaining: 49.6s\n1397:\tlearn: 0.0921133\ttotal: 11m 13s\tremaining: 49.2s\n1398:\tlearn: 0.0920536\ttotal: 11m 14s\tremaining: 48.7s\n1399:\tlearn: 0.0919696\ttotal: 11m 14s\tremaining: 48.2s\n1400:\tlearn: 0.0918791\ttotal: 11m 15s\tremaining: 47.7s\n1401:\tlearn: 0.0918315\ttotal: 11m 15s\tremaining: 47.2s\n1402:\tlearn: 0.0917971\ttotal: 11m 15s\tremaining: 46.7s\n1403:\tlearn: 0.0917300\ttotal: 11m 16s\tremaining: 46.2s\n1404:\tlearn: 0.0916608\ttotal: 11m 16s\tremaining: 45.8s\n1405:\tlearn: 0.0916010\ttotal: 11m 17s\tremaining: 45.3s\n1406:\tlearn: 0.0914482\ttotal: 11m 17s\tremaining: 44.8s\n1407:\tlearn: 0.0913287\ttotal: 11m 18s\tremaining: 44.3s\n1408:\tlearn: 0.0912247\ttotal: 11m 19s\tremaining: 43.9s\n1409:\tlearn: 0.0911307\ttotal: 11m 19s\tremaining: 43.4s\n1410:\tlearn: 0.0910354\ttotal: 11m 20s\tremaining: 42.9s\n1411:\tlearn: 0.0910226\ttotal: 11m 20s\tremaining: 42.4s\n1412:\tlearn: 0.0909445\ttotal: 11m 20s\tremaining: 41.9s\n1413:\tlearn: 0.0908437\ttotal: 11m 21s\tremaining: 41.4s\n1414:\tlearn: 0.0907761\ttotal: 11m 21s\tremaining: 41s\n1415:\tlearn: 0.0906362\ttotal: 11m 22s\tremaining: 40.5s\n1416:\tlearn: 0.0904735\ttotal: 11m 22s\tremaining: 40s\n1417:\tlearn: 0.0904202\ttotal: 11m 23s\tremaining: 39.5s\n1418:\tlearn: 0.0902681\ttotal: 11m 23s\tremaining: 39s\n1419:\tlearn: 0.0902032\ttotal: 11m 24s\tremaining: 38.6s\n1420:\tlearn: 0.0901290\ttotal: 11m 24s\tremaining: 38.1s\n1421:\tlearn: 0.0900516\ttotal: 11m 25s\tremaining: 37.6s\n1422:\tlearn: 0.0900029\ttotal: 11m 25s\tremaining: 37.1s\n1423:\tlearn: 0.0899592\ttotal: 11m 26s\tremaining: 36.6s\n1424:\tlearn: 0.0898600\ttotal: 11m 26s\tremaining: 36.1s\n1425:\tlearn: 0.0897283\ttotal: 11m 27s\tremaining: 35.7s\n1426:\tlearn: 0.0895564\ttotal: 11m 28s\tremaining: 35.2s\n1427:\tlearn: 0.0894631\ttotal: 11m 28s\tremaining: 34.7s\n1428:\tlearn: 0.0893588\ttotal: 11m 29s\tremaining: 34.2s\n1429:\tlearn: 0.0892810\ttotal: 11m 29s\tremaining: 33.8s\n1430:\tlearn: 0.0892123\ttotal: 11m 30s\tremaining: 33.3s\n1431:\tlearn: 0.0891593\ttotal: 11m 30s\tremaining: 32.8s\n1432:\tlearn: 0.0891177\ttotal: 11m 31s\tremaining: 32.3s\n1433:\tlearn: 0.0890575\ttotal: 11m 31s\tremaining: 31.8s\n1434:\tlearn: 0.0889843\ttotal: 11m 31s\tremaining: 31.3s\n1435:\tlearn: 0.0889105\ttotal: 11m 32s\tremaining: 30.9s\n1436:\tlearn: 0.0888360\ttotal: 11m 32s\tremaining: 30.4s\n1437:\tlearn: 0.0887706\ttotal: 11m 33s\tremaining: 29.9s\n1438:\tlearn: 0.0886766\ttotal: 11m 33s\tremaining: 29.4s\n1439:\tlearn: 0.0885762\ttotal: 11m 34s\tremaining: 28.9s\n1440:\tlearn: 0.0884666\ttotal: 11m 34s\tremaining: 28.5s\n1441:\tlearn: 0.0883755\ttotal: 11m 35s\tremaining: 28s\n1442:\tlearn: 0.0883261\ttotal: 11m 35s\tremaining: 27.5s\n1443:\tlearn: 0.0882544\ttotal: 11m 36s\tremaining: 27s\n1444:\tlearn: 0.0881523\ttotal: 11m 36s\tremaining: 26.5s\n1445:\tlearn: 0.0880901\ttotal: 11m 37s\tremaining: 26s\n1446:\tlearn: 0.0880260\ttotal: 11m 37s\tremaining: 25.6s\n1447:\tlearn: 0.0878818\ttotal: 11m 38s\tremaining: 25.1s\n1448:\tlearn: 0.0878246\ttotal: 11m 38s\tremaining: 24.6s\n1449:\tlearn: 0.0877797\ttotal: 11m 39s\tremaining: 24.1s\n1450:\tlearn: 0.0877152\ttotal: 11m 39s\tremaining: 23.6s\n1451:\tlearn: 0.0876617\ttotal: 11m 40s\tremaining: 23.2s\n1452:\tlearn: 0.0875238\ttotal: 11m 40s\tremaining: 22.7s\n1453:\tlearn: 0.0874453\ttotal: 11m 41s\tremaining: 22.2s\n1454:\tlearn: 0.0873360\ttotal: 11m 42s\tremaining: 21.7s\n1455:\tlearn: 0.0872387\ttotal: 11m 42s\tremaining: 21.2s\n1456:\tlearn: 0.0872061\ttotal: 11m 42s\tremaining: 20.7s\n1457:\tlearn: 0.0870362\ttotal: 11m 43s\tremaining: 20.3s\n1458:\tlearn: 0.0869711\ttotal: 11m 43s\tremaining: 19.8s\n1459:\tlearn: 0.0869014\ttotal: 11m 44s\tremaining: 19.3s\n1460:\tlearn: 0.0867802\ttotal: 11m 44s\tremaining: 18.8s\n1461:\tlearn: 0.0867086\ttotal: 11m 45s\tremaining: 18.3s\n1462:\tlearn: 0.0866305\ttotal: 11m 45s\tremaining: 17.9s\n1463:\tlearn: 0.0865245\ttotal: 11m 46s\tremaining: 17.4s\n1464:\tlearn: 0.0864272\ttotal: 11m 47s\tremaining: 16.9s\n1465:\tlearn: 0.0863463\ttotal: 11m 47s\tremaining: 16.4s\n1466:\tlearn: 0.0862502\ttotal: 11m 48s\tremaining: 15.9s\n1467:\tlearn: 0.0861891\ttotal: 11m 48s\tremaining: 15.4s\n1468:\tlearn: 0.0861126\ttotal: 11m 49s\tremaining: 15s\n1469:\tlearn: 0.0860219\ttotal: 11m 49s\tremaining: 14.5s\n1470:\tlearn: 0.0859475\ttotal: 11m 50s\tremaining: 14s\n1471:\tlearn: 0.0858893\ttotal: 11m 50s\tremaining: 13.5s\n1472:\tlearn: 0.0858047\ttotal: 11m 51s\tremaining: 13s\n1473:\tlearn: 0.0857033\ttotal: 11m 51s\tremaining: 12.6s\n1474:\tlearn: 0.0856303\ttotal: 11m 52s\tremaining: 12.1s\n1475:\tlearn: 0.0855665\ttotal: 11m 52s\tremaining: 11.6s\n1476:\tlearn: 0.0854662\ttotal: 11m 53s\tremaining: 11.1s\n1477:\tlearn: 0.0854002\ttotal: 11m 53s\tremaining: 10.6s\n1478:\tlearn: 0.0853302\ttotal: 11m 53s\tremaining: 10.1s\n1479:\tlearn: 0.0852671\ttotal: 11m 54s\tremaining: 9.65s\n1480:\tlearn: 0.0851230\ttotal: 11m 54s\tremaining: 9.17s\n1481:\tlearn: 0.0849852\ttotal: 11m 55s\tremaining: 8.69s\n1482:\tlearn: 0.0849398\ttotal: 11m 55s\tremaining: 8.21s\n1483:\tlearn: 0.0847946\ttotal: 11m 56s\tremaining: 7.72s\n1484:\tlearn: 0.0847246\ttotal: 11m 56s\tremaining: 7.24s\n1485:\tlearn: 0.0846509\ttotal: 11m 57s\tremaining: 6.76s\n1486:\tlearn: 0.0845522\ttotal: 11m 57s\tremaining: 6.28s\n1487:\tlearn: 0.0844931\ttotal: 11m 58s\tremaining: 5.79s\n1488:\tlearn: 0.0844435\ttotal: 11m 58s\tremaining: 5.31s\n1489:\tlearn: 0.0843236\ttotal: 11m 59s\tremaining: 4.83s\n1490:\tlearn: 0.0842219\ttotal: 12m\tremaining: 4.35s\n1491:\tlearn: 0.0840863\ttotal: 12m\tremaining: 3.87s\n1492:\tlearn: 0.0840399\ttotal: 12m 1s\tremaining: 3.38s\n1493:\tlearn: 0.0839660\ttotal: 12m 1s\tremaining: 2.9s\n1494:\tlearn: 0.0838755\ttotal: 12m 2s\tremaining: 2.42s\n1495:\tlearn: 0.0838103\ttotal: 12m 2s\tremaining: 1.93s\n1496:\tlearn: 0.0837114\ttotal: 12m 3s\tremaining: 1.45s\n1497:\tlearn: 0.0836278\ttotal: 12m 3s\tremaining: 966ms\n1498:\tlearn: 0.0835630\ttotal: 12m 4s\tremaining: 483ms\n1499:\tlearn: 0.0834989\ttotal: 12m 4s\tremaining: 0us\nCBoost Accuracy Score of train set->  95.23781764222687\n              precision    recall  f1-score   support\n\n           0       0.88      0.95      0.91     41247\n           1       0.65      0.59      0.62     12758\n           2       0.57      0.48      0.52      4592\n           3       0.48      0.32      0.39      1762\n           4       0.42      0.15      0.22       561\n           5       0.74      0.72      0.73      1618\n           6       0.59      0.38      0.46       230\n           7       0.52      0.28      0.36        80\n           8       0.40      0.17      0.24        23\n           9       0.78      0.25      0.38        28\n\n    accuracy                           0.81     62899\n   macro avg       0.60      0.43      0.48     62899\nweighted avg       0.79      0.81      0.80     62899\n\n",
     "output_type": "stream"
    }
   ]
  },
  {
   "cell_type": "code",
   "source": [
    "import pickle\n",
    "# pickle.dump(ct, open(\"encoder.pkl\", \"wb\"))\n",
    "# pickle.dump(reg, open(\"xgb_reg.pkl\", \"wb\"))\n",
    "pickle.dump(clf,open(\"cat.pkl\", \"wb\"))"
   ],
   "metadata": {
    "execution": {
     "iopub.status.busy": "2022-10-09T08:31:45.889119Z",
     "iopub.execute_input": "2022-10-09T08:31:45.889798Z",
     "iopub.status.idle": "2022-10-09T08:31:49.746871Z",
     "shell.execute_reply.started": "2022-10-09T08:31:45.889741Z",
     "shell.execute_reply": "2022-10-09T08:31:49.745724Z"
    },
    "trusted": true,
    "pycharm": {
     "name": "#%%\n"
    }
   },
   "execution_count": 76,
   "outputs": []
  },
  {
   "cell_type": "code",
   "source": [
    "def guess_price(number, model):\n",
    "    df = pd.DataFrame()\n",
    "    df['phone_number'] = [number[1:]]\n",
    "    df = removing_wrong_phone_number(df)\n",
    "    df = creating_10_feats_from_single_pos(df)\n",
    "    df = features_from_counting_numbers(df)\n",
    "    df = sim_nam_sinh(df)\n",
    "    df = symetric_4length_and_samesubtring_features(df)\n",
    "    df = combo_feat(df)\n",
    "    df = count_combo_features(df)\n",
    "    df = features_2_inden_and_2_lucky_last(df)\n",
    "    df = last_special_case(df)\n",
    "    df = features_from_sum(df)\n",
    "    df = creating_features_by_combine_pos(df)\n",
    "    df = sim_loc_phat(df)\n",
    "    df = double_3_last(df)\n",
    "    df = triple_2_last(df)\n",
    "    df = sim_6_last(df)\n",
    "    df = special_4_sim(df)\n",
    "    df = ong_dia(df)\n",
    "    df = special_6_last(df)\n",
    "    df = increasing_3_4(df)\n",
    "    df = check_easy_remember(df)\n",
    "    list_features = LIST_FEAT1 + LIST_FEAT2 + LIST_FEAT3 +  LIST_FEAT4 + LIST_FEAT5 + LIST_FEAT6 +LIST_FEAT9 + LIST_FEAT10\n",
    "    ans = model.predict(df[list_features])\n",
    " \n",
    "    if(ans == 0):\n",
    "        print(\"giá từ 0 đến 1,6tr vnd\")\n",
    "    elif ans == 1:\n",
    "        print(\"giá từ 1,6 đến 3,6tr vnd\")\n",
    "    elif ans == 2:\n",
    "        print(\"giá từ 3,6tr đến 6,5tr vnd\")\n",
    "    elif ans == 3:\n",
    "        print(\"giá từ 6,5tr đến 10,8tr vnd\")\n",
    "    elif ans == 4:\n",
    "        print(\"giá từ 10,8tr đến 15tr vnd\")\n",
    "    elif ans == 5:\n",
    "        print(\"giá từ 15tr đến 61tr vnd\")\n",
    "    elif ans == 6:\n",
    "        print(\"giá từ 61tr đến 150tr vnd\")\n",
    "    elif ans == 7:\n",
    "        print(\"giá từ 150tr đến 310tr vnd\")\n",
    "    elif ans == 8:\n",
    "        print(\"giá từ 310tr đến 530tr vnd\")\n",
    "    else:\n",
    "        print(\"giá hơn 530tr\")\n"
   ],
   "metadata": {
    "execution": {
     "iopub.status.busy": "2022-10-09T08:31:49.748366Z",
     "iopub.execute_input": "2022-10-09T08:31:49.748761Z",
     "iopub.status.idle": "2022-10-09T08:31:49.762767Z",
     "shell.execute_reply.started": "2022-10-09T08:31:49.748724Z",
     "shell.execute_reply": "2022-10-09T08:31:49.761857Z"
    },
    "trusted": true,
    "pycharm": {
     "name": "#%%\n"
    }
   },
   "execution_count": 77,
   "outputs": []
  },
  {
   "cell_type": "code",
   "source": [
    "import pickle\n",
    "a = pickle.load(open(\"./cat.pkl\", \"rb\"))\n",
    "# encoder = pickle.load(open(\"./encoder.pkl\", \"rb\"))"
   ],
   "metadata": {
    "execution": {
     "iopub.status.busy": "2022-10-09T08:31:49.764314Z",
     "iopub.execute_input": "2022-10-09T08:31:49.764691Z",
     "iopub.status.idle": "2022-10-09T08:31:51.491802Z",
     "shell.execute_reply.started": "2022-10-09T08:31:49.764654Z",
     "shell.execute_reply": "2022-10-09T08:31:51.490012Z"
    },
    "trusted": true,
    "pycharm": {
     "name": "#%%\n"
    }
   },
   "execution_count": 78,
   "outputs": []
  },
  {
   "cell_type": "code",
   "source": [
    "import time\n",
    "start_time = time.time()\n",
    "guess_price(\"0963126868\",a)\n",
    "print(\"run time is \" + str(time.time() - start_time))"
   ],
   "metadata": {
    "execution": {
     "iopub.status.busy": "2022-10-09T08:31:51.494006Z",
     "iopub.execute_input": "2022-10-09T08:31:51.495599Z",
     "iopub.status.idle": "2022-10-09T08:31:51.709273Z",
     "shell.execute_reply.started": "2022-10-09T08:31:51.495530Z",
     "shell.execute_reply": "2022-10-09T08:31:51.707941Z"
    },
    "trusted": true,
    "pycharm": {
     "name": "#%%\n"
    }
   },
   "execution_count": 79,
   "outputs": [
    {
     "name": "stdout",
     "text": "giá từ 15tr đến 61tr vnd\nrun time is 0.20430469512939453\n",
     "output_type": "stream"
    }
   ]
  },
  {
   "cell_type": "code",
   "source": [
    "# b = pickle.load(open(\"./cat.pkl\", \"rb\"))\n",
    "# encoder = pickle.load(open(\"./encoder.pkl\", \"rb\"))"
   ],
   "metadata": {
    "execution": {
     "iopub.status.busy": "2022-10-09T08:31:51.713748Z",
     "iopub.execute_input": "2022-10-09T08:31:51.714266Z",
     "iopub.status.idle": "2022-10-09T08:31:51.723427Z",
     "shell.execute_reply.started": "2022-10-09T08:31:51.714191Z",
     "shell.execute_reply": "2022-10-09T08:31:51.722172Z"
    },
    "trusted": true,
    "pycharm": {
     "name": "#%%\n"
    }
   },
   "execution_count": 80,
   "outputs": []
  },
  {
   "cell_type": "code",
   "source": [],
   "metadata": {
    "pycharm": {
     "name": "#%%\n"
    }
   },
   "execution_count": null,
   "outputs": []
  },
  {
   "cell_type": "code",
   "source": [],
   "metadata": {
    "pycharm": {
     "name": "#%%\n"
    }
   },
   "execution_count": null,
   "outputs": []
  },
  {
   "cell_type": "code",
   "source": [],
   "metadata": {
    "pycharm": {
     "name": "#%%\n"
    }
   },
   "execution_count": null,
   "outputs": []
  }
 ]
}