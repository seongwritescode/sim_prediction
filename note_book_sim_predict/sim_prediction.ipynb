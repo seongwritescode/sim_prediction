{
 "cells": [
  {
   "cell_type": "code",
   "execution_count": 2,
   "metadata": {
    "collapsed": true,
    "pycharm": {
     "name": "#%%\n"
    }
   },
   "outputs": [],
   "source": [
    "import pandas as pd\n",
    "import numpy as np\n",
    "import matplotlib.pyplot as plt\n",
    "from nltk.classify.maxent import MaxentClassifier\n",
    "from sklearn.model_selection import train_test_split\n",
    "import nltk\n",
    "from sklearn.metrics import classification_report\n",
    "from sklearn.metrics import accuracy_score\n",
    "from sklearn import preprocessing\n",
    "from sklearn.ensemble import RandomForestClassifier, RandomForestRegressor\n",
    "from sklearn.linear_model import LogisticRegression\n",
    "from sklearn.neural_network import MLPClassifier\n",
    "import math\n",
    "from sklearn.metrics import confusion_matrix\n",
    "from sklearn.metrics import plot_confusion_matrix\n",
    "import seaborn as sns\n",
    "import gc\n",
    "\n",
    "from catboost import CatBoostClassifier"
   ]
  },
  {
   "cell_type": "code",
   "execution_count": 3,
   "outputs": [],
   "source": [
    "import warnings\n",
    "warnings.filterwarnings(\"ignore\")"
   ],
   "metadata": {
    "collapsed": false,
    "pycharm": {
     "name": "#%%\n"
    }
   }
  },
  {
   "cell_type": "code",
   "execution_count": 4,
   "outputs": [],
   "source": [
    "from utils import Timer"
   ],
   "metadata": {
    "collapsed": false,
    "pycharm": {
     "name": "#%%\n"
    }
   }
  },
  {
   "cell_type": "code",
   "execution_count": 5,
   "outputs": [],
   "source": [
    "df = pd.read_csv('../data/train_data_1.csv')\n"
   ],
   "metadata": {
    "collapsed": false,
    "pycharm": {
     "name": "#%%\n"
    }
   }
  },
  {
   "cell_type": "code",
   "execution_count": 6,
   "outputs": [],
   "source": [
    "df_ = df[['phone_number','price_vnd']]"
   ],
   "metadata": {
    "collapsed": false,
    "pycharm": {
     "name": "#%%\n"
    }
   }
  },
  {
   "cell_type": "code",
   "execution_count": 7,
   "outputs": [],
   "source": [
    "del df"
   ],
   "metadata": {
    "collapsed": false,
    "pycharm": {
     "name": "#%%\n"
    }
   }
  },
  {
   "cell_type": "code",
   "execution_count": 8,
   "outputs": [
    {
     "data": {
      "text/plain": "        phone_number    price_vnd\n0          929956939    1250000.0\n1          835698567     750000.0\n2          528898768     550000.0\n3          834405505    1000000.0\n4          368465111    1150000.0\n...              ...          ...\n356441     899658678    5500000.0\n356442     913913355    4000000.0\n356443     919821994    5500000.0\n356444     768866555   10000000.0\n356445     899999789  195000000.0\n\n[356446 rows x 2 columns]",
      "text/html": "<div>\n<style scoped>\n    .dataframe tbody tr th:only-of-type {\n        vertical-align: middle;\n    }\n\n    .dataframe tbody tr th {\n        vertical-align: top;\n    }\n\n    .dataframe thead th {\n        text-align: right;\n    }\n</style>\n<table border=\"1\" class=\"dataframe\">\n  <thead>\n    <tr style=\"text-align: right;\">\n      <th></th>\n      <th>phone_number</th>\n      <th>price_vnd</th>\n    </tr>\n  </thead>\n  <tbody>\n    <tr>\n      <th>0</th>\n      <td>929956939</td>\n      <td>1250000.0</td>\n    </tr>\n    <tr>\n      <th>1</th>\n      <td>835698567</td>\n      <td>750000.0</td>\n    </tr>\n    <tr>\n      <th>2</th>\n      <td>528898768</td>\n      <td>550000.0</td>\n    </tr>\n    <tr>\n      <th>3</th>\n      <td>834405505</td>\n      <td>1000000.0</td>\n    </tr>\n    <tr>\n      <th>4</th>\n      <td>368465111</td>\n      <td>1150000.0</td>\n    </tr>\n    <tr>\n      <th>...</th>\n      <td>...</td>\n      <td>...</td>\n    </tr>\n    <tr>\n      <th>356441</th>\n      <td>899658678</td>\n      <td>5500000.0</td>\n    </tr>\n    <tr>\n      <th>356442</th>\n      <td>913913355</td>\n      <td>4000000.0</td>\n    </tr>\n    <tr>\n      <th>356443</th>\n      <td>919821994</td>\n      <td>5500000.0</td>\n    </tr>\n    <tr>\n      <th>356444</th>\n      <td>768866555</td>\n      <td>10000000.0</td>\n    </tr>\n    <tr>\n      <th>356445</th>\n      <td>899999789</td>\n      <td>195000000.0</td>\n    </tr>\n  </tbody>\n</table>\n<p>356446 rows × 2 columns</p>\n</div>"
     },
     "execution_count": 8,
     "metadata": {},
     "output_type": "execute_result"
    }
   ],
   "source": [
    "df_"
   ],
   "metadata": {
    "collapsed": false,
    "pycharm": {
     "name": "#%%\n"
    }
   }
  },
  {
   "cell_type": "code",
   "execution_count": 9,
   "outputs": [],
   "source": [
    "def creating_label(df):\n",
    "    price = np.array(df['price_vnd'])\n",
    "    label = []\n",
    "\n",
    "    for i in range(df.shape[0]):\n",
    "        if price[i] <= 1.6e6:\n",
    "            label.append(0)\n",
    "            continue\n",
    "        if price[i] <= 3.6e6:\n",
    "            label.append(1)\n",
    "            continue\n",
    "        if price[i] <= 6.5e6:\n",
    "            label.append(2)\n",
    "            continue\n",
    "        if price[i] <= 10.8e6:\n",
    "            label.append(3)\n",
    "            continue\n",
    "        if price[i] <= 1.5e7:\n",
    "            label.append(4)\n",
    "            continue\n",
    "        if price[i] <= 6.1e7:\n",
    "            label.append(5)\n",
    "            continue\n",
    "        if price[i] <= 1.5e8:\n",
    "            label.append(6)\n",
    "            continue\n",
    "        if price[i] <= 3.1e8:\n",
    "            label.append(7)\n",
    "            continue\n",
    "        if price[i] <= 5.3e8:\n",
    "            label.append(8)\n",
    "            continue\n",
    "\n",
    "        label.append(9)\n",
    "\n",
    "    df['label'] = label\n",
    "\n",
    "    return df\n"
   ],
   "metadata": {
    "collapsed": false,
    "pycharm": {
     "name": "#%%\n"
    }
   }
  },
  {
   "cell_type": "code",
   "execution_count": 10,
   "outputs": [],
   "source": [
    "df_ = creating_label(df_)"
   ],
   "metadata": {
    "collapsed": false,
    "pycharm": {
     "name": "#%%\n"
    }
   }
  },
  {
   "cell_type": "code",
   "execution_count": 11,
   "outputs": [
    {
     "data": {
      "text/plain": "0    150158\n1     80083\n2     54418\n3     24375\n5     18983\n4     18304\n6      5497\n9      2445\n7      1603\n8       580\nName: label, dtype: int64"
     },
     "execution_count": 11,
     "metadata": {},
     "output_type": "execute_result"
    }
   ],
   "source": [
    "df_['label'].value_counts()"
   ],
   "metadata": {
    "collapsed": false,
    "pycharm": {
     "name": "#%%\n"
    }
   }
  },
  {
   "cell_type": "code",
   "execution_count": 12,
   "outputs": [],
   "source": [
    "df_ = df_.astype({\n",
    "    'phone_number': 'str'\n",
    "})"
   ],
   "metadata": {
    "collapsed": false,
    "pycharm": {
     "name": "#%%\n"
    }
   }
  },
  {
   "cell_type": "code",
   "execution_count": 13,
   "outputs": [],
   "source": [
    "df_ = df_[df_['phone_number'].str.len() == 9]"
   ],
   "metadata": {
    "collapsed": false,
    "pycharm": {
     "name": "#%%\n"
    }
   }
  },
  {
   "cell_type": "code",
   "execution_count": 14,
   "outputs": [],
   "source": [
    "# df_label_high_2 = df_[df_['label'] > 1]\n",
    "# df_label_1 = df_[df_['label'] == 1].sample(80000)\n",
    "# df_label_0 = df_[df_['label'] == 0].sample(150000)"
   ],
   "metadata": {
    "collapsed": false,
    "pycharm": {
     "name": "#%%\n"
    }
   }
  },
  {
   "cell_type": "code",
   "execution_count": 15,
   "outputs": [],
   "source": [
    "# df_data = pd.concat([df_label_0, df_label_1, df_label_high_2])\n",
    "# del df_\n",
    "# df_ = df_data\n",
    "# df_.reset_index(inplace=True, drop=True)\n",
    "# del df_data"
   ],
   "metadata": {
    "collapsed": false,
    "pycharm": {
     "name": "#%%\n"
    }
   }
  },
  {
   "cell_type": "code",
   "execution_count": 16,
   "outputs": [
    {
     "data": {
      "text/plain": "       phone_number    price_vnd  label\n0         929956939    1250000.0      0\n1         835698567     750000.0      0\n2         528898768     550000.0      0\n3         834405505    1000000.0      0\n4         368465111    1150000.0      0\n...             ...          ...    ...\n356441    899658678    5500000.0      2\n356442    913913355    4000000.0      2\n356443    919821994    5500000.0      2\n356444    768866555   10000000.0      3\n356445    899999789  195000000.0      7\n\n[356446 rows x 3 columns]",
      "text/html": "<div>\n<style scoped>\n    .dataframe tbody tr th:only-of-type {\n        vertical-align: middle;\n    }\n\n    .dataframe tbody tr th {\n        vertical-align: top;\n    }\n\n    .dataframe thead th {\n        text-align: right;\n    }\n</style>\n<table border=\"1\" class=\"dataframe\">\n  <thead>\n    <tr style=\"text-align: right;\">\n      <th></th>\n      <th>phone_number</th>\n      <th>price_vnd</th>\n      <th>label</th>\n    </tr>\n  </thead>\n  <tbody>\n    <tr>\n      <th>0</th>\n      <td>929956939</td>\n      <td>1250000.0</td>\n      <td>0</td>\n    </tr>\n    <tr>\n      <th>1</th>\n      <td>835698567</td>\n      <td>750000.0</td>\n      <td>0</td>\n    </tr>\n    <tr>\n      <th>2</th>\n      <td>528898768</td>\n      <td>550000.0</td>\n      <td>0</td>\n    </tr>\n    <tr>\n      <th>3</th>\n      <td>834405505</td>\n      <td>1000000.0</td>\n      <td>0</td>\n    </tr>\n    <tr>\n      <th>4</th>\n      <td>368465111</td>\n      <td>1150000.0</td>\n      <td>0</td>\n    </tr>\n    <tr>\n      <th>...</th>\n      <td>...</td>\n      <td>...</td>\n      <td>...</td>\n    </tr>\n    <tr>\n      <th>356441</th>\n      <td>899658678</td>\n      <td>5500000.0</td>\n      <td>2</td>\n    </tr>\n    <tr>\n      <th>356442</th>\n      <td>913913355</td>\n      <td>4000000.0</td>\n      <td>2</td>\n    </tr>\n    <tr>\n      <th>356443</th>\n      <td>919821994</td>\n      <td>5500000.0</td>\n      <td>2</td>\n    </tr>\n    <tr>\n      <th>356444</th>\n      <td>768866555</td>\n      <td>10000000.0</td>\n      <td>3</td>\n    </tr>\n    <tr>\n      <th>356445</th>\n      <td>899999789</td>\n      <td>195000000.0</td>\n      <td>7</td>\n    </tr>\n  </tbody>\n</table>\n<p>356446 rows × 3 columns</p>\n</div>"
     },
     "execution_count": 16,
     "metadata": {},
     "output_type": "execute_result"
    }
   ],
   "source": [
    "df_"
   ],
   "metadata": {
    "collapsed": false,
    "pycharm": {
     "name": "#%%\n"
    }
   }
  },
  {
   "cell_type": "code",
   "execution_count": 16,
   "outputs": [],
   "source": [],
   "metadata": {
    "collapsed": false,
    "pycharm": {
     "name": "#%%\n"
    }
   }
  },
  {
   "cell_type": "code",
   "execution_count": 220,
   "outputs": [],
   "source": [
    "VIETTEL_HEAD_NUMBER = ['32','33','34','35','37','38','39','86','96','97','98']\n",
    "MOBI_HEAD_NUMBER = ['70','79','77','76','78','89','90','93']\n",
    "VINA_HEAD_NUMBER = ['81','84','85','82','83','94','91','88']\n",
    "VIETNAMMOBI_HEAD_NUMBER = ['56','58','92']\n",
    "GMOBILE = ['59','99']\n",
    "\n",
    "dict_list_combo = {\n",
    "    'LIST_COMBO_6_LOWER_5': ['000000','111111','222222','333333','444444'],\n",
    "    'LIST_COMBO_5_LOWER_5' : ['00000','11111','22222','33333','44444'],\n",
    "    'LIST_COMBO_4_LOWER_5 ':  ['0000','1111','2222','3333','4444'],\n",
    "    'LIST_COMBO_3_LOWER_5' : ['000','111','222','333','444','555','666','777','888','999'],\n",
    "    'LIST_COMBO_2_LOWER_5' :  ['00','11','22','33','44'],\n",
    "    'LIST_COMBO_6_HIGHER_5': ['555555','666666','777777','888888','999999'],\n",
    "    'LIST_COMBO_5_HIGHER_5':  ['55555','66666','77777','88888','99999'],\n",
    "    'LIST_COMBO_4_HIGHER_5':  ['5555','6666','7777','8888','9999'],\n",
    "    'LIST_COMBO_3_HIGHER_5':  ['555','666','777','888','999'],\n",
    "    'LIST_COMBO_2_HIGHER_5': ['55','66','77','88','99'],\n",
    "    'LIST_LUCKY_NUMBER' : ['68','86','78','79','39','38','83'],\n",
    "    'LIST_5_INCREASING': ['01234','12345','23456','34567','45678','56789','02468','13579'],\n",
    "    'LIST_4_INCREASING': ['0123','1234','2345','3456','4567','5678','6789','0246','1357','2468','3579','0369'],\n",
    "    'LIST_3_INCREASING': ['012','123','234','345','456','567','678','789','024','135','246','357','468','579','036','147','258','369','048','159'],\n",
    "}\n",
    "\n",
    "dict_than_tai_combo = {\n",
    "\n",
    "\n",
    "    'LIST_COMBO_4_THAN_TAI' : ['7997', '8998','7799', '8899','9779', '9889','7979','3939','3579'],\n",
    "    'LIST_TAXI_NUMBER': ['04','47','07'],\n",
    "    'LIST_COMBO_4_ONG_DIA': ['6666','3878'],\n",
    "    'LIST_COMBO_3_ONG_DIA': ['138','238','338','438','538','638','738','838','938'],\n",
    "    'LIST_COMBO_2_ONG_DIA': ['38','78'],\n",
    "    'LIST_COMBO_3_THAN_TAI': ['179','579','279','679','979','079','479','879','379'],\n",
    "    'LIST_COMBO_2_THAN_TAI': ['39','79'],\n",
    "    'LIST_COMBO_3_LOC_PHAT': ['6688','6868','6886', '8668'],\n",
    "    'LIST_COMBO_2_LOC_PHAT': ['68','86','88','66'],\n",
    "    'LIST_COMBO_SO_XAU': ['03','43','53','49','87','47']\n",
    "}"
   ],
   "metadata": {
    "collapsed": false,
    "pycharm": {
     "name": "#%%\n"
    }
   }
  },
  {
   "cell_type": "code",
   "execution_count": 295,
   "outputs": [],
   "source": [
    "class FeatureExtraction:\n",
    "    def __init__(self):\n",
    "\n",
    "        self.list_dai_cat = ['03','01','00','05','15','16','18','23','24','25','28','30','31','38','40','46','47','66','80','78']\n",
    "        self.dict_index = {\n",
    "            '0': False,\n",
    "            '1': False,\n",
    "            '2': False,\n",
    "            '3': False,\n",
    "            '4': False,\n",
    "            '5': False,\n",
    "            '6': False,\n",
    "            '7': False,\n",
    "            '8': False\n",
    "        }\n",
    "\n",
    "    def preprocessing(self, number):\n",
    "        _number = number\n",
    "        if len(number) == 11:\n",
    "            if number[0:2] == '84':\n",
    "                _number = number[2:]\n",
    "        elif number[0] == '0':\n",
    "            _number = number[1:]\n",
    "        return _number\n",
    "\n",
    "    def classification_tele(self, number ):\n",
    "        head_number = number[0:2]\n",
    "        if head_number in VIETTEL_HEAD_NUMBER:\n",
    "            return 'viettel'\n",
    "        elif head_number in MOBI_HEAD_NUMBER:\n",
    "            return 'mobi'\n",
    "        elif head_number in VINA_HEAD_NUMBER:\n",
    "            return 'vina'\n",
    "        elif head_number in GMOBILE:\n",
    "            return 'gmobile'\n",
    "        elif head_number in VIETNAMMOBI_HEAD_NUMBER:\n",
    "            return 'vietnammobile'\n",
    "        else:\n",
    "            return 'khác'\n",
    "\n",
    "    def _have_combo(self, number, list_combo, flag):\n",
    "        if not flag:\n",
    "            for ele in list_combo:\n",
    "                if ele in number:\n",
    "                    _idx = number.find(ele)\n",
    "                    if _idx > 0:\n",
    "                        if not self.dict_index[str(_idx)]:\n",
    "                            for i in range(len(ele)):\n",
    "                                self.dict_index[str(_idx+i)] = True\n",
    "                            return ele\n",
    "        else:\n",
    "            for ele in list_combo:\n",
    "                if ele in number:\n",
    "                    return ele\n",
    "        return 'no'\n",
    "\n",
    "    def have_combo(self, number, list_combo, flag=False):\n",
    "        flag = self._have_combo(number, list_combo, flag)\n",
    "        if flag != 'no':\n",
    "            return 'yes'\n",
    "        return 'no'\n",
    "\n",
    "\n",
    "\n",
    "    def number_combo(self, number, list_combo, flag=False):\n",
    "        flag = self._have_combo(number, list_combo, flag)\n",
    "        if flag != 'no':\n",
    "            return flag\n",
    "        return '-1'\n",
    "\n",
    "    def have_last_combo(self, number, list_combo, number_idx):\n",
    "        last_n_digits = number[-number_idx:]\n",
    "        if last_n_digits:\n",
    "            if last_n_digits in list_combo:\n",
    "                return 'yes'\n",
    "            return 'no'\n",
    "        else:\n",
    "            return 'no'\n",
    "\n",
    "    def last_combo(self,number, list_combo, number_idx):\n",
    "        last_n_digits = number[-number_idx:]\n",
    "        if last_n_digits:\n",
    "            if last_n_digits in list_combo:\n",
    "                return last_n_digits\n",
    "            return '-1'\n",
    "        else:\n",
    "            return '-1'\n",
    "\n",
    "    def have_repeat_2(self, number):\n",
    "        for idx in range(0, len(number)-3, 1):\n",
    "            idx_0 = idx\n",
    "            idx_1 = idx+1\n",
    "            idx_2 = idx+2\n",
    "            idx_3 = idx+3\n",
    "\n",
    "            str_abc = number[idx_0] + number[idx_1]\n",
    "            str_abc_2 = number[idx_2] + number[idx_3]\n",
    "            if str_abc == str_abc_2:\n",
    "                return 'yes'\n",
    "        return 'no'\n",
    "\n",
    "\n",
    "\n",
    "    def repeat_2(self, number):\n",
    "        for idx in range(0, len(number)-5, 1):\n",
    "            idx_0 = idx\n",
    "            idx_1 = idx+1\n",
    "            idx_2 = idx+2\n",
    "            idx_3 = idx+3\n",
    "\n",
    "            str_abc = number[idx_0] + number[idx_1]\n",
    "            str_abc_2 = number[idx_2] + number[idx_3]\n",
    "            if str_abc == str_abc_2:\n",
    "                return str_abc\n",
    "        return '-1'\n",
    "\n",
    "    def have_repeat_3(self, number):\n",
    "        for idx in range(0, len(number)-5, 1):\n",
    "            idx_0 = idx\n",
    "            idx_1 = idx+1\n",
    "            idx_2 = idx+2\n",
    "            idx_3 = idx+3\n",
    "            idx_4 = idx+4\n",
    "            idx_5 = idx+5\n",
    "            str_abc = number[idx_0] + number[idx_1] + number[idx_2]\n",
    "            str_abc_2 = number[idx_3] + number[idx_4] + number[idx_5]\n",
    "            if str_abc == str_abc_2:\n",
    "                return 'yes'\n",
    "        return 'no'\n",
    "\n",
    "    def repeat_3(self, number):\n",
    "        for idx in range(0, len(number)-5, 1):\n",
    "            idx_0 = idx\n",
    "            idx_1 = idx+1\n",
    "            idx_2 = idx+2\n",
    "            idx_3 = idx+3\n",
    "            idx_4 = idx+4\n",
    "            idx_5 = idx+5\n",
    "            str_abc = number[idx_0] + number[idx_1] + number[idx_2]\n",
    "            str_abc_2 = number[idx_3] + number[idx_4] + number[idx_5]\n",
    "            if str_abc == str_abc_2:\n",
    "                return str_abc\n",
    "        return '-1'\n",
    "\n",
    "    def have_repeat_ababab(self, number):\n",
    "        for idx in range(0, len(number)-5, 1):\n",
    "            idx_0 = idx\n",
    "            idx_1 = idx+1\n",
    "            idx_2 = idx+2\n",
    "            idx_3 = idx+3\n",
    "            idx_4 = idx+4\n",
    "            idx_5 = idx+5\n",
    "            str_ab = number[idx_0] + number[idx_1]\n",
    "            str_ab_2 = number[idx_2] + number[idx_3]\n",
    "            str_ab_3 = number[idx_4] + number[idx_5]\n",
    "            if str_ab == str_ab_2 and str_ab == str_ab_3:\n",
    "                return 'yes'\n",
    "        return 'no'\n",
    "    def repeat_ababab(self, number):\n",
    "        for idx in range(0, len(number)-5, 1):\n",
    "            idx_0 = idx\n",
    "            idx_1 = idx+1\n",
    "            idx_2 = idx+2\n",
    "            idx_3 = idx+3\n",
    "            idx_4 = idx+4\n",
    "            idx_5 = idx+5\n",
    "            str_ab = number[idx_0] + number[idx_1]\n",
    "            str_ab_2 = number[idx_2] + number[idx_3]\n",
    "            str_ab_3 = number[idx_4] + number[idx_5]\n",
    "            if str_ab == str_ab_2 and str_ab == str_ab_3:\n",
    "                return str_ab + str_ab_2 + str_ab_2\n",
    "        return '-1'\n",
    "\n",
    "    def have_repeat_abcdabcd(self, number):\n",
    "        for idx in range(0, len(number)-7, 1):\n",
    "            idx_0 = idx\n",
    "            idx_1 = idx+1\n",
    "            idx_2 = idx+2\n",
    "            idx_3 = idx+3\n",
    "            idx_4 = idx+4\n",
    "            idx_5 = idx+5\n",
    "            idx_6 = idx+6\n",
    "            idx_7 = idx+7\n",
    "            str_ab = number[idx_0] + number[idx_1] + number[idx_2] + number[idx_3]\n",
    "            str_ab_2 = number[idx_4] + number[idx_5] + number[idx_6] + number[idx_7]\n",
    "            if str_ab == str_ab_2:\n",
    "                return 'yes'\n",
    "        return 'no'\n",
    "\n",
    "    def repeat_abcdabcd(self, number):\n",
    "        for idx in range(0, len(number)-7, 1):\n",
    "            idx_0 = idx\n",
    "            idx_1 = idx+1\n",
    "            idx_2 = idx+2\n",
    "            idx_3 = idx+3\n",
    "            idx_4 = idx+4\n",
    "            idx_5 = idx+5\n",
    "            idx_6 = idx+6\n",
    "            idx_7 = idx+7\n",
    "            str_ab = number[idx_0] + number[idx_1] + number[idx_2] + number[idx_3]\n",
    "            str_ab_2 = number[idx_4] + number[idx_5] + number[idx_6] + number[idx_7]\n",
    "            if str_ab == str_ab_2:\n",
    "                return str_ab\n",
    "        return '-1'\n",
    "    def have_dual_sim_3(self, number):\n",
    "        for idx in range(0, len(number)-5, 1):\n",
    "            if (number[idx] == number[idx+1]) and (number[idx+2] == number[idx+3]) and (number[idx+4] == number[idx+5]):\n",
    "                return 'yes'\n",
    "        return 'no'\n",
    "\n",
    "    def dual_sim_3(self, number):\n",
    "        for idx in range(0, len(number)-5, 1):\n",
    "            if (number[idx] == number[idx+1]) and (number[idx+2] == number[idx+3]) and (number[idx+4] == number[idx+5]):\n",
    "                return number[idx:idx+5]\n",
    "        return '-1'\n",
    "\n",
    "    def have_double_combo(self, number, list_combo):\n",
    "        count = 0\n",
    "        for combo in list_combo:\n",
    "            if combo in number:\n",
    "                count += 1\n",
    "        if count == 2:\n",
    "            return 'yes'\n",
    "        else:\n",
    "            return 'no'\n",
    "\n",
    "    def double_combo(self, number, list_combo):\n",
    "        count = 0\n",
    "        double_combo = ''\n",
    "        for combo in list_combo:\n",
    "            if combo in number:\n",
    "                count += 1\n",
    "                double_combo += combo\n",
    "        if count == 2:\n",
    "            return double_combo\n",
    "        else:\n",
    "            return '-1'\n",
    "\n",
    "    def have_double_number(self, number):\n",
    "        for idx in range(0, len(number)-1,1):\n",
    "            str_numbers = number[idx] + number[idx+1]\n",
    "            for _idx in range(idx+2, len(number) -1, 1):\n",
    "                str_numbers_ss = number[_idx] + number[_idx+1]\n",
    "                if str_numbers == str_numbers_ss:\n",
    "                    return 'yes'\n",
    "        return 'no'\n",
    "\n",
    "    def double_number(self, number):\n",
    "        for idx in range(0, len(number)-1,1):\n",
    "            str_numbers = number[idx] + number[idx+1]\n",
    "            for _idx in range(idx+2, len(number) -1, 1):\n",
    "                str_numbers_ss = number[_idx] + number[_idx+1]\n",
    "                if str_numbers == str_numbers_ss:\n",
    "                    return str_numbers\n",
    "        return '-1'\n",
    "\n",
    "    def have_sim_ganh_dao(self, number):\n",
    "        idx = 1\n",
    "        type_ganh_dao = 0\n",
    "        flag = False\n",
    "        while not flag and idx < len(number) - 1:\n",
    "            if number[idx-1] == number[idx+1]:\n",
    "                type_ganh_dao = 1\n",
    "\n",
    "                if (idx > 2 and idx < len(number) - 2) and number[idx-2] == number[idx+2]:\n",
    "                    type_ganh_dao = 2\n",
    "                    flag = True\n",
    "            elif (idx > 2 and idx < len(number) - 2) and number[idx-1] == number[idx+2] and number[idx-2] == number[idx+1]:\n",
    "                type_ganh_dao = 3\n",
    "                flag = True\n",
    "            idx += 1\n",
    "        if type_ganh_dao == 0:\n",
    "            return 'khác'\n",
    "        elif type_ganh_dao == 1:\n",
    "            return 'ganh_dao_don'\n",
    "        elif type_ganh_dao == 2:\n",
    "            return 'ganh_dao_kep'\n",
    "        elif type_ganh_dao == 3:\n",
    "            return 'ganh_dao_kep_tien'\n",
    "\n",
    "    def sim_ganh_dao(self, number):\n",
    "        idx = 1\n",
    "        type_ganh_dao = 0\n",
    "        string_ganh_dao = 'khác'\n",
    "        flag = False\n",
    "        while not flag and idx < len(number) - 1:\n",
    "            if number[idx-1] == number[idx+1]:\n",
    "                string_ganh_dao = number[idx-1:idx+2]\n",
    "                if (idx > 2 and idx < len(number) - 2) and number[idx-2] == number[idx+2]:\n",
    "                    string_ganh_dao = number[idx-2:idx+3]\n",
    "                    flag = True\n",
    "            elif (idx > 2 and idx < len(number) - 2) and number[idx-1] == number[idx+2] and number[idx-2] == number[idx+1]:\n",
    "                string_ganh_dao = number[idx-2:idx+3]\n",
    "            idx += 1\n",
    "\n",
    "        return string_ganh_dao\n",
    "\n",
    "    def _dai_cat(self, number):\n",
    "        quotient_dai_cat = int(number[-3:]) / 80\n",
    "        decimal_dai_cat = quotient_dai_cat - int(quotient_dai_cat)\n",
    "        int_dai_cat = decimal_dai_cat * 80\n",
    "        if int_dai_cat in self.list_dai_cat:\n",
    "            return True\n",
    "        return False\n",
    "\n",
    "    def have_dai_cat(self, number):\n",
    "        if self._dai_cat(number):\n",
    "            return 'yes'\n",
    "        return 'no'\n",
    "\n",
    "    def have_year_born(self, number):\n",
    "        last_4_th = number[-4:]\n",
    "        if 1940 <= int(last_4_th) <= 2022:\n",
    "            return 'yes'\n",
    "        return 'no'\n",
    "\n",
    "    def year_born(self, number):\n",
    "        last_4_th = number[-4:]\n",
    "        if 1940 <= int(last_4_th) <= 2022:\n",
    "            return last_4_th\n",
    "        return '-1'\n",
    "\n",
    "    def have_sim_dao(self, number):\n",
    "        for idx in range(1, len(number) - 2, 1):\n",
    "            if number[idx] == number[idx+1] and number[idx-1] == number[idx+2]:\n",
    "                return 'yes'\n",
    "        return 'no'\n",
    "\n",
    "    def sim_dao(self, number):\n",
    "        str_sim_dao = '-1'\n",
    "        for idx in range(1, len(number) - 2, 1):\n",
    "            if number[idx] == number[idx+1] and number[idx-1] == number[idx+2]:\n",
    "                str_sim_dao = number[idx-1:idx+3]\n",
    "        return str_sim_dao\n",
    "\n",
    "    def feature_extract(self, _number):\n",
    "        number = str(_number)\n",
    "        dict_feature = {}\n",
    "        number = self.preprocessing(number)\n",
    "\n",
    "        dict_feature['tele'] = self.classification_tele(number)\n",
    "        dict_feature['heads'] = number[0:2]\n",
    "        dict_feature['last_2'] = number[-2:]\n",
    "        dict_feature['last_3'] = number[-3:]\n",
    "        feature_combo = '2'\n",
    "        for index in range(len(number)):\n",
    "\n",
    "            dict_feature['index_{}'.format(index)] = number[index]\n",
    "\n",
    "\n",
    "        _set_list = set(number[1:])\n",
    "        dict_feature['count_number'] = len(_set_list)\n",
    "\n",
    "        for key, value in dict_list_combo.items():\n",
    "            len_number = len(value[0])\n",
    "            if 'LIST' in key:\n",
    "                feature_name = str.lower(key[5:])\n",
    "            else:\n",
    "                feature_name = str.lower(key)\n",
    "            dict_feature['have_last_{}'.format(feature_name)] = self.have_last_combo(number, value, len_number)\n",
    "            dict_feature['last_{}'.format(feature_name)] = self.last_combo(number,value, len_number)\n",
    "            if dict_feature['have_last_{}'.format(feature_name)] == 'no':\n",
    "                dict_feature['have_{}'.format(feature_name)] = self.have_combo(number, value, flag=True)\n",
    "                dict_feature['{}'.format(feature_name)] = self.number_combo(number, value, flag=True)\n",
    "            else:\n",
    "                dict_feature['have_{}'.format(feature_name)] = 'no'\n",
    "                dict_feature['{}'.format(feature_name)] = '-1'\n",
    "        flag_than_tai = 0\n",
    "        for k, v in dict_than_tai_combo.items():\n",
    "            len_number = len(v[0])\n",
    "            if 'LIST' in k:\n",
    "                feature_name = str.lower(k[5:])\n",
    "            else:\n",
    "                feature_name = str.lower(k)\n",
    "            if flag_than_tai == 0:\n",
    "                dict_feature['have_last_{}'.format(feature_name)] = self.have_last_combo(number, v, len_number)\n",
    "                dict_feature['last_{}'.format(feature_name)] = self.last_combo(number,v, len_number)\n",
    "                if dict_feature['have_last_{}'.format(feature_name)] != 'no':\n",
    "                    flag_than_tai = 1\n",
    "            else:\n",
    "                dict_feature['have_last_{}'.format(feature_name)] = 'no'\n",
    "                dict_feature['last_{}'.format(feature_name)] = '-1'\n",
    "\n",
    "\n",
    "\n",
    "        dict_feature['have_repeat_2'] = self.have_repeat_2(number)\n",
    "        dict_feature['repeat_2'] = self.repeat_2(number)\n",
    "        dict_feature['have_repeat_3'] = self.have_repeat_3(number)\n",
    "        dict_feature['repeat_3'] = self.repeat_3(number)\n",
    "\n",
    "\n",
    "\n",
    "        dict_feature['have_repeat_ababab'] = self.have_repeat_ababab(number)\n",
    "        dict_feature['repeat_ababab'] = self.repeat_ababab(number)\n",
    "\n",
    "\n",
    "\n",
    "        dict_feature['have_repeat_abcdabcd'] = self.have_repeat_abcdabcd(number)\n",
    "        dict_feature['repeat_abcdabcd'] = self.repeat_abcdabcd(number)\n",
    "        dict_feature['have_dual_sim_3'] = self.have_dual_sim_3(number)\n",
    "        dict_feature['dual_sim_3'] = self.dual_sim_3(number)\n",
    "\n",
    "        dict_feature['have_double_combo'] = self.have_double_combo(number, dict_list_combo['LIST_COMBO_2_LOWER_5'])\n",
    "        dict_feature['double_combo'] = self.double_combo(number, dict_list_combo['LIST_COMBO_2_LOWER_5'])\n",
    "\n",
    "        dict_feature['have_double_combo_higher_5'] = self.have_double_combo(number, dict_list_combo['LIST_COMBO_2_HIGHER_5'])\n",
    "        dict_feature['double_combo_higher_5'] = self.double_combo(number, dict_list_combo['LIST_COMBO_2_HIGHER_5'])\n",
    "\n",
    "        dict_feature['have_double_combo_3'] = self.have_double_combo(number, dict_list_combo['LIST_COMBO_3_LOWER_5'])\n",
    "        dict_feature['double_combo_3'] = self.double_combo(number, dict_list_combo['LIST_COMBO_3_LOWER_5'])\n",
    "\n",
    "        dict_feature['have_double_combo_3_higher_5'] = self.have_double_combo(number, dict_list_combo['LIST_COMBO_3_HIGHER_5'])\n",
    "        dict_feature['double_combo_3_higher_5'] = self.double_combo(number, dict_list_combo['LIST_COMBO_3_HIGHER_5'])\n",
    "\n",
    "        dict_feature['have_double_combo_3_taxi'] = self.have_double_combo(number, dict_than_tai_combo['LIST_TAXI_NUMBER'])\n",
    "        dict_feature['double_combo_3_taxi'] = self.double_combo(number, dict_than_tai_combo['LIST_TAXI_NUMBER'])\n",
    "\n",
    "        dict_feature['have_double_phat_loc'] =self.have_double_combo(number, dict_than_tai_combo['LIST_COMBO_2_LOC_PHAT'])\n",
    "        dict_feature['double_phat_loc'] = self.double_combo(number, dict_than_tai_combo['LIST_COMBO_2_LOC_PHAT'])\n",
    "\n",
    "        dict_feature['have_double_number'] = self.have_double_number(number)\n",
    "        dict_feature['double_number'] = self.double_number(number)\n",
    "        dict_feature['have_sim_ganh_dao'] = self.have_sim_ganh_dao(number[1:])\n",
    "        dict_feature['sim_ganh_dao'] = self.sim_ganh_dao(number[1:])\n",
    "        dict_feature['have_year_born'] = self.have_year_born(number)\n",
    "        dict_feature['year_born'] = self.year_born(number)\n",
    "        dict_feature['have_sim_dao'] = self.have_sim_dao(number[1:])\n",
    "        dict_feature['sim_dao'] = self.sim_dao(number[1:])\n",
    "        dict_feature['dai_cat'] = self.have_dai_cat(number)\n",
    "        return dict_feature\n"
   ],
   "metadata": {
    "collapsed": false,
    "pycharm": {
     "name": "#%%\n"
    }
   }
  },
  {
   "cell_type": "code",
   "execution_count": 324,
   "outputs": [
    {
     "ename": "ImportError",
     "evalue": "cannot import name '_ClassNamePrefixFeaturesOutMixin' from 'sklearn.base' (C:\\Users\\thinhnd\\miniconda3\\envs\\py3.8\\lib\\site-packages\\sklearn\\base.py)",
     "output_type": "error",
     "traceback": [
      "\u001B[1;31m---------------------------------------------------------------------------\u001B[0m",
      "\u001B[1;31mImportError\u001B[0m                               Traceback (most recent call last)",
      "Input \u001B[1;32mIn [324]\u001B[0m, in \u001B[0;36m<cell line: 1>\u001B[1;34m()\u001B[0m\n\u001B[1;32m----> 1\u001B[0m \u001B[38;5;28;01mfrom\u001B[39;00m \u001B[38;5;21;01mimblearn\u001B[39;00m\u001B[38;5;21;01m.\u001B[39;00m\u001B[38;5;21;01mover_sampling\u001B[39;00m \u001B[38;5;28;01mimport\u001B[39;00m SMOTE\n\u001B[0;32m      2\u001B[0m oversample \u001B[38;5;241m=\u001B[39m SMOTE()\n",
      "File \u001B[1;32m~\\miniconda3\\envs\\py3.8\\lib\\site-packages\\imblearn\\__init__.py:52\u001B[0m, in \u001B[0;36m<module>\u001B[1;34m\u001B[0m\n\u001B[0;32m     48\u001B[0m     sys\u001B[38;5;241m.\u001B[39mstderr\u001B[38;5;241m.\u001B[39mwrite(\u001B[38;5;124m\"\u001B[39m\u001B[38;5;124mPartial import of imblearn during the build process.\u001B[39m\u001B[38;5;130;01m\\n\u001B[39;00m\u001B[38;5;124m\"\u001B[39m)\n\u001B[0;32m     49\u001B[0m     \u001B[38;5;66;03m# We are not importing the rest of scikit-learn during the build\u001B[39;00m\n\u001B[0;32m     50\u001B[0m     \u001B[38;5;66;03m# process, as it may not be compiled yet\u001B[39;00m\n\u001B[0;32m     51\u001B[0m \u001B[38;5;28;01melse\u001B[39;00m:\n\u001B[1;32m---> 52\u001B[0m     \u001B[38;5;28;01mfrom\u001B[39;00m \u001B[38;5;21;01m.\u001B[39;00m \u001B[38;5;28;01mimport\u001B[39;00m combine\n\u001B[0;32m     53\u001B[0m     \u001B[38;5;28;01mfrom\u001B[39;00m \u001B[38;5;21;01m.\u001B[39;00m \u001B[38;5;28;01mimport\u001B[39;00m ensemble\n\u001B[0;32m     54\u001B[0m     \u001B[38;5;28;01mfrom\u001B[39;00m \u001B[38;5;21;01m.\u001B[39;00m \u001B[38;5;28;01mimport\u001B[39;00m exceptions\n",
      "File \u001B[1;32m~\\miniconda3\\envs\\py3.8\\lib\\site-packages\\imblearn\\combine\\__init__.py:5\u001B[0m, in \u001B[0;36m<module>\u001B[1;34m\u001B[0m\n\u001B[0;32m      1\u001B[0m \u001B[38;5;124;03m\"\"\"The :mod:`imblearn.combine` provides methods which combine\u001B[39;00m\n\u001B[0;32m      2\u001B[0m \u001B[38;5;124;03mover-sampling and under-sampling.\u001B[39;00m\n\u001B[0;32m      3\u001B[0m \u001B[38;5;124;03m\"\"\"\u001B[39;00m\n\u001B[1;32m----> 5\u001B[0m \u001B[38;5;28;01mfrom\u001B[39;00m \u001B[38;5;21;01m.\u001B[39;00m\u001B[38;5;21;01m_smote_enn\u001B[39;00m \u001B[38;5;28;01mimport\u001B[39;00m SMOTEENN\n\u001B[0;32m      6\u001B[0m \u001B[38;5;28;01mfrom\u001B[39;00m \u001B[38;5;21;01m.\u001B[39;00m\u001B[38;5;21;01m_smote_tomek\u001B[39;00m \u001B[38;5;28;01mimport\u001B[39;00m SMOTETomek\n\u001B[0;32m      8\u001B[0m __all__ \u001B[38;5;241m=\u001B[39m [\u001B[38;5;124m\"\u001B[39m\u001B[38;5;124mSMOTEENN\u001B[39m\u001B[38;5;124m\"\u001B[39m, \u001B[38;5;124m\"\u001B[39m\u001B[38;5;124mSMOTETomek\u001B[39m\u001B[38;5;124m\"\u001B[39m]\n",
      "File \u001B[1;32m~\\miniconda3\\envs\\py3.8\\lib\\site-packages\\imblearn\\combine\\_smote_enn.py:11\u001B[0m, in \u001B[0;36m<module>\u001B[1;34m\u001B[0m\n\u001B[0;32m      8\u001B[0m \u001B[38;5;28;01mfrom\u001B[39;00m \u001B[38;5;21;01msklearn\u001B[39;00m\u001B[38;5;21;01m.\u001B[39;00m\u001B[38;5;21;01mutils\u001B[39;00m \u001B[38;5;28;01mimport\u001B[39;00m check_X_y\n\u001B[0;32m     10\u001B[0m \u001B[38;5;28;01mfrom\u001B[39;00m \u001B[38;5;21;01m.\u001B[39;00m\u001B[38;5;21;01m.\u001B[39;00m\u001B[38;5;21;01mbase\u001B[39;00m \u001B[38;5;28;01mimport\u001B[39;00m BaseSampler\n\u001B[1;32m---> 11\u001B[0m \u001B[38;5;28;01mfrom\u001B[39;00m \u001B[38;5;21;01m.\u001B[39;00m\u001B[38;5;21;01m.\u001B[39;00m\u001B[38;5;21;01mover_sampling\u001B[39;00m \u001B[38;5;28;01mimport\u001B[39;00m SMOTE\n\u001B[0;32m     12\u001B[0m \u001B[38;5;28;01mfrom\u001B[39;00m \u001B[38;5;21;01m.\u001B[39;00m\u001B[38;5;21;01m.\u001B[39;00m\u001B[38;5;21;01mover_sampling\u001B[39;00m\u001B[38;5;21;01m.\u001B[39;00m\u001B[38;5;21;01mbase\u001B[39;00m \u001B[38;5;28;01mimport\u001B[39;00m BaseOverSampler\n\u001B[0;32m     13\u001B[0m \u001B[38;5;28;01mfrom\u001B[39;00m \u001B[38;5;21;01m.\u001B[39;00m\u001B[38;5;21;01m.\u001B[39;00m\u001B[38;5;21;01munder_sampling\u001B[39;00m \u001B[38;5;28;01mimport\u001B[39;00m EditedNearestNeighbours\n",
      "File \u001B[1;32m~\\miniconda3\\envs\\py3.8\\lib\\site-packages\\imblearn\\over_sampling\\__init__.py:8\u001B[0m, in \u001B[0;36m<module>\u001B[1;34m\u001B[0m\n\u001B[0;32m      6\u001B[0m \u001B[38;5;28;01mfrom\u001B[39;00m \u001B[38;5;21;01m.\u001B[39;00m\u001B[38;5;21;01m_adasyn\u001B[39;00m \u001B[38;5;28;01mimport\u001B[39;00m ADASYN\n\u001B[0;32m      7\u001B[0m \u001B[38;5;28;01mfrom\u001B[39;00m \u001B[38;5;21;01m.\u001B[39;00m\u001B[38;5;21;01m_random_over_sampler\u001B[39;00m \u001B[38;5;28;01mimport\u001B[39;00m RandomOverSampler\n\u001B[1;32m----> 8\u001B[0m \u001B[38;5;28;01mfrom\u001B[39;00m \u001B[38;5;21;01m.\u001B[39;00m\u001B[38;5;21;01m_smote\u001B[39;00m \u001B[38;5;28;01mimport\u001B[39;00m SMOTE\n\u001B[0;32m      9\u001B[0m \u001B[38;5;28;01mfrom\u001B[39;00m \u001B[38;5;21;01m.\u001B[39;00m\u001B[38;5;21;01m_smote\u001B[39;00m \u001B[38;5;28;01mimport\u001B[39;00m BorderlineSMOTE\n\u001B[0;32m     10\u001B[0m \u001B[38;5;28;01mfrom\u001B[39;00m \u001B[38;5;21;01m.\u001B[39;00m\u001B[38;5;21;01m_smote\u001B[39;00m \u001B[38;5;28;01mimport\u001B[39;00m KMeansSMOTE\n",
      "File \u001B[1;32m~\\miniconda3\\envs\\py3.8\\lib\\site-packages\\imblearn\\over_sampling\\_smote\\__init__.py:5\u001B[0m, in \u001B[0;36m<module>\u001B[1;34m\u001B[0m\n\u001B[0;32m      2\u001B[0m \u001B[38;5;28;01mfrom\u001B[39;00m \u001B[38;5;21;01m.\u001B[39;00m\u001B[38;5;21;01mbase\u001B[39;00m \u001B[38;5;28;01mimport\u001B[39;00m SMOTEN\n\u001B[0;32m      3\u001B[0m \u001B[38;5;28;01mfrom\u001B[39;00m \u001B[38;5;21;01m.\u001B[39;00m\u001B[38;5;21;01mbase\u001B[39;00m \u001B[38;5;28;01mimport\u001B[39;00m SMOTENC\n\u001B[1;32m----> 5\u001B[0m \u001B[38;5;28;01mfrom\u001B[39;00m \u001B[38;5;21;01m.\u001B[39;00m\u001B[38;5;21;01mcluster\u001B[39;00m \u001B[38;5;28;01mimport\u001B[39;00m KMeansSMOTE\n\u001B[0;32m      7\u001B[0m \u001B[38;5;28;01mfrom\u001B[39;00m \u001B[38;5;21;01m.\u001B[39;00m\u001B[38;5;21;01mfilter\u001B[39;00m \u001B[38;5;28;01mimport\u001B[39;00m BorderlineSMOTE\n\u001B[0;32m      8\u001B[0m \u001B[38;5;28;01mfrom\u001B[39;00m \u001B[38;5;21;01m.\u001B[39;00m\u001B[38;5;21;01mfilter\u001B[39;00m \u001B[38;5;28;01mimport\u001B[39;00m SVMSMOTE\n",
      "File \u001B[1;32m~\\miniconda3\\envs\\py3.8\\lib\\site-packages\\imblearn\\over_sampling\\_smote\\cluster.py:14\u001B[0m, in \u001B[0;36m<module>\u001B[1;34m\u001B[0m\n\u001B[0;32m     11\u001B[0m \u001B[38;5;28;01mfrom\u001B[39;00m \u001B[38;5;21;01mscipy\u001B[39;00m \u001B[38;5;28;01mimport\u001B[39;00m sparse\n\u001B[0;32m     13\u001B[0m \u001B[38;5;28;01mfrom\u001B[39;00m \u001B[38;5;21;01msklearn\u001B[39;00m\u001B[38;5;21;01m.\u001B[39;00m\u001B[38;5;21;01mbase\u001B[39;00m \u001B[38;5;28;01mimport\u001B[39;00m clone\n\u001B[1;32m---> 14\u001B[0m \u001B[38;5;28;01mfrom\u001B[39;00m \u001B[38;5;21;01msklearn\u001B[39;00m\u001B[38;5;21;01m.\u001B[39;00m\u001B[38;5;21;01mcluster\u001B[39;00m \u001B[38;5;28;01mimport\u001B[39;00m MiniBatchKMeans\n\u001B[0;32m     15\u001B[0m \u001B[38;5;28;01mfrom\u001B[39;00m \u001B[38;5;21;01msklearn\u001B[39;00m\u001B[38;5;21;01m.\u001B[39;00m\u001B[38;5;21;01mmetrics\u001B[39;00m \u001B[38;5;28;01mimport\u001B[39;00m pairwise_distances\n\u001B[0;32m     16\u001B[0m \u001B[38;5;28;01mfrom\u001B[39;00m \u001B[38;5;21;01msklearn\u001B[39;00m\u001B[38;5;21;01m.\u001B[39;00m\u001B[38;5;21;01mutils\u001B[39;00m \u001B[38;5;28;01mimport\u001B[39;00m _safe_indexing\n",
      "File \u001B[1;32m~\\miniconda3\\envs\\py3.8\\lib\\site-packages\\sklearn\\cluster\\__init__.py:6\u001B[0m, in \u001B[0;36m<module>\u001B[1;34m\u001B[0m\n\u001B[0;32m      1\u001B[0m \u001B[38;5;124;03m\"\"\"\u001B[39;00m\n\u001B[0;32m      2\u001B[0m \u001B[38;5;124;03mThe :mod:`sklearn.cluster` module gathers popular unsupervised clustering\u001B[39;00m\n\u001B[0;32m      3\u001B[0m \u001B[38;5;124;03malgorithms.\u001B[39;00m\n\u001B[0;32m      4\u001B[0m \u001B[38;5;124;03m\"\"\"\u001B[39;00m\n\u001B[1;32m----> 6\u001B[0m \u001B[38;5;28;01mfrom\u001B[39;00m \u001B[38;5;21;01m.\u001B[39;00m\u001B[38;5;21;01m_spectral\u001B[39;00m \u001B[38;5;28;01mimport\u001B[39;00m spectral_clustering, SpectralClustering\n\u001B[0;32m      7\u001B[0m \u001B[38;5;28;01mfrom\u001B[39;00m \u001B[38;5;21;01m.\u001B[39;00m\u001B[38;5;21;01m_mean_shift\u001B[39;00m \u001B[38;5;28;01mimport\u001B[39;00m mean_shift, MeanShift, estimate_bandwidth, get_bin_seeds\n\u001B[0;32m      8\u001B[0m \u001B[38;5;28;01mfrom\u001B[39;00m \u001B[38;5;21;01m.\u001B[39;00m\u001B[38;5;21;01m_affinity_propagation\u001B[39;00m \u001B[38;5;28;01mimport\u001B[39;00m affinity_propagation, AffinityPropagation\n",
      "File \u001B[1;32m~\\miniconda3\\envs\\py3.8\\lib\\site-packages\\sklearn\\cluster\\_spectral.py:21\u001B[0m, in \u001B[0;36m<module>\u001B[1;34m\u001B[0m\n\u001B[0;32m     19\u001B[0m \u001B[38;5;28;01mfrom\u001B[39;00m \u001B[38;5;21;01m.\u001B[39;00m\u001B[38;5;21;01m.\u001B[39;00m\u001B[38;5;21;01mmetrics\u001B[39;00m\u001B[38;5;21;01m.\u001B[39;00m\u001B[38;5;21;01mpairwise\u001B[39;00m \u001B[38;5;28;01mimport\u001B[39;00m pairwise_kernels\n\u001B[0;32m     20\u001B[0m \u001B[38;5;28;01mfrom\u001B[39;00m \u001B[38;5;21;01m.\u001B[39;00m\u001B[38;5;21;01m.\u001B[39;00m\u001B[38;5;21;01mneighbors\u001B[39;00m \u001B[38;5;28;01mimport\u001B[39;00m kneighbors_graph, NearestNeighbors\n\u001B[1;32m---> 21\u001B[0m \u001B[38;5;28;01mfrom\u001B[39;00m \u001B[38;5;21;01m.\u001B[39;00m\u001B[38;5;21;01m.\u001B[39;00m\u001B[38;5;21;01mmanifold\u001B[39;00m \u001B[38;5;28;01mimport\u001B[39;00m spectral_embedding\n\u001B[0;32m     22\u001B[0m \u001B[38;5;28;01mfrom\u001B[39;00m \u001B[38;5;21;01m.\u001B[39;00m\u001B[38;5;21;01m_kmeans\u001B[39;00m \u001B[38;5;28;01mimport\u001B[39;00m k_means\n\u001B[0;32m     25\u001B[0m \u001B[38;5;28;01mdef\u001B[39;00m \u001B[38;5;21mcluster_qr\u001B[39m(vectors):\n",
      "File \u001B[1;32m~\\miniconda3\\envs\\py3.8\\lib\\site-packages\\sklearn\\manifold\\__init__.py:5\u001B[0m, in \u001B[0;36m<module>\u001B[1;34m\u001B[0m\n\u001B[0;32m      1\u001B[0m \u001B[38;5;124;03m\"\"\"\u001B[39;00m\n\u001B[0;32m      2\u001B[0m \u001B[38;5;124;03mThe :mod:`sklearn.manifold` module implements data embedding techniques.\u001B[39;00m\n\u001B[0;32m      3\u001B[0m \u001B[38;5;124;03m\"\"\"\u001B[39;00m\n\u001B[1;32m----> 5\u001B[0m \u001B[38;5;28;01mfrom\u001B[39;00m \u001B[38;5;21;01m.\u001B[39;00m\u001B[38;5;21;01m_locally_linear\u001B[39;00m \u001B[38;5;28;01mimport\u001B[39;00m locally_linear_embedding, LocallyLinearEmbedding\n\u001B[0;32m      6\u001B[0m \u001B[38;5;28;01mfrom\u001B[39;00m \u001B[38;5;21;01m.\u001B[39;00m\u001B[38;5;21;01m_isomap\u001B[39;00m \u001B[38;5;28;01mimport\u001B[39;00m Isomap\n\u001B[0;32m      7\u001B[0m \u001B[38;5;28;01mfrom\u001B[39;00m \u001B[38;5;21;01m.\u001B[39;00m\u001B[38;5;21;01m_mds\u001B[39;00m \u001B[38;5;28;01mimport\u001B[39;00m MDS, smacof\n",
      "File \u001B[1;32m~\\miniconda3\\envs\\py3.8\\lib\\site-packages\\sklearn\\manifold\\_locally_linear.py:12\u001B[0m, in \u001B[0;36m<module>\u001B[1;34m\u001B[0m\n\u001B[0;32m      9\u001B[0m \u001B[38;5;28;01mfrom\u001B[39;00m \u001B[38;5;21;01mscipy\u001B[39;00m\u001B[38;5;21;01m.\u001B[39;00m\u001B[38;5;21;01msparse\u001B[39;00m \u001B[38;5;28;01mimport\u001B[39;00m eye, csr_matrix\n\u001B[0;32m     10\u001B[0m \u001B[38;5;28;01mfrom\u001B[39;00m \u001B[38;5;21;01mscipy\u001B[39;00m\u001B[38;5;21;01m.\u001B[39;00m\u001B[38;5;21;01msparse\u001B[39;00m\u001B[38;5;21;01m.\u001B[39;00m\u001B[38;5;21;01mlinalg\u001B[39;00m \u001B[38;5;28;01mimport\u001B[39;00m eigsh\n\u001B[1;32m---> 12\u001B[0m \u001B[38;5;28;01mfrom\u001B[39;00m \u001B[38;5;21;01m.\u001B[39;00m\u001B[38;5;21;01m.\u001B[39;00m\u001B[38;5;21;01mbase\u001B[39;00m \u001B[38;5;28;01mimport\u001B[39;00m (\n\u001B[0;32m     13\u001B[0m     BaseEstimator,\n\u001B[0;32m     14\u001B[0m     TransformerMixin,\n\u001B[0;32m     15\u001B[0m     _UnstableArchMixin,\n\u001B[0;32m     16\u001B[0m     _ClassNamePrefixFeaturesOutMixin,\n\u001B[0;32m     17\u001B[0m )\n\u001B[0;32m     18\u001B[0m \u001B[38;5;28;01mfrom\u001B[39;00m \u001B[38;5;21;01m.\u001B[39;00m\u001B[38;5;21;01m.\u001B[39;00m\u001B[38;5;21;01mutils\u001B[39;00m \u001B[38;5;28;01mimport\u001B[39;00m check_random_state, check_array\n\u001B[0;32m     19\u001B[0m \u001B[38;5;28;01mfrom\u001B[39;00m \u001B[38;5;21;01m.\u001B[39;00m\u001B[38;5;21;01m.\u001B[39;00m\u001B[38;5;21;01mutils\u001B[39;00m\u001B[38;5;21;01m.\u001B[39;00m\u001B[38;5;21;01m_arpack\u001B[39;00m \u001B[38;5;28;01mimport\u001B[39;00m _init_arpack_v0\n",
      "\u001B[1;31mImportError\u001B[0m: cannot import name '_ClassNamePrefixFeaturesOutMixin' from 'sklearn.base' (C:\\Users\\thinhnd\\miniconda3\\envs\\py3.8\\lib\\site-packages\\sklearn\\base.py)"
     ]
    }
   ],
   "source": [],
   "metadata": {
    "collapsed": false,
    "pycharm": {
     "name": "#%%\n"
    }
   }
  },
  {
   "cell_type": "code",
   "execution_count": 296,
   "outputs": [
    {
     "name": "stdout",
     "output_type": "stream",
     "text": [
      "[INFO] start feature extraction finished in 69.530 s.\n"
     ]
    }
   ],
   "source": [
    "_t = Timer()\n",
    "_t.start('start feature extraction')\n",
    "list_dict = []\n",
    "feature_extract = FeatureExtraction()\n",
    "for idx, row in df_.iterrows():\n",
    "    row_feature = feature_extract.feature_extract(row['phone_number'])\n",
    "    row_feature['phone_number'] = row['phone_number']\n",
    "    row_feature['price'] = row['price_vnd']\n",
    "    row_feature['label'] = row['label']\n",
    "    list_dict.append(row_feature)\n",
    "_t.stop()"
   ],
   "metadata": {
    "collapsed": false,
    "pycharm": {
     "name": "#%%\n"
    }
   }
  },
  {
   "cell_type": "code",
   "execution_count": 297,
   "outputs": [],
   "source": [
    "_df = pd.DataFrame(list_dict)"
   ],
   "metadata": {
    "collapsed": false,
    "pycharm": {
     "name": "#%%\n"
    }
   }
  },
  {
   "cell_type": "code",
   "execution_count": 298,
   "outputs": [],
   "source": [
    "columns = _df.columns"
   ],
   "metadata": {
    "collapsed": false,
    "pycharm": {
     "name": "#%%\n"
    }
   }
  },
  {
   "cell_type": "code",
   "execution_count": 299,
   "outputs": [],
   "source": [
    "columns = [column for column in columns if column != 'phone_number' and column != 'price' and column != 'label']"
   ],
   "metadata": {
    "collapsed": false,
    "pycharm": {
     "name": "#%%\n"
    }
   }
  },
  {
   "cell_type": "code",
   "execution_count": 300,
   "outputs": [],
   "source": [
    "from sklearn import preprocessing\n",
    "encoder = {}\n",
    "for col in columns:\n",
    "    encoder[col] = preprocessing.LabelEncoder()\n",
    "    _df[col] = encoder[col].fit_transform(_df[col])"
   ],
   "metadata": {
    "collapsed": false,
    "pycharm": {
     "name": "#%%\n"
    }
   }
  },
  {
   "cell_type": "code",
   "execution_count": 301,
   "outputs": [
    {
     "data": {
      "text/plain": "        tele  heads  last_2  last_3  index_0  index_1  index_2  index_3  \\\n0          3     30      39     939        4        2        9        9   \n1          5     21      67     567        3        3        5        6   \n2          1      8      68     768        1        2        8        8   \n3          5     21       5     505        3        3        4        4   \n4          1      4      11     111        0        6        8        4   \n...      ...    ...     ...     ...      ...      ...      ...      ...   \n356441     2     27      78     678        3        9        9        6   \n356442     5     29      55     355        4        1        3        9   \n356443     5     29      94     994        4        1        9        8   \n356444     2     15      55     555        2        6        8        8   \n356445     2     27      89     789        3        9        9        9   \n\n        index_4  index_5  ...  have_sim_ganh_dao  sim_ganh_dao  \\\n0             5        6  ...                  0          1778   \n1             9        8  ...                  3          1891   \n2             9        8  ...                  0          1697   \n3             0        5  ...                  2           947   \n4             6        5  ...                  0           203   \n...         ...      ...  ...                ...           ...   \n356441        5        8  ...                  3          1891   \n356442        1        3  ...                  3          1891   \n356443        2        1  ...                  3          1891   \n356444        6        6  ...                  0          1042   \n356445        9        9  ...                  0          1889   \n\n        have_year_born  year_born  have_sim_dao  sim_dao  dai_cat  \\\n0                    0          0             0        0        0   \n1                    0          0             0        0        0   \n2                    0          0             0        0        0   \n3                    0          0             1        6        0   \n4                    0          0             0        0        0   \n...                ...        ...           ...      ...      ...   \n356441               0          0             0        0        0   \n356442               0          0             0        0        0   \n356443               1         55             0        0        0   \n356444               0          0             1       69        0   \n356445               0          0             1      100        0   \n\n        phone_number        price  label  \n0          929956939    1250000.0      0  \n1          835698567     750000.0      0  \n2          528898768     550000.0      0  \n3          834405505    1000000.0      0  \n4          368465111    1150000.0      0  \n...              ...          ...    ...  \n356441     899658678    5500000.0      2  \n356442     913913355    4000000.0      2  \n356443     919821994    5500000.0      2  \n356444     768866555   10000000.0      3  \n356445     899999789  195000000.0      7  \n\n[356446 rows x 124 columns]",
      "text/html": "<div>\n<style scoped>\n    .dataframe tbody tr th:only-of-type {\n        vertical-align: middle;\n    }\n\n    .dataframe tbody tr th {\n        vertical-align: top;\n    }\n\n    .dataframe thead th {\n        text-align: right;\n    }\n</style>\n<table border=\"1\" class=\"dataframe\">\n  <thead>\n    <tr style=\"text-align: right;\">\n      <th></th>\n      <th>tele</th>\n      <th>heads</th>\n      <th>last_2</th>\n      <th>last_3</th>\n      <th>index_0</th>\n      <th>index_1</th>\n      <th>index_2</th>\n      <th>index_3</th>\n      <th>index_4</th>\n      <th>index_5</th>\n      <th>...</th>\n      <th>have_sim_ganh_dao</th>\n      <th>sim_ganh_dao</th>\n      <th>have_year_born</th>\n      <th>year_born</th>\n      <th>have_sim_dao</th>\n      <th>sim_dao</th>\n      <th>dai_cat</th>\n      <th>phone_number</th>\n      <th>price</th>\n      <th>label</th>\n    </tr>\n  </thead>\n  <tbody>\n    <tr>\n      <th>0</th>\n      <td>3</td>\n      <td>30</td>\n      <td>39</td>\n      <td>939</td>\n      <td>4</td>\n      <td>2</td>\n      <td>9</td>\n      <td>9</td>\n      <td>5</td>\n      <td>6</td>\n      <td>...</td>\n      <td>0</td>\n      <td>1778</td>\n      <td>0</td>\n      <td>0</td>\n      <td>0</td>\n      <td>0</td>\n      <td>0</td>\n      <td>929956939</td>\n      <td>1250000.0</td>\n      <td>0</td>\n    </tr>\n    <tr>\n      <th>1</th>\n      <td>5</td>\n      <td>21</td>\n      <td>67</td>\n      <td>567</td>\n      <td>3</td>\n      <td>3</td>\n      <td>5</td>\n      <td>6</td>\n      <td>9</td>\n      <td>8</td>\n      <td>...</td>\n      <td>3</td>\n      <td>1891</td>\n      <td>0</td>\n      <td>0</td>\n      <td>0</td>\n      <td>0</td>\n      <td>0</td>\n      <td>835698567</td>\n      <td>750000.0</td>\n      <td>0</td>\n    </tr>\n    <tr>\n      <th>2</th>\n      <td>1</td>\n      <td>8</td>\n      <td>68</td>\n      <td>768</td>\n      <td>1</td>\n      <td>2</td>\n      <td>8</td>\n      <td>8</td>\n      <td>9</td>\n      <td>8</td>\n      <td>...</td>\n      <td>0</td>\n      <td>1697</td>\n      <td>0</td>\n      <td>0</td>\n      <td>0</td>\n      <td>0</td>\n      <td>0</td>\n      <td>528898768</td>\n      <td>550000.0</td>\n      <td>0</td>\n    </tr>\n    <tr>\n      <th>3</th>\n      <td>5</td>\n      <td>21</td>\n      <td>5</td>\n      <td>505</td>\n      <td>3</td>\n      <td>3</td>\n      <td>4</td>\n      <td>4</td>\n      <td>0</td>\n      <td>5</td>\n      <td>...</td>\n      <td>2</td>\n      <td>947</td>\n      <td>0</td>\n      <td>0</td>\n      <td>1</td>\n      <td>6</td>\n      <td>0</td>\n      <td>834405505</td>\n      <td>1000000.0</td>\n      <td>0</td>\n    </tr>\n    <tr>\n      <th>4</th>\n      <td>1</td>\n      <td>4</td>\n      <td>11</td>\n      <td>111</td>\n      <td>0</td>\n      <td>6</td>\n      <td>8</td>\n      <td>4</td>\n      <td>6</td>\n      <td>5</td>\n      <td>...</td>\n      <td>0</td>\n      <td>203</td>\n      <td>0</td>\n      <td>0</td>\n      <td>0</td>\n      <td>0</td>\n      <td>0</td>\n      <td>368465111</td>\n      <td>1150000.0</td>\n      <td>0</td>\n    </tr>\n    <tr>\n      <th>...</th>\n      <td>...</td>\n      <td>...</td>\n      <td>...</td>\n      <td>...</td>\n      <td>...</td>\n      <td>...</td>\n      <td>...</td>\n      <td>...</td>\n      <td>...</td>\n      <td>...</td>\n      <td>...</td>\n      <td>...</td>\n      <td>...</td>\n      <td>...</td>\n      <td>...</td>\n      <td>...</td>\n      <td>...</td>\n      <td>...</td>\n      <td>...</td>\n      <td>...</td>\n      <td>...</td>\n    </tr>\n    <tr>\n      <th>356441</th>\n      <td>2</td>\n      <td>27</td>\n      <td>78</td>\n      <td>678</td>\n      <td>3</td>\n      <td>9</td>\n      <td>9</td>\n      <td>6</td>\n      <td>5</td>\n      <td>8</td>\n      <td>...</td>\n      <td>3</td>\n      <td>1891</td>\n      <td>0</td>\n      <td>0</td>\n      <td>0</td>\n      <td>0</td>\n      <td>0</td>\n      <td>899658678</td>\n      <td>5500000.0</td>\n      <td>2</td>\n    </tr>\n    <tr>\n      <th>356442</th>\n      <td>5</td>\n      <td>29</td>\n      <td>55</td>\n      <td>355</td>\n      <td>4</td>\n      <td>1</td>\n      <td>3</td>\n      <td>9</td>\n      <td>1</td>\n      <td>3</td>\n      <td>...</td>\n      <td>3</td>\n      <td>1891</td>\n      <td>0</td>\n      <td>0</td>\n      <td>0</td>\n      <td>0</td>\n      <td>0</td>\n      <td>913913355</td>\n      <td>4000000.0</td>\n      <td>2</td>\n    </tr>\n    <tr>\n      <th>356443</th>\n      <td>5</td>\n      <td>29</td>\n      <td>94</td>\n      <td>994</td>\n      <td>4</td>\n      <td>1</td>\n      <td>9</td>\n      <td>8</td>\n      <td>2</td>\n      <td>1</td>\n      <td>...</td>\n      <td>3</td>\n      <td>1891</td>\n      <td>1</td>\n      <td>55</td>\n      <td>0</td>\n      <td>0</td>\n      <td>0</td>\n      <td>919821994</td>\n      <td>5500000.0</td>\n      <td>2</td>\n    </tr>\n    <tr>\n      <th>356444</th>\n      <td>2</td>\n      <td>15</td>\n      <td>55</td>\n      <td>555</td>\n      <td>2</td>\n      <td>6</td>\n      <td>8</td>\n      <td>8</td>\n      <td>6</td>\n      <td>6</td>\n      <td>...</td>\n      <td>0</td>\n      <td>1042</td>\n      <td>0</td>\n      <td>0</td>\n      <td>1</td>\n      <td>69</td>\n      <td>0</td>\n      <td>768866555</td>\n      <td>10000000.0</td>\n      <td>3</td>\n    </tr>\n    <tr>\n      <th>356445</th>\n      <td>2</td>\n      <td>27</td>\n      <td>89</td>\n      <td>789</td>\n      <td>3</td>\n      <td>9</td>\n      <td>9</td>\n      <td>9</td>\n      <td>9</td>\n      <td>9</td>\n      <td>...</td>\n      <td>0</td>\n      <td>1889</td>\n      <td>0</td>\n      <td>0</td>\n      <td>1</td>\n      <td>100</td>\n      <td>0</td>\n      <td>899999789</td>\n      <td>195000000.0</td>\n      <td>7</td>\n    </tr>\n  </tbody>\n</table>\n<p>356446 rows × 124 columns</p>\n</div>"
     },
     "execution_count": 301,
     "metadata": {},
     "output_type": "execute_result"
    }
   ],
   "source": [
    "_df"
   ],
   "metadata": {
    "collapsed": false,
    "pycharm": {
     "name": "#%%\n"
    }
   }
  },
  {
   "cell_type": "code",
   "execution_count": 302,
   "outputs": [],
   "source": [
    "X, y = _df, _df['label']"
   ],
   "metadata": {
    "collapsed": false,
    "pycharm": {
     "name": "#%%\n"
    }
   }
  },
  {
   "cell_type": "code",
   "execution_count": 303,
   "outputs": [],
   "source": [
    "X_train, X_test, y_train, y_test = train_test_split(X[columns], y, test_size=0.15 ,random_state=14)"
   ],
   "metadata": {
    "collapsed": false,
    "pycharm": {
     "name": "#%%\n"
    }
   }
  },
  {
   "cell_type": "code",
   "execution_count": null,
   "outputs": [],
   "source": [
    "from imblearn.over_sampling import SMOTE\n",
    "oversample = SMOTE()"
   ],
   "metadata": {
    "collapsed": false,
    "pycharm": {
     "name": "#%%\n"
    }
   }
  },
  {
   "cell_type": "code",
   "execution_count": null,
   "outputs": [],
   "source": [
    "X_train, y_train = oversample.fit_resample(X_train, y_train)"
   ],
   "metadata": {
    "collapsed": false,
    "pycharm": {
     "name": "#%%\n"
    }
   }
  },
  {
   "cell_type": "code",
   "execution_count": null,
   "outputs": [],
   "source": [
    "import xgboost as xgb"
   ],
   "metadata": {
    "collapsed": false,
    "pycharm": {
     "name": "#%%\n"
    }
   }
  },
  {
   "cell_type": "code",
   "execution_count": null,
   "outputs": [],
   "source": [
    "reg =  xgb.XGBClassifier(random_state=0)\n",
    "reg.fit(X_train, y_train)"
   ],
   "metadata": {
    "collapsed": false,
    "pycharm": {
     "name": "#%%\n"
    }
   }
  },
  {
   "cell_type": "code",
   "execution_count": null,
   "outputs": [],
   "source": [
    "importances = reg.feature_importances_\n",
    "indices = np.argsort(importances)"
   ],
   "metadata": {
    "collapsed": false,
    "pycharm": {
     "name": "#%%\n"
    }
   }
  },
  {
   "cell_type": "code",
   "execution_count": null,
   "outputs": [],
   "source": [
    "feature_names = np.array(columns)"
   ],
   "metadata": {
    "collapsed": false,
    "pycharm": {
     "name": "#%%\n"
    }
   }
  },
  {
   "cell_type": "code",
   "execution_count": null,
   "outputs": [],
   "source": [
    "data={'feature_names':feature_names,'feature_importance':importances}\n",
    "fi_df = pd.DataFrame(data)\n",
    "\n",
    "#Sort the DataFrame in order decreasing feature importance\n",
    "fi_df.sort_values(by=['feature_importance'], ascending=False,inplace=True)\n",
    "\n",
    "#Define size of bar plot\n",
    "plt.figure(figsize=(10,8))\n",
    "#Plot Searborn bar chart\n",
    "sns.barplot(x=fi_df['feature_importance'][:20], y=fi_df['feature_names'][:20])\n",
    "#Add chart labels\n",
    "plt.xlabel('FEATURE IMPORTANCE')\n",
    "plt.ylabel('FEATURE NAMES')\n"
   ],
   "metadata": {
    "collapsed": false,
    "pycharm": {
     "name": "#%%\n"
    }
   }
  },
  {
   "cell_type": "code",
   "execution_count": null,
   "outputs": [],
   "source": [
    "y_pred = reg.predict(X_test)"
   ],
   "metadata": {
    "collapsed": false,
    "pycharm": {
     "name": "#%%\n"
    }
   }
  },
  {
   "cell_type": "code",
   "execution_count": null,
   "outputs": [],
   "source": [
    "print(classification_report(np.array(y_test), y_pred))"
   ],
   "metadata": {
    "collapsed": false,
    "pycharm": {
     "name": "#%%\n"
    }
   }
  },
  {
   "cell_type": "code",
   "execution_count": null,
   "outputs": [],
   "source": [
    "cm =  confusion_matrix(y_test, y_pred)"
   ],
   "metadata": {
    "collapsed": false,
    "pycharm": {
     "name": "#%%\n"
    }
   }
  },
  {
   "cell_type": "code",
   "execution_count": null,
   "outputs": [],
   "source": [
    "cm\n"
   ],
   "metadata": {
    "collapsed": false,
    "pycharm": {
     "name": "#%%\n"
    }
   }
  },
  {
   "cell_type": "code",
   "execution_count": null,
   "outputs": [],
   "source": [
    "list_idx = []\n",
    "label_true = 1\n",
    "label_pred = 0\n",
    "for idx in range(len(y_pred)):\n",
    "    if y_pred[idx] == label_pred and y_test.iloc[idx] == label_true:\n",
    "        list_idx.append(idx)\n",
    "X_test_cm = pd.DataFrame()\n",
    "for col in columns:\n",
    "    X_test_cm[col] = encoder[col].inverse_transform(X_test[col])\n",
    "\n",
    "test_X = X.loc[X_test.iloc[list_idx].index]\n",
    "test_X['predict'] = label_pred\n",
    "for col in columns:\n",
    "    test_X[col] = encoder[col].inverse_transform(test_X[col])\n",
    "test_X"
   ],
   "metadata": {
    "collapsed": false,
    "pycharm": {
     "name": "#%%\n"
    }
   }
  },
  {
   "cell_type": "code",
   "execution_count": 323,
   "outputs": [
    {
     "data": {
      "text/plain": "       phone_number    price_vnd  label\n0         929956939    1250000.0      0\n1         835698567     750000.0      0\n2         528898768     550000.0      0\n3         834405505    1000000.0      0\n4         368465111    1150000.0      0\n...             ...          ...    ...\n356441    899658678    5500000.0      2\n356442    913913355    4000000.0      2\n356443    919821994    5500000.0      2\n356444    768866555   10000000.0      3\n356445    899999789  195000000.0      7\n\n[356446 rows x 3 columns]",
      "text/html": "<div>\n<style scoped>\n    .dataframe tbody tr th:only-of-type {\n        vertical-align: middle;\n    }\n\n    .dataframe tbody tr th {\n        vertical-align: top;\n    }\n\n    .dataframe thead th {\n        text-align: right;\n    }\n</style>\n<table border=\"1\" class=\"dataframe\">\n  <thead>\n    <tr style=\"text-align: right;\">\n      <th></th>\n      <th>phone_number</th>\n      <th>price_vnd</th>\n      <th>label</th>\n    </tr>\n  </thead>\n  <tbody>\n    <tr>\n      <th>0</th>\n      <td>929956939</td>\n      <td>1250000.0</td>\n      <td>0</td>\n    </tr>\n    <tr>\n      <th>1</th>\n      <td>835698567</td>\n      <td>750000.0</td>\n      <td>0</td>\n    </tr>\n    <tr>\n      <th>2</th>\n      <td>528898768</td>\n      <td>550000.0</td>\n      <td>0</td>\n    </tr>\n    <tr>\n      <th>3</th>\n      <td>834405505</td>\n      <td>1000000.0</td>\n      <td>0</td>\n    </tr>\n    <tr>\n      <th>4</th>\n      <td>368465111</td>\n      <td>1150000.0</td>\n      <td>0</td>\n    </tr>\n    <tr>\n      <th>...</th>\n      <td>...</td>\n      <td>...</td>\n      <td>...</td>\n    </tr>\n    <tr>\n      <th>356441</th>\n      <td>899658678</td>\n      <td>5500000.0</td>\n      <td>2</td>\n    </tr>\n    <tr>\n      <th>356442</th>\n      <td>913913355</td>\n      <td>4000000.0</td>\n      <td>2</td>\n    </tr>\n    <tr>\n      <th>356443</th>\n      <td>919821994</td>\n      <td>5500000.0</td>\n      <td>2</td>\n    </tr>\n    <tr>\n      <th>356444</th>\n      <td>768866555</td>\n      <td>10000000.0</td>\n      <td>3</td>\n    </tr>\n    <tr>\n      <th>356445</th>\n      <td>899999789</td>\n      <td>195000000.0</td>\n      <td>7</td>\n    </tr>\n  </tbody>\n</table>\n<p>356446 rows × 3 columns</p>\n</div>"
     },
     "execution_count": 323,
     "metadata": {},
     "output_type": "execute_result"
    }
   ],
   "source": [
    "df_"
   ],
   "metadata": {
    "collapsed": false,
    "pycharm": {
     "name": "#%%\n"
    }
   }
  },
  {
   "cell_type": "code",
   "execution_count": 73,
   "outputs": [],
   "source": [
    "test_X['price'] = test_X['price']/1000"
   ],
   "metadata": {
    "collapsed": false,
    "pycharm": {
     "name": "#%%\n"
    }
   }
  },
  {
   "cell_type": "code",
   "execution_count": 74,
   "outputs": [
    {
     "data": {
      "text/plain": "           tele index_0 index_1 index_2 index_3 index_4 index_5 index_6  \\\n279976  viettel       8       6       7       8       9       6       6   \n253416     vina       9       1       7       7       1       1       1   \n256620     vina       8       2       6       7       8       9       9   \n335875  viettel       9       7       7       1       2       1       2   \n328880     mobi       7       8       8       9       9       8       8   \n305105  viettel       9       7       9       3       3       9       3   \n234225     mobi       9       0       5       1       2       1       2   \n348721  viettel       9       6       5       8       6       8       8   \n320602  viettel       9       7       3       8       9       6       6   \n299729     vina       9       1       6       6       5       6       5   \n278211     mobi       7       8       8       3       3       8       8   \n325372     mobi       8       9       9       9       9       5       5   \n345645     vina       8       3       7       3       6       6       6   \n235473     vina       9       1       6       6       6       6       6   \n282651     vina       8       2       8       2       2       8       8   \n283068     mobi       8       9       8       5       6       5       6   \n269648  viettel       9       6       6       6       6       6       6   \n316789  viettel       3       8       6       7       8       9       9   \n346176  viettel       3       2       6       4       5       6       7   \n250630  viettel       9       7       9       1       1       1       6   \n249928     vina       9       1       3       7       7       9       7   \n335708  viettel       9       6       9       0       0       0       8   \n336007  viettel       8       6       8       1       6       1       6   \n315197     vina       8       2       2       2       3       9       9   \n343698  gmobile       9       9       7       2       7       7       7   \n231879  viettel       3       3       3       7       8       9       9   \n238325  viettel       9       6       6       9       9       6       6   \n237908     mobi       7       8       3       6       5       8       8   \n248934  viettel       9       6       8       6       8       8       8   \n288338     mobi       9       0       8       8       8       2       8   \n\n       index_7 index_8  ... sim_ganh_dao have_year_born year_born  \\\n279976       6       6  ...          666             no        -1   \n253416       1       1  ...        11111             no        -1   \n256620       9       9  ...          999             no        -1   \n335875       1       2  ...        12121             no        -1   \n328880       8       8  ...          888             no        -1   \n305105       3       9  ...        33933             no        -1   \n234225       1       2  ...        12121             no        -1   \n348721       6       8  ...          868             no        -1   \n320602       6       6  ...          666             no        -1   \n299729       6       5  ...        65656             no        -1   \n278211       8       8  ...          888             no        -1   \n325372       5       5  ...          555             no        -1   \n345645       6       6  ...        66666             no        -1   \n235473       6       2  ...        66666             no        -1   \n282651       8       8  ...          888             no        -1   \n283068       5       6  ...        56565             no        -1   \n269648       3       3  ...        66666             no        -1   \n316789       9       9  ...          999             no        -1   \n346176       8       9  ...         khác             no        -1   \n250630       6       6  ...          666             no        -1   \n249928       7       9  ...        77977             no        -1   \n335708       8       8  ...          888             no        -1   \n336007       1       6  ...        16161             no        -1   \n315197       9       9  ...          999             no        -1   \n343698       7       7  ...        77777             no        -1   \n231879       9       9  ...          999             no        -1   \n238325       8       8  ...         khác             no        -1   \n237908       8       8  ...          888             no        -1   \n248934       6       8  ...        68886             no        -1   \n288338       8       8  ...        88288             no        -1   \n\n       have_sim_dao sim_dao dai_cat phone_number       price label predict  \n279976          yes    6666      no    867896666  444000.000     8       6  \n253416          yes    1111      no    917711111  398000.000     8       6  \n256620          yes    9999      no    826789999  390000.000     8       6  \n335875           no      -1      no    977121212  399000.000     8       6  \n328880          yes    8888      no    788998888  320000.000     8       6  \n305105          yes    9339      no    979339339  450000.000     8       6  \n234225           no      -1      no    905121212  450000.000     8       6  \n348721          yes    6886      no    965868868  350000.000     8       6  \n320602          yes    6666      no    973896666  339000.000     8       6  \n299729           no      -1      no    916656565  313000.000     8       6  \n278211          yes    8888      no    788338888  330000.000     8       6  \n325372          yes    5555      no    899995555  480000.000     8       6  \n345645          yes    6666      no    837366666  330000.000     8       6  \n235473          yes    6666      no    916666662  400000.000     8       6  \n282651          yes    8888      no    828228888  335000.000     8       6  \n283068           no      -1      no    898565656  350000.000     8       6  \n269648          yes    6666      no    966666633  368000.000     8       6  \n316789          yes    9999      no    386789999  350000.000     8       6  \n346176           no      -1      no    326456789  400000.000     8       6  \n250630           no      -1      no    979111666  479000.000     8       6  \n249928          yes    9779      no    913779779  399999.999     8       6  \n335708           no      -1      no    969000888  368000.000     8       6  \n336007           no      -1      no    868161616  320000.000     8       6  \n315197          yes    9999      no    822239999  368000.000     8       6  \n343698          yes    7777      no    997277777  400000.000     8       6  \n231879          yes    9999      no    333789999  435000.000     8       6  \n238325          yes    6996      no    966996688  350000.000     8       6  \n237908          yes    8888      no    783658888  365000.000     8       6  \n248934           no      -1      no    968688868  380000.000     8       6  \n288338           no      -1      no    908882888  417100.000     8       6  \n\n[30 rows x 141 columns]",
      "text/html": "<div>\n<style scoped>\n    .dataframe tbody tr th:only-of-type {\n        vertical-align: middle;\n    }\n\n    .dataframe tbody tr th {\n        vertical-align: top;\n    }\n\n    .dataframe thead th {\n        text-align: right;\n    }\n</style>\n<table border=\"1\" class=\"dataframe\">\n  <thead>\n    <tr style=\"text-align: right;\">\n      <th></th>\n      <th>tele</th>\n      <th>index_0</th>\n      <th>index_1</th>\n      <th>index_2</th>\n      <th>index_3</th>\n      <th>index_4</th>\n      <th>index_5</th>\n      <th>index_6</th>\n      <th>index_7</th>\n      <th>index_8</th>\n      <th>...</th>\n      <th>sim_ganh_dao</th>\n      <th>have_year_born</th>\n      <th>year_born</th>\n      <th>have_sim_dao</th>\n      <th>sim_dao</th>\n      <th>dai_cat</th>\n      <th>phone_number</th>\n      <th>price</th>\n      <th>label</th>\n      <th>predict</th>\n    </tr>\n  </thead>\n  <tbody>\n    <tr>\n      <th>279976</th>\n      <td>viettel</td>\n      <td>8</td>\n      <td>6</td>\n      <td>7</td>\n      <td>8</td>\n      <td>9</td>\n      <td>6</td>\n      <td>6</td>\n      <td>6</td>\n      <td>6</td>\n      <td>...</td>\n      <td>666</td>\n      <td>no</td>\n      <td>-1</td>\n      <td>yes</td>\n      <td>6666</td>\n      <td>no</td>\n      <td>867896666</td>\n      <td>444000.000</td>\n      <td>8</td>\n      <td>6</td>\n    </tr>\n    <tr>\n      <th>253416</th>\n      <td>vina</td>\n      <td>9</td>\n      <td>1</td>\n      <td>7</td>\n      <td>7</td>\n      <td>1</td>\n      <td>1</td>\n      <td>1</td>\n      <td>1</td>\n      <td>1</td>\n      <td>...</td>\n      <td>11111</td>\n      <td>no</td>\n      <td>-1</td>\n      <td>yes</td>\n      <td>1111</td>\n      <td>no</td>\n      <td>917711111</td>\n      <td>398000.000</td>\n      <td>8</td>\n      <td>6</td>\n    </tr>\n    <tr>\n      <th>256620</th>\n      <td>vina</td>\n      <td>8</td>\n      <td>2</td>\n      <td>6</td>\n      <td>7</td>\n      <td>8</td>\n      <td>9</td>\n      <td>9</td>\n      <td>9</td>\n      <td>9</td>\n      <td>...</td>\n      <td>999</td>\n      <td>no</td>\n      <td>-1</td>\n      <td>yes</td>\n      <td>9999</td>\n      <td>no</td>\n      <td>826789999</td>\n      <td>390000.000</td>\n      <td>8</td>\n      <td>6</td>\n    </tr>\n    <tr>\n      <th>335875</th>\n      <td>viettel</td>\n      <td>9</td>\n      <td>7</td>\n      <td>7</td>\n      <td>1</td>\n      <td>2</td>\n      <td>1</td>\n      <td>2</td>\n      <td>1</td>\n      <td>2</td>\n      <td>...</td>\n      <td>12121</td>\n      <td>no</td>\n      <td>-1</td>\n      <td>no</td>\n      <td>-1</td>\n      <td>no</td>\n      <td>977121212</td>\n      <td>399000.000</td>\n      <td>8</td>\n      <td>6</td>\n    </tr>\n    <tr>\n      <th>328880</th>\n      <td>mobi</td>\n      <td>7</td>\n      <td>8</td>\n      <td>8</td>\n      <td>9</td>\n      <td>9</td>\n      <td>8</td>\n      <td>8</td>\n      <td>8</td>\n      <td>8</td>\n      <td>...</td>\n      <td>888</td>\n      <td>no</td>\n      <td>-1</td>\n      <td>yes</td>\n      <td>8888</td>\n      <td>no</td>\n      <td>788998888</td>\n      <td>320000.000</td>\n      <td>8</td>\n      <td>6</td>\n    </tr>\n    <tr>\n      <th>305105</th>\n      <td>viettel</td>\n      <td>9</td>\n      <td>7</td>\n      <td>9</td>\n      <td>3</td>\n      <td>3</td>\n      <td>9</td>\n      <td>3</td>\n      <td>3</td>\n      <td>9</td>\n      <td>...</td>\n      <td>33933</td>\n      <td>no</td>\n      <td>-1</td>\n      <td>yes</td>\n      <td>9339</td>\n      <td>no</td>\n      <td>979339339</td>\n      <td>450000.000</td>\n      <td>8</td>\n      <td>6</td>\n    </tr>\n    <tr>\n      <th>234225</th>\n      <td>mobi</td>\n      <td>9</td>\n      <td>0</td>\n      <td>5</td>\n      <td>1</td>\n      <td>2</td>\n      <td>1</td>\n      <td>2</td>\n      <td>1</td>\n      <td>2</td>\n      <td>...</td>\n      <td>12121</td>\n      <td>no</td>\n      <td>-1</td>\n      <td>no</td>\n      <td>-1</td>\n      <td>no</td>\n      <td>905121212</td>\n      <td>450000.000</td>\n      <td>8</td>\n      <td>6</td>\n    </tr>\n    <tr>\n      <th>348721</th>\n      <td>viettel</td>\n      <td>9</td>\n      <td>6</td>\n      <td>5</td>\n      <td>8</td>\n      <td>6</td>\n      <td>8</td>\n      <td>8</td>\n      <td>6</td>\n      <td>8</td>\n      <td>...</td>\n      <td>868</td>\n      <td>no</td>\n      <td>-1</td>\n      <td>yes</td>\n      <td>6886</td>\n      <td>no</td>\n      <td>965868868</td>\n      <td>350000.000</td>\n      <td>8</td>\n      <td>6</td>\n    </tr>\n    <tr>\n      <th>320602</th>\n      <td>viettel</td>\n      <td>9</td>\n      <td>7</td>\n      <td>3</td>\n      <td>8</td>\n      <td>9</td>\n      <td>6</td>\n      <td>6</td>\n      <td>6</td>\n      <td>6</td>\n      <td>...</td>\n      <td>666</td>\n      <td>no</td>\n      <td>-1</td>\n      <td>yes</td>\n      <td>6666</td>\n      <td>no</td>\n      <td>973896666</td>\n      <td>339000.000</td>\n      <td>8</td>\n      <td>6</td>\n    </tr>\n    <tr>\n      <th>299729</th>\n      <td>vina</td>\n      <td>9</td>\n      <td>1</td>\n      <td>6</td>\n      <td>6</td>\n      <td>5</td>\n      <td>6</td>\n      <td>5</td>\n      <td>6</td>\n      <td>5</td>\n      <td>...</td>\n      <td>65656</td>\n      <td>no</td>\n      <td>-1</td>\n      <td>no</td>\n      <td>-1</td>\n      <td>no</td>\n      <td>916656565</td>\n      <td>313000.000</td>\n      <td>8</td>\n      <td>6</td>\n    </tr>\n    <tr>\n      <th>278211</th>\n      <td>mobi</td>\n      <td>7</td>\n      <td>8</td>\n      <td>8</td>\n      <td>3</td>\n      <td>3</td>\n      <td>8</td>\n      <td>8</td>\n      <td>8</td>\n      <td>8</td>\n      <td>...</td>\n      <td>888</td>\n      <td>no</td>\n      <td>-1</td>\n      <td>yes</td>\n      <td>8888</td>\n      <td>no</td>\n      <td>788338888</td>\n      <td>330000.000</td>\n      <td>8</td>\n      <td>6</td>\n    </tr>\n    <tr>\n      <th>325372</th>\n      <td>mobi</td>\n      <td>8</td>\n      <td>9</td>\n      <td>9</td>\n      <td>9</td>\n      <td>9</td>\n      <td>5</td>\n      <td>5</td>\n      <td>5</td>\n      <td>5</td>\n      <td>...</td>\n      <td>555</td>\n      <td>no</td>\n      <td>-1</td>\n      <td>yes</td>\n      <td>5555</td>\n      <td>no</td>\n      <td>899995555</td>\n      <td>480000.000</td>\n      <td>8</td>\n      <td>6</td>\n    </tr>\n    <tr>\n      <th>345645</th>\n      <td>vina</td>\n      <td>8</td>\n      <td>3</td>\n      <td>7</td>\n      <td>3</td>\n      <td>6</td>\n      <td>6</td>\n      <td>6</td>\n      <td>6</td>\n      <td>6</td>\n      <td>...</td>\n      <td>66666</td>\n      <td>no</td>\n      <td>-1</td>\n      <td>yes</td>\n      <td>6666</td>\n      <td>no</td>\n      <td>837366666</td>\n      <td>330000.000</td>\n      <td>8</td>\n      <td>6</td>\n    </tr>\n    <tr>\n      <th>235473</th>\n      <td>vina</td>\n      <td>9</td>\n      <td>1</td>\n      <td>6</td>\n      <td>6</td>\n      <td>6</td>\n      <td>6</td>\n      <td>6</td>\n      <td>6</td>\n      <td>2</td>\n      <td>...</td>\n      <td>66666</td>\n      <td>no</td>\n      <td>-1</td>\n      <td>yes</td>\n      <td>6666</td>\n      <td>no</td>\n      <td>916666662</td>\n      <td>400000.000</td>\n      <td>8</td>\n      <td>6</td>\n    </tr>\n    <tr>\n      <th>282651</th>\n      <td>vina</td>\n      <td>8</td>\n      <td>2</td>\n      <td>8</td>\n      <td>2</td>\n      <td>2</td>\n      <td>8</td>\n      <td>8</td>\n      <td>8</td>\n      <td>8</td>\n      <td>...</td>\n      <td>888</td>\n      <td>no</td>\n      <td>-1</td>\n      <td>yes</td>\n      <td>8888</td>\n      <td>no</td>\n      <td>828228888</td>\n      <td>335000.000</td>\n      <td>8</td>\n      <td>6</td>\n    </tr>\n    <tr>\n      <th>283068</th>\n      <td>mobi</td>\n      <td>8</td>\n      <td>9</td>\n      <td>8</td>\n      <td>5</td>\n      <td>6</td>\n      <td>5</td>\n      <td>6</td>\n      <td>5</td>\n      <td>6</td>\n      <td>...</td>\n      <td>56565</td>\n      <td>no</td>\n      <td>-1</td>\n      <td>no</td>\n      <td>-1</td>\n      <td>no</td>\n      <td>898565656</td>\n      <td>350000.000</td>\n      <td>8</td>\n      <td>6</td>\n    </tr>\n    <tr>\n      <th>269648</th>\n      <td>viettel</td>\n      <td>9</td>\n      <td>6</td>\n      <td>6</td>\n      <td>6</td>\n      <td>6</td>\n      <td>6</td>\n      <td>6</td>\n      <td>3</td>\n      <td>3</td>\n      <td>...</td>\n      <td>66666</td>\n      <td>no</td>\n      <td>-1</td>\n      <td>yes</td>\n      <td>6666</td>\n      <td>no</td>\n      <td>966666633</td>\n      <td>368000.000</td>\n      <td>8</td>\n      <td>6</td>\n    </tr>\n    <tr>\n      <th>316789</th>\n      <td>viettel</td>\n      <td>3</td>\n      <td>8</td>\n      <td>6</td>\n      <td>7</td>\n      <td>8</td>\n      <td>9</td>\n      <td>9</td>\n      <td>9</td>\n      <td>9</td>\n      <td>...</td>\n      <td>999</td>\n      <td>no</td>\n      <td>-1</td>\n      <td>yes</td>\n      <td>9999</td>\n      <td>no</td>\n      <td>386789999</td>\n      <td>350000.000</td>\n      <td>8</td>\n      <td>6</td>\n    </tr>\n    <tr>\n      <th>346176</th>\n      <td>viettel</td>\n      <td>3</td>\n      <td>2</td>\n      <td>6</td>\n      <td>4</td>\n      <td>5</td>\n      <td>6</td>\n      <td>7</td>\n      <td>8</td>\n      <td>9</td>\n      <td>...</td>\n      <td>khác</td>\n      <td>no</td>\n      <td>-1</td>\n      <td>no</td>\n      <td>-1</td>\n      <td>no</td>\n      <td>326456789</td>\n      <td>400000.000</td>\n      <td>8</td>\n      <td>6</td>\n    </tr>\n    <tr>\n      <th>250630</th>\n      <td>viettel</td>\n      <td>9</td>\n      <td>7</td>\n      <td>9</td>\n      <td>1</td>\n      <td>1</td>\n      <td>1</td>\n      <td>6</td>\n      <td>6</td>\n      <td>6</td>\n      <td>...</td>\n      <td>666</td>\n      <td>no</td>\n      <td>-1</td>\n      <td>no</td>\n      <td>-1</td>\n      <td>no</td>\n      <td>979111666</td>\n      <td>479000.000</td>\n      <td>8</td>\n      <td>6</td>\n    </tr>\n    <tr>\n      <th>249928</th>\n      <td>vina</td>\n      <td>9</td>\n      <td>1</td>\n      <td>3</td>\n      <td>7</td>\n      <td>7</td>\n      <td>9</td>\n      <td>7</td>\n      <td>7</td>\n      <td>9</td>\n      <td>...</td>\n      <td>77977</td>\n      <td>no</td>\n      <td>-1</td>\n      <td>yes</td>\n      <td>9779</td>\n      <td>no</td>\n      <td>913779779</td>\n      <td>399999.999</td>\n      <td>8</td>\n      <td>6</td>\n    </tr>\n    <tr>\n      <th>335708</th>\n      <td>viettel</td>\n      <td>9</td>\n      <td>6</td>\n      <td>9</td>\n      <td>0</td>\n      <td>0</td>\n      <td>0</td>\n      <td>8</td>\n      <td>8</td>\n      <td>8</td>\n      <td>...</td>\n      <td>888</td>\n      <td>no</td>\n      <td>-1</td>\n      <td>no</td>\n      <td>-1</td>\n      <td>no</td>\n      <td>969000888</td>\n      <td>368000.000</td>\n      <td>8</td>\n      <td>6</td>\n    </tr>\n    <tr>\n      <th>336007</th>\n      <td>viettel</td>\n      <td>8</td>\n      <td>6</td>\n      <td>8</td>\n      <td>1</td>\n      <td>6</td>\n      <td>1</td>\n      <td>6</td>\n      <td>1</td>\n      <td>6</td>\n      <td>...</td>\n      <td>16161</td>\n      <td>no</td>\n      <td>-1</td>\n      <td>no</td>\n      <td>-1</td>\n      <td>no</td>\n      <td>868161616</td>\n      <td>320000.000</td>\n      <td>8</td>\n      <td>6</td>\n    </tr>\n    <tr>\n      <th>315197</th>\n      <td>vina</td>\n      <td>8</td>\n      <td>2</td>\n      <td>2</td>\n      <td>2</td>\n      <td>3</td>\n      <td>9</td>\n      <td>9</td>\n      <td>9</td>\n      <td>9</td>\n      <td>...</td>\n      <td>999</td>\n      <td>no</td>\n      <td>-1</td>\n      <td>yes</td>\n      <td>9999</td>\n      <td>no</td>\n      <td>822239999</td>\n      <td>368000.000</td>\n      <td>8</td>\n      <td>6</td>\n    </tr>\n    <tr>\n      <th>343698</th>\n      <td>gmobile</td>\n      <td>9</td>\n      <td>9</td>\n      <td>7</td>\n      <td>2</td>\n      <td>7</td>\n      <td>7</td>\n      <td>7</td>\n      <td>7</td>\n      <td>7</td>\n      <td>...</td>\n      <td>77777</td>\n      <td>no</td>\n      <td>-1</td>\n      <td>yes</td>\n      <td>7777</td>\n      <td>no</td>\n      <td>997277777</td>\n      <td>400000.000</td>\n      <td>8</td>\n      <td>6</td>\n    </tr>\n    <tr>\n      <th>231879</th>\n      <td>viettel</td>\n      <td>3</td>\n      <td>3</td>\n      <td>3</td>\n      <td>7</td>\n      <td>8</td>\n      <td>9</td>\n      <td>9</td>\n      <td>9</td>\n      <td>9</td>\n      <td>...</td>\n      <td>999</td>\n      <td>no</td>\n      <td>-1</td>\n      <td>yes</td>\n      <td>9999</td>\n      <td>no</td>\n      <td>333789999</td>\n      <td>435000.000</td>\n      <td>8</td>\n      <td>6</td>\n    </tr>\n    <tr>\n      <th>238325</th>\n      <td>viettel</td>\n      <td>9</td>\n      <td>6</td>\n      <td>6</td>\n      <td>9</td>\n      <td>9</td>\n      <td>6</td>\n      <td>6</td>\n      <td>8</td>\n      <td>8</td>\n      <td>...</td>\n      <td>khác</td>\n      <td>no</td>\n      <td>-1</td>\n      <td>yes</td>\n      <td>6996</td>\n      <td>no</td>\n      <td>966996688</td>\n      <td>350000.000</td>\n      <td>8</td>\n      <td>6</td>\n    </tr>\n    <tr>\n      <th>237908</th>\n      <td>mobi</td>\n      <td>7</td>\n      <td>8</td>\n      <td>3</td>\n      <td>6</td>\n      <td>5</td>\n      <td>8</td>\n      <td>8</td>\n      <td>8</td>\n      <td>8</td>\n      <td>...</td>\n      <td>888</td>\n      <td>no</td>\n      <td>-1</td>\n      <td>yes</td>\n      <td>8888</td>\n      <td>no</td>\n      <td>783658888</td>\n      <td>365000.000</td>\n      <td>8</td>\n      <td>6</td>\n    </tr>\n    <tr>\n      <th>248934</th>\n      <td>viettel</td>\n      <td>9</td>\n      <td>6</td>\n      <td>8</td>\n      <td>6</td>\n      <td>8</td>\n      <td>8</td>\n      <td>8</td>\n      <td>6</td>\n      <td>8</td>\n      <td>...</td>\n      <td>68886</td>\n      <td>no</td>\n      <td>-1</td>\n      <td>no</td>\n      <td>-1</td>\n      <td>no</td>\n      <td>968688868</td>\n      <td>380000.000</td>\n      <td>8</td>\n      <td>6</td>\n    </tr>\n    <tr>\n      <th>288338</th>\n      <td>mobi</td>\n      <td>9</td>\n      <td>0</td>\n      <td>8</td>\n      <td>8</td>\n      <td>8</td>\n      <td>2</td>\n      <td>8</td>\n      <td>8</td>\n      <td>8</td>\n      <td>...</td>\n      <td>88288</td>\n      <td>no</td>\n      <td>-1</td>\n      <td>no</td>\n      <td>-1</td>\n      <td>no</td>\n      <td>908882888</td>\n      <td>417100.000</td>\n      <td>8</td>\n      <td>6</td>\n    </tr>\n  </tbody>\n</table>\n<p>30 rows × 141 columns</p>\n</div>"
     },
     "execution_count": 74,
     "metadata": {},
     "output_type": "execute_result"
    }
   ],
   "source": [
    "test_X"
   ],
   "metadata": {
    "collapsed": false,
    "pycharm": {
     "name": "#%%\n"
    }
   }
  },
  {
   "cell_type": "code",
   "execution_count": 267,
   "outputs": [],
   "source": [
    "df_['price_vnd'].loc[test_X.index] = test_X['price']"
   ],
   "metadata": {
    "collapsed": false,
    "pycharm": {
     "name": "#%%\n"
    }
   }
  },
  {
   "cell_type": "code",
   "execution_count": 268,
   "outputs": [
    {
     "data": {
      "text/plain": "Series([], Name: price_vnd, dtype: float64)"
     },
     "execution_count": 268,
     "metadata": {},
     "output_type": "execute_result"
    }
   ],
   "source": [
    "df_['price_vnd'][test_X.index]"
   ],
   "metadata": {
    "collapsed": false,
    "pycharm": {
     "name": "#%%\n"
    }
   }
  },
  {
   "cell_type": "code",
   "execution_count": 288,
   "outputs": [],
   "source": [
    "df_.to_csv('../data/train_data_1.csv',index=False)"
   ],
   "metadata": {
    "collapsed": false,
    "pycharm": {
     "name": "#%%\n"
    }
   }
  },
  {
   "cell_type": "code",
   "execution_count": null,
   "outputs": [],
   "source": [],
   "metadata": {
    "collapsed": false,
    "pycharm": {
     "name": "#%%\n"
    }
   }
  }
 ],
 "metadata": {
  "kernelspec": {
   "display_name": "Python 3",
   "language": "python",
   "name": "python3"
  },
  "language_info": {
   "codemirror_mode": {
    "name": "ipython",
    "version": 2
   },
   "file_extension": ".py",
   "mimetype": "text/x-python",
   "name": "python",
   "nbconvert_exporter": "python",
   "pygments_lexer": "ipython2",
   "version": "2.7.6"
  }
 },
 "nbformat": 4,
 "nbformat_minor": 0
}