{
 "cells": [
  {
   "cell_type": "code",
   "execution_count": null,
   "metadata": {
    "collapsed": true,
    "pycharm": {
     "name": "#%%\n"
    }
   },
   "outputs": [],
   "source": [
    "import pandas as pd\n",
    "import numpy as np\n",
    "import matplotlib.pyplot as plt\n",
    "from nltk.classify.maxent import MaxentClassifier\n",
    "from sklearn.model_selection import train_test_split\n",
    "import nltk\n",
    "from sklearn.metrics import classification_report\n",
    "from sklearn.metrics import accuracy_score\n",
    "from sklearn import preprocessing\n",
    "from sklearn.ensemble import RandomForestClassifier, RandomForestRegressor\n",
    "from sklearn.linear_model import LogisticRegression\n",
    "from sklearn.neural_network import MLPClassifier\n",
    "import math\n",
    "from sklearn.metrics import confusion_matrix\n",
    "from sklearn.metrics import plot_confusion_matrix\n",
    "import seaborn as sns\n",
    "import gc\n",
    "\n",
    "from catboost import CatBoostClassifier"
   ]
  },
  {
   "cell_type": "code",
   "execution_count": null,
   "outputs": [],
   "source": [
    "import warnings\n",
    "warnings.filterwarnings(\"ignore\")"
   ],
   "metadata": {
    "collapsed": false,
    "pycharm": {
     "name": "#%%\n"
    }
   }
  },
  {
   "cell_type": "code",
   "execution_count": null,
   "outputs": [],
   "source": [
    "from utils import Timer"
   ],
   "metadata": {
    "collapsed": false,
    "pycharm": {
     "name": "#%%\n"
    }
   }
  },
  {
   "cell_type": "code",
   "execution_count": null,
   "outputs": [],
   "source": [
    "df = pd.read_csv('../data/train_data_1.csv')"
   ],
   "metadata": {
    "collapsed": false,
    "pycharm": {
     "name": "#%%\n"
    }
   }
  },
  {
   "cell_type": "code",
   "execution_count": null,
   "outputs": [],
   "source": [
    "df_ = df[['phone_number','price_vnd']]"
   ],
   "metadata": {
    "collapsed": false,
    "pycharm": {
     "name": "#%%\n"
    }
   }
  },
  {
   "cell_type": "code",
   "execution_count": null,
   "outputs": [],
   "source": [
    "del df"
   ],
   "metadata": {
    "collapsed": false,
    "pycharm": {
     "name": "#%%\n"
    }
   }
  },
  {
   "cell_type": "code",
   "execution_count": null,
   "outputs": [],
   "source": [
    "df_"
   ],
   "metadata": {
    "collapsed": false,
    "pycharm": {
     "name": "#%%\n"
    }
   }
  },
  {
   "cell_type": "code",
   "execution_count": null,
   "outputs": [],
   "source": [
    "def creating_label(df):\n",
    "    price = np.array(df['price_vnd'])\n",
    "    label = []\n",
    "    for i in range(df.shape[0]):\n",
    "        # if price[i] <= 5e5:\n",
    "        #     label.append(0)\n",
    "        #     continue\n",
    "        # if price[i] <= 1.5e6:\n",
    "        #     label.append(1)\n",
    "        #     continue\n",
    "        # if price[i] <= 3e6:\n",
    "        #     label.append(2)\n",
    "        #     continue\n",
    "        # if price[i] <= 5e6:\n",
    "        #     label.append(3)\n",
    "        #     continue\n",
    "        # if price[i] <= 1e7:\n",
    "        #     label.append(4)\n",
    "        #     continue\n",
    "        if price[i] <= 50e6:\n",
    "            label.append(5)\n",
    "            continue\n",
    "        # if price[i] <= 1e8:\n",
    "        #     label.append(6)\n",
    "        #     continue\n",
    "        # if price[i] <= 2e8:\n",
    "        #     label.append(7)\n",
    "        #     continue\n",
    "        # if price[i] <= 5e8:\n",
    "        #     label.append(8)\n",
    "        #     continue\n",
    "\n",
    "        label.append(6)\n",
    "\n",
    "    df['label'] = label\n",
    "\n",
    "    return df\n"
   ],
   "metadata": {
    "collapsed": false,
    "pycharm": {
     "name": "#%%\n"
    }
   }
  },
  {
   "cell_type": "code",
   "execution_count": null,
   "outputs": [],
   "source": [
    "def creating_label_2(df):\n",
    "    price = np.array(df['price_vnd'])\n",
    "    label = []\n",
    "    for i in range(df.shape[0]):\n",
    "        if price[i] <= 5e5:\n",
    "            label.append(0)\n",
    "            continue\n",
    "        if price[i] <= 1.5e6:\n",
    "            label.append(1)\n",
    "            continue\n",
    "        if price[i] <= 3e6:\n",
    "            label.append(2)\n",
    "            continue\n",
    "        if price[i] <= 5e6:\n",
    "            label.append(3)\n",
    "            continue\n",
    "        if price[i] <= 1e7:\n",
    "            label.append(4)\n",
    "            continue\n",
    "        if price[i] <= 50e6:\n",
    "            label.append(5)\n",
    "            continue\n",
    "        label.append(6)\n",
    "\n",
    "    df['label_2'] = label\n",
    "\n",
    "    return df\n"
   ],
   "metadata": {
    "collapsed": false,
    "pycharm": {
     "name": "#%%\n"
    }
   }
  },
  {
   "cell_type": "code",
   "execution_count": null,
   "outputs": [],
   "source": [
    "df_ = creating_label(df_)\n",
    "df_ = creating_label_2(df_)"
   ],
   "metadata": {
    "collapsed": false,
    "pycharm": {
     "name": "#%%\n"
    }
   }
  },
  {
   "cell_type": "code",
   "execution_count": null,
   "outputs": [],
   "source": [
    "df_['label_2'].value_counts()"
   ],
   "metadata": {
    "collapsed": false,
    "pycharm": {
     "name": "#%%\n"
    }
   }
  },
  {
   "cell_type": "code",
   "execution_count": null,
   "outputs": [],
   "source": [
    "df_label_2 = df_[df_['label_2'] != 6]"
   ],
   "metadata": {
    "collapsed": false,
    "pycharm": {
     "name": "#%%\n"
    }
   }
  },
  {
   "cell_type": "code",
   "execution_count": null,
   "outputs": [],
   "source": [
    "df_label_2"
   ],
   "metadata": {
    "collapsed": false,
    "pycharm": {
     "name": "#%%\n"
    }
   }
  },
  {
   "cell_type": "code",
   "execution_count": null,
   "outputs": [],
   "source": [
    "# df_ = df_[(df_['label']==2) | (df_['label']==3)]"
   ],
   "metadata": {
    "collapsed": false,
    "pycharm": {
     "name": "#%%\n"
    }
   }
  },
  {
   "cell_type": "code",
   "execution_count": null,
   "outputs": [],
   "source": [
    "df_ = df_.astype({\n",
    "    'phone_number': 'str'\n",
    "})"
   ],
   "metadata": {
    "collapsed": false,
    "pycharm": {
     "name": "#%%\n"
    }
   }
  },
  {
   "cell_type": "code",
   "execution_count": null,
   "outputs": [],
   "source": [
    "df_ = df_[df_['phone_number'].str.len() == 9]"
   ],
   "metadata": {
    "collapsed": false,
    "pycharm": {
     "name": "#%%\n"
    }
   }
  },
  {
   "cell_type": "code",
   "execution_count": null,
   "outputs": [],
   "source": [
    "# df_label_high_2 = df_[df_['label'] > 1]\n",
    "# df_label_1 = df_[df_['label'] == 1].sample(80000)\n",
    "# df_label_0 = df_[df_['label'] == 0].sample(80000)"
   ],
   "metadata": {
    "collapsed": false,
    "pycharm": {
     "name": "#%%\n"
    }
   }
  },
  {
   "cell_type": "code",
   "execution_count": null,
   "outputs": [],
   "source": [
    "# df_data = pd.concat([df_label_0, df_label_1, df_label_high_2])\n",
    "# del df_\n",
    "# df_ = df_data\n",
    "# df_.reset_index(inplace=True, drop=True)\n",
    "# del df_data"
   ],
   "metadata": {
    "collapsed": false,
    "pycharm": {
     "name": "#%%\n"
    }
   }
  },
  {
   "cell_type": "code",
   "execution_count": null,
   "outputs": [],
   "source": [
    "df_['label'].value_counts()"
   ],
   "metadata": {
    "collapsed": false,
    "pycharm": {
     "name": "#%%\n"
    }
   }
  },
  {
   "cell_type": "code",
   "execution_count": null,
   "outputs": [],
   "source": [
    "VIETTEL_HEAD_NUMBER = ['032','033','034','035','037','038','039','086','096','097','098']\n",
    "MOBI_HEAD_NUMBER = ['070','079','077','076','078','089','090','093']\n",
    "VINA_HEAD_NUMBER = ['081','084','085','082','083','094','091','088']\n",
    "VIETNAMMOBI_HEAD_NUMBER = ['056','058','092']\n",
    "GMOBILE = ['059','099']\n",
    "\n",
    "dict_list_combo = {\n",
    "    'LIST_COMBO_6_LOWER_5': ['000000','111111','222222','333333','444444'],\n",
    "    'LIST_COMBO_5_LOWER_4' : ['00000','11111','22222','33333'],\n",
    "    'LIST_COMBO_5_EQUAL_4': ['44444'],\n",
    "    'LIST_COMBO_4_LOWER_5 ':  ['0000','1111','2222','3333','4444'],\n",
    "    'LIST_COMBO_3_LOWER_5' : ['000','111','222','333','444'],\n",
    "    'LIST_COMBO_2_LOWER_5' :  ['00','11','22','33','44'],\n",
    "    'LIST_COMBO_6_HIGHER_5': ['555555','666666','777777','999999','888888'],\n",
    "    'LIST_COMBO_5_HIGHER_5':  ['55555','66666','77777','99999','88888'],\n",
    "    'LIST_COMBO_4_HIGHER_5':  ['5555','6666','7777','9999','8888'],\n",
    "    'LIST_COMBO_3_HIGHER_5':  ['555','666','777','999','888'],\n",
    "    'LIST_COMBO_2_HIGHER_5': ['55','66','77','99','88'],\n",
    "    'LIST_LUCKY_NUMBER' : ['68','86','79','38','83'],\n",
    "    'LIST_5_INCREASING': ['01234','12345','23456','34567','45678','56789'],\n",
    "    'LIST_5_INCREASING_2': ['02468','13579'],\n",
    "    'LIST_4_INCREASING': ['0123','1234','2345','3456','4567','5678','6789'],\n",
    "    'LIST_4_INCREASING_2' : ['0246','1357','2468','3579','0369'],\n",
    "    'LIST_3_INCREASING': ['012','123','234','345','456','567','678','789'],\n",
    "    'LIST_3_INCREASING_2': ['024','135','246','357','468','579','036','147','258','369','048','159'],\n",
    "    'LIST_THAN_TAI': ['368379']\n",
    "}\n",
    "\n",
    "dict_than_tai_combo = {\n",
    "    'LIST_COMBO_4_THAN_TAI' : ['7997', '8998','7799', '8899','9779', '9889','7979','3939','3579','1279'],\n",
    "    'LIST_TAXI_NUMBER': ['04','47','07'],\n",
    "    'LIST_COMBO_4_ONG_DIA': ['6666','3878'],\n",
    "    'LIST_COMBO_3_ONG_DIA': ['138','238','338','438','538','638','738','838','938'],\n",
    "    'LIST_COMBO_2_ONG_DIA': ['38','78'],\n",
    "    'LIST_COMBO_2_THAN_TAI': ['39','79'],\n",
    "    'LIST_COMBO_3_THAN_TAI' : ['179','579','279','679','979','079','479','879','379'],\n",
    "    'LIST_COMBO_3_LOC_PHAT': ['6688','6868','6886', '8668'],\n",
    "    'LIST_COMBO_2_LOC_PHAT': ['68','86','88','66'],\n",
    "    'LIST_COMBO_SO_XAU': ['03','43','53','49','87','47']\n",
    "}\n",
    "\n",
    "LIST_COMBO_3_THAN_TAI = ['179','579','279','679','979','079','479','879','379']"
   ],
   "metadata": {
    "collapsed": false,
    "pycharm": {
     "name": "#%%\n"
    }
   }
  },
  {
   "cell_type": "code",
   "execution_count": null,
   "outputs": [],
   "source": [
    "class FeatureExtraction:\n",
    "    def __init__(self):\n",
    "\n",
    "        self.list_dai_cat = ['03','01','00','05','15','16','18','23','24','25','28','30','31','38','40','46','47','66','80','78']\n",
    "        self.dict_index_have = {\n",
    "            '0': False,\n",
    "            '1': False,\n",
    "            '2': False,\n",
    "            '3': False,\n",
    "            '4': False,\n",
    "            '5': False,\n",
    "            '6': False,\n",
    "            '7': False,\n",
    "            '8': False\n",
    "        }\n",
    "        self.dict_index = {\n",
    "            '0': False,\n",
    "            '1': False,\n",
    "            '2': False,\n",
    "            '3': False,\n",
    "            '4': False,\n",
    "            '5': False,\n",
    "            '6': False,\n",
    "            '7': False,\n",
    "            '8': False\n",
    "        }\n",
    "\n",
    "    def preprocessing(self, number):\n",
    "        _number = number\n",
    "        if len(number) == 11:\n",
    "            if number[0:2] == '84':\n",
    "                _number = '0' + number[2:]\n",
    "        elif number[0] != '0':\n",
    "            _number = '0' + number\n",
    "        return _number\n",
    "\n",
    "    def classification_tele(self, number ):\n",
    "        head_number = number[0:3]\n",
    "        if head_number in VIETTEL_HEAD_NUMBER:\n",
    "            return 'viettel'\n",
    "        elif head_number in MOBI_HEAD_NUMBER:\n",
    "            return 'mobi'\n",
    "        elif head_number in VINA_HEAD_NUMBER:\n",
    "            return 'vina'\n",
    "        elif head_number in GMOBILE:\n",
    "            return 'gmobile'\n",
    "        elif head_number in VIETNAMMOBI_HEAD_NUMBER:\n",
    "            return 'vietnammobile'\n",
    "        else:\n",
    "            return 'khác'\n",
    "\n",
    "    def _have_combo(self, number, list_combo, flag):\n",
    "        if flag is True:\n",
    "            for ele in list_combo:\n",
    "                if ele in number:\n",
    "                    _idx = number.find(ele)\n",
    "                    if _idx > 0:\n",
    "                        if self.dict_index_have[str(_idx)] is False:\n",
    "                            for i in range(len(ele)):\n",
    "                                self.dict_index_have[str(_idx+i)] = True\n",
    "                            return ele\n",
    "        else:\n",
    "            for ele in list_combo:\n",
    "                if ele in number:\n",
    "                    return ele\n",
    "        return 'no'\n",
    "\n",
    "    def _number_combo(self, number, list_combo, flag):\n",
    "        if flag is True:\n",
    "            for ele in list_combo:\n",
    "                if ele in number:\n",
    "                    _idx = number.find(ele)\n",
    "                    if _idx > 0:\n",
    "                        if self.dict_index[str(_idx)] is False:\n",
    "                            for i in range(len(ele)):\n",
    "                                self.dict_index[str(_idx+i)] = True\n",
    "                            return ele\n",
    "        else:\n",
    "            for ele in list_combo:\n",
    "                if ele in number:\n",
    "                    return ele\n",
    "        return 'no'\n",
    "\n",
    "    def have_combo(self, number, list_combo, flag=False):\n",
    "        _flag = self._have_combo(number, list_combo, flag)\n",
    "        if _flag != 'no':\n",
    "            return 'yes'\n",
    "        return 'no'\n",
    "\n",
    "\n",
    "\n",
    "    def number_combo(self, number, list_combo, flag=False):\n",
    "        _flag = self._number_combo(number, list_combo, flag)\n",
    "        if _flag != 'no':\n",
    "            return _flag\n",
    "        return '-1'\n",
    "\n",
    "    def have_last_combo(self, number, list_combo, number_idx):\n",
    "        last_n_digits = number[-number_idx:]\n",
    "        if last_n_digits:\n",
    "            if last_n_digits in list_combo:\n",
    "                return 'yes'\n",
    "            return 'no'\n",
    "        else:\n",
    "            return 'no'\n",
    "\n",
    "    def last_combo(self,number, list_combo, number_idx):\n",
    "        last_n_digits = number[-number_idx:]\n",
    "        if last_n_digits:\n",
    "            if last_n_digits in list_combo:\n",
    "                return last_n_digits\n",
    "            return '-1'\n",
    "        else:\n",
    "            return '-1'\n",
    "\n",
    "    def have_repeat_2(self, number):\n",
    "        for idx in range(0, len(number)-3, 1):\n",
    "            idx_0 = idx\n",
    "            idx_1 = idx+1\n",
    "            idx_2 = idx+2\n",
    "            idx_3 = idx+3\n",
    "\n",
    "            str_abc = number[idx_0] + number[idx_1]\n",
    "            str_abc_2 = number[idx_2] + number[idx_3]\n",
    "\n",
    "            if str_abc == str_abc_2:\n",
    "                return 'yes'\n",
    "        return 'no'\n",
    "\n",
    "\n",
    "\n",
    "    def repeat_2(self, number):\n",
    "        for idx in range(0, len(number)-3, 1):\n",
    "            idx_0 = idx\n",
    "            idx_1 = idx+1\n",
    "            idx_2 = idx+2\n",
    "            idx_3 = idx+3\n",
    "\n",
    "            str_abc = number[idx_0] + number[idx_1]\n",
    "            str_abc_2 = number[idx_2] + number[idx_3]\n",
    "            if str_abc == str_abc_2:\n",
    "                return str_abc\n",
    "        return '-1'\n",
    "\n",
    "    def have_repeat_3(self, number):\n",
    "        for idx in range(0, len(number)-5, 1):\n",
    "            idx_0 = idx\n",
    "            idx_1 = idx+1\n",
    "            idx_2 = idx+2\n",
    "            idx_3 = idx+3\n",
    "            idx_4 = idx+4\n",
    "            idx_5 = idx+5\n",
    "            str_abc = number[idx_0] + number[idx_1] + number[idx_2]\n",
    "            str_abc_2 = number[idx_3] + number[idx_4] + number[idx_5]\n",
    "            if str_abc == str_abc_2:\n",
    "                return 'yes'\n",
    "        return 'no'\n",
    "\n",
    "    def repeat_3(self, number):\n",
    "        for idx in range(0, len(number)-5, 1):\n",
    "            idx_0 = idx\n",
    "            idx_1 = idx+1\n",
    "            idx_2 = idx+2\n",
    "            idx_3 = idx+3\n",
    "            idx_4 = idx+4\n",
    "            idx_5 = idx+5\n",
    "            str_abc = number[idx_0] + number[idx_1] + number[idx_2]\n",
    "            str_abc_2 = number[idx_3] + number[idx_4] + number[idx_5]\n",
    "            if str_abc == str_abc_2:\n",
    "                return str_abc\n",
    "        return '-1'\n",
    "\n",
    "    def have_repeat_ababab(self, number):\n",
    "        for idx in range(0, len(number)-5, 1):\n",
    "            idx_0 = idx\n",
    "            idx_1 = idx+1\n",
    "            idx_2 = idx+2\n",
    "            idx_3 = idx+3\n",
    "            idx_4 = idx+4\n",
    "            idx_5 = idx+5\n",
    "            str_ab = number[idx_0] + number[idx_1]\n",
    "            str_ab_2 = number[idx_2] + number[idx_3]\n",
    "            str_ab_3 = number[idx_4] + number[idx_5]\n",
    "            if str_ab == str_ab_2 and str_ab == str_ab_3:\n",
    "                return 'yes'\n",
    "        return 'no'\n",
    "    def repeat_ababab(self, number):\n",
    "        for idx in range(0, len(number)-5, 1):\n",
    "            idx_0 = idx\n",
    "            idx_1 = idx+1\n",
    "            idx_2 = idx+2\n",
    "            idx_3 = idx+3\n",
    "            idx_4 = idx+4\n",
    "            idx_5 = idx+5\n",
    "            str_ab = number[idx_0] + number[idx_1]\n",
    "            str_ab_2 = number[idx_2] + number[idx_3]\n",
    "            str_ab_3 = number[idx_4] + number[idx_5]\n",
    "            if str_ab == str_ab_2 and str_ab == str_ab_3:\n",
    "                return str_ab + str_ab_2 + str_ab_2\n",
    "        return '-1'\n",
    "\n",
    "    def have_repeat_abcdabcd(self, number):\n",
    "        for idx in range(0, len(number)-7, 1):\n",
    "            idx_0 = idx\n",
    "            idx_1 = idx+1\n",
    "            idx_2 = idx+2\n",
    "            idx_3 = idx+3\n",
    "            idx_4 = idx+4\n",
    "            idx_5 = idx+5\n",
    "            idx_6 = idx+6\n",
    "            idx_7 = idx+7\n",
    "            str_ab = number[idx_0] + number[idx_1] + number[idx_2] + number[idx_3]\n",
    "            str_ab_2 = number[idx_4] + number[idx_5] + number[idx_6] + number[idx_7]\n",
    "            if str_ab == str_ab_2:\n",
    "                return 'yes'\n",
    "        return 'no'\n",
    "\n",
    "    def repeat_abcdabcd(self, number):\n",
    "        for idx in range(0, len(number)-7, 1):\n",
    "            idx_0 = idx\n",
    "            idx_1 = idx+1\n",
    "            idx_2 = idx+2\n",
    "            idx_3 = idx+3\n",
    "            idx_4 = idx+4\n",
    "            idx_5 = idx+5\n",
    "            idx_6 = idx+6\n",
    "            idx_7 = idx+7\n",
    "            str_ab = number[idx_0] + number[idx_1] + number[idx_2] + number[idx_3]\n",
    "            str_ab_2 = number[idx_4] + number[idx_5] + number[idx_6] + number[idx_7]\n",
    "            if str_ab == str_ab_2:\n",
    "                return str_ab\n",
    "        return '-1'\n",
    "    def have_dual_sim_3(self, number):\n",
    "        for idx in range(0, len(number)-5, 1):\n",
    "            if (number[idx] == number[idx+1]) and (number[idx+2] == number[idx+3]) and (number[idx+4] == number[idx+5]):\n",
    "                return 'yes'\n",
    "        return 'no'\n",
    "\n",
    "    def dual_sim_3(self, number):\n",
    "        for idx in range(0, len(number)-5, 1):\n",
    "            if (number[idx] == number[idx+1]) and (number[idx+2] == number[idx+3]) and (number[idx+4] == number[idx+5]):\n",
    "                return number[idx:idx+6]\n",
    "        return '-1'\n",
    "\n",
    "    def have_double_combo(self, number, list_combo):\n",
    "        count = 0\n",
    "        for combo in list_combo:\n",
    "            if combo in number:\n",
    "                count += 1\n",
    "        if count == 2:\n",
    "            return 'yes'\n",
    "        else:\n",
    "            return 'no'\n",
    "\n",
    "    def double_combo(self, number: object, list_combo: object) -> object:\n",
    "        count = 0\n",
    "        double_combo = ''\n",
    "        for combo in list_combo:\n",
    "            if combo in number:\n",
    "                count += 1\n",
    "                double_combo += combo\n",
    "        if count == 2:\n",
    "            return double_combo\n",
    "        else:\n",
    "            return '-1'\n",
    "\n",
    "    def double_combo_2_3(self, number, list_combo):\n",
    "        count = 0\n",
    "        double_combo = ''\n",
    "        for combo in list_combo:\n",
    "            if combo in number:\n",
    "                count += 1\n",
    "                double_combo += combo\n",
    "        if count == 2:\n",
    "            return double_combo\n",
    "        else:\n",
    "            return '-1'\n",
    "\n",
    "    def have_double_number(self, number):\n",
    "        for idx in range(0, len(number)-1,1):\n",
    "            str_numbers = number[idx] + number[idx+1]\n",
    "            for _idx in range(idx+2, len(number) -1, 1):\n",
    "                str_numbers_ss = number[_idx] + number[_idx+1]\n",
    "                if str_numbers == str_numbers_ss:\n",
    "                    return 'yes'\n",
    "        return 'no'\n",
    "\n",
    "    def double_number(self, number):\n",
    "        for idx in range(0, len(number)-1,1):\n",
    "            str_numbers = number[idx] + number[idx+1]\n",
    "            for _idx in range(idx+2, len(number) -1, 1):\n",
    "                str_numbers_ss = number[_idx] + number[_idx+1]\n",
    "                if str_numbers == str_numbers_ss:\n",
    "                    return str_numbers\n",
    "        return '-1'\n",
    "\n",
    "    def have_sim_ganh_dao(self, number):\n",
    "        idx = 1\n",
    "        type_ganh_dao = 0\n",
    "        flag = False\n",
    "        while not flag and idx < len(number) - 1:\n",
    "            if number[idx-1] == number[idx+1] and number[idx-1] != number[idx]:\n",
    "                type_ganh_dao = 1\n",
    "\n",
    "                if (idx > 2 and idx < len(number) - 2) and number[idx-2] == number[idx+2]:\n",
    "                    type_ganh_dao = 2\n",
    "                    flag = True\n",
    "            elif (idx > 2 and idx < len(number) - 2) and number[idx-1] == number[idx+2] and number[idx-2] == number[idx+1] and number[idx-1] != number[idx]:\n",
    "                type_ganh_dao = 3\n",
    "                flag = True\n",
    "            idx += 1\n",
    "        if type_ganh_dao == 0:\n",
    "            return 'khác'\n",
    "        elif type_ganh_dao == 1:\n",
    "            return 'ganh_dao_don'\n",
    "        elif type_ganh_dao == 2:\n",
    "            return 'ganh_dao_kep'\n",
    "        elif type_ganh_dao == 3:\n",
    "            return 'ganh_dao_kep_tien'\n",
    "\n",
    "    def sim_ganh_dao(self, number):\n",
    "        idx = 1\n",
    "        type_ganh_dao = 0\n",
    "        string_ganh_dao = 'khác'\n",
    "        flag = False\n",
    "        while not flag and idx < len(number) - 1:\n",
    "            if number[idx-1] == number[idx+1] and number[idx-1] != number[idx]:\n",
    "                string_ganh_dao = number[idx-1:idx+2]\n",
    "                if (idx > 2 and idx < len(number) - 2) and number[idx-2] == number[idx+2]:\n",
    "                    string_ganh_dao = number[idx-2:idx+3]\n",
    "                    flag = True\n",
    "            elif (idx > 2 and idx < len(number) - 2) and number[idx-1] == number[idx+2] and number[idx-2] == number[idx+1] and number[idx-1] != number[idx]:\n",
    "                string_ganh_dao = number[idx-2:idx+3]\n",
    "            idx += 1\n",
    "\n",
    "        return string_ganh_dao\n",
    "\n",
    "    def last_sim_ganh_dao(self, number):\n",
    "        idx = 1\n",
    "        type_ganh_dao = 0\n",
    "        string_ganh_dao = 'khác'\n",
    "        flag = False\n",
    "        while not flag and idx <= len(number) - 2:\n",
    "            if number[idx-1] == number[idx+1] and number[idx-1] != number[idx]:\n",
    "                string_ganh_dao = number[idx-1:idx+2]\n",
    "                if (idx < len(number) - 2) and number[idx-2] == number[idx+2]:\n",
    "                    string_ganh_dao = number\n",
    "                    flag = True\n",
    "            elif (idx < len(number) - 2) and number[idx-1] == number[idx+2] and number[idx-2] == number[idx+1] and number[idx-1] != number[idx]:\n",
    "                string_ganh_dao = number\n",
    "            idx += 1\n",
    "\n",
    "        return string_ganh_dao\n",
    "\n",
    "    def have_last_sim_ganh_dao(self, number):\n",
    "        idx = 1\n",
    "        type_ganh_dao = 0\n",
    "        flag = False\n",
    "        while not flag and idx <= len(number) - 2:\n",
    "            if number[idx-1] == number[idx+1] and number[idx-1] != number[idx]:\n",
    "                type_ganh_dao = 1\n",
    "                if (idx < len(number) - 2) and number[idx-2] == number[idx+2]:\n",
    "                    type_ganh_dao = 2\n",
    "                    flag = True\n",
    "            elif (idx < len(number) - 2) and number[idx-1] == number[idx+2] and number[idx-2] == number[idx+1] and number[idx-1] != number[idx]:\n",
    "                type_ganh_dao = 3\n",
    "                flag = True\n",
    "            idx += 1\n",
    "        if type_ganh_dao == 0:\n",
    "            return 'khác'\n",
    "        elif type_ganh_dao == 1:\n",
    "            return 'ganh_dao_don'\n",
    "        elif type_ganh_dao == 2:\n",
    "            return 'ganh_dao_kep'\n",
    "        elif type_ganh_dao == 3:\n",
    "            return 'ganh_dao_kep_tien'\n",
    "\n",
    "    def _dai_cat(self, number):\n",
    "        quotient_dai_cat = int(number[-4:]) / 80\n",
    "        decimal_dai_cat = quotient_dai_cat - int(quotient_dai_cat)\n",
    "        int_dai_cat = int(decimal_dai_cat * 80)\n",
    "        if int_dai_cat in self.list_dai_cat:\n",
    "            return True\n",
    "        return False\n",
    "\n",
    "    def have_dai_cat(self, number):\n",
    "        if self._dai_cat(number):\n",
    "            return 'yes'\n",
    "        return 'no'\n",
    "\n",
    "    def have_year_born(self, number):\n",
    "        last_4_th = number[-4:]\n",
    "        if 1940 <= int(last_4_th) <= 2022:\n",
    "            return 'yes'\n",
    "        return 'no'\n",
    "\n",
    "    def year_born(self, number):\n",
    "        last_4_th = number[-4:]\n",
    "        if 1940 <= int(last_4_th) <= 2022:\n",
    "            return last_4_th\n",
    "        return '-1'\n",
    "\n",
    "    def have_sim_dao(self, number):\n",
    "        for idx in range(1, len(number) - 2, 1):\n",
    "            if number[idx] == number[idx+1] and number[idx-1] == number[idx+2]:\n",
    "                return 'yes'\n",
    "        return 'no'\n",
    "\n",
    "    def sim_dao(self, number):\n",
    "        str_sim_dao = '-1'\n",
    "        for idx in range(1, len(number) - 2, 1):\n",
    "            if number[idx] == number[idx+1] and number[idx-1] == number[idx+2]:\n",
    "                str_sim_dao = number[idx-1:idx+3]\n",
    "        return str_sim_dao\n",
    "\n",
    "    def feature_extract(self, _number):\n",
    "        number = str(_number)\n",
    "\n",
    "        dict_feature = {}\n",
    "        number = self.preprocessing(number)\n",
    "        dict_feature['tele'] = self.classification_tele(number)\n",
    "        dict_feature['heads'] = number[0:2]\n",
    "        dict_feature['head_tele'] = number[0:3]\n",
    "\n",
    "        for index in range(len(number)):\n",
    "\n",
    "            dict_feature['index_{}'.format(index)] = number[index]\n",
    "\n",
    "\n",
    "        _set_list = set(number[1:])\n",
    "        dict_feature['count_number'] = len(_set_list)\n",
    "        flag_last_combo = 0\n",
    "        for key, value in dict_list_combo.items():\n",
    "\n",
    "            len_number = len(value[0])\n",
    "            if 'LIST' in key:\n",
    "                feature_name = str.lower(key[5:])\n",
    "            else:\n",
    "                feature_name = str.lower(key)\n",
    "            if flag_last_combo == 0:\n",
    "\n",
    "                dict_feature['have_last_{}'.format(feature_name)] = self.have_last_combo(number, value, len_number)\n",
    "                dict_feature['last_{}'.format(feature_name)] = self.last_combo(number,value, len_number)\n",
    "\n",
    "                if dict_feature['have_last_{}'.format(feature_name)] == 'no':\n",
    "                    dict_feature['have_{}'.format(feature_name)] = self.have_combo(number, value)\n",
    "                    dict_feature['{}'.format(feature_name)] = self.number_combo(number, value)\n",
    "\n",
    "                elif dict_feature['have_last_{}'.format(feature_name)] != 'no':\n",
    "                    dict_feature['have_{}'.format(feature_name)] = 'no'\n",
    "                    dict_feature['{}'.format(feature_name)] = '-1'\n",
    "                    flag_last_combo = 1\n",
    "\n",
    "            elif flag_last_combo == 1:\n",
    "                dict_feature['have_{}'.format(feature_name)] = 'no'\n",
    "                dict_feature['{}'.format(feature_name)] = '-1'\n",
    "                dict_feature['have_last_{}'.format(feature_name)] = 'no'\n",
    "                dict_feature['last_{}'.format(feature_name)] = '-1'\n",
    "        flag_than_tai = 0\n",
    "        for k, v in dict_than_tai_combo.items():\n",
    "            len_number = len(v[0])\n",
    "            if 'LIST' in k:\n",
    "                feature_name = str.lower(k[5:])\n",
    "            else:\n",
    "                feature_name = str.lower(k)\n",
    "            if flag_than_tai == 0:\n",
    "                dict_feature['have_last_{}'.format(feature_name)] = self.have_last_combo(number, v, len_number)\n",
    "                dict_feature['last_{}'.format(feature_name)] = self.last_combo(number,v, len_number)\n",
    "                if dict_feature['have_last_{}'.format(feature_name)] != 'no':\n",
    "                    flag_than_tai = 1\n",
    "            else:\n",
    "                dict_feature['have_last_{}'.format(feature_name)] = 'no'\n",
    "                dict_feature['last_{}'.format(feature_name)] = '-1'\n",
    "\n",
    "\n",
    "        # for _k, _v in dict_last_index.items():\n",
    "        #     len_number = len(_v[0])\n",
    "        #     if 'LIST' in _k:\n",
    "        #          feature_name = str.lower(_k[5:])\n",
    "        #     else:\n",
    "        #         feature_name = str.lower(_k)\n",
    "        #     dict_feature['have_last_{}'.format(feature_name)] = self.have_last_combo(number, _v, len_number)\n",
    "        #     dict_feature['last_{}'.format(feature_name)] = self.last_combo(number, _v, len_number)\n",
    "\n",
    "        dict_feature['have_repeat_2'] = self.have_repeat_2(number)\n",
    "        dict_feature['repeat_2'] = self.repeat_2(number)\n",
    "        dict_feature['have_repeat_3'] = self.have_repeat_3(number)\n",
    "        dict_feature['repeat_3'] = self.repeat_3(number)\n",
    "\n",
    "        dict_feature['have_repeat_ababab'] = self.have_repeat_ababab(number)\n",
    "        dict_feature['repeat_ababab'] = self.repeat_ababab(number)\n",
    "\n",
    "        dict_feature['have_repeat_abcdabcd'] = self.have_repeat_abcdabcd(number)\n",
    "        dict_feature['repeat_abcdabcd'] = self.repeat_abcdabcd(number)\n",
    "        dict_feature['have_dual_sim_3'] = self.have_dual_sim_3(number)\n",
    "        dict_feature['dual_sim_3'] = self.dual_sim_3(number)\n",
    "\n",
    "        flag_double_combo = 0\n",
    "        LIST_COMBO_3 = dict_list_combo['LIST_COMBO_3_LOWER_5'] + dict_list_combo['LIST_COMBO_3_HIGHER_5']\n",
    "        LIST_COMBO_2 = dict_list_combo['LIST_COMBO_2_LOWER_5'] + dict_list_combo['LIST_COMBO_2_HIGHER_5']\n",
    "        dict_feature['have_double_combo_3'] = self.have_double_combo(number, LIST_COMBO_3)\n",
    "        dict_feature['double_combo_3'] = self.double_combo(number, LIST_COMBO_3)\n",
    "        if dict_feature['have_double_combo_3'] == 'no':\n",
    "            dict_feature['have_double_combo'] = self.have_double_combo(number, LIST_COMBO_2)\n",
    "            dict_feature['double_combo'] = self.double_combo(number,LIST_COMBO_2)\n",
    "        else:\n",
    "            dict_feature['have_double_combo'] = 'no'\n",
    "            dict_feature['double_combo'] = '-1'\n",
    "\n",
    "        dict_feature['have_combo_than_tai'] = self.have_last_combo(number, LIST_COMBO_3_THAN_TAI, 3)\n",
    "        dict_feature['combo_than_tai'] = self.last_combo(number, LIST_COMBO_3_THAN_TAI, 3)\n",
    "\n",
    "        dict_feature['have_double_combo_3_taxi'] = self.have_double_combo(number, dict_than_tai_combo['LIST_TAXI_NUMBER'])\n",
    "        dict_feature['double_combo_3_taxi'] = self.double_combo(number, dict_than_tai_combo['LIST_TAXI_NUMBER'])\n",
    "\n",
    "        dict_feature['have_double_phat_loc'] =self.have_double_combo(number, dict_than_tai_combo['LIST_COMBO_2_LOC_PHAT'])\n",
    "        dict_feature['double_phat_loc'] = self.double_combo(number, dict_than_tai_combo['LIST_COMBO_2_LOC_PHAT'])\n",
    "\n",
    "        dict_feature['have_double_number'] = self.have_double_number(number)\n",
    "        dict_feature['double_number'] = self.double_number(number)\n",
    "\n",
    "        dict_feature['double_combo_2_3'] = self.double_combo_2_3(number, LIST_COMBO_3+LIST_COMBO_2)\n",
    "        dict_feature['have_double_combo_2_3'] = self.have_double_combo(number, LIST_COMBO_3+LIST_COMBO_2)\n",
    "\n",
    "        dict_feature['have_last_sim_ganh_dao'] = self.have_last_sim_ganh_dao(number[-5:])\n",
    "        dict_feature['last_sim_ganh_dao'] = self.last_sim_ganh_dao(number[-5:])\n",
    "        if dict_feature['have_last_sim_ganh_dao'] == 'khác':\n",
    "            dict_feature['have_sim_ganh_dao'] = self.have_sim_ganh_dao(number)\n",
    "            dict_feature['sim_ganh_dao'] = self.sim_ganh_dao(number)\n",
    "        else:\n",
    "            dict_feature['have_sim_ganh_dao'] = 'khác'\n",
    "            dict_feature['sim_ganh_dao'] = '-1'\n",
    "        dict_feature['have_year_born'] = self.have_year_born(number)\n",
    "        dict_feature['year_born'] = self.year_born(number)\n",
    "        dict_feature['have_sim_dao'] = self.have_sim_dao(number)\n",
    "        dict_feature['sim_dao'] = self.sim_dao(number)\n",
    "        dict_feature['dai_cat'] = self.have_dai_cat(number)\n",
    "        return dict_feature\n"
   ],
   "metadata": {
    "collapsed": false,
    "pycharm": {
     "name": "#%%\n"
    }
   }
  },
  {
   "cell_type": "code",
   "execution_count": null,
   "outputs": [],
   "source": [
    "feature_extract = FeatureExtraction()\n",
    "number = str(772778234)\n",
    "row_feature = feature_extract.feature_extract(number)\n",
    "number = feature_extract.preprocessing(number)\n",
    "print(feature_extract.have_combo(number, dict_list_combo['LIST_5_INCREASING'] , flag=False))\n",
    "print(feature_extract.have_sim_ganh_dao(number))\n",
    "print(row_feature)"
   ],
   "metadata": {
    "collapsed": false,
    "pycharm": {
     "name": "#%%\n"
    }
   }
  },
  {
   "cell_type": "code",
   "execution_count": null,
   "outputs": [],
   "source": [
    "_t = Timer()\n",
    "_t.start('start feature extraction')\n",
    "list_dict = []\n",
    "count = 0\n",
    "for idx, row in df_.iterrows():\n",
    "    feature_extract = FeatureExtraction()\n",
    "    row_feature = feature_extract.feature_extract(str(row['phone_number']))\n",
    "    row_feature['phone_number'] = feature_extract.preprocessing(row['phone_number'])\n",
    "    row_feature['price'] = row['price_vnd']\n",
    "    row_feature['label'] = row['label']\n",
    "    list_dict.append(row_feature)\n",
    "_t.stop()"
   ],
   "metadata": {
    "collapsed": false,
    "pycharm": {
     "name": "#%%\n"
    }
   }
  },
  {
   "cell_type": "code",
   "execution_count": null,
   "outputs": [],
   "source": [
    "_df = pd.DataFrame(list_dict)"
   ],
   "metadata": {
    "collapsed": false,
    "pycharm": {
     "name": "#%%\n"
    }
   }
  },
  {
   "cell_type": "code",
   "execution_count": null,
   "outputs": [],
   "source": [
    "_df"
   ],
   "metadata": {
    "collapsed": false,
    "pycharm": {
     "name": "#%%\n"
    }
   }
  },
  {
   "cell_type": "code",
   "execution_count": null,
   "outputs": [],
   "source": [
    "# _df[_df['label']==3]['have_combo_5_higher_5'].value_counts().plot(kind='bar')"
   ],
   "metadata": {
    "collapsed": false,
    "pycharm": {
     "name": "#%%\n"
    }
   }
  },
  {
   "cell_type": "code",
   "execution_count": null,
   "outputs": [],
   "source": [
    "columns = _df.columns"
   ],
   "metadata": {
    "collapsed": false,
    "pycharm": {
     "name": "#%%\n"
    }
   }
  },
  {
   "cell_type": "code",
   "execution_count": null,
   "outputs": [],
   "source": [
    "# label_df = _df[_df['label']==3]\n",
    "# for col in columns:\n",
    "#     val_count = label_df[col].value_counts()\n",
    "#     if val_count.iloc[0]/len(label_df) < 0.95:\n",
    "#         print('run case 1', col, val_count.idxmax(), val_count.iloc[0]/len(label_df))\n",
    "#     elif val_count.iloc[0]/len(label_df) != 1:\n",
    "#         print('run case 2', col, val_count.iloc[1], val_count.iloc[1]/len(label_df))"
   ],
   "metadata": {
    "collapsed": false,
    "pycharm": {
     "name": "#%%\n"
    }
   }
  },
  {
   "cell_type": "code",
   "execution_count": null,
   "outputs": [],
   "source": [
    "# label_df['count_number'].value_counts()"
   ],
   "metadata": {
    "collapsed": false,
    "pycharm": {
     "name": "#%%\n"
    }
   }
  },
  {
   "cell_type": "code",
   "execution_count": null,
   "outputs": [],
   "source": [
    "from sklearn import preprocessing\n",
    "encoder = {}\n",
    "for col in columns:\n",
    "    encoder[col] = preprocessing.LabelEncoder()\n",
    "    print(col, _df[col].unique())\n",
    "    encoder[col].fit(_df[col])\n",
    "    _df[col] = encoder[col].transform(_df[col])"
   ],
   "metadata": {
    "collapsed": false,
    "pycharm": {
     "name": "#%%\n"
    }
   }
  },
  {
   "cell_type": "code",
   "execution_count": null,
   "outputs": [],
   "source": [],
   "metadata": {
    "collapsed": false,
    "pycharm": {
     "name": "#%%\n"
    }
   }
  },
  {
   "cell_type": "code",
   "execution_count": null,
   "outputs": [],
   "source": [
    "columns = [column for column in columns if column != 'phone_number' and column != 'price' and column != 'label']"
   ],
   "metadata": {
    "collapsed": false,
    "pycharm": {
     "name": "#%%\n"
    }
   }
  },
  {
   "cell_type": "code",
   "execution_count": null,
   "outputs": [],
   "source": [],
   "metadata": {
    "collapsed": false,
    "pycharm": {
     "name": "#%%\n"
    }
   }
  },
  {
   "cell_type": "code",
   "execution_count": null,
   "outputs": [],
   "source": [
    "label_end = preprocessing.LabelEncoder()\n",
    "_df['label'] = label_end.fit_transform(_df['label'])"
   ],
   "metadata": {
    "collapsed": false,
    "pycharm": {
     "name": "#%%\n"
    }
   }
  },
  {
   "cell_type": "code",
   "execution_count": null,
   "outputs": [],
   "source": [
    "encoder['last_combo_3_higher_5'].classes_"
   ],
   "metadata": {
    "collapsed": false,
    "pycharm": {
     "name": "#%%\n"
    }
   }
  },
  {
   "cell_type": "code",
   "execution_count": null,
   "outputs": [],
   "source": [
    "X, y = _df, _df['label']"
   ],
   "metadata": {
    "collapsed": false,
    "pycharm": {
     "name": "#%%\n"
    }
   }
  },
  {
   "cell_type": "code",
   "execution_count": null,
   "outputs": [],
   "source": [
    "X_train, X_eval, y_train, y_eval = train_test_split(X[columns], y, test_size=0.15 ,random_state=14)"
   ],
   "metadata": {
    "collapsed": false,
    "pycharm": {
     "name": "#%%\n"
    }
   }
  },
  {
   "cell_type": "code",
   "execution_count": null,
   "outputs": [],
   "source": [
    "X_, X_test, y_, y_test = train_test_split(X_train[columns], y_train, test_size=0.2 ,random_state=14)"
   ],
   "metadata": {
    "collapsed": false,
    "pycharm": {
     "name": "#%%\n"
    }
   }
  },
  {
   "cell_type": "code",
   "execution_count": null,
   "outputs": [],
   "source": [
    "import xgboost as xgb"
   ],
   "metadata": {
    "collapsed": false,
    "pycharm": {
     "name": "#%%\n"
    }
   }
  },
  {
   "cell_type": "code",
   "execution_count": null,
   "outputs": [],
   "source": [
    "reg =  xgb.XGBClassifier(random_state=0)\n",
    "reg.fit(X_train, y_train)"
   ],
   "metadata": {
    "collapsed": false,
    "pycharm": {
     "name": "#%%\n"
    }
   }
  },
  {
   "cell_type": "code",
   "execution_count": null,
   "outputs": [],
   "source": [
    "importances = reg.feature_importances_\n",
    "indices = np.argsort(importances)"
   ],
   "metadata": {
    "collapsed": false,
    "pycharm": {
     "name": "#%%\n"
    }
   }
  },
  {
   "cell_type": "code",
   "execution_count": null,
   "outputs": [],
   "source": [
    "feature_names = np.array(columns)"
   ],
   "metadata": {
    "collapsed": false,
    "pycharm": {
     "name": "#%%\n"
    }
   }
  },
  {
   "cell_type": "code",
   "execution_count": null,
   "outputs": [],
   "source": [
    "data={'feature_names':feature_names,'feature_importance':importances}\n",
    "fi_df = pd.DataFrame(data)\n",
    "\n",
    "#Sort the DataFrame in order decreasing feature importance\n",
    "fi_df.sort_values(by=['feature_importance'], ascending=False,inplace=True)\n",
    "\n",
    "#Define size of bar plot\n",
    "plt.figure(figsize=(10,8))\n",
    "#Plot Searborn bar chart\n",
    "sns.barplot(x=fi_df['feature_importance'][:30], y=fi_df['feature_names'][:30])\n",
    "#Add chart labels\n",
    "plt.xlabel('FEATURE IMPORTANCE')\n",
    "plt.ylabel('FEATURE NAMES')\n"
   ],
   "metadata": {
    "collapsed": false,
    "pycharm": {
     "name": "#%%\n"
    }
   }
  },
  {
   "cell_type": "code",
   "execution_count": null,
   "outputs": [],
   "source": [
    "y_pred = reg.predict(X_eval)"
   ],
   "metadata": {
    "collapsed": false,
    "pycharm": {
     "name": "#%%\n"
    }
   }
  },
  {
   "cell_type": "code",
   "execution_count": null,
   "outputs": [],
   "source": [
    "feature_extract = FeatureExtraction()\n",
    "row_feature = feature_extract.feature_extract(str(567891279))\n",
    "print(row_feature)\n",
    "df_predict = pd.DataFrame([row_feature])"
   ],
   "metadata": {
    "collapsed": false,
    "pycharm": {
     "name": "#%%\n"
    }
   }
  },
  {
   "cell_type": "code",
   "execution_count": null,
   "outputs": [],
   "source": [
    "df_predict"
   ],
   "metadata": {
    "collapsed": false,
    "pycharm": {
     "name": "#%%\n"
    }
   }
  },
  {
   "cell_type": "code",
   "execution_count": null,
   "outputs": [],
   "source": [
    "for col in columns:\n",
    "    try:\n",
    "        df_predict[col] = encoder[col].transform(df_predict[col])\n",
    "    except:\n",
    "        print(col, df_predict[col])"
   ],
   "metadata": {
    "collapsed": false,
    "pycharm": {
     "name": "#%%\n"
    }
   }
  },
  {
   "cell_type": "code",
   "execution_count": null,
   "outputs": [],
   "source": [
    "reg.predict(df_predict)"
   ],
   "metadata": {
    "collapsed": false,
    "pycharm": {
     "name": "#%%\n"
    }
   }
  },
  {
   "cell_type": "code",
   "execution_count": null,
   "outputs": [],
   "source": [
    "print(classification_report(np.array(y_eval), y_pred))"
   ],
   "metadata": {
    "collapsed": false,
    "pycharm": {
     "name": "#%%\n"
    }
   }
  },
  {
   "cell_type": "code",
   "execution_count": null,
   "outputs": [],
   "source": [
    "cm =  confusion_matrix(y_eval, y_pred)"
   ],
   "metadata": {
    "collapsed": false,
    "pycharm": {
     "name": "#%%\n"
    }
   }
  },
  {
   "cell_type": "code",
   "execution_count": null,
   "outputs": [],
   "source": [
    "cm"
   ],
   "metadata": {
    "collapsed": false,
    "pycharm": {
     "name": "#%%\n"
    }
   }
  },
  {
   "cell_type": "code",
   "execution_count": null,
   "outputs": [],
   "source": [
    "list_idx = []\n",
    "label_true = 1\n",
    "label_pred = 0\n",
    "for idx in range(len(y_pred)):\n",
    "\n",
    "    if y_pred[idx] == label_pred and y_eval.iloc[idx] == label_true:\n",
    "\n",
    "        list_idx.append(idx)\n",
    "X_test_cm = pd.DataFrame()\n",
    "for col in columns:\n",
    "    X_test_cm[col] = encoder[col].inverse_transform(X_eval[col])\n",
    "\n",
    "test_X = X.loc[X_eval.iloc[list_idx].index]\n",
    "test_X['predict'] = label_pred\n",
    "\n",
    "for col in columns:\n",
    "    test_X[col] = encoder[col].inverse_transform(test_X[col])\n",
    "test_X"
   ],
   "metadata": {
    "collapsed": false,
    "pycharm": {
     "name": "#%%\n"
    }
   }
  },
  {
   "cell_type": "code",
   "execution_count": null,
   "outputs": [],
   "source": [
    "df_label_2"
   ],
   "metadata": {
    "collapsed": false,
    "pycharm": {
     "name": "#%%\n"
    }
   }
  },
  {
   "cell_type": "code",
   "execution_count": null,
   "outputs": [],
   "source": [
    "_t = Timer()\n",
    "_t.start('start feature extraction')\n",
    "list_dict = []\n",
    "count = 0\n",
    "for idx, row in df_label_2.iterrows():\n",
    "    feature_extract = FeatureExtraction()\n",
    "    row_feature = feature_extract.feature_extract(str(row['phone_number']))\n",
    "    row_feature['phone_number'] = row['phone_number']\n",
    "    row_feature['price'] = row['price_vnd']\n",
    "    row_feature['label'] = row['label_2']\n",
    "    list_dict.append(row_feature)\n",
    "_t.stop()"
   ],
   "metadata": {
    "collapsed": false,
    "pycharm": {
     "name": "#%%\n"
    }
   }
  },
  {
   "cell_type": "code",
   "execution_count": null,
   "outputs": [],
   "source": [
    "list_dict"
   ],
   "metadata": {
    "collapsed": false,
    "pycharm": {
     "name": "#%%\n"
    }
   }
  },
  {
   "cell_type": "code",
   "execution_count": null,
   "outputs": [],
   "source": [
    "_df_label = pd.DataFrame(list_dict)"
   ],
   "metadata": {
    "collapsed": false,
    "pycharm": {
     "name": "#%%\n",
     "is_executing": true
    }
   }
  },
  {
   "cell_type": "code",
   "execution_count": null,
   "outputs": [],
   "source": [
    "columns = _df_label.columns"
   ],
   "metadata": {
    "collapsed": false,
    "pycharm": {
     "name": "#%%\n",
     "is_executing": true
    }
   }
  },
  {
   "cell_type": "code",
   "execution_count": null,
   "outputs": [],
   "source": [
    "columns = [column for column in columns if column != 'phone_number' and column != 'price' and column != 'label']"
   ],
   "metadata": {
    "collapsed": false,
    "pycharm": {
     "name": "#%%\n",
     "is_executing": true
    }
   }
  },
  {
   "cell_type": "code",
   "execution_count": null,
   "outputs": [],
   "source": [
    "from sklearn import preprocessing\n",
    "encoder = {}\n",
    "for col in columns:\n",
    "    encoder[col] = preprocessing.LabelEncoder()\n",
    "    print(col, _df_label[col].unique())\n",
    "    encoder[col].fit(_df_label[col])\n",
    "    _df_label[col] = encoder[col].transform(_df_label[col])"
   ],
   "metadata": {
    "collapsed": false,
    "pycharm": {
     "name": "#%%\n",
     "is_executing": true
    }
   }
  },
  {
   "cell_type": "code",
   "execution_count": null,
   "outputs": [],
   "source": [
    "X, y = _df_label, _df_label['label']"
   ],
   "metadata": {
    "collapsed": false,
    "pycharm": {
     "name": "#%%\n",
     "is_executing": true
    }
   }
  },
  {
   "cell_type": "code",
   "execution_count": null,
   "outputs": [],
   "source": [
    "params = {\n",
    "    'max_depth': 9,\n",
    "    'eta': 0.3,\n",
    "    'learning_rate': 0.01\n",
    "}"
   ],
   "metadata": {
    "collapsed": false,
    "pycharm": {
     "name": "#%%\n",
     "is_executing": true
    }
   }
  },
  {
   "cell_type": "code",
   "execution_count": null,
   "outputs": [],
   "source": [
    "from sklearn.metrics import mean_squared_error\n",
    "X_train, X_eval, y_train, y_eval = train_test_split(X[columns], y, test_size=0.15 ,random_state=14)\n",
    "reg =  xgb.XGBClassifier(learning_rate=0.15,max_depth=15, n_estimators=18)\n",
    "reg.fit(X_train, y_train)\n",
    "y_pred = reg.predict(X_eval)"
   ],
   "metadata": {
    "collapsed": false,
    "pycharm": {
     "name": "#%%\n",
     "is_executing": true
    }
   }
  },
  {
   "cell_type": "code",
   "execution_count": null,
   "outputs": [],
   "source": [
    "print(classification_report(np.array(y_eval), y_pred))"
   ],
   "metadata": {
    "collapsed": false,
    "pycharm": {
     "name": "#%%\n",
     "is_executing": true
    }
   }
  },
  {
   "cell_type": "code",
   "execution_count": null,
   "outputs": [],
   "source": [
    "cm =  confusion_matrix(y_eval, y_pred)"
   ],
   "metadata": {
    "collapsed": false,
    "pycharm": {
     "name": "#%%\n"
    }
   }
  },
  {
   "cell_type": "code",
   "execution_count": null,
   "outputs": [],
   "source": [
    "cm"
   ],
   "metadata": {
    "collapsed": false,
    "pycharm": {
     "name": "#%%\n"
    }
   }
  },
  {
   "cell_type": "code",
   "execution_count": null,
   "outputs": [],
   "source": [
    "list_idx = []\n",
    "label_true = 2\n",
    "label_pred = 1\n",
    "for idx in range(len(y_pred)):\n",
    "    if y_pred[idx] == label_pred and y_eval.iloc[idx] == label_true:\n",
    "        list_idx.append(idx)\n",
    "X_test_cm = pd.DataFrame()\n",
    "for col in columns:\n",
    "\n",
    "    X_test_cm[col] = encoder[col].inverse_transform(X_eval[col])\n",
    "\n",
    "test_X = X.loc[X_eval.iloc[list_idx].index]\n",
    "test_X['predict'] = label_pred\n",
    "\n",
    "for col in columns:\n",
    "    test_X[col] = encoder[col].inverse_transform(test_X[col])\n",
    "test_X"
   ],
   "metadata": {
    "collapsed": false,
    "pycharm": {
     "name": "#%%\n"
    }
   }
  },
  {
   "cell_type": "code",
   "execution_count": null,
   "outputs": [],
   "source": [
    "print(mean_squared_error(y_eval, y_pred, squared=False))"
   ],
   "metadata": {
    "collapsed": false,
    "pycharm": {
     "name": "#%%\n"
    }
   }
  },
  {
   "cell_type": "code",
   "execution_count": null,
   "outputs": [],
   "source": [
    "y_pred[65]"
   ],
   "metadata": {
    "collapsed": false,
    "pycharm": {
     "name": "#%%\n"
    }
   }
  },
  {
   "cell_type": "code",
   "execution_count": null,
   "outputs": [],
   "source": [
    "y_eval.iloc[65]"
   ],
   "metadata": {
    "collapsed": false,
    "pycharm": {
     "name": "#%%\n"
    }
   }
  },
  {
   "cell_type": "code",
   "execution_count": null,
   "outputs": [],
   "source": [
    "mean_squared_error(y_test, y_pred)"
   ],
   "metadata": {
    "collapsed": false,
    "pycharm": {
     "name": "#%%\n"
    }
   }
  },
  {
   "cell_type": "code",
   "execution_count": null,
   "outputs": [],
   "source": [
    "from sklearn.cluster import KMeans"
   ],
   "metadata": {
    "collapsed": false,
    "pycharm": {
     "name": "#%%\n"
    }
   }
  },
  {
   "cell_type": "code",
   "execution_count": null,
   "outputs": [],
   "source": [
    "label_kmeans = KMeans(n_clusters=10, random_state=0).fit_predict(X_train)"
   ],
   "metadata": {
    "collapsed": false,
    "pycharm": {
     "name": "#%%\n"
    }
   }
  },
  {
   "cell_type": "code",
   "execution_count": null,
   "outputs": [],
   "source": [
    "df_X_train = X_train.copy()"
   ],
   "metadata": {
    "collapsed": false,
    "pycharm": {
     "name": "#%%\n"
    }
   }
  },
  {
   "cell_type": "code",
   "execution_count": null,
   "outputs": [],
   "source": [
    "df_X_train['kmeans'] = label_kmeans"
   ],
   "metadata": {
    "collapsed": false,
    "pycharm": {
     "name": "#%%\n"
    }
   }
  },
  {
   "cell_type": "code",
   "execution_count": null,
   "outputs": [],
   "source": [
    "df_X_train['kmeans'].value_counts()"
   ],
   "metadata": {
    "collapsed": false,
    "pycharm": {
     "name": "#%%\n"
    }
   }
  },
  {
   "cell_type": "code",
   "execution_count": null,
   "outputs": [],
   "source": [],
   "metadata": {
    "collapsed": false,
    "pycharm": {
     "name": "#%%\n"
    }
   }
  },
  {
   "cell_type": "code",
   "execution_count": null,
   "outputs": [],
   "source": [
    "X[X['combo_5_lower_5'] != 4]"
   ],
   "metadata": {
    "collapsed": false,
    "pycharm": {
     "name": "#%%\n"
    }
   }
  },
  {
   "cell_type": "code",
   "execution_count": null,
   "outputs": [],
   "source": [
    "test_X = df_.loc[X_test.index].copy()\n",
    "for col in columns:\n",
    "    test_X[col] = encoder[col].inverse_transform(X_test[col])"
   ],
   "metadata": {
    "collapsed": false,
    "pycharm": {
     "name": "#%%\n"
    }
   }
  },
  {
   "cell_type": "code",
   "execution_count": null,
   "outputs": [],
   "source": [
    "test_X['predict'] = np.floor(y_pred)"
   ],
   "metadata": {
    "collapsed": false,
    "pycharm": {
     "name": "#%%\n"
    }
   }
  },
  {
   "cell_type": "code",
   "execution_count": null,
   "outputs": [],
   "source": [
    "plt.hist(y_pred, bins=100)"
   ],
   "metadata": {
    "collapsed": false,
    "pycharm": {
     "name": "#%%\n"
    }
   }
  },
  {
   "cell_type": "code",
   "execution_count": null,
   "outputs": [],
   "source": [
    "test_X"
   ],
   "metadata": {
    "collapsed": false,
    "pycharm": {
     "name": "#%%\n"
    }
   }
  },
  {
   "cell_type": "code",
   "execution_count": null,
   "outputs": [],
   "source": [
    "y_pred"
   ],
   "metadata": {
    "collapsed": false,
    "pycharm": {
     "name": "#%%\n"
    }
   }
  },
  {
   "cell_type": "code",
   "execution_count": null,
   "outputs": [],
   "source": [
    "y_test"
   ],
   "metadata": {
    "collapsed": false,
    "pycharm": {
     "name": "#%%\n"
    }
   }
  },
  {
   "cell_type": "code",
   "execution_count": null,
   "outputs": [],
   "source": [
    "test_X['price'] = test_X['price']/1000"
   ],
   "metadata": {
    "collapsed": false,
    "pycharm": {
     "name": "#%%\n"
    }
   }
  },
  {
   "cell_type": "code",
   "execution_count": null,
   "outputs": [],
   "source": [
    "test_X"
   ],
   "metadata": {
    "collapsed": false,
    "pycharm": {
     "name": "#%%\n"
    }
   }
  },
  {
   "cell_type": "code",
   "execution_count": null,
   "outputs": [],
   "source": [
    "df_['price_vnd'].loc[test_X.index] = test_X['price']"
   ],
   "metadata": {
    "collapsed": false,
    "pycharm": {
     "name": "#%%\n"
    }
   }
  },
  {
   "cell_type": "code",
   "execution_count": null,
   "outputs": [],
   "source": [
    "df_['price_vnd'][test_X.index]"
   ],
   "metadata": {
    "collapsed": false,
    "pycharm": {
     "name": "#%%\n"
    }
   }
  },
  {
   "cell_type": "code",
   "execution_count": null,
   "outputs": [],
   "source": [
    "df_.to_csv('../data/train_data_1.csv',index=False)"
   ],
   "metadata": {
    "collapsed": false,
    "pycharm": {
     "name": "#%%\n"
    }
   }
  },
  {
   "cell_type": "code",
   "execution_count": null,
   "outputs": [],
   "source": [],
   "metadata": {
    "collapsed": false,
    "pycharm": {
     "name": "#%%\n"
    }
   }
  }
 ],
 "metadata": {
  "kernelspec": {
   "display_name": "Python 3",
   "language": "python",
   "name": "python3"
  },
  "language_info": {
   "codemirror_mode": {
    "name": "ipython",
    "version": 2
   },
   "file_extension": ".py",
   "mimetype": "text/x-python",
   "name": "python",
   "nbconvert_exporter": "python",
   "pygments_lexer": "ipython2",
   "version": "2.7.6"
  }
 },
 "nbformat": 4,
 "nbformat_minor": 0
}