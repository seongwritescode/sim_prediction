{
 "metadata": {
  "kernelspec": {
   "display_name": "Python 3",
   "language": "python",
   "name": "python3"
  },
  "language_info": {
   "codemirror_mode": {
    "name": "ipython",
    "version": 3
   },
   "file_extension": ".py",
   "mimetype": "text/x-python",
   "name": "python",
   "nbconvert_exporter": "python",
   "pygments_lexer": "ipython3",
   "version": "3.7.12"
  },
  "papermill": {
   "default_parameters": {},
   "duration": 501.744331,
   "end_time": "2022-09-30T11:29:49.245020",
   "environment_variables": {},
   "exception": null,
   "input_path": "__notebook__.ipynb",
   "output_path": "__notebook__.ipynb",
   "parameters": {},
   "start_time": "2022-09-30T11:21:27.500689",
   "version": "2.3.4"
  }
 },
 "nbformat_minor": 5,
 "nbformat": 4,
 "cells": [
  {
   "cell_type": "code",
   "source": [
    "import pandas as pd\n",
    "import numpy as np\n",
    "import matplotlib.pyplot as plt\n",
    "from nltk.classify.maxent import MaxentClassifier\n",
    "from sklearn.model_selection import train_test_split\n",
    "import nltk\n",
    "from sklearn.metrics import classification_report\n",
    "from sklearn.metrics import accuracy_score\n",
    "from sklearn import preprocessing\n",
    "from sklearn.ensemble import RandomForestClassifier\n",
    "from sklearn.linear_model import LogisticRegression\n",
    "from sklearn.neural_network import MLPClassifier\n",
    "import math\n",
    "from sklearn.metrics import confusion_matrix\n",
    "from sklearn.metrics import plot_confusion_matrix\n",
    "import seaborn as sns\n",
    "import gc\n",
    "\n",
    "from catboost import CatBoostClassifier"
   ],
   "metadata": {
    "_cell_guid": "b1076dfc-b9ad-4769-8c92-a6c4dae69d19",
    "_uuid": "8f2839f25d086af736a60e9eeb907d3b93b6e0e5",
    "papermill": {
     "duration": 2.638727,
     "end_time": "2022-09-30T11:21:39.980217",
     "exception": false,
     "start_time": "2022-09-30T11:21:37.341490",
     "status": "completed"
    },
    "tags": [],
    "execution": {
     "iopub.status.busy": "2022-10-09T07:26:57.778899Z",
     "iopub.execute_input": "2022-10-09T07:26:57.779366Z",
     "iopub.status.idle": "2022-10-09T07:26:59.512415Z",
     "shell.execute_reply.started": "2022-10-09T07:26:57.779276Z",
     "shell.execute_reply": "2022-10-09T07:26:59.511303Z"
    },
    "trusted": true,
    "pycharm": {
     "name": "#%%\n"
    }
   },
   "execution_count": 4,
   "outputs": []
  },
  {
   "cell_type": "code",
   "source": [
    "import warnings\n",
    "warnings.filterwarnings(\"ignore\")"
   ],
   "metadata": {
    "execution": {
     "iopub.status.busy": "2022-10-09T07:26:59.517824Z",
     "iopub.execute_input": "2022-10-09T07:26:59.520245Z",
     "iopub.status.idle": "2022-10-09T07:26:59.527077Z",
     "shell.execute_reply.started": "2022-10-09T07:26:59.520202Z",
     "shell.execute_reply": "2022-10-09T07:26:59.526128Z"
    },
    "trusted": true,
    "pycharm": {
     "name": "#%%\n"
    }
   },
   "execution_count": 5,
   "outputs": []
  },
  {
   "cell_type": "code",
   "source": [
    "df = pd.read_csv('../data/train_data.csv')\n",
    "df['type'] = df['id'].str[:10]\n",
    "df = df[df['type'] == 'sodepami_v']\n",
    "df = df.sample(688000)"
   ],
   "metadata": {
    "papermill": {
     "duration": 1.622086,
     "end_time": "2022-09-30T11:21:41.611671",
     "exception": false,
     "start_time": "2022-09-30T11:21:39.989585",
     "status": "completed"
    },
    "tags": [],
    "execution": {
     "iopub.status.busy": "2022-10-09T07:26:59.532349Z",
     "iopub.execute_input": "2022-10-09T07:26:59.535056Z",
     "iopub.status.idle": "2022-10-09T07:27:01.377142Z",
     "shell.execute_reply.started": "2022-10-09T07:26:59.535018Z",
     "shell.execute_reply": "2022-10-09T07:27:01.376067Z"
    },
    "trusted": true,
    "pycharm": {
     "name": "#%%\n"
    }
   },
   "execution_count": 6,
   "outputs": [
    {
     "ename": "ValueError",
     "evalue": "Cannot take a larger sample than population when 'replace=False'",
     "output_type": "error",
     "traceback": [
      "\u001B[1;31m---------------------------------------------------------------------------\u001B[0m",
      "\u001B[1;31mValueError\u001B[0m                                Traceback (most recent call last)",
      "Input \u001B[1;32mIn [6]\u001B[0m, in \u001B[0;36m<cell line: 4>\u001B[1;34m()\u001B[0m\n\u001B[0;32m      2\u001B[0m df[\u001B[38;5;124m'\u001B[39m\u001B[38;5;124mtype\u001B[39m\u001B[38;5;124m'\u001B[39m] \u001B[38;5;241m=\u001B[39m df[\u001B[38;5;124m'\u001B[39m\u001B[38;5;124mid\u001B[39m\u001B[38;5;124m'\u001B[39m]\u001B[38;5;241m.\u001B[39mstr[:\u001B[38;5;241m10\u001B[39m]\n\u001B[0;32m      3\u001B[0m df \u001B[38;5;241m=\u001B[39m df[df[\u001B[38;5;124m'\u001B[39m\u001B[38;5;124mtype\u001B[39m\u001B[38;5;124m'\u001B[39m] \u001B[38;5;241m==\u001B[39m \u001B[38;5;124m'\u001B[39m\u001B[38;5;124msodepami_v\u001B[39m\u001B[38;5;124m'\u001B[39m]\n\u001B[1;32m----> 4\u001B[0m df \u001B[38;5;241m=\u001B[39m \u001B[43mdf\u001B[49m\u001B[38;5;241;43m.\u001B[39;49m\u001B[43msample\u001B[49m\u001B[43m(\u001B[49m\u001B[38;5;241;43m688000\u001B[39;49m\u001B[43m)\u001B[49m\n",
      "File \u001B[1;32m~\\miniconda3\\envs\\py3.8\\lib\\site-packages\\pandas\\core\\generic.py:5446\u001B[0m, in \u001B[0;36mNDFrame.sample\u001B[1;34m(self, n, frac, replace, weights, random_state, axis, ignore_index)\u001B[0m\n\u001B[0;32m   5443\u001B[0m \u001B[38;5;28;01mif\u001B[39;00m weights \u001B[38;5;129;01mis\u001B[39;00m \u001B[38;5;129;01mnot\u001B[39;00m \u001B[38;5;28;01mNone\u001B[39;00m:\n\u001B[0;32m   5444\u001B[0m     weights \u001B[38;5;241m=\u001B[39m sample\u001B[38;5;241m.\u001B[39mpreprocess_weights(\u001B[38;5;28mself\u001B[39m, weights, axis)\n\u001B[1;32m-> 5446\u001B[0m sampled_indices \u001B[38;5;241m=\u001B[39m \u001B[43msample\u001B[49m\u001B[38;5;241;43m.\u001B[39;49m\u001B[43msample\u001B[49m\u001B[43m(\u001B[49m\u001B[43mobj_len\u001B[49m\u001B[43m,\u001B[49m\u001B[43m \u001B[49m\u001B[43msize\u001B[49m\u001B[43m,\u001B[49m\u001B[43m \u001B[49m\u001B[43mreplace\u001B[49m\u001B[43m,\u001B[49m\u001B[43m \u001B[49m\u001B[43mweights\u001B[49m\u001B[43m,\u001B[49m\u001B[43m \u001B[49m\u001B[43mrs\u001B[49m\u001B[43m)\u001B[49m\n\u001B[0;32m   5447\u001B[0m result \u001B[38;5;241m=\u001B[39m \u001B[38;5;28mself\u001B[39m\u001B[38;5;241m.\u001B[39mtake(sampled_indices, axis\u001B[38;5;241m=\u001B[39maxis)\n\u001B[0;32m   5449\u001B[0m \u001B[38;5;28;01mif\u001B[39;00m ignore_index:\n",
      "File \u001B[1;32m~\\miniconda3\\envs\\py3.8\\lib\\site-packages\\pandas\\core\\sample.py:150\u001B[0m, in \u001B[0;36msample\u001B[1;34m(obj_len, size, replace, weights, random_state)\u001B[0m\n\u001B[0;32m    147\u001B[0m     \u001B[38;5;28;01melse\u001B[39;00m:\n\u001B[0;32m    148\u001B[0m         \u001B[38;5;28;01mraise\u001B[39;00m \u001B[38;5;167;01mValueError\u001B[39;00m(\u001B[38;5;124m\"\u001B[39m\u001B[38;5;124mInvalid weights: weights sum to zero\u001B[39m\u001B[38;5;124m\"\u001B[39m)\n\u001B[1;32m--> 150\u001B[0m \u001B[38;5;28;01mreturn\u001B[39;00m \u001B[43mrandom_state\u001B[49m\u001B[38;5;241;43m.\u001B[39;49m\u001B[43mchoice\u001B[49m\u001B[43m(\u001B[49m\u001B[43mobj_len\u001B[49m\u001B[43m,\u001B[49m\u001B[43m \u001B[49m\u001B[43msize\u001B[49m\u001B[38;5;241;43m=\u001B[39;49m\u001B[43msize\u001B[49m\u001B[43m,\u001B[49m\u001B[43m \u001B[49m\u001B[43mreplace\u001B[49m\u001B[38;5;241;43m=\u001B[39;49m\u001B[43mreplace\u001B[49m\u001B[43m,\u001B[49m\u001B[43m \u001B[49m\u001B[43mp\u001B[49m\u001B[38;5;241;43m=\u001B[39;49m\u001B[43mweights\u001B[49m\u001B[43m)\u001B[49m\u001B[38;5;241m.\u001B[39mastype(\n\u001B[0;32m    151\u001B[0m     np\u001B[38;5;241m.\u001B[39mintp, copy\u001B[38;5;241m=\u001B[39m\u001B[38;5;28;01mFalse\u001B[39;00m\n\u001B[0;32m    152\u001B[0m )\n",
      "File \u001B[1;32mmtrand.pyx:965\u001B[0m, in \u001B[0;36mnumpy.random.mtrand.RandomState.choice\u001B[1;34m()\u001B[0m\n",
      "\u001B[1;31mValueError\u001B[0m: Cannot take a larger sample than population when 'replace=False'"
     ]
    }
   ]
  },
  {
   "cell_type": "code",
   "source": [
    "# df1 = pd.read_csv('../input/train-sim/train.csv')\n",
    "# df1 = df1[df1['price_vnd']>=5e6]"
   ],
   "metadata": {
    "execution": {
     "iopub.status.busy": "2022-10-09T07:27:01.379834Z",
     "iopub.execute_input": "2022-10-09T07:27:01.380891Z",
     "iopub.status.idle": "2022-10-09T07:27:01.386043Z",
     "shell.execute_reply.started": "2022-10-09T07:27:01.380847Z",
     "shell.execute_reply": "2022-10-09T07:27:01.384911Z"
    },
    "trusted": true,
    "pycharm": {
     "name": "#%%\n"
    }
   },
   "execution_count": null,
   "outputs": []
  },
  {
   "cell_type": "code",
   "source": [
    "# df = pd.concat([df,df1])"
   ],
   "metadata": {
    "execution": {
     "iopub.status.busy": "2022-10-09T07:27:01.387913Z",
     "iopub.execute_input": "2022-10-09T07:27:01.389162Z",
     "iopub.status.idle": "2022-10-09T07:27:01.395619Z",
     "shell.execute_reply.started": "2022-10-09T07:27:01.389106Z",
     "shell.execute_reply": "2022-10-09T07:27:01.394689Z"
    },
    "trusted": true,
    "pycharm": {
     "name": "#%%\n"
    }
   },
   "execution_count": null,
   "outputs": []
  },
  {
   "cell_type": "code",
   "source": [
    "df.shape"
   ],
   "metadata": {
    "execution": {
     "iopub.status.busy": "2022-10-09T07:27:01.397293Z",
     "iopub.execute_input": "2022-10-09T07:27:01.398041Z",
     "iopub.status.idle": "2022-10-09T07:27:01.420496Z",
     "shell.execute_reply.started": "2022-10-09T07:27:01.398004Z",
     "shell.execute_reply": "2022-10-09T07:27:01.419523Z"
    },
    "trusted": true,
    "pycharm": {
     "name": "#%%\n"
    }
   },
   "execution_count": null,
   "outputs": []
  },
  {
   "cell_type": "code",
   "source": [
    "def removing_wrong_phone_number(df):\n",
    "    df['phone_number'] = df['phone_number'].astype(str)\n",
    "    list_number = df['phone_number'].to_list()\n",
    "    list_len = []\n",
    "\n",
    "    for i in range(len(list_number)):\n",
    "        list_len.append(len(list_number[i]))\n",
    "\n",
    "    df['length'] = list_len\n",
    "\n",
    "    df = df[df['length'] != 11]\n",
    "\n",
    "    return df"
   ],
   "metadata": {
    "papermill": {
     "duration": 0.019241,
     "end_time": "2022-09-30T11:21:41.639894",
     "exception": false,
     "start_time": "2022-09-30T11:21:41.620653",
     "status": "completed"
    },
    "tags": [],
    "execution": {
     "iopub.status.busy": "2022-10-09T07:27:01.422214Z",
     "iopub.execute_input": "2022-10-09T07:27:01.422911Z",
     "iopub.status.idle": "2022-10-09T07:27:01.430919Z",
     "shell.execute_reply.started": "2022-10-09T07:27:01.422872Z",
     "shell.execute_reply": "2022-10-09T07:27:01.429863Z"
    },
    "trusted": true,
    "pycharm": {
     "name": "#%%\n"
    }
   },
   "execution_count": null,
   "outputs": []
  },
  {
   "cell_type": "code",
   "source": [
    "df = removing_wrong_phone_number(df)"
   ],
   "metadata": {
    "papermill": {
     "duration": 0.286827,
     "end_time": "2022-09-30T11:21:41.935536",
     "exception": false,
     "start_time": "2022-09-30T11:21:41.648709",
     "status": "completed"
    },
    "tags": [],
    "execution": {
     "iopub.status.busy": "2022-10-09T07:27:01.432367Z",
     "iopub.execute_input": "2022-10-09T07:27:01.433141Z",
     "iopub.status.idle": "2022-10-09T07:27:02.359174Z",
     "shell.execute_reply.started": "2022-10-09T07:27:01.433077Z",
     "shell.execute_reply": "2022-10-09T07:27:02.358063Z"
    },
    "trusted": true,
    "pycharm": {
     "name": "#%%\n"
    }
   },
   "execution_count": null,
   "outputs": []
  },
  {
   "cell_type": "code",
   "source": [
    "def creating_10_feats_from_single_pos(df):\n",
    "    list_number = df['phone_number'].to_list()\n",
    "    list_char = np.full((df.shape[0], 9), \"-1\")\n",
    "\n",
    "    for i in range(len(list_number)):\n",
    "        k = 8\n",
    "        for j in range(len(list_number[i])-1, 0, -1):\n",
    "            list_char[i][k] = list_number[i][j]\n",
    "            k-=1\n",
    "    \n",
    "            if(k==0):\n",
    "                list_char[i][k] = list_number[i][0:j]\n",
    "                break\n",
    "    for i in range(9):\n",
    "        df['pos_' + str(i+1)] = list_char[:,i]\n",
    "    return df"
   ],
   "metadata": {
    "papermill": {
     "duration": 0.021912,
     "end_time": "2022-09-30T11:21:41.967285",
     "exception": false,
     "start_time": "2022-09-30T11:21:41.945373",
     "status": "completed"
    },
    "tags": [],
    "execution": {
     "iopub.status.busy": "2022-10-09T07:27:02.360652Z",
     "iopub.execute_input": "2022-10-09T07:27:02.361341Z",
     "iopub.status.idle": "2022-10-09T07:27:02.369913Z",
     "shell.execute_reply.started": "2022-10-09T07:27:02.361301Z",
     "shell.execute_reply": "2022-10-09T07:27:02.368922Z"
    },
    "trusted": true,
    "pycharm": {
     "name": "#%%\n"
    }
   },
   "execution_count": null,
   "outputs": []
  },
  {
   "cell_type": "code",
   "source": [
    "df = creating_10_feats_from_single_pos(df)\n",
    "df.head(10)"
   ],
   "metadata": {
    "papermill": {
     "duration": 0.903196,
     "end_time": "2022-09-30T11:21:42.880855",
     "exception": false,
     "start_time": "2022-09-30T11:21:41.977659",
     "status": "completed"
    },
    "tags": [],
    "execution": {
     "iopub.status.busy": "2022-10-09T07:27:02.374960Z",
     "iopub.execute_input": "2022-10-09T07:27:02.375260Z",
     "iopub.status.idle": "2022-10-09T07:27:04.969513Z",
     "shell.execute_reply.started": "2022-10-09T07:27:02.375234Z",
     "shell.execute_reply": "2022-10-09T07:27:04.968439Z"
    },
    "trusted": true,
    "pycharm": {
     "name": "#%%\n"
    }
   },
   "execution_count": null,
   "outputs": []
  },
  {
   "cell_type": "code",
   "source": [
    "def features_from_counting_numbers(df):\n",
    "    list_number = df['phone_number'].to_list()\n",
    "    \n",
    "    list_count = np.full((df.shape[0], 10), 0)\n",
    "    \n",
    "    for i in range(len(list_number)):\n",
    "        for j in range(len(list_number[i])):\n",
    "            tmp = int(list_number[i][j])\n",
    "            list_count[i][tmp] += 1  \n",
    "    for i in range(10):\n",
    "        df['count_' + str(i)] = list_count[:,i]\n",
    "    \n",
    "    max_count = [0 for i in range(len(list_number))]\n",
    "    for i in range(len(list_number)):\n",
    "        max_c = 0\n",
    "        pos = 0\n",
    "        for j in range(len(list_count[i])):\n",
    "            if list_count[i][j] >= max_c:\n",
    "                max_c = list_count[i][j]\n",
    "                pos = j\n",
    "        #print(max_c)\n",
    "        max_count[i] = pos  \n",
    "        \n",
    "    df['max_count'] = max_count\n",
    "    return df"
   ],
   "metadata": {
    "papermill": {
     "duration": 0.023555,
     "end_time": "2022-09-30T11:21:42.913872",
     "exception": false,
     "start_time": "2022-09-30T11:21:42.890317",
     "status": "completed"
    },
    "tags": [],
    "execution": {
     "iopub.status.busy": "2022-10-09T07:27:04.971260Z",
     "iopub.execute_input": "2022-10-09T07:27:04.971695Z",
     "iopub.status.idle": "2022-10-09T07:27:04.980922Z",
     "shell.execute_reply.started": "2022-10-09T07:27:04.971659Z",
     "shell.execute_reply": "2022-10-09T07:27:04.979712Z"
    },
    "trusted": true,
    "pycharm": {
     "name": "#%%\n"
    }
   },
   "execution_count": null,
   "outputs": []
  },
  {
   "cell_type": "code",
   "source": [
    "df = features_from_counting_numbers(df)"
   ],
   "metadata": {
    "papermill": {
     "duration": 2.366083,
     "end_time": "2022-09-30T11:21:45.289086",
     "exception": false,
     "start_time": "2022-09-30T11:21:42.923003",
     "status": "completed"
    },
    "scrolled": true,
    "tags": [],
    "execution": {
     "iopub.status.busy": "2022-10-09T07:27:04.982903Z",
     "iopub.execute_input": "2022-10-09T07:27:04.983273Z",
     "iopub.status.idle": "2022-10-09T07:27:13.246399Z",
     "shell.execute_reply.started": "2022-10-09T07:27:04.983238Z",
     "shell.execute_reply": "2022-10-09T07:27:13.245356Z"
    },
    "trusted": true,
    "pycharm": {
     "name": "#%%\n"
    }
   },
   "execution_count": null,
   "outputs": []
  },
  {
   "cell_type": "code",
   "source": [],
   "metadata": {
    "pycharm": {
     "name": "#%%\n"
    }
   },
   "execution_count": null,
   "outputs": []
  },
  {
   "cell_type": "code",
   "source": [
    "def combo_feat(df):\n",
    "    list_number = df['phone_number'].tolist()\n",
    "\n",
    "    list_2_last = list() #extract 2 last digit\n",
    "\n",
    "    list_3_last = list() #extract 3 last digit\n",
    "\n",
    "    list_4_last = list() #extract 4 last digit\n",
    "\n",
    "    list_5_last = list() #extract 5 last digit\n",
    "\n",
    "    list_first = list() #extract first digit after 0\n",
    "\n",
    "    list_combo_3_identical_bool = list() # the phone number contain 111, 222, ....999 or not\n",
    "\n",
    "    list_combo_3_identical_cat = list() # the phone number contain which one of 111, 222, ....999\n",
    "\n",
    "    list_combo_4_identical_bool = list() # the phone number contain 1111, 2222, ... or not\n",
    "\n",
    "    list_combo_4_identical_cat = list()\n",
    "\n",
    "    list_combo_5_identical_bool = list() # the phone number contain 11111, 22222, ... or not\n",
    "\n",
    "    list_combo_5_identical_cat = list()\n",
    "\n",
    "    list_combo_6_identical_bool = list() \n",
    "\n",
    "    list_combo_6_identical_cat = list() \n",
    "\n",
    "    list_3_combo_s = list() # tam hoa <5\n",
    "\n",
    "    list_3_combo_57 = list() # tam hoa 5,7\n",
    "\n",
    "    list_3_combo_689 = list() # tam hoa 6,8,9\n",
    "\n",
    "    list_4_combo_s = list() # tu quy <5\n",
    "\n",
    "    list_4_combo_57 = list() # tu quy 5,7\n",
    "\n",
    "    list_4_combo_689 = list() # tu quy 6,8,9\n",
    "\n",
    "\n",
    "    for i in range(len(list_number)):\n",
    "            str_tmp_2_last = list_number[i][-2:]\n",
    "            list_2_last.append(str_tmp_2_last)\n",
    "\n",
    "            str_tmp_3_last = list_number[i][-3:]\n",
    "            list_3_last.append(str_tmp_3_last)\n",
    "\n",
    "            str_tmp_4_last = list_number[i][-4:]\n",
    "            list_4_last.append(str_tmp_4_last)\n",
    "\n",
    "            str_tmp_5_last = list_number[i][-5:]\n",
    "            list_5_last.append(str_tmp_5_last)\n",
    "\n",
    "            str_tmp_first = list_number[i][0]\n",
    "            list_first.append(str_tmp_first)\n",
    "\n",
    "            list_combo_3 = {'000','111','222','333','444','555','666','777','888','999'}\n",
    "            combo_3_score = 0\n",
    "            combo_3_cat = \"\"\n",
    "\n",
    "            combo_3_s = 0\n",
    "            combo_3_57 = 0\n",
    "            combo_3_689 = 0\n",
    "\n",
    "            for str_tmp in list_combo_3:\n",
    "                if str_tmp in list_number[i]:\n",
    "                    combo_3_score = combo_3_score + 1\n",
    "                    combo_3_cat += str_tmp\n",
    "\n",
    "                    x = (int)(str_tmp[0])\n",
    "\n",
    "                    if(x in {0,1,2,3,4} ): \n",
    "                        combo_3_s = combo_3_s + 1\n",
    "                    elif (x == 5 or x == 7 ):\n",
    "                        combo_3_57 = combo_3_57 + 1    \n",
    "                    else:\n",
    "                        combo_3_689 = combo_3_689 + 1\n",
    "\n",
    "            list_combo_3_identical_bool.append(combo_3_score)\n",
    "            list_combo_3_identical_cat.append(combo_3_cat)\n",
    "\n",
    "            list_3_combo_s.append(combo_3_s)\n",
    "            list_3_combo_57.append(combo_3_57)\n",
    "            list_3_combo_689.append(combo_3_689)\n",
    "\n",
    "            list_combo_4 = {'0000','1111','2222','3333','4444','5555','6666','7777','8888','9999'}\n",
    "            combo_4_score = 0\n",
    "            combo_4_cat = \"\"\n",
    "\n",
    "            combo_4_s = 0\n",
    "            combo_4_57 = 0\n",
    "            combo_4_689 = 0\n",
    "            for str_tmp in list_combo_4:\n",
    "                if str_tmp in list_number[i]:\n",
    "                    combo_4_score = combo_4_score + 1\n",
    "                    combo_4_cat += str_tmp\n",
    "\n",
    "                    x = (int)(str_tmp[0])\n",
    "\n",
    "                    if(x in {0,1,2,3,4} ): \n",
    "                        combo_4_s = combo_4_s + 1\n",
    "                    elif (x == 5 or x == 7 ):\n",
    "                        combo_4_57 = combo_4_57 + 1    \n",
    "                    else:\n",
    "                        combo_4_689 = combo_4_689 + 1            \n",
    "\n",
    "\n",
    "            list_combo_4_identical_bool.append(combo_4_score)\n",
    "            list_combo_4_identical_cat.append(combo_4_cat)\n",
    "\n",
    "            list_4_combo_s.append(combo_4_s)\n",
    "            list_4_combo_57.append(combo_4_57)\n",
    "            list_4_combo_689.append(combo_4_689)\n",
    "\n",
    "            list_combo_5 = {'00000','11111','22222','33333','44444','55555','66666','77777','88888','99999'}\n",
    "            combo_5_score = 0\n",
    "            combo_5_cat = \"\"\n",
    "            for str_tmp in list_combo_5:\n",
    "                if str_tmp in list_number[i]:\n",
    "                    combo_5_score = combo_5_score + 1\n",
    "                    combo_5_cat += str_tmp\n",
    "\n",
    "            list_combo_5_identical_bool.append(combo_5_score)\n",
    "            list_combo_5_identical_cat.append(combo_5_cat)\n",
    "\n",
    "\n",
    "            list_combo_6 = {'000000','111111','222222','333333','444444','555555','666666','777777','888888','999999'}\n",
    "            combo_6_score = 0\n",
    "            combo_6_cat = \"\"\n",
    "\n",
    "            for str_tmp in list_combo_6:\n",
    "                if str_tmp in list_number[i]:\n",
    "                    combo_6_score = combo_6_score + 1\n",
    "                    combo_6_cat += str_tmp\n",
    "\n",
    "            list_combo_6_identical_bool.append(combo_6_score)\n",
    "            list_combo_6_identical_cat.append(combo_6_cat)\n",
    "\n",
    "    df['2_last'] = list_2_last\n",
    "    df['3_last'] = list_3_last\n",
    "    df['4_last'] = list_4_last\n",
    "    df['5_last'] = list_5_last\n",
    "    df['first'] = list_first\n",
    "\n",
    "    df['3_combo_bool'] = list_combo_3_identical_bool\n",
    "    df['3_combo_cat'] = list_combo_3_identical_cat\n",
    "\n",
    "    df['4_combo_bool'] = list_combo_4_identical_bool\n",
    "    df['4_combo_cat'] = list_combo_4_identical_cat\n",
    "\n",
    "    df['5_combo_bool'] = list_combo_5_identical_bool\n",
    "    df['5_combo_cat'] = list_combo_5_identical_cat\n",
    "\n",
    "    df['6_combo_bool'] = list_combo_6_identical_bool\n",
    "    df['6_combo_cat'] = list_combo_6_identical_cat\n",
    "\n",
    "    df['3_combo_s'] = list_3_combo_s\n",
    "    df['3_combo_57'] = list_3_combo_57\n",
    "    df['3_combo_689'] = list_3_combo_689\n",
    "\n",
    "    df['4_combo_s'] = list_4_combo_s\n",
    "    df['4_combo_57'] = list_4_combo_57\n",
    "    df['4_combo_689'] = list_4_combo_689\n",
    "        \n",
    "    return df"
   ],
   "metadata": {
    "execution": {
     "iopub.status.busy": "2022-10-09T07:27:13.249122Z",
     "iopub.execute_input": "2022-10-09T07:27:13.249853Z",
     "iopub.status.idle": "2022-10-09T07:27:13.273178Z",
     "shell.execute_reply.started": "2022-10-09T07:27:13.249812Z",
     "shell.execute_reply": "2022-10-09T07:27:13.272137Z"
    },
    "trusted": true,
    "pycharm": {
     "name": "#%%\n"
    }
   },
   "execution_count": null,
   "outputs": []
  },
  {
   "cell_type": "code",
   "source": [
    "df = combo_feat(df)"
   ],
   "metadata": {
    "execution": {
     "iopub.status.busy": "2022-10-09T07:27:13.274814Z",
     "iopub.execute_input": "2022-10-09T07:27:13.275214Z",
     "iopub.status.idle": "2022-10-09T07:27:20.541857Z",
     "shell.execute_reply.started": "2022-10-09T07:27:13.275175Z",
     "shell.execute_reply": "2022-10-09T07:27:20.540836Z"
    },
    "trusted": true,
    "pycharm": {
     "name": "#%%\n"
    }
   },
   "execution_count": null,
   "outputs": []
  },
  {
   "cell_type": "code",
   "source": [
    "df[df['3_combo_bool']!=0]"
   ],
   "metadata": {
    "execution": {
     "iopub.status.busy": "2022-10-09T07:27:20.543429Z",
     "iopub.execute_input": "2022-10-09T07:27:20.543859Z",
     "iopub.status.idle": "2022-10-09T07:27:21.323194Z",
     "shell.execute_reply.started": "2022-10-09T07:27:20.543816Z",
     "shell.execute_reply": "2022-10-09T07:27:21.322206Z"
    },
    "trusted": true,
    "pycharm": {
     "name": "#%%\n"
    }
   },
   "execution_count": null,
   "outputs": []
  },
  {
   "cell_type": "code",
   "source": [
    "# def lucky_2_last(df):\n",
    "#     list_2_lucky_last_bool = list()\n",
    "#     list_2_lucky_last_cat = list()\n",
    "\n",
    "#     for i in list_2_last:\n",
    "#         if (i == '68' or i == '86' or i == '78' or i == '79' or i == '39' or i == '38' or i =='83'):\n",
    "#             list_2_lucky_last_bool.append(1)\n",
    "#             list_2_lucky_last_cat.append(i)\n",
    "#         else:\n",
    "#             list_2_lucky_last_bool.append(0)\n",
    "#             list_2_lucky_last_cat.append('')\n",
    "\n",
    "\n",
    "#     df['2_lucky_last_bool'] = list_2_lucky_last_bool # check if the phone number has 2 last \"lucky number\" or not\n",
    "#     df['2_lucky_last_cat'] = list_2_lucky_last_cat\n",
    "    \n",
    "#     return df\n"
   ],
   "metadata": {
    "execution": {
     "iopub.status.busy": "2022-10-09T07:27:21.324531Z",
     "iopub.execute_input": "2022-10-09T07:27:21.325396Z",
     "iopub.status.idle": "2022-10-09T07:27:21.331118Z",
     "shell.execute_reply.started": "2022-10-09T07:27:21.325353Z",
     "shell.execute_reply": "2022-10-09T07:27:21.329977Z"
    },
    "trusted": true,
    "pycharm": {
     "name": "#%%\n"
    }
   },
   "execution_count": null,
   "outputs": []
  },
  {
   "cell_type": "code",
   "source": [],
   "metadata": {
    "pycharm": {
     "name": "#%%\n"
    }
   },
   "execution_count": null,
   "outputs": []
  },
  {
   "cell_type": "code",
   "source": [
    "def sim_nam_sinh(df):\n",
    "    list_nam_sinh_bool = []\n",
    "    list_number = df['phone_number'].to_list()\n",
    "    list_nam_sinh = []\n",
    "    for i in list_number:\n",
    "        if 1900 <= int(i[-4:]) <= 2022:\n",
    "            list_nam_sinh.append(int(i[-4:]))\n",
    "            list_nam_sinh_bool.append(1)\n",
    "        else:\n",
    "            list_nam_sinh.append(0)\n",
    "            list_nam_sinh_bool.append(0)\n",
    "            \n",
    "    \n",
    "    df['nam_sinh'] = list_nam_sinh\n",
    "    df['nam_sinh_bool'] = list_nam_sinh_bool\n",
    "    df['nam_sinh'] = df['nam_sinh'].astype(str)\n",
    "    return df"
   ],
   "metadata": {
    "papermill": {
     "duration": 0.019435,
     "end_time": "2022-09-30T11:21:45.317293",
     "exception": false,
     "start_time": "2022-09-30T11:21:45.297858",
     "status": "completed"
    },
    "tags": [],
    "execution": {
     "iopub.status.busy": "2022-10-09T07:27:21.332783Z",
     "iopub.execute_input": "2022-10-09T07:27:21.333173Z",
     "iopub.status.idle": "2022-10-09T07:27:21.345185Z",
     "shell.execute_reply.started": "2022-10-09T07:27:21.333139Z",
     "shell.execute_reply": "2022-10-09T07:27:21.344141Z"
    },
    "trusted": true,
    "pycharm": {
     "name": "#%%\n"
    }
   },
   "execution_count": null,
   "outputs": []
  },
  {
   "cell_type": "code",
   "source": [
    "\n"
   ],
   "metadata": {
    "pycharm": {
     "name": "#%%\n"
    }
   },
   "execution_count": null,
   "outputs": []
  },
  {
   "cell_type": "code",
   "source": [
    "df = sim_nam_sinh(df)"
   ],
   "metadata": {
    "papermill": {
     "duration": 0.274974,
     "end_time": "2022-09-30T11:21:45.601437",
     "exception": false,
     "start_time": "2022-09-30T11:21:45.326463",
     "status": "completed"
    },
    "tags": [],
    "execution": {
     "iopub.status.busy": "2022-10-09T07:27:21.346691Z",
     "iopub.execute_input": "2022-10-09T07:27:21.347114Z",
     "iopub.status.idle": "2022-10-09T07:27:22.358382Z",
     "shell.execute_reply.started": "2022-10-09T07:27:21.347070Z",
     "shell.execute_reply": "2022-10-09T07:27:22.357247Z"
    },
    "trusted": true,
    "pycharm": {
     "name": "#%%\n"
    }
   },
   "execution_count": null,
   "outputs": []
  },
  {
   "cell_type": "code",
   "source": [
    "# df['nam_sinh'][df['nam_sinh_bool']!=0]"
   ],
   "metadata": {
    "execution": {
     "iopub.status.busy": "2022-10-09T07:27:22.360164Z",
     "iopub.execute_input": "2022-10-09T07:27:22.360643Z",
     "iopub.status.idle": "2022-10-09T07:27:22.365688Z",
     "shell.execute_reply.started": "2022-10-09T07:27:22.360599Z",
     "shell.execute_reply": "2022-10-09T07:27:22.364372Z"
    },
    "trusted": true,
    "pycharm": {
     "name": "#%%\n"
    }
   },
   "execution_count": null,
   "outputs": []
  },
  {
   "cell_type": "code",
   "source": [
    "def symetric_4length_and_samesubtring_features(df):\n",
    "    list_number = df['phone_number'].to_list()\n",
    "    list_length_palindrome = []\n",
    "    list_bool_palindrome = []\n",
    "    list_palindrome = []\n",
    "    list_same_substr = []\n",
    "    list_same_substr_length = []\n",
    "    list_bool_same_substr = []\n",
    "    for i in range(len(list_number)):\n",
    "        \n",
    "        res = [list_number[i][x: y]+str(x) for x in range(len(list_number[i])-1)\n",
    "              for y in range(x + 2, len(list_number[i])+1)]\n",
    "                \n",
    "        tmp = \"\"\n",
    "        for j in res:\n",
    "            if len(j[:-1])>=4  and len(j[:-1]) > len(tmp) and j[:-1] == j[:-1][::-1]:\n",
    "                tmp = j[:-1]\n",
    "        \n",
    "         \n",
    "        list_palindrome.append(tmp)\n",
    "        list_length_palindrome.append(len(tmp))\n",
    "        \n",
    "        \n",
    "        tmp2 = \"\"\n",
    "                \n",
    "                \n",
    "        for j in range(len(res)-1):\n",
    "            \n",
    "            u1_n = (len(list_number[i]) - 1 - int(res[j][-1])) * len(res[j][:-1])\n",
    "            ps = int(len(res[j][:-1]) * ( len(res[j][:-1])-1) / 2)\n",
    "            \n",
    "            \n",
    "            for z in range(j + (u1_n - ps),len(res)):\n",
    "                if res[j][:-1] == res[z][:-1] and len(res[j][:-1]) > len(tmp2):\n",
    "                    tmp2 = res[z][:-1]\n",
    "  \n",
    "        list_same_substr.append(tmp2)\n",
    "        list_same_substr_length.append(len(tmp2))\n",
    "    \n",
    "    for i in range(len(list_length_palindrome)):\n",
    "        if list_length_palindrome[i] != 0:\n",
    "            list_bool_palindrome.append(1)\n",
    "        else:\n",
    "            list_bool_palindrome.append(0)\n",
    "        \n",
    "        if list_same_substr_length[i] != 0:\n",
    "            list_bool_same_substr.append(1)\n",
    "        else:\n",
    "            list_bool_same_substr.append(0)\n",
    "        \n",
    "    df['palindrome_length'] = list_length_palindrome\n",
    "    df['palindrome'] = list_palindrome\n",
    "    df['bool_palindrome'] = list_bool_palindrome\n",
    "    df['list_same'] = list_same_substr\n",
    "    df['list_same_substr_length'] = list_same_substr_length\n",
    "    df['bool_substr'] = list_bool_same_substr\n",
    "    return df"
   ],
   "metadata": {
    "papermill": {
     "duration": 0.027187,
     "end_time": "2022-09-30T11:21:45.637590",
     "exception": false,
     "start_time": "2022-09-30T11:21:45.610403",
     "status": "completed"
    },
    "tags": [],
    "execution": {
     "iopub.status.busy": "2022-10-09T07:27:22.368460Z",
     "iopub.execute_input": "2022-10-09T07:27:22.369234Z",
     "iopub.status.idle": "2022-10-09T07:27:22.384869Z",
     "shell.execute_reply.started": "2022-10-09T07:27:22.369197Z",
     "shell.execute_reply": "2022-10-09T07:27:22.383910Z"
    },
    "trusted": true,
    "pycharm": {
     "name": "#%%\n"
    }
   },
   "execution_count": null,
   "outputs": []
  },
  {
   "cell_type": "code",
   "source": [
    "df = symetric_4length_and_samesubtring_features(df)\n",
    "df.head(10)"
   ],
   "metadata": {
    "papermill": {
     "duration": 23.794276,
     "end_time": "2022-09-30T11:22:09.440959",
     "exception": false,
     "start_time": "2022-09-30T11:21:45.646683",
     "status": "completed"
    },
    "tags": [],
    "execution": {
     "iopub.status.busy": "2022-10-09T07:27:22.386547Z",
     "iopub.execute_input": "2022-10-09T07:27:22.386898Z",
     "iopub.status.idle": "2022-10-09T07:28:38.001219Z",
     "shell.execute_reply.started": "2022-10-09T07:27:22.386864Z",
     "shell.execute_reply": "2022-10-09T07:28:37.999870Z"
    },
    "trusted": true,
    "pycharm": {
     "name": "#%%\n"
    }
   },
   "execution_count": null,
   "outputs": []
  },
  {
   "cell_type": "code",
   "source": [
    "df[df['bool_substr']==1]"
   ],
   "metadata": {
    "execution": {
     "iopub.status.busy": "2022-10-09T07:28:38.002824Z",
     "iopub.execute_input": "2022-10-09T07:28:38.003512Z",
     "iopub.status.idle": "2022-10-09T07:28:39.115724Z",
     "shell.execute_reply.started": "2022-10-09T07:28:38.003455Z",
     "shell.execute_reply": "2022-10-09T07:28:39.114617Z"
    },
    "trusted": true,
    "pycharm": {
     "name": "#%%\n"
    }
   },
   "execution_count": null,
   "outputs": []
  },
  {
   "cell_type": "code",
   "source": [
    "# def combo_features(df):\n",
    "#     list_number = df['phone_number'].tolist()\n",
    "    \n",
    "#     list_2_last = list() #extract 2 last digit\n",
    "    \n",
    "#     list_3_last = list() #extract 3 last digit\n",
    "    \n",
    "#     list_4_last = list() #extract 4 last digit\n",
    "    \n",
    "#     list_5_last = list() #extract 5 last digit\n",
    "    \n",
    "#     list_combo_3_identical = list() # the phone number contain 111, 222, ....999 or not\n",
    "    \n",
    "#     list_combo_4_identical = list() # the phone number contain 1111, 2222, ... or not\n",
    "    \n",
    "#     list_combo_5_identical = list() # the phone number contain 11111, 22222, ... or not\n",
    "    \n",
    "#     list_combo_6_identical = list() # the phone number contain 11111, 22222, ... or not\n",
    "    \n",
    "    \n",
    "    \n",
    "#     for i in range(len(list_number)):\n",
    "#         str_2_last = list_number[i][-2:]\n",
    "#         list_2_last.append(str_2_last)\n",
    "    \n",
    "#         str_3_last = list_number[i][-3:]\n",
    "#         list_3_last.append(str_3_last)\n",
    "    \n",
    "#         str_4_last = list_number[i][-4:]\n",
    "#         list_4_last.append(str_4_last)\n",
    "    \n",
    "#         str_5_last = list_number[i][-5:]\n",
    "#         list_5_last.append(str_5_last)\n",
    "    \n",
    "    \n",
    "#         list_combo_3 = ['000','111','222','333','444','555','666','777','888','999']\n",
    "    \n",
    "#         tmp = \"\"\n",
    "#         for j in range(len(list_combo_3)):\n",
    "#             if list_combo_3[j] in list_number[i]:\n",
    "#                 tmp += list_combo_3[j]\n",
    "    \n",
    "#         list_combo_3_identical.append(tmp)\n",
    "    \n",
    "#         list_combo_4 = ['0000','1111','2222','3333','4444','5555','6666','7777','8888','9999']\n",
    "#         tmp_4 = \"\"\n",
    "    \n",
    "#         for j in range(len(list_combo_4)):\n",
    "#           if list_combo_4[j] in list_number[i]:\n",
    "#                 tmp_4 += list_combo_4[j]\n",
    "        \n",
    "#         list_combo_4_identical.append(tmp_4)\n",
    "    \n",
    "#         list_combo_5 = ['00000','11111','22222','33333','44444','55555','66666','77777','88888','99999']\n",
    "#         tmp_5 = \"\"\n",
    "    \n",
    "#         for j in range(len(list_combo_5)):\n",
    "#             if list_combo_5[j] in list_number[i]:\n",
    "#                 tmp_5 += list_combo_5[j]\n",
    "        \n",
    "#         list_combo_5_identical.append(tmp_5)\n",
    "    \n",
    "    \n",
    "#         list_combo_6 = ['000000','111111','222222','333333','444444','555555','666666','777777','888888','999999']\n",
    "#         tmp_6 = \"\"\n",
    "    \n",
    "#         for j in range(len(list_combo_6)):\n",
    "#             if list_combo_6[j] in list_number[i]:\n",
    "#                 tmp_6 += list_combo_6[j]\n",
    "        \n",
    "#         list_combo_6_identical.append(tmp_6)\n",
    "    \n",
    "#     df['2_last'] = list_2_last\n",
    "#     df['3_last'] = list_3_last\n",
    "#     df['4_last'] = list_4_last\n",
    "#     df['5_last'] = list_5_last\n",
    "#     df['3_combo'] = list_combo_3_identical\n",
    "#     df['4_combo'] = list_combo_4_identical\n",
    "#     df['5_combo'] = list_combo_5_identical\n",
    "#     df['6_combo'] = list_combo_6_identical\n",
    "    \n",
    "#     return df"
   ],
   "metadata": {
    "papermill": {
     "duration": 0.031612,
     "end_time": "2022-09-30T11:22:09.482579",
     "exception": false,
     "start_time": "2022-09-30T11:22:09.450967",
     "status": "completed"
    },
    "tags": [],
    "execution": {
     "iopub.status.busy": "2022-10-09T07:28:39.117234Z",
     "iopub.execute_input": "2022-10-09T07:28:39.118143Z",
     "iopub.status.idle": "2022-10-09T07:28:39.125932Z",
     "shell.execute_reply.started": "2022-10-09T07:28:39.118105Z",
     "shell.execute_reply": "2022-10-09T07:28:39.124669Z"
    },
    "trusted": true,
    "pycharm": {
     "name": "#%%\n"
    }
   },
   "execution_count": null,
   "outputs": []
  },
  {
   "cell_type": "code",
   "source": [
    "# df = combo_features(df)\n",
    "# df.head()"
   ],
   "metadata": {
    "papermill": {
     "duration": 1.800762,
     "end_time": "2022-09-30T11:22:11.293117",
     "exception": false,
     "start_time": "2022-09-30T11:22:09.492355",
     "status": "completed"
    },
    "tags": [],
    "execution": {
     "iopub.status.busy": "2022-10-09T07:28:39.127598Z",
     "iopub.execute_input": "2022-10-09T07:28:39.127970Z",
     "iopub.status.idle": "2022-10-09T07:28:39.139806Z",
     "shell.execute_reply.started": "2022-10-09T07:28:39.127934Z",
     "shell.execute_reply": "2022-10-09T07:28:39.138852Z"
    },
    "trusted": true,
    "pycharm": {
     "name": "#%%\n"
    }
   },
   "execution_count": null,
   "outputs": []
  },
  {
   "cell_type": "code",
   "source": [
    "def count_combo_features(df):\n",
    "    list_number = df['phone_number'].to_list()\n",
    "    list_combo_3_count = list() # the phone number contain 111, 222, ....999 or not\n",
    "    \n",
    "    list_combo_4_count = list() # the phone number contain 1111, 2222, ... or not\n",
    "    \n",
    "    list_combo_5_count = list() # the phone number contain 11111, 22222, ... or not\n",
    "    \n",
    "    list_combo_6_count = list() # the phone number contain 11111, 22222, ... or not\n",
    "    \n",
    "    \n",
    "    \n",
    "    for i in range(len(list_number)):\n",
    "    \n",
    "        list_combo_3 = {'000','111','222','333','444','555','666','777','888','999'}\n",
    "        combo_3_score = 0\n",
    "    \n",
    "        for j in list_combo_3:\n",
    "            if j in list_number[i]:\n",
    "                combo_3_score = combo_3_score + 1\n",
    "    \n",
    "        list_combo_3_count.append(combo_3_score)\n",
    "    \n",
    "        list_combo_4 = {'0000','1111','2222','3333','4444','5555','6666','7777','8888','9999'}\n",
    "        combo_4_score = 0\n",
    "    \n",
    "        for j in list_combo_4:\n",
    "            if j in list_number[i]:\n",
    "                combo_4_score = combo_4_score + 1\n",
    "        \n",
    "        list_combo_4_count.append(combo_4_score)\n",
    "    \n",
    "        list_combo_5 = {'00000','11111','22222','33333','44444','55555','66666','77777','88888','99999'}\n",
    "        combo_5_score = 0\n",
    "    \n",
    "        for j in list_combo_5:\n",
    "            if j in list_number[i]:\n",
    "                combo_5_score = combo_5_score + 1\n",
    "        \n",
    "        list_combo_5_count.append(combo_5_score)\n",
    "    \n",
    "    \n",
    "        list_combo_6 = {'000000','111111','222222','333333','444444','555555','666666','777777','888888','999999'}\n",
    "        combo_6_score = 0\n",
    "    \n",
    "        for j in list_combo_6:\n",
    "            if j in list_number[i]:\n",
    "                combo_6_score = combo_6_score + 1\n",
    "        \n",
    "        list_combo_6_count.append(combo_6_score)\n",
    "        \n",
    "    df['3_combo_count'] = list_combo_3_count\n",
    "    df['4_combo_count'] = list_combo_4_count\n",
    "    df['5_combo_count'] = list_combo_5_count\n",
    "    df['6_combo_count'] = list_combo_6_count\n",
    "    \n",
    "    return df"
   ],
   "metadata": {
    "papermill": {
     "duration": 0.028376,
     "end_time": "2022-09-30T11:22:11.331588",
     "exception": false,
     "start_time": "2022-09-30T11:22:11.303212",
     "status": "completed"
    },
    "tags": [],
    "execution": {
     "iopub.status.busy": "2022-10-09T07:28:39.142586Z",
     "iopub.execute_input": "2022-10-09T07:28:39.143044Z",
     "iopub.status.idle": "2022-10-09T07:28:39.157196Z",
     "shell.execute_reply.started": "2022-10-09T07:28:39.143010Z",
     "shell.execute_reply": "2022-10-09T07:28:39.156260Z"
    },
    "trusted": true,
    "pycharm": {
     "name": "#%%\n"
    }
   },
   "execution_count": null,
   "outputs": []
  },
  {
   "cell_type": "code",
   "source": [
    "df = count_combo_features(df)\n",
    "df.head()"
   ],
   "metadata": {
    "papermill": {
     "duration": 1.320611,
     "end_time": "2022-09-30T11:22:12.662604",
     "exception": false,
     "start_time": "2022-09-30T11:22:11.341993",
     "status": "completed"
    },
    "tags": [],
    "execution": {
     "iopub.status.busy": "2022-10-09T07:28:39.158530Z",
     "iopub.execute_input": "2022-10-09T07:28:39.158891Z",
     "iopub.status.idle": "2022-10-09T07:28:42.919716Z",
     "shell.execute_reply.started": "2022-10-09T07:28:39.158854Z",
     "shell.execute_reply": "2022-10-09T07:28:42.918623Z"
    },
    "trusted": true,
    "pycharm": {
     "name": "#%%\n"
    }
   },
   "execution_count": null,
   "outputs": []
  },
  {
   "cell_type": "code",
   "source": [
    "def features_2_inden_and_2_lucky_last(df):\n",
    "    list_number = df['phone_number'].to_list()\n",
    "    \n",
    "    list_2_iden = list()\n",
    "    \n",
    "    list_2_combo = ['00','11','22','33','44','55','66','77','88','99']\n",
    "    for i in list_number:\n",
    "        tmp = \"\"\n",
    "        for j in list_2_combo:\n",
    "            if (j in i):\n",
    "                tmp += j\n",
    "            else:\n",
    "                tmp += \"\"\n",
    "                \n",
    "        list_2_iden.append(tmp)\n",
    "    \n",
    "    list_2_lucky_last = list()\n",
    "    \n",
    "    list_lucky = ['68','86','78','79','39','38','83']\n",
    "    for i in list_number:\n",
    "      tmp = \"\"\n",
    "      for j in list_lucky:\n",
    "        if (j in i):\n",
    "            tmp += j\n",
    "        else:\n",
    "            tmp += \"\"\n",
    "    \n",
    "      list_2_lucky_last.append(tmp)\n",
    "    \n",
    "    list_bool_2_lucky = []\n",
    "    for i in list_2_lucky_last:\n",
    "        if i != \"\":\n",
    "            list_bool_2_lucky.append(1)\n",
    "        else:\n",
    "            list_bool_2_lucky.append(0)\n",
    "    \n",
    "    list_bool_2_iden = []\n",
    "    for i in list_2_iden:\n",
    "        if i != \"\":\n",
    "            list_bool_2_iden.append(1)\n",
    "        else:\n",
    "            list_bool_2_iden.append(0)\n",
    "    \n",
    "    df['2_lucky_bool'] = list_bool_2_lucky\n",
    "    df['2_iden_bool'] = list_bool_2_iden\n",
    "    df['2_iden'] = list_2_iden\n",
    "    df['2_lucky'] = list_2_lucky_last\n",
    "    return df"
   ],
   "metadata": {
    "papermill": {
     "duration": 0.024251,
     "end_time": "2022-09-30T11:22:12.697777",
     "exception": false,
     "start_time": "2022-09-30T11:22:12.673526",
     "status": "completed"
    },
    "tags": [],
    "execution": {
     "iopub.status.busy": "2022-10-09T07:28:42.921271Z",
     "iopub.execute_input": "2022-10-09T07:28:42.921760Z",
     "iopub.status.idle": "2022-10-09T07:28:42.931668Z",
     "shell.execute_reply.started": "2022-10-09T07:28:42.921722Z",
     "shell.execute_reply": "2022-10-09T07:28:42.930531Z"
    },
    "trusted": true,
    "pycharm": {
     "name": "#%%\n"
    }
   },
   "execution_count": null,
   "outputs": []
  },
  {
   "cell_type": "code",
   "source": [],
   "metadata": {
    "pycharm": {
     "name": "#%%\n"
    }
   },
   "execution_count": null,
   "outputs": []
  },
  {
   "cell_type": "code",
   "source": [
    "df = features_2_inden_and_2_lucky_last(df)\n",
    "df.head(8)"
   ],
   "metadata": {
    "papermill": {
     "duration": 0.470753,
     "end_time": "2022-09-30T11:22:13.178587",
     "exception": false,
     "start_time": "2022-09-30T11:22:12.707834",
     "status": "completed"
    },
    "tags": [],
    "execution": {
     "iopub.status.busy": "2022-10-09T07:28:42.940881Z",
     "iopub.execute_input": "2022-10-09T07:28:42.941688Z",
     "iopub.status.idle": "2022-10-09T07:28:44.663308Z",
     "shell.execute_reply.started": "2022-10-09T07:28:42.941660Z",
     "shell.execute_reply": "2022-10-09T07:28:44.662098Z"
    },
    "trusted": true,
    "pycharm": {
     "name": "#%%\n"
    }
   },
   "execution_count": null,
   "outputs": []
  },
  {
   "cell_type": "code",
   "source": [
    "df[df['2_iden_bool']==1]"
   ],
   "metadata": {
    "execution": {
     "iopub.status.busy": "2022-10-09T07:28:44.664963Z",
     "iopub.execute_input": "2022-10-09T07:28:44.665394Z",
     "iopub.status.idle": "2022-10-09T07:28:46.285662Z",
     "shell.execute_reply.started": "2022-10-09T07:28:44.665355Z",
     "shell.execute_reply": "2022-10-09T07:28:46.284499Z"
    },
    "trusted": true,
    "pycharm": {
     "name": "#%%\n"
    }
   },
   "execution_count": null,
   "outputs": []
  },
  {
   "cell_type": "code",
   "source": [
    "def last_special_case(df):\n",
    "    \n",
    "    list_3_last = df['3_last'].to_list()\n",
    "    list_4_last = df['4_last'].to_list()\n",
    "    list_5_last = df['5_last'].to_list()\n",
    "    \n",
    "    list_3_last_iden = list()\n",
    "    \n",
    "    list_3_last_bool = []\n",
    "    list_4_last_bool = []\n",
    "    list_5_last_bool = []\n",
    "    for x in list_3_last:\n",
    "        if (x == '000' or x == '111' or x == '222' or x == '333' or x == '444' or x == '555' or x == '666' or x == '777' or x == '888' or x == '999'):\n",
    "            list_3_last_iden.append(x)\n",
    "            list_3_last_bool.append(1)\n",
    "        else:\n",
    "            list_3_last_iden.append(\"n\")\n",
    "            list_3_last_bool.append(0)\n",
    "    \n",
    "    \n",
    "    df['3_last_iden'] = list_3_last_iden # if the phone number have 3 last number indentical or not\n",
    "    df['3_last_iden_bool'] = list_3_last_bool\n",
    "    \n",
    "    list_4_last_iden = list()\n",
    "    \n",
    "    for x in list_4_last:\n",
    "        if (x == '0000' or x == '1111' or x == '2222' or x == '3333' or x == '4444' or x == '5555' or x == '6666' or x == '7777' or x == '8888' or x == '9999'):\n",
    "            list_4_last_iden.append(x)\n",
    "            list_4_last_bool.append(1)\n",
    "        else:\n",
    "            list_4_last_iden.append(\"n\")\n",
    "            list_4_last_bool.append(0)\n",
    "    \n",
    "    \n",
    "    df['4_last_iden'] = list_4_last_iden # if the phone number have 4 last number indentical or not\n",
    "    df['4_last_iden_bool'] = list_4_last_bool\n",
    "    \n",
    "    list_5_last_iden = list()\n",
    "    \n",
    "    for x in list_5_last:\n",
    "        if (x == '00000' or x == '11111' or x == '22222' or x == '33333' or x == '44444' or x == '55555' or x == '66666' or x == '77777' or x == '88888' or x == '99999'):\n",
    "            list_5_last_iden.append(x)\n",
    "            list_5_last_bool.append(1)\n",
    "        else:\n",
    "            list_5_last_iden.append(\"n\")\n",
    "            list_5_last_bool.append(0)\n",
    "    \n",
    "    \n",
    "    df['5_last_iden'] = list_5_last_iden # if the phone number have 4 last number indentical or not\n",
    "    df['5_last_iden_bool'] = list_5_last_bool\n",
    "    \n",
    "    list_3_last_increasing_bool = []\n",
    "    list_4_last_increasing_bool = []\n",
    "    list_5_last_increasing_bool = []\n",
    "    \n",
    "    list_3_last_increasing_sample = ('012','123','234','345','456','567','678','789','024','135','246','357','468','579','036','147','258','369','048','159')\n",
    "    list_3_last_increasing = list()\n",
    "    \n",
    "    for x in list_3_last:\n",
    "      check = 0\n",
    "      for j in list_3_last_increasing_sample:\n",
    "        if j in x:\n",
    "            list_3_last_increasing.append(x)\n",
    "            check = 1\n",
    "            list_3_last_increasing_bool.append(1)\n",
    "            break\n",
    "      if check == 0:\n",
    "        list_3_last_increasing.append(\"n\") # 3-last increasing number\n",
    "        list_3_last_increasing_bool.append(0)\n",
    "    \n",
    "    df['3_last_increasing'] = list_3_last_increasing\n",
    "    df['3_last_increasing_bool'] = list_3_last_increasing_bool\n",
    "    \n",
    "    list_4_last_increasing_sample = ('0123','1234','2345','3456','4567','5678','6789','0246','1357','2468','3579','0369')\n",
    "    list_4_last_increasing = list()\n",
    "    \n",
    "    for x in list_4_last:\n",
    "      check = 0\n",
    "      for j in list_4_last_increasing_sample:\n",
    "        if j in x:\n",
    "            list_4_last_increasing.append(x)\n",
    "            check = 1\n",
    "            list_4_last_increasing_bool.append(1)\n",
    "            break\n",
    "        \n",
    "      if check == 0:\n",
    "        list_4_last_increasing.append(\"n\") # 4-last increasing number \n",
    "        list_4_last_increasing_bool.append(0)\n",
    "    \n",
    "    df['4_last_increasing'] = list_4_last_increasing\n",
    "    df['4_last_increasing_bool'] = list_4_last_increasing_bool\n",
    "    \n",
    "    list_5_last_increasing_sample = ('01234','12345','23456','34567','45678','56789','02468','13579')\n",
    "    list_5_last_increasing = list()\n",
    "    \n",
    "    for x in list_5_last:\n",
    "      check = 0\n",
    "      for j in list_5_last_increasing_sample:\n",
    "        if j in x:\n",
    "            list_5_last_increasing.append(x)\n",
    "            check =1\n",
    "            list_5_last_increasing_bool.append(1)\n",
    "            break\n",
    "      if check == 0:      \n",
    "        list_5_last_increasing.append(\"n\") # 3-last increasing number \n",
    "        list_5_last_increasing_bool.append(0)\n",
    "    \n",
    "    df['5_last_increasing'] = list_5_last_increasing\n",
    "    df['5_last_increasing_bool'] = list_5_last_increasing_bool\n",
    "    \n",
    "    return df"
   ],
   "metadata": {
    "papermill": {
     "duration": 0.03243,
     "end_time": "2022-09-30T11:22:13.222602",
     "exception": false,
     "start_time": "2022-09-30T11:22:13.190172",
     "status": "completed"
    },
    "tags": [],
    "execution": {
     "iopub.status.busy": "2022-10-09T07:28:46.287461Z",
     "iopub.execute_input": "2022-10-09T07:28:46.287875Z",
     "iopub.status.idle": "2022-10-09T07:28:46.306508Z",
     "shell.execute_reply.started": "2022-10-09T07:28:46.287838Z",
     "shell.execute_reply": "2022-10-09T07:28:46.305184Z"
    },
    "trusted": true,
    "pycharm": {
     "name": "#%%\n"
    }
   },
   "execution_count": null,
   "outputs": []
  },
  {
   "cell_type": "code",
   "source": [],
   "metadata": {
    "pycharm": {
     "name": "#%%\n"
    }
   },
   "execution_count": null,
   "outputs": []
  },
  {
   "cell_type": "code",
   "source": [
    "df = last_special_case(df)\n",
    "df.sample(10)"
   ],
   "metadata": {
    "papermill": {
     "duration": 1.211368,
     "end_time": "2022-09-30T11:22:14.445012",
     "exception": false,
     "start_time": "2022-09-30T11:22:13.233644",
     "status": "completed"
    },
    "tags": [],
    "execution": {
     "iopub.status.busy": "2022-10-09T07:28:46.308055Z",
     "iopub.execute_input": "2022-10-09T07:28:46.308744Z",
     "iopub.status.idle": "2022-10-09T07:28:51.356515Z",
     "shell.execute_reply.started": "2022-10-09T07:28:46.308708Z",
     "shell.execute_reply": "2022-10-09T07:28:51.355562Z"
    },
    "trusted": true,
    "pycharm": {
     "name": "#%%\n"
    }
   },
   "execution_count": null,
   "outputs": []
  },
  {
   "cell_type": "code",
   "source": [],
   "metadata": {
    "trusted": true,
    "pycharm": {
     "name": "#%%\n"
    }
   },
   "execution_count": null,
   "outputs": []
  },
  {
   "cell_type": "code",
   "source": [
    "def features_from_sum(df):\n",
    "    list_number = df['phone_number'].to_list()\n",
    "    list_sum = []\n",
    "    for i in range(len(list_number)):\n",
    "      tmp = 0\n",
    "      for j in range(len(list_number[i])):\n",
    "        tmp += int(list_number[i][j])\n",
    "      list_sum.append(tmp)\n",
    "    \n",
    "    list_phong_thuy = []\n",
    "    \n",
    "    for i in range(len(list_sum)):\n",
    "      list_phong_thuy.append(list_sum[i]%10)\n",
    "    \n",
    "    df['phong_thuy_1'] = list_phong_thuy\n",
    "    \n",
    "    list_phong_thuy_2 = []\n",
    "    \n",
    "    for i in range(len(list_sum)):\n",
    "      k = list_sum[i]\n",
    "      ans = 0\n",
    "      while(k>=0):\n",
    "        ans+=k%10\n",
    "        k = math.floor(k/10)\n",
    "        if (k==0 and ans >= 10):\n",
    "          k = ans\n",
    "          ans = 0\n",
    "        if (k==0 and ans < 10):\n",
    "          list_phong_thuy_2.append(ans)\n",
    "          break\n",
    "      \n",
    "    df['phong_thuy_2'] = list_phong_thuy_2\n",
    "    \n",
    "    return df"
   ],
   "metadata": {
    "papermill": {
     "duration": 0.026635,
     "end_time": "2022-09-30T11:22:14.483605",
     "exception": false,
     "start_time": "2022-09-30T11:22:14.456970",
     "status": "completed"
    },
    "tags": [],
    "execution": {
     "iopub.status.busy": "2022-10-09T07:28:51.360755Z",
     "iopub.execute_input": "2022-10-09T07:28:51.367783Z",
     "iopub.status.idle": "2022-10-09T07:28:51.379430Z",
     "shell.execute_reply.started": "2022-10-09T07:28:51.367740Z",
     "shell.execute_reply": "2022-10-09T07:28:51.378445Z"
    },
    "trusted": true,
    "pycharm": {
     "name": "#%%\n"
    }
   },
   "execution_count": null,
   "outputs": []
  },
  {
   "cell_type": "code",
   "source": [
    "df = features_from_sum(df)\n",
    "df.shape"
   ],
   "metadata": {
    "papermill": {
     "duration": 0.980055,
     "end_time": "2022-09-30T11:22:15.475252",
     "exception": false,
     "start_time": "2022-09-30T11:22:14.495197",
     "status": "completed"
    },
    "tags": [],
    "execution": {
     "iopub.status.busy": "2022-10-09T07:28:51.383963Z",
     "iopub.execute_input": "2022-10-09T07:28:51.386644Z",
     "iopub.status.idle": "2022-10-09T07:28:54.564755Z",
     "shell.execute_reply.started": "2022-10-09T07:28:51.386588Z",
     "shell.execute_reply": "2022-10-09T07:28:54.563605Z"
    },
    "trusted": true,
    "pycharm": {
     "name": "#%%\n"
    }
   },
   "execution_count": null,
   "outputs": []
  },
  {
   "cell_type": "code",
   "source": [
    "def creating_label(df):\n",
    "    price = np.array(df['price_vnd'])\n",
    "    label = []\n",
    "\n",
    "    for i in range(df.shape[0]):\n",
    "      if price[i] <= 1.6e6:\n",
    "        label.append(0)\n",
    "        continue\n",
    "      if price[i] <= 3.6e6:\n",
    "        label.append(1)\n",
    "        continue\n",
    "      if price[i] <= 6.5e6:\n",
    "        label.append(2)\n",
    "        continue\n",
    "      if price[i] <= 10.8e6:\n",
    "        label.append(3)\n",
    "        continue\n",
    "      if price[i] <= 1.5e7:\n",
    "        label.append(4)\n",
    "        continue\n",
    "      if price[i] <= 6.1e7:\n",
    "        label.append(5)\n",
    "        continue\n",
    "      if price[i] <= 1.5e8:\n",
    "        label.append(6)\n",
    "        continue\n",
    "      if price[i] <= 3.1e8:\n",
    "        label.append(7)\n",
    "        continue\n",
    "      if price[i] <= 5.3e8:\n",
    "        label.append(8)\n",
    "        continue\n",
    "  \n",
    "      label.append(9)\n",
    "\n",
    "    df['label'] = label\n",
    "    \n",
    "    return df\n"
   ],
   "metadata": {
    "papermill": {
     "duration": 0.025942,
     "end_time": "2022-09-30T11:22:15.512766",
     "exception": false,
     "start_time": "2022-09-30T11:22:15.486824",
     "status": "completed"
    },
    "tags": [],
    "execution": {
     "iopub.status.busy": "2022-10-09T07:28:54.566424Z",
     "iopub.execute_input": "2022-10-09T07:28:54.566831Z",
     "iopub.status.idle": "2022-10-09T07:28:54.578247Z",
     "shell.execute_reply.started": "2022-10-09T07:28:54.566793Z",
     "shell.execute_reply": "2022-10-09T07:28:54.577105Z"
    },
    "trusted": true,
    "pycharm": {
     "name": "#%%\n"
    }
   },
   "execution_count": null,
   "outputs": []
  },
  {
   "cell_type": "code",
   "source": [
    "df = creating_label(df)\n",
    "df.head(10)"
   ],
   "metadata": {
    "papermill": {
     "duration": 0.698043,
     "end_time": "2022-09-30T11:22:16.222925",
     "exception": false,
     "start_time": "2022-09-30T11:22:15.524882",
     "status": "completed"
    },
    "tags": [],
    "execution": {
     "iopub.status.busy": "2022-10-09T07:28:54.579672Z",
     "iopub.execute_input": "2022-10-09T07:28:54.580074Z",
     "iopub.status.idle": "2022-10-09T07:28:56.296389Z",
     "shell.execute_reply.started": "2022-10-09T07:28:54.580036Z",
     "shell.execute_reply": "2022-10-09T07:28:56.295422Z"
    },
    "trusted": true,
    "pycharm": {
     "name": "#%%\n"
    }
   },
   "execution_count": null,
   "outputs": []
  },
  {
   "cell_type": "code",
   "source": [
    "def creating_features_by_combine_pos(df):\n",
    "    for i in range(1,9):\n",
    "        for j in range(i+1,10):\n",
    "            df['pos_'+str(i)+\"_\"+str(j)] = df['pos_' + str(i)] + df['pos_' + str(j)]\n",
    "    \n",
    "    for i in range(1,8):\n",
    "        for j in range(i+1,9):\n",
    "            for k in range(j+1,10):\n",
    "                df['pos_'+str(i)+\"_\"+str(j)+\"_\"+str(k)] = df['pos_' + str(i)] + df['pos_' + str(j)] + df['pos_'+str(k)]\n",
    "      \n",
    "#     for i in range(1,7):\n",
    "#         for j in range(i+1,8):\n",
    "#             for k in range(j+1,9):\n",
    "#                 for l in range(k+1,10):\n",
    "#                     #df_tmp = pd.DataFrame()\n",
    "#                     df['pos_'+str(i)+\"_\"+str(j)+\"_\"+str(k)+\"_\"+str(l)] = df['pos_' + str(i)] \\\n",
    "#                     + df['pos_' + str(j)] + df['pos_'+str(k)] + df['pos_'+str(l)]\n",
    "#                     df_ans = pd.concat([df_ans, df_tmp],axis = 1)\n",
    "                \n",
    "#     df['pos_1_2_8_9'] = df['pos_1'] + df['pos_2'] + df['pos_8'] + df['pos_9']\n",
    "    \n",
    "#     for i in range(1,7):\n",
    "#         df['pos_'+str(i)+\"_\"+str(i+1)+\"_\"+str(i+2)+\"_\"+str(i+3)] = df['pos_' + str(i)] + df['pos_' + str(i+1)] + df['pos_'+str(i+2)] + df['pos_' + str(i+3)]\n",
    "    \n",
    "    return df\n",
    "    \n",
    "# def creating_features_by_combine_pos(df):\n",
    "#     df_ans = df\n",
    "    \n",
    "# #     for i in range(1,10):\n",
    "# #         df['pos_' + str(i)] = df['pos_'+str(i)].astype(str)\n",
    "        \n",
    "#     for i in range(1,7):\n",
    "#         for j in range(i+1,8):\n",
    "#             for k in range(j+1,9):\n",
    "#                 for l in range(k+1,10):\n",
    "#                     df_tmp = pd.DataFrame()\n",
    "#                     df_tmp['pos_'+str(i)+\"_\"+str(j)+\"_\"+str(k)+\"_\"+str(l)] = df['pos_' + str(i)] \\\n",
    "#                     + df['pos_' + str(j)] + df['pos_'+str(k)] + df['pos_'+str(l)]\n",
    "#                     df_ans = pd.concat([df_ans, df_tmp],axis = 1)\n",
    "    \n",
    "    \n",
    "#     return df_ans"
   ],
   "metadata": {
    "papermill": {
     "duration": 0.032032,
     "end_time": "2022-09-30T11:22:16.268077",
     "exception": false,
     "start_time": "2022-09-30T11:22:16.236045",
     "status": "completed"
    },
    "tags": [],
    "execution": {
     "iopub.status.busy": "2022-10-09T07:28:56.298004Z",
     "iopub.execute_input": "2022-10-09T07:28:56.298402Z",
     "iopub.status.idle": "2022-10-09T07:28:56.307554Z",
     "shell.execute_reply.started": "2022-10-09T07:28:56.298366Z",
     "shell.execute_reply": "2022-10-09T07:28:56.305504Z"
    },
    "trusted": true,
    "pycharm": {
     "name": "#%%\n"
    }
   },
   "execution_count": null,
   "outputs": []
  },
  {
   "cell_type": "code",
   "source": [
    "df = creating_features_by_combine_pos(df)\n",
    "df.shape"
   ],
   "metadata": {
    "papermill": {
     "duration": 21.138648,
     "end_time": "2022-09-30T11:22:37.418441",
     "exception": false,
     "start_time": "2022-09-30T11:22:16.279793",
     "status": "completed"
    },
    "tags": [],
    "execution": {
     "iopub.status.busy": "2022-10-09T07:28:56.309184Z",
     "iopub.execute_input": "2022-10-09T07:28:56.309955Z",
     "iopub.status.idle": "2022-10-09T07:29:08.714935Z",
     "shell.execute_reply.started": "2022-10-09T07:28:56.309918Z",
     "shell.execute_reply": "2022-10-09T07:29:08.713642Z"
    },
    "trusted": true,
    "pycharm": {
     "name": "#%%\n"
    }
   },
   "execution_count": null,
   "outputs": []
  },
  {
   "cell_type": "code",
   "source": [
    "# df['pos_1_2_3_4'].value_counts()"
   ],
   "metadata": {
    "execution": {
     "iopub.status.busy": "2022-10-09T07:29:08.716345Z",
     "iopub.execute_input": "2022-10-09T07:29:08.716812Z",
     "iopub.status.idle": "2022-10-09T07:29:08.721884Z",
     "shell.execute_reply.started": "2022-10-09T07:29:08.716775Z",
     "shell.execute_reply": "2022-10-09T07:29:08.720866Z"
    },
    "trusted": true,
    "pycharm": {
     "name": "#%%\n"
    }
   },
   "execution_count": null,
   "outputs": []
  },
  {
   "cell_type": "markdown",
   "source": [
    "### Tuan feats"
   ],
   "metadata": {
    "pycharm": {
     "name": "#%% md\n"
    }
   }
  },
  {
   "cell_type": "code",
   "source": [
    "def sim_loc_phat(df):\n",
    "    list_number = df['phone_number'].to_list()\n",
    "    list_2_last = list() #extract 2 last digit\n",
    "\n",
    "    list_4_last = list() #extract 3 last digit\n",
    "    \n",
    "    for i in range(len(list_number)):\n",
    "        str_tmp_2_last = list_number[i][-2:]\n",
    "        list_2_last.append(str_tmp_2_last)\n",
    "    \n",
    "        str_tmp_4_last = list_number[i][-4:]\n",
    "        list_4_last.append(str_tmp_4_last)\n",
    "        \n",
    "        \n",
    "    list_phat_loc_2_bool = []\n",
    "    list_phat_loc_2_cat = []\n",
    "\n",
    "    list_phat_loc_4_bool = []\n",
    "    list_phat_loc_4_cat = []\n",
    "\n",
    "    list_phat_loc_2_sample = ['68','86']\n",
    "    list_phat_loc_4_sample = ['6688','6868','6886', '8668']\n",
    "\n",
    "    for x in list_2_last:\n",
    "        if list_phat_loc_2_sample.count(x)>0:\n",
    "            list_phat_loc_2_bool.append(1)\n",
    "            list_phat_loc_2_cat.append(x)\n",
    "        else:\n",
    "            list_phat_loc_2_bool.append(0)\n",
    "            list_phat_loc_2_cat.append('')\n",
    "        \n",
    "\n",
    "    for x in list_4_last:\n",
    "        if list_phat_loc_4_sample.count(x)>0:\n",
    "            list_phat_loc_4_bool.append(1)\n",
    "            list_phat_loc_4_cat.append(x)\n",
    "        else:\n",
    "            list_phat_loc_4_bool.append(0)\n",
    "            list_phat_loc_4_cat.append('')      \n",
    "        \n",
    "    df['phat_loc_2_bool'] = list_phat_loc_2_bool\n",
    "    df['phat_loc_2_cat'] = list_phat_loc_2_cat\n",
    "\n",
    "    df['phat_loc_4_bool'] = list_phat_loc_4_bool\n",
    "    df['phat_loc_4_cat'] = list_phat_loc_4_cat\n",
    "    \n",
    "    return df\n"
   ],
   "metadata": {
    "papermill": {
     "duration": 0.057327,
     "end_time": "2022-09-30T11:22:37.487832",
     "exception": false,
     "start_time": "2022-09-30T11:22:37.430505",
     "status": "completed"
    },
    "tags": [],
    "execution": {
     "iopub.status.busy": "2022-10-09T07:29:08.723630Z",
     "iopub.execute_input": "2022-10-09T07:29:08.724124Z",
     "iopub.status.idle": "2022-10-09T07:29:08.735714Z",
     "shell.execute_reply.started": "2022-10-09T07:29:08.724080Z",
     "shell.execute_reply": "2022-10-09T07:29:08.734664Z"
    },
    "trusted": true,
    "pycharm": {
     "name": "#%%\n"
    }
   },
   "execution_count": null,
   "outputs": []
  },
  {
   "cell_type": "code",
   "source": [
    "df = sim_loc_phat(df)"
   ],
   "metadata": {
    "execution": {
     "iopub.status.busy": "2022-10-09T07:29:08.737075Z",
     "iopub.execute_input": "2022-10-09T07:29:08.737503Z",
     "iopub.status.idle": "2022-10-09T07:29:10.042175Z",
     "shell.execute_reply.started": "2022-10-09T07:29:08.737455Z",
     "shell.execute_reply": "2022-10-09T07:29:10.041113Z"
    },
    "trusted": true,
    "pycharm": {
     "name": "#%%\n"
    }
   },
   "execution_count": null,
   "outputs": []
  },
  {
   "cell_type": "code",
   "source": [
    "df[df['phat_loc_2_bool'] == 1].shape"
   ],
   "metadata": {
    "execution": {
     "iopub.status.busy": "2022-10-09T07:29:10.043496Z",
     "iopub.execute_input": "2022-10-09T07:29:10.044336Z",
     "iopub.status.idle": "2022-10-09T07:29:15.730342Z",
     "shell.execute_reply.started": "2022-10-09T07:29:10.044298Z",
     "shell.execute_reply": "2022-10-09T07:29:15.729260Z"
    },
    "trusted": true,
    "pycharm": {
     "name": "#%%\n"
    }
   },
   "execution_count": null,
   "outputs": []
  },
  {
   "cell_type": "code",
   "source": [
    "def increasing_3_4(df):\n",
    "    list_number = df['phone_number'].to_list()\n",
    "    list_double_3_increasing = []\n",
    "    \n",
    "    list_3_last_increasing_bool = df['3_last_increasing_bool'].to_list()\n",
    "    list_4_last_increasing_bool = df['4_last_increasing_bool'].to_list()\n",
    "    for i in range(len(list_number)):\n",
    "        if (list_3_last_increasing_bool[i] == 1):\n",
    "            if (list_number[i][3:6] == list_number[i][6:9]):\n",
    "                list_double_3_increasing.append(1)\n",
    "            else: list_double_3_increasing.append(0)\n",
    "        else: list_double_3_increasing.append(0)\n",
    "\n",
    "    df['list_double_3_increasing']= list_double_3_increasing\n",
    "    \n",
    "    list_double_4_increasing = []\n",
    "\n",
    "    for i in range(len(list_number)):\n",
    "        if (list_4_last_increasing_bool[i] == 1):\n",
    "            if (list_number[i][1:5] == list_number[i][5:9]):\n",
    "                list_double_4_increasing.append(1)\n",
    "            else: list_double_4_increasing.append(0)\n",
    "        else: list_double_4_increasing.append(0)\n",
    "    \n",
    "    df['list_double_4_increasing']= list_double_4_increasing\n",
    "    \n",
    "    return df\n",
    "        "
   ],
   "metadata": {
    "execution": {
     "iopub.status.busy": "2022-10-09T07:29:15.731985Z",
     "iopub.execute_input": "2022-10-09T07:29:15.732619Z",
     "iopub.status.idle": "2022-10-09T07:29:15.742107Z",
     "shell.execute_reply.started": "2022-10-09T07:29:15.732571Z",
     "shell.execute_reply": "2022-10-09T07:29:15.741069Z"
    },
    "trusted": true,
    "pycharm": {
     "name": "#%%\n"
    }
   },
   "execution_count": null,
   "outputs": []
  },
  {
   "cell_type": "code",
   "source": [
    "df = increasing_3_4(df)"
   ],
   "metadata": {
    "execution": {
     "iopub.status.busy": "2022-10-09T07:29:15.743747Z",
     "iopub.execute_input": "2022-10-09T07:29:15.744382Z",
     "iopub.status.idle": "2022-10-09T07:29:16.294185Z",
     "shell.execute_reply.started": "2022-10-09T07:29:15.744345Z",
     "shell.execute_reply": "2022-10-09T07:29:16.293159Z"
    },
    "trusted": true,
    "pycharm": {
     "name": "#%%\n"
    }
   },
   "execution_count": null,
   "outputs": []
  },
  {
   "cell_type": "code",
   "source": [],
   "metadata": {
    "pycharm": {
     "name": "#%%\n"
    }
   },
   "execution_count": null,
   "outputs": []
  },
  {
   "cell_type": "code",
   "source": [
    "def double_3_last(df):\n",
    "    list_number = df['phone_number'].to_list()\n",
    "    list_double_3_last = []\n",
    "\n",
    "    for i in range(len(list_number)):\n",
    "        if (list_number[i][3:6] == list_number[i][6:9]):\n",
    "            list_double_3_last.append(1)\n",
    "        else: list_double_3_last.append(0)\n",
    "    \n",
    "    df['list_double_3_last']= list_double_3_last\n",
    "    return df"
   ],
   "metadata": {
    "execution": {
     "iopub.status.busy": "2022-10-09T07:29:16.295736Z",
     "iopub.execute_input": "2022-10-09T07:29:16.296115Z",
     "iopub.status.idle": "2022-10-09T07:29:16.303458Z",
     "shell.execute_reply.started": "2022-10-09T07:29:16.296070Z",
     "shell.execute_reply": "2022-10-09T07:29:16.302281Z"
    },
    "trusted": true,
    "pycharm": {
     "name": "#%%\n"
    }
   },
   "execution_count": null,
   "outputs": []
  },
  {
   "cell_type": "code",
   "source": [
    "df = double_3_last(df)"
   ],
   "metadata": {
    "execution": {
     "iopub.status.busy": "2022-10-09T07:29:16.304882Z",
     "iopub.execute_input": "2022-10-09T07:29:16.305907Z",
     "iopub.status.idle": "2022-10-09T07:29:16.687148Z",
     "shell.execute_reply.started": "2022-10-09T07:29:16.305866Z",
     "shell.execute_reply": "2022-10-09T07:29:16.686134Z"
    },
    "trusted": true,
    "pycharm": {
     "name": "#%%\n"
    }
   },
   "execution_count": null,
   "outputs": []
  },
  {
   "cell_type": "code",
   "source": [],
   "metadata": {
    "pycharm": {
     "name": "#%%\n"
    }
   },
   "execution_count": null,
   "outputs": []
  },
  {
   "cell_type": "code",
   "source": [
    "df[df['list_double_3_last']==1]"
   ],
   "metadata": {
    "execution": {
     "iopub.status.busy": "2022-10-09T07:29:16.688642Z",
     "iopub.execute_input": "2022-10-09T07:29:16.689004Z",
     "iopub.status.idle": "2022-10-09T07:29:17.206598Z",
     "shell.execute_reply.started": "2022-10-09T07:29:16.688966Z",
     "shell.execute_reply": "2022-10-09T07:29:17.205519Z"
    },
    "trusted": true,
    "pycharm": {
     "name": "#%%\n"
    }
   },
   "execution_count": null,
   "outputs": []
  },
  {
   "cell_type": "code",
   "source": [
    "def triple_2_last(df):\n",
    "    list_number = df['phone_number'].to_list()\n",
    "    list_triple_2_last_r1 = [] # list for triple 2 last but too not 'beautiful'\n",
    "    tmp_list = [5,6,8,9]\n",
    "\n",
    "    for i in range(len(list_number)):\n",
    "        if(int(list_number[i][8]) in tmp_list and int(list_number[i][7]) in tmp_list ):\n",
    "            list_triple_2_last_r1.append(0)\n",
    "        else:\n",
    "            if (list_number[i][3:5] == list_number[i][5:7] == list_number[i][7:9]):\n",
    "                list_triple_2_last_r1.append(1)\n",
    "            else:\n",
    "                list_triple_2_last_r1.append(0)\n",
    "                \n",
    "    df['triple_2_last_r1'] = list_triple_2_last_r1\n",
    "    return df"
   ],
   "metadata": {
    "execution": {
     "iopub.status.busy": "2022-10-09T07:29:17.208039Z",
     "iopub.execute_input": "2022-10-09T07:29:17.208946Z",
     "iopub.status.idle": "2022-10-09T07:29:17.218279Z",
     "shell.execute_reply.started": "2022-10-09T07:29:17.208915Z",
     "shell.execute_reply": "2022-10-09T07:29:17.217183Z"
    },
    "trusted": true,
    "pycharm": {
     "name": "#%%\n"
    }
   },
   "execution_count": null,
   "outputs": []
  },
  {
   "cell_type": "code",
   "source": [
    "\n",
    "df = triple_2_last(df)"
   ],
   "metadata": {
    "execution": {
     "iopub.status.busy": "2022-10-09T07:29:17.219967Z",
     "iopub.execute_input": "2022-10-09T07:29:17.220405Z",
     "iopub.status.idle": "2022-10-09T07:29:17.839322Z",
     "shell.execute_reply.started": "2022-10-09T07:29:17.220368Z",
     "shell.execute_reply": "2022-10-09T07:29:17.838287Z"
    },
    "trusted": true,
    "pycharm": {
     "name": "#%%\n"
    }
   },
   "execution_count": null,
   "outputs": []
  },
  {
   "cell_type": "code",
   "source": [
    "df[df['triple_2_last_r1'] == 1]"
   ],
   "metadata": {
    "execution": {
     "iopub.status.busy": "2022-10-09T07:29:17.840874Z",
     "iopub.execute_input": "2022-10-09T07:29:17.841283Z",
     "iopub.status.idle": "2022-10-09T07:29:18.078767Z",
     "shell.execute_reply.started": "2022-10-09T07:29:17.841245Z",
     "shell.execute_reply": "2022-10-09T07:29:18.077643Z"
    },
    "trusted": true,
    "pycharm": {
     "name": "#%%\n"
    }
   },
   "execution_count": null,
   "outputs": []
  },
  {
   "cell_type": "code",
   "source": [
    "# Sim kep duoi (ABB.CDD) va sim lap dau(ABC.ABD), lap cuoi (ABC.DBC)\n",
    "def sim_6_last(df):\n",
    "    list_number = df['phone_number'].to_list()\n",
    "    list_kep_duoi_bool = []\n",
    "    list_kep_duoi_cat = []\n",
    "\n",
    "    list_lap_dau_bool = []\n",
    "    list_lap_dau_cat = []\n",
    "\n",
    "    list_lap_cuoi_bool = []\n",
    "    list_lap_cuoi_cat = []\n",
    "\n",
    "    for x in list_number:\n",
    "        if (x[4:6] == x[7:]):\n",
    "            list_lap_cuoi_bool.append(1)\n",
    "            list_lap_cuoi_cat.append(x[4:6])\n",
    "        \n",
    "            if (x[7] == x[8]):\n",
    "                list_kep_duoi_bool.append(1)\n",
    "                list_kep_duoi_cat.append(x[8])\n",
    "            else:\n",
    "                list_kep_duoi_bool.append(0)\n",
    "                list_kep_duoi_cat.append('')\n",
    "        else:\n",
    "            list_lap_cuoi_bool.append(0)\n",
    "            list_lap_cuoi_cat.append('')\n",
    "        \n",
    "            list_kep_duoi_bool.append(0)\n",
    "            list_kep_duoi_cat.append('')\n",
    "        \n",
    "        if (x[3:5] == x[6:8]):\n",
    "            list_lap_dau_bool.append(1)\n",
    "            list_lap_dau_cat.append(x[3:5])\n",
    "        else:\n",
    "            list_lap_dau_bool.append(0)\n",
    "            list_lap_dau_cat.append('')\n",
    "    df['kep_duoi_bool'] = list_kep_duoi_bool\n",
    "    df['kep_duoi_cat'] = list_kep_duoi_cat\n",
    "\n",
    "    df['lap_dau_bool'] = list_lap_dau_bool\n",
    "    df['lap_dau_cat'] = list_lap_dau_cat\n",
    "\n",
    "    df['lap_cuoi_bool'] = list_lap_cuoi_bool\n",
    "    df['lap_cuoi_cat'] = list_lap_cuoi_cat\n",
    "    \n",
    "    return df"
   ],
   "metadata": {
    "execution": {
     "iopub.status.busy": "2022-10-09T07:29:18.080392Z",
     "iopub.execute_input": "2022-10-09T07:29:18.080793Z",
     "iopub.status.idle": "2022-10-09T07:29:18.092750Z",
     "shell.execute_reply.started": "2022-10-09T07:29:18.080756Z",
     "shell.execute_reply": "2022-10-09T07:29:18.091553Z"
    },
    "trusted": true,
    "pycharm": {
     "name": "#%%\n"
    }
   },
   "execution_count": null,
   "outputs": []
  },
  {
   "cell_type": "code",
   "source": [
    "\n",
    "df = sim_6_last(df)"
   ],
   "metadata": {
    "execution": {
     "iopub.status.busy": "2022-10-09T07:29:18.094401Z",
     "iopub.execute_input": "2022-10-09T07:29:18.095123Z",
     "iopub.status.idle": "2022-10-09T07:29:19.195458Z",
     "shell.execute_reply.started": "2022-10-09T07:29:18.095066Z",
     "shell.execute_reply": "2022-10-09T07:29:19.194132Z"
    },
    "trusted": true,
    "pycharm": {
     "name": "#%%\n"
    }
   },
   "execution_count": null,
   "outputs": []
  },
  {
   "cell_type": "code",
   "source": [
    "df[df['lap_dau_bool']==1]"
   ],
   "metadata": {
    "execution": {
     "iopub.status.busy": "2022-10-09T07:29:19.196845Z",
     "iopub.execute_input": "2022-10-09T07:29:19.197615Z",
     "iopub.status.idle": "2022-10-09T07:29:25.172517Z",
     "shell.execute_reply.started": "2022-10-09T07:29:19.197567Z",
     "shell.execute_reply": "2022-10-09T07:29:25.171522Z"
    },
    "trusted": true,
    "pycharm": {
     "name": "#%%\n"
    }
   },
   "execution_count": null,
   "outputs": []
  },
  {
   "cell_type": "code",
   "source": [],
   "metadata": {
    "trusted": true,
    "pycharm": {
     "name": "#%%\n"
    }
   },
   "execution_count": null,
   "outputs": []
  },
  {
   "cell_type": "code",
   "source": [
    "def special_4_sim(df):\n",
    "    list_number = df['phone_number'].to_list()\n",
    "    list_2_lap_t1 = [] #ABAB, A>B\n",
    "    list_2_lap_t2 = [] # ABAB, A<B\n",
    "\n",
    "    list_2_lap_t3 = [] # AABB, A>B\n",
    "    list_2_lap_t4 = [] # AABB, A<B\n",
    "\n",
    "    for i in range(len(list_number)):\n",
    "        if (list_number[i][5:7] == list_number[i][7:]):\n",
    "            if (int(list_number[i][7]) < int(list_number[i][8])):\n",
    "                list_2_lap_t2.append(1)\n",
    "                list_2_lap_t1.append(0)\n",
    "            elif(int(list_number[i][7]) > int(list_number[i][8])):\n",
    "                list_2_lap_t1.append(1)\n",
    "                list_2_lap_t2.append(0)\n",
    "            else:\n",
    "                list_2_lap_t1.append(0)\n",
    "                list_2_lap_t2.append(0)\n",
    "\n",
    "        else:\n",
    "            list_2_lap_t1.append(0)\n",
    "            list_2_lap_t2.append(0)\n",
    "\n",
    "\n",
    "        if (list_number[i][5]==list_number[i][6] and list_number[i][7]==list_number[i][8]):\n",
    "            if(list_number[i][5] < list_number[i][7]):\n",
    "                list_2_lap_t4.append(1)\n",
    "                list_2_lap_t3.append(0)\n",
    "            elif(list_number[i][5] > list_number[i][7]):\n",
    "                list_2_lap_t4.append(0)\n",
    "                list_2_lap_t3.append(1)\n",
    "            else:\n",
    "                list_2_lap_t4.append(0)\n",
    "                list_2_lap_t3.append(0)\n",
    "\n",
    "        else:\n",
    "            list_2_lap_t4.append(0)\n",
    "            list_2_lap_t3.append(0)\n",
    "    df['2_lap_t1'] = list_2_lap_t1\n",
    "    df['2_lap_t2'] = list_2_lap_t2\n",
    "    df['2_lap_t3'] = list_2_lap_t3\n",
    "    df['2_lap_t4'] = list_2_lap_t4\n",
    "    \n",
    "    return df"
   ],
   "metadata": {
    "execution": {
     "iopub.status.busy": "2022-10-09T07:29:25.174078Z",
     "iopub.execute_input": "2022-10-09T07:29:25.174439Z",
     "iopub.status.idle": "2022-10-09T07:29:25.186303Z",
     "shell.execute_reply.started": "2022-10-09T07:29:25.174405Z",
     "shell.execute_reply": "2022-10-09T07:29:25.184936Z"
    },
    "trusted": true,
    "pycharm": {
     "name": "#%%\n"
    }
   },
   "execution_count": null,
   "outputs": []
  },
  {
   "cell_type": "code",
   "source": [
    "\n",
    "df = special_4_sim(df)\n"
   ],
   "metadata": {
    "execution": {
     "iopub.status.busy": "2022-10-09T07:29:25.188041Z",
     "iopub.execute_input": "2022-10-09T07:29:25.188529Z",
     "iopub.status.idle": "2022-10-09T07:29:26.281260Z",
     "shell.execute_reply.started": "2022-10-09T07:29:25.188456Z",
     "shell.execute_reply": "2022-10-09T07:29:26.280252Z"
    },
    "trusted": true,
    "pycharm": {
     "name": "#%%\n"
    }
   },
   "execution_count": null,
   "outputs": []
  },
  {
   "cell_type": "code",
   "source": [
    "df[df['2_lap_t4']==1]"
   ],
   "metadata": {
    "execution": {
     "iopub.status.busy": "2022-10-09T07:29:26.282838Z",
     "iopub.execute_input": "2022-10-09T07:29:26.283225Z",
     "iopub.status.idle": "2022-10-09T07:29:26.972089Z",
     "shell.execute_reply.started": "2022-10-09T07:29:26.283187Z",
     "shell.execute_reply": "2022-10-09T07:29:26.971155Z"
    },
    "trusted": true,
    "pycharm": {
     "name": "#%%\n"
    }
   },
   "execution_count": null,
   "outputs": []
  },
  {
   "cell_type": "code",
   "source": [
    "def ong_dia(df):\n",
    "    list_number = df['phone_number'].to_list()\n",
    "    list_4_last = []\n",
    "    for i in range(len(list_number)):\n",
    "        str_tmp_4_last = list_number[i][-4:]\n",
    "        list_4_last.append(str_tmp_4_last)\n",
    "    \n",
    "    list_lap_ong_dia = [] #7997, 8998\n",
    "    list_lap_ong_dia_last = []\n",
    "    list_lap_ong_dia_sample = ['7997', '8998']\n",
    "\n",
    "    list_kep_ong_dia = [] #7799, 8899\n",
    "    list_kep_ong_dia_last = []\n",
    "    list_kep_ong_dia_sample = ['7799', '8899']\n",
    "\n",
    "    list_dao_ong_dia_1 = [] #9779, 9889\n",
    "    list_dao_ong_dia_1_last = []\n",
    "    list_dao_ong_dia_1_sample = ['9779', '9889']\n",
    "\n",
    "    list_dao_ong_dia_2 = [] #7997, 8998\n",
    "    list_dao_ong_dia_2_last = []\n",
    "    list_dao_ong_dia_2_sample = ['7997', '8998']\n",
    "\n",
    "    for i in range(len(list_number)):\n",
    "        #lap ong dia\n",
    "        lap_ong_dia_score = 0\n",
    "        lap_ong_dia_last_score = 0\n",
    "        for tmp_str in list_lap_ong_dia_sample:\n",
    "            if tmp_str in list_number[i]:\n",
    "                lap_ong_dia_score = lap_ong_dia_score +1\n",
    "\n",
    "            if (tmp_str == list_4_last[i]):\n",
    "                lap_ong_dia_last_score = lap_ong_dia_last_score +1\n",
    "\n",
    "        list_lap_ong_dia.append(lap_ong_dia_score)\n",
    "        list_lap_ong_dia_last.append(lap_ong_dia_last_score)\n",
    "\n",
    "        #kep ong dia\n",
    "        kep_ong_dia_score = 0\n",
    "        kep_ong_dia_last_score = 0\n",
    "        for tmp_str in list_kep_ong_dia_sample:\n",
    "            if tmp_str in list_number[i]:\n",
    "                kep_ong_dia_score = kep_ong_dia_score +1\n",
    "\n",
    "            if (tmp_str == list_4_last[i]):\n",
    "                kep_ong_dia_last_score = kep_ong_dia_last_score +1\n",
    "\n",
    "        list_kep_ong_dia.append(kep_ong_dia_score)\n",
    "        list_kep_ong_dia_last.append(kep_ong_dia_last_score)   \n",
    "\n",
    "        #dao ong dia 1\n",
    "        dao_ong_dia_1_score = 0\n",
    "        dao_ong_dia_1_last_score = 0\n",
    "        for tmp_str in list_dao_ong_dia_1_sample:\n",
    "            if tmp_str in list_number[i]:\n",
    "                dao_ong_dia_1_score = dao_ong_dia_1_score +1\n",
    "\n",
    "            if (tmp_str == list_4_last[i]):\n",
    "                dao_ong_dia_1_last_score = dao_ong_dia_1_last_score +1\n",
    "\n",
    "        list_dao_ong_dia_1.append(dao_ong_dia_1_score)\n",
    "        list_dao_ong_dia_1_last.append(dao_ong_dia_1_last_score)   \n",
    "\n",
    "        #dao ong dia 22\n",
    "        dao_ong_dia_2_score = 0\n",
    "        dao_ong_dia_2_last_score = 0\n",
    "        for tmp_str in list_dao_ong_dia_2_sample:\n",
    "            if tmp_str in list_number[i]:\n",
    "                dao_ong_dia_2_score = dao_ong_dia_2_score +1\n",
    "\n",
    "            if (tmp_str == list_4_last[i]):\n",
    "                dao_ong_dia_2_last_score = dao_ong_dia_2_last_score +1\n",
    "\n",
    "        list_dao_ong_dia_2.append(dao_ong_dia_2_score)\n",
    "        list_dao_ong_dia_2_last.append(dao_ong_dia_2_last_score)  \n",
    "    \n",
    "    df['lap_ong_dia'] = list_lap_ong_dia \n",
    "    df['lap_ong_dia_last'] = list_lap_ong_dia_last \n",
    "    df['kep_ong_dia'] = list_kep_ong_dia \n",
    "    df['kep_ong_dia_last'] = list_kep_ong_dia_last \n",
    "    df['dao_ong_dia_1'] = list_dao_ong_dia_1\n",
    "    df['dao_ong_dia_1_last'] = list_dao_ong_dia_1_last \n",
    "    df['dao_ong_dia_2'] = list_dao_ong_dia_2\n",
    "    df['dao_ong_dia_2_last'] = list_dao_ong_dia_2_last\n",
    "    \n",
    "    return df\n"
   ],
   "metadata": {
    "execution": {
     "iopub.status.busy": "2022-10-09T07:29:26.974090Z",
     "iopub.execute_input": "2022-10-09T07:29:26.974724Z",
     "iopub.status.idle": "2022-10-09T07:29:26.988643Z",
     "shell.execute_reply.started": "2022-10-09T07:29:26.974685Z",
     "shell.execute_reply": "2022-10-09T07:29:26.987408Z"
    },
    "trusted": true,
    "pycharm": {
     "name": "#%%\n"
    }
   },
   "execution_count": null,
   "outputs": []
  },
  {
   "cell_type": "code",
   "source": [
    "\n",
    "df = ong_dia(df)"
   ],
   "metadata": {
    "execution": {
     "iopub.status.busy": "2022-10-09T07:29:26.991138Z",
     "iopub.execute_input": "2022-10-09T07:29:26.991418Z",
     "iopub.status.idle": "2022-10-09T07:29:29.627376Z",
     "shell.execute_reply.started": "2022-10-09T07:29:26.991393Z",
     "shell.execute_reply": "2022-10-09T07:29:29.626366Z"
    },
    "trusted": true,
    "pycharm": {
     "name": "#%%\n"
    }
   },
   "execution_count": null,
   "outputs": []
  },
  {
   "cell_type": "code",
   "source": [
    "df[df['dao_ong_dia_2_last']==1]"
   ],
   "metadata": {
    "execution": {
     "iopub.status.busy": "2022-10-09T07:29:29.628832Z",
     "iopub.execute_input": "2022-10-09T07:29:29.629883Z",
     "iopub.status.idle": "2022-10-09T07:29:29.918970Z",
     "shell.execute_reply.started": "2022-10-09T07:29:29.629845Z",
     "shell.execute_reply": "2022-10-09T07:29:29.917890Z"
    },
    "trusted": true,
    "pycharm": {
     "name": "#%%\n"
    }
   },
   "execution_count": null,
   "outputs": []
  },
  {
   "cell_type": "code",
   "source": [
    "def special_6_last(df):\n",
    "    list_number = df['phone_number'].to_list()\n",
    "    list_ABBBBA_1 = [] #A<B\n",
    "    list_ABBBBA_2 = [] #A>B\n",
    "\n",
    "    list_ABBA_1 = [] #A<B\n",
    "    list_ABBA_2 = [] #A>B\n",
    "\n",
    "    for i in range(len(list_number)):\n",
    "        if (list_number[i][3] == list_number[i][8] and list_number[i][4] == list_number[i][5] and list_number[i][4] == list_number[i][6] and list_number[i][4] == list_number[i][7]):\n",
    "            if (int(list_number[i][3]) < int(list_number[i][4])):\n",
    "                list_ABBBBA_1.append(1)\n",
    "                list_ABBBBA_2.append(0)\n",
    "            elif(int(list_number[i][3]) > int(list_number[i][4])):\n",
    "                list_ABBBBA_1.append(0)\n",
    "                list_ABBBBA_2.append(1)\n",
    "            else:\n",
    "                list_ABBBBA_1.append(0)\n",
    "                list_ABBBBA_2.append(0)\n",
    "        else:\n",
    "            list_ABBBBA_1.append(0)\n",
    "            list_ABBBBA_2.append(0)\n",
    "\n",
    "        if (list_number[i][5] == list_number[i][8] and list_number[i][6] == list_number[i][7]):\n",
    "            if (int(list_number[i][5]) < int(list_number[i][6])):\n",
    "                list_ABBA_1.append(1)\n",
    "                list_ABBA_2.append(0)\n",
    "            elif(int(list_number[i][5]) > int(list_number[i][6])):\n",
    "                list_ABBA_1.append(0)\n",
    "                list_ABBA_2.append(1)\n",
    "            else:\n",
    "                list_ABBA_1.append(0)\n",
    "                list_ABBA_2.append(0)\n",
    "        else:\n",
    "            list_ABBA_1.append(0)\n",
    "            list_ABBA_2.append(0)\n",
    "    df['list_ABBBBA_1']= list_ABBBBA_1\n",
    "    df['list_ABBBBA_2']= list_ABBBBA_2\n",
    "    df['list_ABBA_1']= list_ABBA_1\n",
    "    df['list_ABBA_2']= list_ABBA_2\n",
    "    return df"
   ],
   "metadata": {
    "execution": {
     "iopub.status.busy": "2022-10-09T07:29:29.920358Z",
     "iopub.execute_input": "2022-10-09T07:29:29.920770Z",
     "iopub.status.idle": "2022-10-09T07:29:29.934186Z",
     "shell.execute_reply.started": "2022-10-09T07:29:29.920730Z",
     "shell.execute_reply": "2022-10-09T07:29:29.933214Z"
    },
    "trusted": true,
    "pycharm": {
     "name": "#%%\n"
    }
   },
   "execution_count": null,
   "outputs": []
  },
  {
   "cell_type": "code",
   "source": [
    "\n",
    "df = special_6_last(df)"
   ],
   "metadata": {
    "execution": {
     "iopub.status.busy": "2022-10-09T07:29:29.935644Z",
     "iopub.execute_input": "2022-10-09T07:29:29.936266Z",
     "iopub.status.idle": "2022-10-09T07:29:30.999317Z",
     "shell.execute_reply.started": "2022-10-09T07:29:29.936226Z",
     "shell.execute_reply": "2022-10-09T07:29:30.998188Z"
    },
    "trusted": true,
    "pycharm": {
     "name": "#%%\n"
    }
   },
   "execution_count": null,
   "outputs": []
  },
  {
   "cell_type": "code",
   "source": [
    "df[df['list_ABBA_2'] == 1]"
   ],
   "metadata": {
    "execution": {
     "iopub.status.busy": "2022-10-09T07:29:31.000983Z",
     "iopub.execute_input": "2022-10-09T07:29:31.001652Z",
     "iopub.status.idle": "2022-10-09T07:29:31.761566Z",
     "shell.execute_reply.started": "2022-10-09T07:29:31.001610Z",
     "shell.execute_reply": "2022-10-09T07:29:31.760604Z"
    },
    "trusted": true,
    "pycharm": {
     "name": "#%%\n"
    }
   },
   "execution_count": null,
   "outputs": []
  },
  {
   "cell_type": "code",
   "source": [
    "def check_easy_remember(df):\n",
    "    list_number = df['phone_number'].to_list()\n",
    "    list_1_3_5_iden_bool = []\n",
    "    list_1_3_5_iden_cat = []\n",
    "\n",
    "    list_2_4_6_iden_bool = []\n",
    "    list_2_4_6_iden_cat = []\n",
    "\n",
    "    list_3_5_7_iden_bool = []\n",
    "    list_3_5_7_iden_cat = []\n",
    "\n",
    "    list_4_6_8_iden_bool = []\n",
    "    list_4_6_8_iden_cat = []\n",
    "\n",
    "    list_5_7_9_iden_bool = []\n",
    "    list_5_7_9_iden_cat = []\n",
    "\n",
    "    for i in range(len(list_number)):\n",
    "        if ( (list_number[i][0] == list_number[i][2]) and (list_number[i][0] == list_number[i][4])):\n",
    "            list_1_3_5_iden_bool.append(1)\n",
    "            list_1_3_5_iden_cat.append((int)(list_number[i][0]))\n",
    "        else:\n",
    "            list_1_3_5_iden_bool.append(0)\n",
    "            list_1_3_5_iden_cat.append(-1)\n",
    "\n",
    "        if ( (list_number[i][1] == list_number[i][3]) and (list_number[i][1] == list_number[i][5])):\n",
    "            list_2_4_6_iden_bool.append(1)\n",
    "            list_2_4_6_iden_cat.append((int)(list_number[i][1]))\n",
    "        else:\n",
    "            list_2_4_6_iden_bool.append(0)\n",
    "            list_2_4_6_iden_cat.append(-1)\n",
    "\n",
    "        if ((list_number[i][2] == list_number[i][4]) and (list_number[i][2] == list_number[i][6])):\n",
    "            list_3_5_7_iden_bool.append(1)\n",
    "            list_3_5_7_iden_cat.append((int)(list_number[i][2]))\n",
    "        else:\n",
    "            list_3_5_7_iden_bool.append(0)\n",
    "            list_3_5_7_iden_cat.append(-1)\n",
    "\n",
    "        if ((list_number[i][3] == list_number[i][5]) and (list_number[i][3] == list_number[i][7])):\n",
    "            list_4_6_8_iden_bool.append(1)\n",
    "            list_4_6_8_iden_cat.append((int)(list_number[i][3]))\n",
    "        else:\n",
    "            list_4_6_8_iden_bool.append(0)\n",
    "            list_4_6_8_iden_cat.append(-1)\n",
    "\n",
    "        if ( (list_number[i][4] == list_number[i][6]) and (list_number[i][4] == list_number[i][8])):\n",
    "            list_5_7_9_iden_bool.append(1)\n",
    "            list_5_7_9_iden_cat.append((int)(list_number[i][4]))\n",
    "        else:\n",
    "            list_5_7_9_iden_bool.append(0)\n",
    "            list_5_7_9_iden_cat.append(-1)\n",
    "\n",
    "\n",
    "    df['1_3_5_iden_bool'] = list_1_3_5_iden_bool\n",
    "    df['1_3_5_iden_cat'] = list_1_3_5_iden_cat\n",
    "\n",
    "    df['2_4_6_iden_bool'] = list_2_4_6_iden_bool\n",
    "    df['2_4_6_iden_cat'] = list_2_4_6_iden_cat\n",
    "\n",
    "    df['3_5_7_iden_bool'] = list_3_5_7_iden_bool\n",
    "    df['3_5_7_iden_cat'] = list_3_5_7_iden_cat\n",
    "\n",
    "    df['4_6_8_iden_bool'] = list_4_6_8_iden_bool\n",
    "    df['4_6_8_iden_cat'] = list_4_6_8_iden_cat\n",
    "\n",
    "    df['5_7_9_iden_bool'] = list_5_7_9_iden_bool\n",
    "    df['5_7_9_iden_cat'] = list_5_7_9_iden_cat\n",
    "    \n",
    "    return df"
   ],
   "metadata": {
    "execution": {
     "iopub.status.busy": "2022-10-09T07:29:31.764058Z",
     "iopub.execute_input": "2022-10-09T07:29:31.764438Z",
     "iopub.status.idle": "2022-10-09T07:29:31.780412Z",
     "shell.execute_reply.started": "2022-10-09T07:29:31.764397Z",
     "shell.execute_reply": "2022-10-09T07:29:31.779398Z"
    },
    "trusted": true,
    "pycharm": {
     "name": "#%%\n"
    }
   },
   "execution_count": null,
   "outputs": []
  },
  {
   "cell_type": "code",
   "source": [
    "df = check_easy_remember(df)"
   ],
   "metadata": {
    "execution": {
     "iopub.status.busy": "2022-10-09T07:29:31.783183Z",
     "iopub.execute_input": "2022-10-09T07:29:31.783538Z",
     "iopub.status.idle": "2022-10-09T07:29:34.116343Z",
     "shell.execute_reply.started": "2022-10-09T07:29:31.783468Z",
     "shell.execute_reply": "2022-10-09T07:29:34.115292Z"
    },
    "trusted": true,
    "pycharm": {
     "name": "#%%\n"
    }
   },
   "execution_count": null,
   "outputs": []
  },
  {
   "cell_type": "code",
   "source": [
    "LIST_FEAT1 = ['pos_' + str(i) for i in range(1,10)]\n",
    "LIST_FEAT2 = ['2_lucky','phong_thuy_1','phong_thuy_2','4_last','5_last',\n",
    "              '4_last_iden', '5_last_iden' ,'4_last_increasing', \n",
    "              '5_last_increasing','2_iden','max_count','list_same','palindrome',\n",
    "              'nam_sinh','3_last_iden','3_last_increasing']\n",
    "LIST_FEAT3 = ['count_' + str(i) for i in range(0,10)]\n",
    "LIST_FEAT4 = ['palindrome_length','list_same_substr_length','length']\n",
    "LIST_FEAT5 = ['pos_' + str(i) + \"_\" +str(j) for i in range(1,9) for j in range(i+1,10)]\n",
    "LIST_FEAT6 = ['pos_'+str(i)+\"_\"+str(j)+\"_\"+str(k) for i in range(1,8) \n",
    "              for j in range(i+1,9) for k in range(j+1,10)]\n",
    "\n",
    "LIST_FEAT9 = ['kep_duoi_cat','lap_dau_cat','lap_cuoi_cat','phat_loc_4_cat',\n",
    "              'phat_loc_2_cat','5_combo_cat','6_combo_cat','4_combo_cat']\n",
    "             \n",
    "# ['3_combo_cat','4_combo_cat',]\n",
    "#'kep_duoi_cat','lap_dau_cat','lap_cuoi_cat','phat_loc_4_cat','phat_loc_2_cat']\n",
    "#             ,'1_3_5_iden_cat','2_4_6_iden_cat','3_5_7_iden_cat','4_6_8_iden_cat','5_7_9_iden_cat']\n",
    "#              '\n",
    "\n",
    "LIST_FEAT10 = ['list_ABBBBA_1','list_ABBBBA_2','list_ABBA_1','list_ABBA_2','lap_ong_dia','lap_ong_dia_last'\n",
    "               ,'kep_ong_dia','kep_ong_dia_last','dao_ong_dia_1','dao_ong_dia_1_last','dao_ong_dia_2',\n",
    "               'dao_ong_dia_2_last','2_lap_t1','2_lap_t2','2_lap_t3','2_lap_t4','kep_duoi_bool'\n",
    "               ,'lap_dau_bool','lap_cuoi_bool','triple_2_last_r1','list_double_3_last','phat_loc_2_bool',\n",
    "               'phat_loc_4_bool','nam_sinh_bool','bool_palindrome','bool_substr','2_lucky_bool','2_iden_bool','3_last_iden_bool',\n",
    "                '4_last_iden_bool','5_last_iden_bool','3_last_increasing_bool','4_last_increasing_bool',\n",
    "              '5_last_increasing_bool','1_3_5_iden_bool','2_4_6_iden_bool','3_5_7_iden_bool','4_6_8_iden_bool','5_7_9_iden_bool',\n",
    "              '3_combo_bool','4_combo_bool','5_combo_bool','6_combo_bool','3_combo_s','3_combo_57','3_combo_689','4_combo_s',\n",
    "               '4_combo_57','4_combo_689','list_double_3_increasing','list_double_4_increasing']\n",
    "\n",
    "# LIST_FEAT7 = ['pos_'+str(i)+\"_\"+str(j)+\"_\"+str(k)+\"_\"+str(l) for i in range(1,7) \n",
    "#               for j in range(i+1,8) for k in range(j+1,9) for l in range(k+1,10)]\n",
    "\n",
    "# LIST_FEAT7 = ['pos_'+str(i)+\"_\"+str(i+1)+\"_\"+str(i+2)+\"_\"+str(i+3) for i in range(1,7)]\n",
    "\n",
    "# LIST_FEAT8 = ['pos_'+str(i)+\"_\"+str(j)+\"_\"+str(k)+\"_\"+str(l)+\"_\"+str(m) for i in range(1,6)\n",
    "#               for j in range(i+1,7) for k in range(j+1,8) for l in range(k+1,9)\n",
    "#               for m in range(l+1,10)]\n",
    "\n",
    "\n",
    "\n",
    "class Categorical_encoder:\n",
    "    def __init__(self):\n",
    "        self.list_feat =LIST_FEAT1 + LIST_FEAT2 + LIST_FEAT5 + LIST_FEAT6 + LIST_FEAT9\n",
    "        self.list_encoder = []\n",
    "    \n",
    "    def check_containing_columns(self,list_columns):\n",
    "\n",
    "        for i in self.list_feat:\n",
    "            for j in range(len(list_columns)):\n",
    "                if i == list_columns[j]:\n",
    "                    break\n",
    "                if j == len(list_columns) -1:\n",
    "                    return False\n",
    "        \n",
    "        return True\n",
    "                    \n",
    "    def fit(self,df):\n",
    "        \n",
    "        if self.check_containing_columns(df.columns) is False:\n",
    "               raise Exception(\"CAN NOT FIT BECAUSE DATAFRAME DO NOT HAVING ENOUGH REQUIRED COLUMNS\")\n",
    "        list_tmp = ['pos_' + str(i) for i in range(3,10)]\n",
    "        list_tmp = list_tmp\n",
    "        tmp = \"\"\n",
    "        for i in self.list_feat:\n",
    "            if (i in list_tmp):\n",
    "                self.list_encoder.append(tmp)\n",
    "                continue\n",
    "            ordinal_encoder= preprocessing.OrdinalEncoder(handle_unknown='use_encoded_value',\n",
    "                                 unknown_value=-1)\n",
    "\n",
    "            ordinal_encoder.fit(np.array(df[i]).reshape(-1,1))\n",
    "            self.list_encoder.append(ordinal_encoder)\n",
    "            tmp = ordinal_encoder\n",
    "\n",
    "    \n",
    "    def encode(self,df):\n",
    "        list_tmp = ['pos_' + str(i) for i in range(3,10)]\n",
    "        for i in range(len(self.list_feat)):\n",
    "            #print(self.list_feat[i])\n",
    "            df[self.list_feat[i]] = self.list_encoder[i].transform(np.array(df[self.list_feat[i]]).reshape(-1, 1)).flatten()\n",
    "            #df[self.list_feat[i]] = self.list_encoder[i].transform(df[self.list_feat[i]])\n",
    "        return df\n",
    "\n"
   ],
   "metadata": {
    "papermill": {
     "duration": 0.035405,
     "end_time": "2022-09-30T11:22:37.535105",
     "exception": false,
     "start_time": "2022-09-30T11:22:37.499700",
     "status": "completed"
    },
    "tags": [],
    "execution": {
     "iopub.status.busy": "2022-10-09T07:29:34.118086Z",
     "iopub.execute_input": "2022-10-09T07:29:34.118588Z",
     "iopub.status.idle": "2022-10-09T07:29:34.136926Z",
     "shell.execute_reply.started": "2022-10-09T07:29:34.118551Z",
     "shell.execute_reply": "2022-10-09T07:29:34.135897Z"
    },
    "trusted": true,
    "pycharm": {
     "name": "#%%\n"
    }
   },
   "execution_count": null,
   "outputs": []
  },
  {
   "cell_type": "code",
   "source": [],
   "metadata": {
    "papermill": {
     "duration": 74.788936,
     "end_time": "2022-09-30T11:23:52.335805",
     "exception": false,
     "start_time": "2022-09-30T11:22:37.546869",
     "status": "completed"
    },
    "tags": [],
    "pycharm": {
     "name": "#%%\n"
    }
   },
   "execution_count": null,
   "outputs": []
  },
  {
   "cell_type": "code",
   "source": [
    "list_features = LIST_FEAT1 + LIST_FEAT2 + LIST_FEAT3 +  LIST_FEAT4 + LIST_FEAT5 + LIST_FEAT6 + LIST_FEAT9 + LIST_FEAT10"
   ],
   "metadata": {
    "papermill": {
     "duration": 0.022659,
     "end_time": "2022-09-30T11:23:52.371007",
     "exception": false,
     "start_time": "2022-09-30T11:23:52.348348",
     "status": "completed"
    },
    "tags": [],
    "execution": {
     "iopub.status.busy": "2022-10-09T07:29:34.138414Z",
     "iopub.execute_input": "2022-10-09T07:29:34.138836Z",
     "iopub.status.idle": "2022-10-09T07:29:34.152413Z",
     "shell.execute_reply.started": "2022-10-09T07:29:34.138800Z",
     "shell.execute_reply": "2022-10-09T07:29:34.151384Z"
    },
    "trusted": true,
    "pycharm": {
     "name": "#%%\n"
    }
   },
   "execution_count": null,
   "outputs": []
  },
  {
   "cell_type": "code",
   "source": [
    "X_train, X_test,y_train, y_test = train_test_split(df[list_features],df['label'], test_size=0.1, random_state=257)"
   ],
   "metadata": {
    "papermill": {
     "duration": 1.347518,
     "end_time": "2022-09-30T11:23:53.730925",
     "exception": false,
     "start_time": "2022-09-30T11:23:52.383407",
     "status": "completed"
    },
    "tags": [],
    "execution": {
     "iopub.status.busy": "2022-10-09T07:29:34.153733Z",
     "iopub.execute_input": "2022-10-09T07:29:34.154441Z",
     "iopub.status.idle": "2022-10-09T07:29:44.422932Z",
     "shell.execute_reply.started": "2022-10-09T07:29:34.154403Z",
     "shell.execute_reply": "2022-10-09T07:29:44.421915Z"
    },
    "trusted": true,
    "pycharm": {
     "name": "#%%\n"
    }
   },
   "execution_count": null,
   "outputs": []
  },
  {
   "cell_type": "code",
   "source": [
    "X_train.shape"
   ],
   "metadata": {
    "execution": {
     "iopub.status.busy": "2022-10-09T07:29:44.424627Z",
     "iopub.execute_input": "2022-10-09T07:29:44.425105Z",
     "iopub.status.idle": "2022-10-09T07:29:44.433701Z",
     "shell.execute_reply.started": "2022-10-09T07:29:44.425017Z",
     "shell.execute_reply": "2022-10-09T07:29:44.432529Z"
    },
    "trusted": true,
    "pycharm": {
     "name": "#%%\n"
    }
   },
   "execution_count": null,
   "outputs": []
  },
  {
   "cell_type": "code",
   "source": [
    "ct = Categorical_encoder()\n",
    "ct.fit(df[list_features])\n",
    "X_train = ct.encode(X_train)\n",
    "X_test = ct.encode(X_test)\n"
   ],
   "metadata": {
    "scrolled": true,
    "execution": {
     "iopub.status.busy": "2022-10-09T07:29:44.435411Z",
     "iopub.execute_input": "2022-10-09T07:29:44.436412Z",
     "iopub.status.idle": "2022-10-09T07:36:10.979583Z",
     "shell.execute_reply.started": "2022-10-09T07:29:44.436370Z",
     "shell.execute_reply": "2022-10-09T07:36:10.978528Z"
    },
    "trusted": true,
    "pycharm": {
     "name": "#%%\n"
    }
   },
   "execution_count": null,
   "outputs": []
  },
  {
   "cell_type": "code",
   "source": [
    "del df\n",
    "gc.collect()"
   ],
   "metadata": {
    "execution": {
     "iopub.status.busy": "2022-10-09T07:36:10.981162Z",
     "iopub.execute_input": "2022-10-09T07:36:10.981641Z",
     "iopub.status.idle": "2022-10-09T07:36:12.121747Z",
     "shell.execute_reply.started": "2022-10-09T07:36:10.981603Z",
     "shell.execute_reply": "2022-10-09T07:36:12.120438Z"
    },
    "trusted": true,
    "pycharm": {
     "name": "#%%\n"
    }
   },
   "execution_count": null,
   "outputs": []
  },
  {
   "cell_type": "code",
   "source": [],
   "metadata": {
    "pycharm": {
     "name": "#%%\n"
    }
   },
   "execution_count": null,
   "outputs": []
  },
  {
   "cell_type": "code",
   "source": [
    "import xgboost as xgb\n",
    "\n",
    "reg = xgb.XGBClassifier(n_estimators = 500, max_depth=20,tree_method=\"gpu_hist\")\n",
    "\n",
    "reg.fit(X_train, y_train)\n",
    "y_train_predict = reg.predict(X_train)\n",
    "print(\"XGB Accuracy Score of train set-> \",accuracy_score(y_train, y_train_predict)*100)\n",
    "\n",
    "y_test_predict = reg.predict(X_test)\n",
    "print(classification_report(y_test,y_test_predict))"
   ],
   "metadata": {
    "papermill": {
     "duration": 352.737785,
     "end_time": "2022-09-30T11:29:46.480704",
     "exception": false,
     "start_time": "2022-09-30T11:23:53.742919",
     "status": "completed"
    },
    "tags": [],
    "execution": {
     "iopub.status.busy": "2022-10-09T07:36:12.123523Z",
     "iopub.execute_input": "2022-10-09T07:36:12.123925Z",
     "iopub.status.idle": "2022-10-09T07:57:54.413760Z",
     "shell.execute_reply.started": "2022-10-09T07:36:12.123888Z",
     "shell.execute_reply": "2022-10-09T07:57:54.412495Z"
    },
    "trusted": true,
    "pycharm": {
     "name": "#%%\n"
    }
   },
   "execution_count": null,
   "outputs": []
  },
  {
   "cell_type": "code",
   "source": [
    "# rf = RandomForestClassifier(n_estimators = 200, max_features=\"sqrt\")\n",
    "# rf.fit(X_train,y_train)\n",
    "\n",
    "# y_train_predict = rf.predict(X_train)\n",
    "# print(\"RF Accuracy Score of train set-> \",accuracy_score(y_train, y_train_predict)*100)\n",
    "\n",
    "# y_test_predict = rf.predict(X_test)\n",
    "# print(classification_report(y_test,y_test_predict))"
   ],
   "metadata": {
    "execution": {
     "iopub.status.busy": "2022-10-09T07:57:54.418680Z",
     "iopub.execute_input": "2022-10-09T07:57:54.421748Z",
     "iopub.status.idle": "2022-10-09T07:57:54.429365Z",
     "shell.execute_reply.started": "2022-10-09T07:57:54.421703Z",
     "shell.execute_reply": "2022-10-09T07:57:54.427813Z"
    },
    "trusted": true,
    "pycharm": {
     "name": "#%%\n"
    }
   },
   "execution_count": null,
   "outputs": []
  },
  {
   "cell_type": "code",
   "source": [
    "from sklearn.metrics import plot_confusion_matrix\n",
    "fig, ax = plt.subplots(figsize=(40, 30))\n",
    "plt.grid(False)\n",
    "sns.set(font_scale=1.5)\n",
    "plot_confusion_matrix(reg, X_test[list_features], y_test,cmap=\"OrRd\",ax = ax)  \n",
    "plt.show()\n"
   ],
   "metadata": {
    "execution": {
     "iopub.status.busy": "2022-10-09T07:57:54.435613Z",
     "iopub.execute_input": "2022-10-09T07:57:54.437892Z",
     "iopub.status.idle": "2022-10-09T07:58:26.598292Z",
     "shell.execute_reply.started": "2022-10-09T07:57:54.437849Z",
     "shell.execute_reply": "2022-10-09T07:58:26.597363Z"
    },
    "trusted": true,
    "pycharm": {
     "name": "#%%\n"
    }
   },
   "execution_count": null,
   "outputs": []
  },
  {
   "cell_type": "code",
   "source": [
    "plt.figure(figsize = (50,60))\n",
    "plt.grid(False)\n",
    "\n",
    "sorted_idx = reg.feature_importances_.argsort()\n",
    "plt.barh(X_train.columns[sorted_idx], reg.feature_importances_[sorted_idx])\n",
    "plt.xlabel(\"XGB Feature Importance\")"
   ],
   "metadata": {
    "execution": {
     "iopub.status.busy": "2022-10-09T07:58:26.599300Z",
     "iopub.execute_input": "2022-10-09T07:58:26.599627Z",
     "iopub.status.idle": "2022-10-09T07:58:30.660880Z",
     "shell.execute_reply.started": "2022-10-09T07:58:26.599596Z",
     "shell.execute_reply": "2022-10-09T07:58:30.660006Z"
    },
    "trusted": true,
    "pycharm": {
     "name": "#%%\n"
    }
   },
   "execution_count": null,
   "outputs": []
  },
  {
   "cell_type": "code",
   "source": [
    "import pickle\n",
    "pickle.dump(ct, open(\"encoder_xgb.pkl\", \"wb\"))\n",
    "pickle.dump(reg, open(\"xgb_reg_final.pkl\", \"wb\"))\n",
    "# pickle.dump(clf,open(\"ct.pkl\", \"wb\"))"
   ],
   "metadata": {
    "papermill": {
     "duration": 0.012559,
     "end_time": "2022-09-30T11:29:46.505813",
     "exception": false,
     "start_time": "2022-09-30T11:29:46.493254",
     "status": "completed"
    },
    "tags": [],
    "execution": {
     "iopub.status.busy": "2022-10-09T07:58:30.662183Z",
     "iopub.execute_input": "2022-10-09T07:58:30.663045Z",
     "iopub.status.idle": "2022-10-09T07:58:32.518249Z",
     "shell.execute_reply.started": "2022-10-09T07:58:30.662996Z",
     "shell.execute_reply": "2022-10-09T07:58:32.516775Z"
    },
    "trusted": true,
    "pycharm": {
     "name": "#%%\n"
    }
   },
   "execution_count": null,
   "outputs": []
  },
  {
   "cell_type": "code",
   "source": [
    "# clf = CatBoostClassifier(task_type = \"GPU\", iterations = 1300,depth = 15)\n",
    "\n",
    "# # ,iterations=1000,learning_rate = 0.15,depth =10)    \n",
    "# # , ,cat_features = LIST_FEAT1 + LIST_FEAT2 + LIST_FEAT5 + LIST_FEAT6 + LIST_FEAT7 + LIST_FEAT8)\n",
    "# clf.fit(X_train, y_train)\n",
    "# y_train_predict = clf.predict(X_train)\n",
    "# print(\"CBoost Accuracy Score of train set-> \",accuracy_score(y_train, y_train_predict)*100)\n",
    "\n",
    "# y_test_predict = clf.predict(X_test)\n",
    "# print(classification_report(y_test,y_test_predict))"
   ],
   "metadata": {
    "scrolled": true,
    "execution": {
     "iopub.status.busy": "2022-10-09T07:58:32.520193Z",
     "iopub.execute_input": "2022-10-09T07:58:32.520907Z",
     "iopub.status.idle": "2022-10-09T07:58:32.530235Z",
     "shell.execute_reply.started": "2022-10-09T07:58:32.520869Z",
     "shell.execute_reply": "2022-10-09T07:58:32.528369Z"
    },
    "trusted": true,
    "pycharm": {
     "name": "#%%\n"
    }
   },
   "execution_count": null,
   "outputs": []
  },
  {
   "cell_type": "code",
   "source": [
    "def guess_price(number, model,encoder):\n",
    "    df = pd.DataFrame()\n",
    "    df['phone_number'] = [number[1:]]\n",
    "    df = removing_wrong_phone_number(df)\n",
    "    df = creating_10_feats_from_single_pos(df)\n",
    "    df = features_from_counting_numbers(df)\n",
    "    df = sim_nam_sinh(df)\n",
    "    df = symetric_4length_and_samesubtring_features(df)\n",
    "    df = combo_feat(df)\n",
    "    df = count_combo_features(df)\n",
    "    df = features_2_inden_and_2_lucky_last(df)\n",
    "    df = last_special_case(df)\n",
    "    df = features_from_sum(df)\n",
    "    df = creating_features_by_combine_pos(df)\n",
    "    df = sim_loc_phat(df)\n",
    "    df = double_3_last(df)\n",
    "    df = triple_2_last(df)\n",
    "    df = sim_6_last(df)\n",
    "    df = special_4_sim(df)\n",
    "    df = ong_dia(df)\n",
    "    df = special_6_last(df)\n",
    "    df = increasing_3_4(df)\n",
    "    df = check_easy_remember(df)\n",
    "    df = encoder.encode(df)\n",
    "    list_features = LIST_FEAT1 + LIST_FEAT2 + LIST_FEAT3 + LIST_FEAT4 + LIST_FEAT5 + LIST_FEAT6 + LIST_FEAT10 + LIST_FEAT9\n",
    "    ans = model.predict(df[list_features])\n",
    " \n",
    "    if(ans == 0):\n",
    "        print(\"giá từ 0 đến 1,6tr vnd\")\n",
    "    elif ans == 1:\n",
    "        print(\"giá từ 1,6 đến 3,6tr vnd\")\n",
    "    elif ans == 2:\n",
    "        print(\"giá từ 3,6tr đến 6,5tr vnd\")\n",
    "    elif ans == 3:\n",
    "        print(\"giá từ 6,5tr đến 10,8tr vnd\")\n",
    "    elif ans == 4:\n",
    "        print(\"giá từ 10,8tr đến 15tr vnd\")\n",
    "    elif ans == 5:\n",
    "        print(\"giá từ 15tr đến 61tr vnd\")\n",
    "    elif ans == 6:\n",
    "        print(\"giá từ 61tr đến 150tr vnd\")\n",
    "    elif ans == 7:\n",
    "        print(\"giá từ 150tr đến 310tr vnd\")\n",
    "    elif ans == 8:\n",
    "        print(\"giá từ 310tr đến 530tr vnd\")\n",
    "    else:\n",
    "        print(\"giá hơn 530tr\")\n"
   ],
   "metadata": {
    "execution": {
     "iopub.status.busy": "2022-10-09T07:58:32.532844Z",
     "iopub.execute_input": "2022-10-09T07:58:32.533624Z",
     "iopub.status.idle": "2022-10-09T07:58:32.553136Z",
     "shell.execute_reply.started": "2022-10-09T07:58:32.533588Z",
     "shell.execute_reply": "2022-10-09T07:58:32.551933Z"
    },
    "trusted": true,
    "pycharm": {
     "name": "#%%\n"
    }
   },
   "execution_count": null,
   "outputs": []
  },
  {
   "cell_type": "code",
   "source": [
    "a = pickle.load(open(\"./xgb_reg_final.pkl\", \"rb\"))\n",
    "encoder = pickle.load(open(\"./encoder_xgb.pkl\", \"rb\"))"
   ],
   "metadata": {
    "execution": {
     "iopub.status.busy": "2022-10-09T07:58:32.555653Z",
     "iopub.execute_input": "2022-10-09T07:58:32.556594Z",
     "iopub.status.idle": "2022-10-09T07:58:33.768524Z",
     "shell.execute_reply.started": "2022-10-09T07:58:32.556544Z",
     "shell.execute_reply": "2022-10-09T07:58:33.767501Z"
    },
    "trusted": true,
    "pycharm": {
     "name": "#%%\n"
    }
   },
   "execution_count": null,
   "outputs": []
  },
  {
   "cell_type": "code",
   "source": [
    "import time\n",
    "start_time = time.time()\n",
    "guess_price(\"0963126868\",a,encoder)\n",
    "print(\"run time is \" + str(time.time() - start_time))"
   ],
   "metadata": {
    "execution": {
     "iopub.status.busy": "2022-10-09T07:59:15.524000Z",
     "iopub.execute_input": "2022-10-09T07:59:15.524353Z",
     "iopub.status.idle": "2022-10-09T07:59:15.944875Z",
     "shell.execute_reply.started": "2022-10-09T07:59:15.524321Z",
     "shell.execute_reply": "2022-10-09T07:59:15.943995Z"
    },
    "trusted": true,
    "pycharm": {
     "name": "#%%\n"
    }
   },
   "execution_count": null,
   "outputs": []
  },
  {
   "cell_type": "code",
   "source": [
    "# b = pickle.load(open(\"./cat.pkl\", \"rb\"))\n",
    "# encoder = pickle.load(open(\"./encoder.pkl\", \"rb\"))"
   ],
   "metadata": {
    "execution": {
     "iopub.status.busy": "2022-10-09T07:58:34.200318Z",
     "iopub.execute_input": "2022-10-09T07:58:34.202538Z",
     "iopub.status.idle": "2022-10-09T07:58:34.207449Z",
     "shell.execute_reply.started": "2022-10-09T07:58:34.202486Z",
     "shell.execute_reply": "2022-10-09T07:58:34.206737Z"
    },
    "trusted": true,
    "pycharm": {
     "name": "#%%\n"
    }
   },
   "execution_count": null,
   "outputs": []
  },
  {
   "cell_type": "code",
   "source": [],
   "metadata": {
    "pycharm": {
     "name": "#%%\n"
    }
   },
   "execution_count": null,
   "outputs": []
  },
  {
   "cell_type": "code",
   "source": [],
   "metadata": {
    "pycharm": {
     "name": "#%%\n"
    }
   },
   "execution_count": null,
   "outputs": []
  },
  {
   "cell_type": "code",
   "source": [],
   "metadata": {
    "pycharm": {
     "name": "#%%\n"
    }
   },
   "execution_count": null,
   "outputs": []
  }
 ]
}